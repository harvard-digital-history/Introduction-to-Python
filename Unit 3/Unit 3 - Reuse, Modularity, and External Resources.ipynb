{
 "cells": [
  {
   "cell_type": "markdown",
   "id": "4a9f99fc",
   "metadata": {},
   "source": [
    "# UNIT 3: Reuse, Modularity, and External Resources"
   ]
  },
  {
   "cell_type": "markdown",
   "id": "15b9c046",
   "metadata": {},
   "source": [
    "## Table of Contents\n",
    "\n",
    "1. [Functions](#1.-Functions)  \n",
    "    1.1. [Declaring and Calling Functions](#1.1.-Declaring-and-Calling-Functions)  \n",
    "    1.2. [Passing Arguments](#1.2.-Passing-Arguments)  \n",
    "    1.3. [Documenting Functions](#1.3.-Documenting-Functions)  \n",
    "    1.4. [Nesting and Recursion](#1.4.-Nesting-and-Recursion)  \n",
    "    1.5. [Lambda Functions](#1.5.-Lambda-Functions)  \n",
    "2. [Modularity](#2.-Modularity)  \n",
    "    2.1. [Classes and Objects](#2.1.-Classes-and-Objects)  \n",
    "    2.2. [Modules and Packages](#2.2.-Modules-and-Packages)  \n",
    "    2.3. [The `import` Statement](#2.3.-The-import-Statement)  \n",
    "3. [External Modules and Packages](#3.-External-Modules-and-Packages)  \n",
    "    3.1. [Dependencies and Virtual Environments](#3.1.-Dependencies-and-Virtual-Environments)  \n",
    "    3.2. [Environment and Package Management](#3.2.-Environment-and-Package-Management)  \n",
    "4. [External Data](#4.-External-Data)  \n",
    "    4.1. [Reading and Writing Files](#4.1.-Reading-and-Writing-Files)  \n",
    "    4.2. [Working with Files and Directories](#4.2.-Working-with-Files-and-Directories)  \n",
    "    4.3. [Using Common Exchange Formats](#4.3.-Using-Common-Exchange-Formats)  "
   ]
  },
  {
   "cell_type": "markdown",
   "id": "360ec8bb",
   "metadata": {},
   "source": [
    "# 1. Functions\n",
    "\n",
    "A function is a **self-contained code block that runs only when explicitly called**. Functions encapsulate common tasks into a reusable format that helps avoid repetition. We have previoulsy encountered a number of Python's built-in functions, such as `range()` and `enumerate()`, but it is also possible for us to define our own.\n",
    "\n",
    "## 1.1. *Declaring* and *Calling* Functions\n",
    "\n",
    "The keyword `def` is used to **declare a new function**. It should be followed by the **name** we wish to give it, a **set of parenthesis**, and a colon. The code to be executed by the function should be **indented** below the definition:\n",
    "\n",
    "<div class=\"alert alert-block alert-warning\">\n",
    "<b>Warning:</b> There <b>must</b> be a code block under a function definition, otherwise Python will raise an error. Like in the case of <code>if</code> statements, however, one can use <code>pass</code> as a placeholder.\n",
    "</div>"
   ]
  },
  {
   "cell_type": "code",
   "execution_count": 1,
   "id": "18c83b54",
   "metadata": {},
   "outputs": [],
   "source": [
    "def print_something():\n",
    "    print('something')"
   ]
  },
  {
   "cell_type": "markdown",
   "id": "51475deb",
   "metadata": {},
   "source": [
    "In the cell above, we *declare* a function called `print_something` that prints the text `something` to the console. \n",
    "\n",
    "Once a function has been declared, we can **call it** (*i.e.* invoke it, or use it) from anywhere in the current programme. To call a function one simply uses its **name followed by parentheses**:"
   ]
  },
  {
   "cell_type": "code",
   "execution_count": 2,
   "id": "49f59278",
   "metadata": {},
   "outputs": [
    {
     "name": "stdout",
     "output_type": "stream",
     "text": [
      "something\n"
     ]
    }
   ],
   "source": [
    "print_something()"
   ]
  },
  {
   "cell_type": "markdown",
   "id": "bb127c6b",
   "metadata": {},
   "source": [
    "The most common usage of functions involves **passing them data**, having them **perform certain operations** on the data, and **return the results**. The last step, *i.e.* returning the results, is accomplished via the `return` statement. Let's declare a **new function that returns *something* instead of printing**:"
   ]
  },
  {
   "cell_type": "code",
   "execution_count": 3,
   "id": "1f1007c9",
   "metadata": {},
   "outputs": [],
   "source": [
    "def return_something():\n",
    "    return 'something'"
   ]
  },
  {
   "cell_type": "markdown",
   "id": "0cd71a16",
   "metadata": {},
   "source": [
    "The `return` statement gives back control to the line of code where the function is called while also providing whatever follows the `return` keyword (the text `something` in the example above) as the **value of the function call**. We can, for example, **store the return value in a variable** for later use:"
   ]
  },
  {
   "cell_type": "code",
   "execution_count": 4,
   "id": "63f75cca",
   "metadata": {},
   "outputs": [
    {
     "name": "stdout",
     "output_type": "stream",
     "text": [
      "something\n"
     ]
    }
   ],
   "source": [
    "result = return_something() # result now contains the return value of return_something()\n",
    "print(result)"
   ]
  },
  {
   "cell_type": "markdown",
   "id": "0843e5ec",
   "metadata": {},
   "source": [
    "A function can **return multiple values** at the same time: simply separate them with commas:"
   ]
  },
  {
   "cell_type": "code",
   "execution_count": 5,
   "id": "9cef26c2",
   "metadata": {},
   "outputs": [],
   "source": [
    "def return_something():\n",
    "    return 'something', 'something else'"
   ]
  },
  {
   "cell_type": "markdown",
   "id": "a8a05b38",
   "metadata": {},
   "source": [
    "Multiple values are returned as a **n-tuple** by default, where *n* equals the number of values to return. This means that multiple return values can be *unpacked* just like any tuple:"
   ]
  },
  {
   "cell_type": "code",
   "execution_count": 6,
   "id": "39e97fc5",
   "metadata": {},
   "outputs": [
    {
     "name": "stdout",
     "output_type": "stream",
     "text": [
      "('something', 'something else')\n",
      "something\n",
      "something else\n"
     ]
    }
   ],
   "source": [
    "full_result = return_something() # full_result now contains the 2-tuple\n",
    "result_1, result_2 = return_something() # here the 2-tuple is unpacked into two variables\n",
    "print(full_result)\n",
    "print(result_1)\n",
    "print(result_2)"
   ]
  },
  {
   "cell_type": "markdown",
   "id": "6a18f38e",
   "metadata": {},
   "source": [
    "## 1.2. Passing Arguments\n",
    "\n",
    "If we intend to supply data to a function, we need to specify how when declaring it. The data **received** by a function are called **parameters** and they are specified in the declaration as variables inside the parenthesis. Multiple *parameters* can be added by separating them commas:"
   ]
  },
  {
   "cell_type": "code",
   "execution_count": 8,
   "id": "0e9d1b90",
   "metadata": {},
   "outputs": [],
   "source": [
    "def concatenate_us(word_1, word_2):\n",
    "    return f'{word_1} and {word_2}'"
   ]
  },
  {
   "cell_type": "markdown",
   "id": "ab8bc301",
   "metadata": {},
   "source": [
    "In the example above, we define the function `concatenate_us` with two parameters: `word_1` and `word_2` (*i.e.* the words to be concatenated).\n",
    "\n",
    "Data **supplied** to functions are called **arguments**, and must be included inside the parenthesis when calling the function:"
   ]
  },
  {
   "cell_type": "code",
   "execution_count": 9,
   "id": "0ddb1fdd",
   "metadata": {},
   "outputs": [
    {
     "name": "stdout",
     "output_type": "stream",
     "text": [
      "salt and pepper\n"
     ]
    }
   ],
   "source": [
    "result = concatenate_us('salt', 'pepper')\n",
    "print(result)"
   ]
  },
  {
   "cell_type": "markdown",
   "id": "89c15915",
   "metadata": {},
   "source": [
    "### Positional Arguments\n",
    "\n",
    "In the example above, `salt` and `pepper` are **positional** arguments: the first argument in the function call (`salt`) is used as the value for the first parameter in the function declaration (`word_1`) and the second argument (`pepper`) is used as the value of the second parameter (`word_2`). **Positional arguments must be passed in the order in which the corresponding parameters were declared**. Compare the results of the following cell with those from the cell above:"
   ]
  },
  {
   "cell_type": "code",
   "execution_count": 10,
   "id": "67932c5e",
   "metadata": {},
   "outputs": [
    {
     "name": "stdout",
     "output_type": "stream",
     "text": [
      "pepper and salt\n"
     ]
    }
   ],
   "source": [
    "result = concatenate_us('pepper', 'salt')\n",
    "print(result)"
   ]
  },
  {
   "cell_type": "markdown",
   "id": "1fc95dea",
   "metadata": {},
   "source": [
    "In addition, when using *positional* arguments, a function **must be called with the correct number of arguments**, otherwise Python will raise an error:"
   ]
  },
  {
   "cell_type": "code",
   "execution_count": 11,
   "id": "c0723153",
   "metadata": {},
   "outputs": [
    {
     "ename": "TypeError",
     "evalue": "concatenate_us() missing 1 required positional argument: 'word_2'",
     "output_type": "error",
     "traceback": [
      "\u001b[0;31m---------------------------------------------------------------------------\u001b[0m",
      "\u001b[0;31mTypeError\u001b[0m                                 Traceback (most recent call last)",
      "Cell \u001b[0;32mIn[11], line 1\u001b[0m\n\u001b[0;32m----> 1\u001b[0m result \u001b[38;5;241m=\u001b[39m \u001b[43mconcatenate_us\u001b[49m\u001b[43m(\u001b[49m\u001b[38;5;124;43m'\u001b[39;49m\u001b[38;5;124;43msalt\u001b[39;49m\u001b[38;5;124;43m'\u001b[39;49m\u001b[43m)\u001b[49m\n\u001b[1;32m      2\u001b[0m \u001b[38;5;28mprint\u001b[39m(result)\n",
      "\u001b[0;31mTypeError\u001b[0m: concatenate_us() missing 1 required positional argument: 'word_2'"
     ]
    }
   ],
   "source": [
    "result = concatenate_us('salt')\n",
    "print(result)"
   ]
  },
  {
   "cell_type": "markdown",
   "id": "7a09cbda",
   "metadata": {},
   "source": [
    "### Default Arguments\n",
    "\n",
    "Function *parameters* can be **assigned default values** so that, if the function is called without a corresponding argument, the paremeter still gets some data. **Default** arguments need to be indicated when declaring the function using the `parameter=value` syntax. Let's rewrite `concatenate_us()` and assign a default to the second parameter:"
   ]
  },
  {
   "cell_type": "code",
   "execution_count": 12,
   "id": "7aa4fe1d",
   "metadata": {},
   "outputs": [],
   "source": [
    "def concatenate_us(word_1, word_2='pepper'):\n",
    "    return f'{word_1} and {word_2}'"
   ]
  },
  {
   "cell_type": "markdown",
   "id": "9ec6a4d4",
   "metadata": {},
   "source": [
    "Let's try calling it again with only one argument:"
   ]
  },
  {
   "cell_type": "code",
   "execution_count": 13,
   "id": "dce76e2c",
   "metadata": {},
   "outputs": [
    {
     "name": "stdout",
     "output_type": "stream",
     "text": [
      "salt and pepper\n"
     ]
    }
   ],
   "source": [
    "result = concatenate_us('salt')\n",
    "print(result)"
   ]
  },
  {
   "cell_type": "markdown",
   "id": "26b7455c",
   "metadata": {},
   "source": [
    "The *default value* takes the place of the *missing argument*. If we call the function with **both arguments**, however, the **default value is ignored**:"
   ]
  },
  {
   "cell_type": "code",
   "execution_count": 14,
   "id": "22fa9e61",
   "metadata": {},
   "outputs": [
    {
     "name": "stdout",
     "output_type": "stream",
     "text": [
      "salt and vinegar\n"
     ]
    }
   ],
   "source": [
    "result = concatenate_us('salt', 'vinegar')\n",
    "print(result)"
   ]
  },
  {
   "cell_type": "markdown",
   "id": "0f7435d3",
   "metadata": {},
   "source": [
    "### Keyword Arguments\n",
    "\n",
    "When using **keyword** arguments, in addition to providing argument values to a function, we **also supply the name of the corresponding parameter**. *Keyword* arguments are passed using the syntax `parameter_name=parameter_value`, more commonly stated as `keyword=value`. \n",
    "\n",
    "Unlike positional arguments, then, *keyword* arguments are matched to parameters based on their names, thus eliminating the need to worry about the order in which arguments are passed:"
   ]
  },
  {
   "cell_type": "code",
   "execution_count": 15,
   "id": "f7458fde",
   "metadata": {},
   "outputs": [
    {
     "name": "stdout",
     "output_type": "stream",
     "text": [
      "salt and pepper\n"
     ]
    }
   ],
   "source": [
    "result = concatenate_us('salt', 'pepper') # positional arguments\n",
    "print(result)"
   ]
  },
  {
   "cell_type": "code",
   "execution_count": 16,
   "id": "7e0488ba",
   "metadata": {},
   "outputs": [
    {
     "name": "stdout",
     "output_type": "stream",
     "text": [
      "pepper and salt\n"
     ]
    }
   ],
   "source": [
    "result = concatenate_us('pepper', 'salt') # reversed positional arguments\n",
    "print(result)"
   ]
  },
  {
   "cell_type": "code",
   "execution_count": 17,
   "id": "49e51f17",
   "metadata": {},
   "outputs": [
    {
     "name": "stdout",
     "output_type": "stream",
     "text": [
      "salt and pepper\n"
     ]
    }
   ],
   "source": [
    "result = concatenate_us(word_1='salt', word_2='pepper') # keyword arguments\n",
    "print(result)"
   ]
  },
  {
   "cell_type": "code",
   "execution_count": 18,
   "id": "95f4da05",
   "metadata": {},
   "outputs": [
    {
     "name": "stdout",
     "output_type": "stream",
     "text": [
      "salt and pepper\n"
     ]
    }
   ],
   "source": [
    "result = concatenate_us(word_2='pepper', word_1='salt') # reversed keyword arguments\n",
    "print(result)"
   ]
  },
  {
   "cell_type": "markdown",
   "id": "7ebbd021",
   "metadata": {},
   "source": [
    "So far, **we have known in advance the number of arguments a function will receive**, but what if we didn't?\n",
    "\n",
    "### Arbitrary Arguments\n",
    "\n",
    "*Arbitrary* arguments allow us to pass a **variable number** of arguments to a function. For this to work, we **must indicate which parameter will take arbitrary arguments** when the function is declared. This is accomplished by prefixing the parameter's name with an asterisk (`*`).\n",
    "\n",
    "<div class=\"alert alert-block alert-info\">\n",
    "<b>Note:</b> Any parameter name can be assigned to an arbitrary argument but, by convention, the name <code>args</code> is reserved for this role. \n",
    "</div>\n",
    "\n",
    "Let's declare a new function that will **take any number of integers** and **return their sum**:"
   ]
  },
  {
   "cell_type": "code",
   "execution_count": 19,
   "id": "40d1cf8f",
   "metadata": {},
   "outputs": [],
   "source": [
    "def get_sum(*args):\n",
    "    result = 0 # set a variable to hold the results\n",
    "    for arg in args: # this loop iterates over the arguments - regardless of their number\n",
    "        result = result + arg # and adds each to the ongoing sum results\n",
    "    return result"
   ]
  },
  {
   "cell_type": "markdown",
   "id": "c30c62eb",
   "metadata": {},
   "source": [
    "The reason we can use a `for` loop, as above, is because the parameter taking arbitrary arguments becomes an iterable (technically a *tuple*). Each item in the tuple is one of the arguments passed to the function. \n",
    "\n",
    "Let's test it:"
   ]
  },
  {
   "cell_type": "code",
   "execution_count": 20,
   "id": "d91b2729",
   "metadata": {},
   "outputs": [
    {
     "name": "stdout",
     "output_type": "stream",
     "text": [
      "14\n"
     ]
    }
   ],
   "source": [
    "result = get_sum(2, 2, 4, 6)\n",
    "print(result)"
   ]
  },
  {
   "cell_type": "markdown",
   "id": "c76206b0",
   "metadata": {},
   "source": [
    "*Arbitrary* arguments can be **used alongside other types**. Let's rewrite `get_sum()` so that it also **takes the name of a unit of measure** to be included in the return value:"
   ]
  },
  {
   "cell_type": "code",
   "execution_count": 21,
   "id": "2948affc",
   "metadata": {},
   "outputs": [],
   "source": [
    "def get_sum(unit, *args):\n",
    "    result = 0\n",
    "    for arg in args:\n",
    "        result = result + arg\n",
    "    return f'{result}{unit}'"
   ]
  },
  {
   "cell_type": "markdown",
   "id": "243e9bba",
   "metadata": {},
   "source": [
    "Let's test it:"
   ]
  },
  {
   "cell_type": "code",
   "execution_count": 22,
   "id": "1f87fc39",
   "metadata": {},
   "outputs": [
    {
     "name": "stdout",
     "output_type": "stream",
     "text": [
      "14m\n"
     ]
    }
   ],
   "source": [
    "result = get_sum('m', 2, 2, 4, 6) # we'll assume the numbers represent distances in metres\n",
    "print(result)"
   ]
  },
  {
   "cell_type": "markdown",
   "id": "d5f92ae5",
   "metadata": {},
   "source": [
    "`*args` **always returns an iterable, even if it is an empty one**:"
   ]
  },
  {
   "cell_type": "code",
   "execution_count": 24,
   "id": "b03cdfec",
   "metadata": {},
   "outputs": [
    {
     "name": "stdout",
     "output_type": "stream",
     "text": [
      "0m\n"
     ]
    }
   ],
   "source": [
    "result = get_sum('m')\n",
    "print(result)"
   ]
  },
  {
   "cell_type": "markdown",
   "id": "28416d3c",
   "metadata": {},
   "source": [
    "Because of this, adding `*args` as the **last** parameter when declaring a function is a common *error handling* practice: it ensures that the function will not raise an error regardless of the number of arguments passed. If it is called with more arguments than expected, the extra ones will be treated as `args`, if not, no worries, `*args` will be empty.\n",
    "\n",
    "Let's add a boolean parameter to `get_sum()`, to indicate whether the unit name should be used as a **suffix** (*e.g.* SI measures, as above) or **prefix** (*e.g.* currency):"
   ]
  },
  {
   "cell_type": "code",
   "execution_count": 26,
   "id": "86d1bf19",
   "metadata": {},
   "outputs": [],
   "source": [
    "def get_sum(unit, is_prefix=False, *args):\n",
    "    result = 0\n",
    "    for arg in args:\n",
    "        result = result + arg\n",
    "\n",
    "    if is_prefix: # test if the unit should be prefixed or not\n",
    "        output = f'{unit}{result}' # and format the output accordingly\n",
    "    else:\n",
    "        output = f'{result}{unit}'\n",
    "    \n",
    "    return output"
   ]
  },
  {
   "cell_type": "markdown",
   "id": "082a3aed",
   "metadata": {},
   "source": [
    "Let's test it:"
   ]
  },
  {
   "cell_type": "code",
   "execution_count": 28,
   "id": "d6d76f3d",
   "metadata": {},
   "outputs": [
    {
     "name": "stdout",
     "output_type": "stream",
     "text": [
      "14m\n"
     ]
    }
   ],
   "source": [
    "result = get_sum('m', False, 2, 2, 4, 6)\n",
    "print(result)"
   ]
  },
  {
   "cell_type": "code",
   "execution_count": 29,
   "id": "a55e0b17",
   "metadata": {},
   "outputs": [
    {
     "name": "stdout",
     "output_type": "stream",
     "text": [
      "$14\n"
     ]
    }
   ],
   "source": [
    "result = get_sum('$', True, 2, 2, 4, 6)\n",
    "print(result)"
   ]
  },
  {
   "cell_type": "markdown",
   "id": "df8ea19c",
   "metadata": {},
   "source": [
    "It appears to work as intended, but, **is it really necessary to supply `False` in the first example?** After all, we assigned a *default* value for `is_prefix`, we should be able to get the same result without providing a value:"
   ]
  },
  {
   "cell_type": "code",
   "execution_count": 30,
   "id": "4af5c2bc",
   "metadata": {},
   "outputs": [
    {
     "name": "stdout",
     "output_type": "stream",
     "text": [
      "m12\n"
     ]
    }
   ],
   "source": [
    "result = get_sum('m', 2, 2, 4, 6)\n",
    "print(result)"
   ]
  },
  {
   "cell_type": "markdown",
   "id": "8ac508b0",
   "metadata": {},
   "source": [
    "Alas, we do not: **arguments will be assigned to positional parameters until those are filled, then, and only then, will any remaining ones be added to** `*args`. In this case, the value `2` is being matched with the `is_prefix` parameter. Since `2` will return `True` if tested as a boolean, the *unit* is treated as a prefix:"
   ]
  },
  {
   "cell_type": "code",
   "execution_count": 31,
   "id": "561d50b4",
   "metadata": {},
   "outputs": [
    {
     "name": "stdout",
     "output_type": "stream",
     "text": [
      "True\n"
     ]
    }
   ],
   "source": [
    "print(bool(2))"
   ]
  },
  {
   "cell_type": "markdown",
   "id": "2a1581c3",
   "metadata": {},
   "source": [
    "<div class=\"alert alert-block alert-success\">\n",
    "<b>Exercise:</b> There <b>is</b> a way to trigger the <i>default</i> value for <code>is_prefix</code>. Can you find it?\n",
    "</div>"
   ]
  },
  {
   "cell_type": "code",
   "execution_count": null,
   "id": "013f13d2",
   "metadata": {},
   "outputs": [],
   "source": [
    "result = get_sum() # add your arguments here to try!\n",
    "print(result)"
   ]
  },
  {
   "cell_type": "markdown",
   "id": "da4efb98",
   "metadata": {},
   "source": [
    "Arbitrary arguments are added to the `*args` iterable in the order in which they are supplied. Strictly speaking, they are **arbitrary *positional* arguments**. The distinction is important, because Python also supports:\n",
    "\n",
    "### Arbitrary *Keyword* Arguments\n",
    "\n",
    "These work much like their *positional* counterparts: it is necessary to indicate which parameter is to receive them when the function is declared. Instead of using a single asterisk as a prefix, however, for *arbitraty keyword arguments* we use **two asterisks** (`**`).\n",
    "\n",
    "<div class=\"alert alert-block alert-info\">\n",
    "<b>Note:</b> As before, any parameter name can be assigned to receive arbitrary <i>keyword</i> arguments, but <code>kwargs</code> is used by convention. \n",
    "</div>\n",
    "\n",
    "Let's rewrite our `get_sum()` function using `**kwargs`:"
   ]
  },
  {
   "cell_type": "code",
   "execution_count": 32,
   "id": "73b2b37b",
   "metadata": {},
   "outputs": [],
   "source": [
    "def get_sum(unit, *args, **kwargs):\n",
    "    result = 0\n",
    "    for arg in args:\n",
    "        result = result + arg\n",
    "    \n",
    "    # since kwargs could be empty, we must test that 'is_prefix' exists\n",
    "    # AND that it is True\n",
    "    if 'is_prefix' in kwargs and kwargs['is_prefix'] is True:\n",
    "        output = f'{unit}{result}'\n",
    "    else:\n",
    "        output = f'{result}{unit}'\n",
    "    \n",
    "    return output"
   ]
  },
  {
   "cell_type": "markdown",
   "id": "2e63f2e6",
   "metadata": {},
   "source": [
    "When calling a function that accepts *arbitrary keyword* arguments, we can pass any number of `keyword=value` pairs. The parameter taking these arguments (*i.e.* `*kwargs`) **becomes a dictionary** that maps each *keyword* to the *value* that was passed alongside it. This means that we can, for example, **test whether a specific keyword is present** using the `in` operator, and **extract its value** using the square brackets syntax of dictionaries, as in the example above.\n",
    "\n",
    "Let's see how our new function works:"
   ]
  },
  {
   "cell_type": "code",
   "execution_count": 33,
   "id": "47c58484",
   "metadata": {},
   "outputs": [
    {
     "name": "stdout",
     "output_type": "stream",
     "text": [
      "14m\n"
     ]
    }
   ],
   "source": [
    "result = get_sum('m', 2, 2, 4, 6)\n",
    "print(result)"
   ]
  },
  {
   "cell_type": "code",
   "execution_count": 34,
   "id": "1dd92816",
   "metadata": {},
   "outputs": [
    {
     "name": "stdout",
     "output_type": "stream",
     "text": [
      "$14\n"
     ]
    }
   ],
   "source": [
    "result = get_sum('$', 2, 2, 4, 6, is_prefix=True)\n",
    "print(result)"
   ]
  },
  {
   "cell_type": "markdown",
   "id": "9c7f74f1",
   "metadata": {},
   "source": [
    "As you can see in the second example, unlike with the previous version, we can now **omit the `is_prefix` argument** if we just want the default behaviour.\n",
    "\n",
    "## 1.3. Documenting Functions\n",
    "\n",
    "It is considered good practice to **document what a function does**. The recommended way is to include a *document string*, or ***docstring*** for short, **between the function declaration and the function code**. **docstrings** are enclosed in triple-quotes and should explain **what arguments the function takes**, **what it does with them**, and **what it returns**. \n",
    "\n",
    "Let's rewrite `get_sum()` to include a *docstring*:"
   ]
  },
  {
   "cell_type": "code",
   "execution_count": 35,
   "id": "755e1cd7",
   "metadata": {},
   "outputs": [],
   "source": [
    "def get_sum(unit, *args, **kwargs):\n",
    "    '''Takes a unit name, any number of integers, and an optional \n",
    "    boolean indicating whether the unit name should be prefixed, \n",
    "    and returns their sum concatenated with the unit name'''\n",
    "    result = 0\n",
    "    for arg in args:\n",
    "        result = result + arg\n",
    "        \n",
    "    if 'is_prefix' in kwargs and kwargs['is_prefix'] is True:\n",
    "        output = f'{unit}{result}'\n",
    "    else:\n",
    "        output = f'{result}{unit}'\n",
    "    \n",
    "    return output"
   ]
  },
  {
   "cell_type": "markdown",
   "id": "c72d390b",
   "metadata": {},
   "source": [
    "One of the key advantages of *docstrings* is that they can be **retrieved programmatically**, which helps enormously when documenting large projects:"
   ]
  },
  {
   "cell_type": "code",
   "execution_count": 36,
   "id": "e3d03d9c",
   "metadata": {},
   "outputs": [
    {
     "name": "stdout",
     "output_type": "stream",
     "text": [
      "Takes a unit name, any number of integers, and an optional \n",
      "    boolean indicating whether the unit name should be prefixed, \n",
      "    and returns their sum concatenated with the unit name\n"
     ]
    }
   ],
   "source": [
    "print(get_sum.__doc__)"
   ]
  },
  {
   "cell_type": "markdown",
   "id": "696b74f7",
   "metadata": {},
   "source": [
    "## 1.4. Nesting and Recursion\n",
    "\n",
    "Python allows what are called **inner** or **nested** functions: namely ones **declared inside another function**. \n",
    "*Nested* functions are part of the scope of their parent (or *outer*) function. This means that a *nested* function can only be executed if the parent is called. Because of this, *nested* functions are often used as a means to restrict the use of certain code to very specific execution contexts (*i.e.* that of the parent function). \n",
    "\n",
    "Let's rewrite `get_sum()` using a *nested* function:"
   ]
  },
  {
   "cell_type": "code",
   "execution_count": 37,
   "id": "0b3370f0",
   "metadata": {},
   "outputs": [],
   "source": [
    "def get_sum(unit, *args, **kwargs):\n",
    "    '''Takes a unit name, any number of integers, and an optional \n",
    "    boolean indicating whether the unit name should be prefixed, \n",
    "    and returns their sum concatenated with the unit name'''\n",
    "    result = 0\n",
    "    \n",
    "    def get_output():\n",
    "        '''Formats the result based on the value of is_prefix'''\n",
    "        if 'is_prefix' in kwargs and kwargs['is_prefix'] is True:\n",
    "            output = f'{unit}{result}'\n",
    "        else:\n",
    "            output = f'{result}{unit}'\n",
    "        \n",
    "        return output\n",
    "    \n",
    "    for arg in args:\n",
    "        result = result + arg\n",
    "\n",
    "    return get_output()"
   ]
  },
  {
   "cell_type": "markdown",
   "id": "fc4db57c",
   "metadata": {},
   "source": [
    "In the cell above, the function `get_output()`, declared within `get_sum()`, formats the output string according to the value of the `is_prefix` parameter. \n",
    "\n",
    "Note how in order to do its job, `get_output()` **needs** `kwargs` (to determine the value of `is_prefix`) **and** `result` (to append the unit), but we did not include either as parameters when declaring it, nor do we supply them as arguments when we call `get_output()` in line `19`. And yet, it works:"
   ]
  },
  {
   "cell_type": "code",
   "execution_count": 38,
   "id": "44b0bb83",
   "metadata": {},
   "outputs": [
    {
     "name": "stdout",
     "output_type": "stream",
     "text": [
      "$14\n"
     ]
    }
   ],
   "source": [
    "result = get_sum('$', 2, 2, 4, 6, is_prefix=True)\n",
    "print(result)"
   ]
  },
  {
   "cell_type": "markdown",
   "id": "8758fc45",
   "metadata": {},
   "source": [
    "The reason is that *nested* functions have **access to the variables of the enclosing scope**, in this case those of `get_sum()`, such as `*kwargs` and `result`). Like the fact that *nested* functions can only be executed when the parent is called, this is a side-effect of them being part of the scope of their parent:"
   ]
  },
  {
   "cell_type": "code",
   "execution_count": 40,
   "id": "f298be8a",
   "metadata": {},
   "outputs": [
    {
     "ename": "NameError",
     "evalue": "name 'get_output' is not defined",
     "output_type": "error",
     "traceback": [
      "\u001b[0;31m---------------------------------------------------------------------------\u001b[0m",
      "\u001b[0;31mNameError\u001b[0m                                 Traceback (most recent call last)",
      "Cell \u001b[0;32mIn[40], line 1\u001b[0m\n\u001b[0;32m----> 1\u001b[0m \u001b[43mget_output\u001b[49m()\n",
      "\u001b[0;31mNameError\u001b[0m: name 'get_output' is not defined"
     ]
    }
   ],
   "source": [
    "get_output() # will raise error, as the parent get_sum() is not being called"
   ]
  },
  {
   "cell_type": "markdown",
   "id": "30684e4b",
   "metadata": {},
   "source": [
    "Another property of functions in Python is that they support **recursion**. This means that **a function can call itself**. In certain situations, recursion provides an extremely efficient and mathematically-elegant solution to common programming problems. One such case is iteration over nested data structures: let's say that we have a list of integers, with some of them arranged in sub-groups (*i.e.* nested lists), like this:\n",
    "\n",
    "<div style=\"border: 2px solid #abd4ff; padding:3px; display: flex; width: 332px; border-radius: 4px; margin-top: 20px\">\n",
    "<div class=\"alert-success\" style=\"display: inline; padding: 5px; border-radius: 4px; margin-right: auto\">12</div>\n",
    "<div class=\"alert-success\" style=\"display: inline; padding: 5px; border-radius: 4px; margin-right: auto\">8</div>\n",
    "<div class=\"alert-success\" style=\"display: inline; padding: 5px; border-radius: 4px; margin-right: auto\">93</div>\n",
    "<div class=\"alert-success\" style=\"display: inline; padding: 5px; border-radius: 4px; margin-right: auto\">9</div>\n",
    "<div style=\"border: 2px solid #ffb979; padding: 3px; margin-top: -2px; margin-bottom: -2px; display: flex; border-radius: 4px; margin-right: auto\">\n",
    "<div class=\"alert-success\" style=\"display: inline; padding: 5px; border-radius: 4px; margin-left: 2px\">2</div>\n",
    "<div class=\"alert-success\" style=\"display: inline; padding: 5px; border-radius: 4px; margin-left: 2px; margin-right: 2px\">4</div>\n",
    "<div class=\"alert-success\" style=\"display: inline; padding: 5px; border-radius: 4px; margin-right: 2px\">9</div>\n",
    "</div>\n",
    "<div class=\"alert-success\" style=\"display: inline; padding: 5px; border-radius: 4px; margin-right: auto\">89</div>\n",
    "<div class=\"alert-success\" style=\"display: inline; padding: 5px; border-radius: 4px; margin-right: auto\">7</div>\n",
    "<div style=\"border: 2px solid #ffb979; padding: 3px; margin-top: -2px; margin-bottom: -2px; display: flex; border-radius: 4px; margin-right: auto\">\n",
    "<div class=\"alert-success\" style=\"display: inline; padding: 5px; border-radius: 4px; margin-left: 2px\">2</div>\n",
    "<div class=\"alert-success\" style=\"display: inline; padding: 5px; border-radius: 4px; margin-left: 2px; margin-right: 2px\">34</div>\n",
    "</div>\n",
    "<div class=\"alert-success\" style=\"display: inline; padding: 5px; border-radius: 4px; margin-right: 2px\">90</div>\n",
    "</div>\n",
    "\n",
    "We want to write a function that takes the above structure and returns a flat list of all the integers, like this:\n",
    "\n",
    "<div style=\"border: 2px solid #abd4ff; padding: 3px; display: flex; width: 300px; border-radius: 4px; margin-top: 20px; margin-bottom: 20px\">\n",
    "<div class=\"alert-success\" style=\"display: flex; padding: 5px; border-radius: 4px; margin-right: auto\">12</div>\n",
    "<div class=\"alert-success\" style=\"display: flex; padding: 5px; border-radius: 4px; margin-right: auto\">8</div>\n",
    "<div class=\"alert-success\" style=\"display: flex; padding: 5px; border-radius: 4px; margin-right: auto\">93</div>\n",
    "<div class=\"alert-success\" style=\"display: flex; padding: 5px; border-radius: 4px; margin-right: auto\">9</div>\n",
    "<div class=\"alert-success\" style=\"display: flex; padding: 5px; border-radius: 4px; margin-right: auto\">2</div>\n",
    "<div class=\"alert-success\" style=\"display: flex; padding: 5px; border-radius: 4px; margin-right: auto\">4</div>\n",
    "<div class=\"alert-success\" style=\"display: flex; padding: 5px; border-radius: 4px; margin-right: auto\">9</div>\n",
    "<div class=\"alert-success\" style=\"display: flex; padding: 5px; border-radius: 4px; margin-right: auto\">89</div>\n",
    "<div class=\"alert-success\" style=\"display: flex; padding: 5px; border-radius: 4px; margin-right: auto\">7</div>\n",
    "<div class=\"alert-success\" style=\"display: flex; padding: 5px; border-radius: 4px; margin-right: auto\">2</div>\n",
    "<div class=\"alert-success\" style=\"display: flex; padding: 5px; border-radius: 4px; margin-right: auto\">34</div>\n",
    "<div class=\"alert-success\" style=\"display: flex; padding: 5px; border-radius: 4px; margin-right: auto\">90</div>\n",
    "</div>\n",
    "\n",
    "We could do it like this:"
   ]
  },
  {
   "cell_type": "code",
   "execution_count": 41,
   "id": "88ebef78",
   "metadata": {},
   "outputs": [
    {
     "name": "stdout",
     "output_type": "stream",
     "text": [
      "[12, 8, 93, 9, 2, 4, 9, 89, 7, 2, 34, 90]\n"
     ]
    }
   ],
   "source": [
    "nested_data = [12, 8, 93, 9, [2, 4, 9], 89, 7, [2, 34], 90]\n",
    "\n",
    "def flatten(data):\n",
    "    output = []\n",
    "    \n",
    "    for item in data:\n",
    "        if type(item) is list:\n",
    "            output = output + flatten(item)\n",
    "        else:\n",
    "            output.append(item)\n",
    "    \n",
    "    return output\n",
    "\n",
    "print(flatten(nested_data))\n"
   ]
  },
  {
   "cell_type": "markdown",
   "id": "9f446e06",
   "metadata": {},
   "source": [
    "The function checks the `type` of the item being processed. If it is a list, then it calls itself to process it. Because of this recursive behaviour, the function is able to deal with **any level of nesting**:"
   ]
  },
  {
   "cell_type": "code",
   "execution_count": 42,
   "id": "d9899b12",
   "metadata": {},
   "outputs": [
    {
     "name": "stdout",
     "output_type": "stream",
     "text": [
      "[12, 8, 2, 4, 5, 5.5, 6, 9, 7, 2, 34, 90]\n"
     ]
    }
   ],
   "source": [
    "triple_nested_data = [12, 8, [2, [4, [5, 5.5], 6], 9], 7, [2, 34], 90]\n",
    "print(flatten(triple_nested_data))"
   ]
  },
  {
   "cell_type": "markdown",
   "id": "56d32a1d",
   "metadata": {},
   "source": [
    "## 1.5. Lambda Functions\n",
    "\n",
    "A **lambda** function is an anonymous function that can take any number of arguments but, unlike normal functions, **evaluates and returns only one expression**. *Lambda* functions are declared using the keyword `lambda` instead of `def`. They can **take both positional and keyword arguments**, but, unlike a normal function, the **parameters are not specified in parentheses**. Their body, *i.e.* the code to execute, should be a **single expression** (ideally a single line). The general signature then looks like this:\n",
    "\n",
    "`lambda` *`parameters`*: *`expression`*\n",
    "\n",
    "Let's write a *lambda* function that takes three integers as arguments and returns their sum:"
   ]
  },
  {
   "cell_type": "code",
   "execution_count": 43,
   "id": "b5eb672c",
   "metadata": {},
   "outputs": [
    {
     "name": "stdout",
     "output_type": "stream",
     "text": [
      "30\n"
     ]
    }
   ],
   "source": [
    "simple_sum = lambda x, y, z: x + y + z\n",
    "\n",
    "print(simple_sum(4, 6, 20))"
   ]
  },
  {
   "cell_type": "markdown",
   "id": "cb27569b",
   "metadata": {},
   "source": [
    "In the cell above, we assigned the *lambda* function to a variable so that we could call it easily, but this is not necessary. \n",
    "\n",
    "Unlike regular functions, ***lambda* functions are not meant to be reused**, they are a means to **evaluate an expression in a single context**. They are usually **passed as arguments** to *higher-order* functions (*i.e.* those that take other functions as arguments).\n",
    "\n",
    "A good example of the latter is the `sort()` method of lists. As a reminder, in **Unit 1** we saw how this method can be used to sort a list alphanumerically, in either *ascending* (default) or *descending* order:"
   ]
  },
  {
   "cell_type": "code",
   "execution_count": 46,
   "id": "ab59c380",
   "metadata": {},
   "outputs": [
    {
     "name": "stdout",
     "output_type": "stream",
     "text": [
      "['George Harrison', 'John Lennon', 'Paul McCartney', 'Pete Best', 'Ringo Starr']\n"
     ]
    }
   ],
   "source": [
    "beatles = ['John Lennon', 'Paul McCartney', 'George Harrison', 'Ringo Starr', 'Pete Best']\n",
    "\n",
    "beatles.sort()\n",
    "print(beatles)"
   ]
  },
  {
   "cell_type": "code",
   "execution_count": 47,
   "id": "fd6f2923",
   "metadata": {},
   "outputs": [
    {
     "name": "stdout",
     "output_type": "stream",
     "text": [
      "['Ringo Starr', 'Pete Best', 'Paul McCartney', 'John Lennon', 'George Harrison']\n"
     ]
    }
   ],
   "source": [
    "beatles.sort(reverse=True)\n",
    "print(beatles)"
   ]
  },
  {
   "cell_type": "markdown",
   "id": "4908e22e",
   "metadata": {},
   "source": [
    "In the example, the names in the list are treated as strings and **sorted by their first letter** (*i.e.* by the given name). **What if we wanted to sort the list by surname?** \n",
    "\n",
    "`sort()` can take a `key` argument that determines what values are used for sorting, and that argument can be a *lambda* function. For our purposes, the function in question will have to take the full name and return just the surname. We can write it like this:\n",
    "\n",
    "```python\n",
    "lambda name: name.split()[1]\n",
    "```\n",
    "\n",
    "Let's break it down: first, we **declare the function** using the keyword `lambda` and **assign a single parameter**, `name`, which for each item in the list, will contain the full string (*e.g* `George Harrison`). After the colon, we **include the expression to be evaluated**, which in this case **splits the string** (with the default space separator) and **returns the second item** in the resulting list:\n",
    "\n",
    "```python\n",
    "name => 'George Harrison'\n",
    "name.split() => ['George', 'Harrison']\n",
    "name.split()[1] => 'Harrison'\n",
    "```\n",
    "\n",
    "The `sort()` method will then arrange the list in alphabetical order (either *ascending* or *descending*, depending on whether we supply the `reverse` parameter or not:"
   ]
  },
  {
   "cell_type": "code",
   "execution_count": 48,
   "id": "0b00f7b0",
   "metadata": {},
   "outputs": [
    {
     "name": "stdout",
     "output_type": "stream",
     "text": [
      "['Pete Best', 'George Harrison', 'John Lennon', 'Paul McCartney', 'Ringo Starr']\n"
     ]
    }
   ],
   "source": [
    "beatles.sort(key=lambda name: name.split()[1])\n",
    "print(beatles)"
   ]
  },
  {
   "cell_type": "code",
   "execution_count": 49,
   "id": "8a4e7165",
   "metadata": {},
   "outputs": [
    {
     "name": "stdout",
     "output_type": "stream",
     "text": [
      "['Ringo Starr', 'Paul McCartney', 'John Lennon', 'George Harrison', 'Pete Best']\n"
     ]
    }
   ],
   "source": [
    "\n",
    "beatles.sort(key=lambda name: name.split()[1], reverse=True)\n",
    "print(beatles)"
   ]
  },
  {
   "cell_type": "markdown",
   "id": "be6ab977",
   "metadata": {},
   "source": [
    "# 2. Modularity\n",
    "\n",
    "*Modularity* refers to the practice of **breaking up a large, unwieldy code base into separate, smaller, and more manageable modules**, which can then be chained together as necessary to accomplish a task. *Simplicity*, *maintainability*, and *reusability* are some of the key advantages to modularizing code. In this section we'll review some of the key constructs Python uses to facilitate modular programming.\n",
    "\n",
    "## 2.1. Classes and Objects\n",
    "\n",
    "Python is an [object-oriented programming language](https://www.educative.io/blog/object-oriented-programming) (**OOP**). The OOP paradigm is built around the concept of **objects**, which are structures that contain **data**, in the form of **attributes**, and **code**, in the form of **methods**, to performs operations on those attributes. \n",
    "\n",
    "Python's approach to OOP is *class-based*, meaning that objects are considered **instances of classes**. A **class** is a sort of **generic blueprint or prototype** for an object: it determines their type and characteristics. **objects**, then, are *instances*, or copies, of the class with actual values.\n",
    "\n",
    "Let's look at an example: `date` is a [built-in class](https://docs.python.org/3/library/datetime.html?highlight=datetime#date-objects) that represents a date in an idealized calendar (the Gregorian calendar extended indefinitely into both past and future). The class itself is just a generic representation of all possible dates, if we want to work with an **actual date** we need to *instantiate* it into a *date object*, i.e. create a specific instance of the class. \n",
    "\n",
    "*Date objects* are created by calling `date` with three integer arguments representing a `year`, a `month`, and a `day`:"
   ]
  },
  {
   "cell_type": "code",
   "execution_count": 50,
   "id": "159d8e2d",
   "metadata": {},
   "outputs": [],
   "source": [
    "from datetime import date  # we need to import the class first, this is covered in the next section\n",
    "\n",
    "# now we can instantiate a date object\n",
    "lincoln_dob = date(1809, 2, 12) # yes, this is Abraham Lincoln's date of birth"
   ]
  },
  {
   "cell_type": "markdown",
   "id": "102f6a1c",
   "metadata": {},
   "source": [
    "We can check that `lincoln_dob` is indeed a *date* object by using the `type` function we learned in **Unit 1**:"
   ]
  },
  {
   "cell_type": "code",
   "execution_count": 51,
   "id": "6289e469",
   "metadata": {},
   "outputs": [
    {
     "name": "stdout",
     "output_type": "stream",
     "text": [
      "<class 'datetime.date'>\n"
     ]
    }
   ],
   "source": [
    "print(type(lincoln_dob))"
   ]
  },
  {
   "cell_type": "markdown",
   "id": "c1e2238a",
   "metadata": {},
   "source": [
    "We can also check the actual value by printing `lincoln_dob`. *Date objects* are printed by default in the `year-month-day` format:"
   ]
  },
  {
   "cell_type": "code",
   "execution_count": 52,
   "id": "15f98655",
   "metadata": {},
   "outputs": [
    {
     "name": "stdout",
     "output_type": "stream",
     "text": [
      "1809-02-12\n"
     ]
    }
   ],
   "source": [
    "print(lincoln_dob)"
   ]
  },
  {
   "cell_type": "markdown",
   "id": "a63acb68",
   "metadata": {},
   "source": [
    "As discussed above, **an object contains data in the form of *attributes***. The key attributes of a *date object* are the values for `day`, `month`, and `year`. Object attributes can be retrieved by **appending a dot and their name** to the object (no parentheses!):"
   ]
  },
  {
   "cell_type": "code",
   "execution_count": 53,
   "id": "0123308f",
   "metadata": {
    "scrolled": true
   },
   "outputs": [
    {
     "name": "stdout",
     "output_type": "stream",
     "text": [
      "12\n",
      "2\n",
      "1809\n"
     ]
    }
   ],
   "source": [
    "print(lincoln_dob.day)\n",
    "print(lincoln_dob.month)\n",
    "print(lincoln_dob.year)"
   ]
  },
  {
   "cell_type": "markdown",
   "id": "d25c909e",
   "metadata": {},
   "source": [
    "Objects also have **methods, functions that perform certain useful operations**, usually on its *attributes*. Object methods are called by **appending a dot and their name followed by parentheses** to the object (methods are functions, hence the parentheses).\n",
    "\n",
    "For example, `weekday()`, one of the methods of *date objects*, returns the day of the week as an integer (Monday=0, Sunday=6):"
   ]
  },
  {
   "cell_type": "code",
   "execution_count": 55,
   "id": "cb36a0fb",
   "metadata": {},
   "outputs": [
    {
     "name": "stdout",
     "output_type": "stream",
     "text": [
      "6\n"
     ]
    }
   ],
   "source": [
    "print(lincoln_dob.weekday())"
   ]
  },
  {
   "cell_type": "markdown",
   "id": "c83a1063",
   "metadata": {},
   "source": [
    "So, Lincoln was born on a Sunday. **What if we wanted to print the name of the day programmatically?** We could always build a dictionary to map *day integers* to their *corresponding English names*, but this sounds like the kind of common task that a class should provide a method for, and `date` does! \n",
    "\n",
    "*Date objects* have a method called `strftime()` that returns a string representing the date in whatever format is requested by supplying a [format string](https://docs.python.org/3/library/datetime.html?highlight=datetime#strftime-strptime-behavior) in the parentheses:"
   ]
  },
  {
   "cell_type": "code",
   "execution_count": 56,
   "id": "f4c16295",
   "metadata": {},
   "outputs": [
    {
     "name": "stdout",
     "output_type": "stream",
     "text": [
      "12/02/1809\n",
      "12/02/09\n",
      "12-Feb-1809\n"
     ]
    }
   ],
   "source": [
    "print(lincoln_dob.strftime('%d/%m/%Y')) # output as day/month/year\n",
    "print(lincoln_dob.strftime('%d/%m/%y')) # same but use year without century (i.e. just two digits)\n",
    "print(lincoln_dob.strftime('%d-%b-%Y')) # with dashes as separators and the name of the month (abbreviated)"
   ]
  },
  {
   "cell_type": "code",
   "execution_count": 57,
   "id": "ff1cd755",
   "metadata": {},
   "outputs": [
    {
     "name": "stdout",
     "output_type": "stream",
     "text": [
      "Abe Lincoln was born on a Sunday, on the 12th day of February, in the year 1809.\n"
     ]
    }
   ],
   "source": [
    "# let's go for broke:\n",
    "full_date = lincoln_dob.strftime('a %A, on the %dth day of %B, in the year %Y')\n",
    "print(f'Abe Lincoln was born on {full_date}.')"
   ]
  },
  {
   "cell_type": "markdown",
   "id": "2de60163",
   "metadata": {},
   "source": [
    "And those are the basics of *classes* and *objects*.\n",
    "\n",
    "<div class=\"alert alert-block alert-info\">\n",
    "<b>Note:</b> We'll learn how to write our own classes in <b>Unit 4</b> . \n",
    "</div>"
   ]
  },
  {
   "cell_type": "markdown",
   "id": "5a8d867d",
   "metadata": {},
   "source": [
    "## 2.2. Modules and Packages\n",
    "\n",
    "These represent the two key ways to group and organize code in Python. **Modules** are files containing Python *classes* and *functions*, usually grouped on the basis of some similarity, such as their focus on a common task or set of tasks. **Packages** are *collections* of *modules*, organized as directories and subdirectories containing *sub-packages* and *modules*.\n",
    "\n",
    "### Dot Notation\n",
    "\n",
    "*Modules* and *packages* organize their constituent elements, such as *functions* and *classes* with their *methods* and *attributes*, in a hierarchical manner. A generic version of such a structure would look something like this:\n",
    "\n",
    "<img src=\"https://mermaid.ink/img/pako:eNp9kt9rgzAQgP8VyV46aCkKwghFWOu630_bmyklJpc2NJoSI2OI__tirKPYUp-S-75c7s40iGkOCCOh9A_bU2OD75SUgfuYolWVgggKzWsFgZBK4Tv2ALEQI0PUJbNSlydH5Dxm4chhqqpOHCIhIBpxau1wXEAM8bgIsHvNr1zw2BC0yJMjZQe6g8U8Twhqg9ksCZZZ1pe-DTcbjHG_OZ3yxurfiC6MlTees6E3l8QZw-7ceWkaX-Y2bFundI32eOlxejNF7zzdTrEecDTCa49fJ_10tuF914Rfn_O3gUfX-fskczOUifsFRua1dQNbzKWb46bzXfRc_riQo0sZTVEBpqCSu6fVdBGC7B4KIAi7JafmQBApW-fR2uqv35IhbE0NU1QfObWQSroztEBYUFW5KHBptfns36p_su0fh-zcVg\" width=700>\n",
    "\n",
    "Python uses **dot notation** as a means to reference the different elements in the hierarchy. For example, to reference `attribute_2` of `class_2` in the chart above, we would use:\n",
    "\n",
    "<div style=\"margin: 20px\">\n",
    "<div style=\"display: inline; padding: 5px; border-radius: 4px; background-color: #c8e5ff; font-family: monospace\">module_1</div><b>.</b>\n",
    "<div style=\"display: inline; padding: 5px; border-radius: 4px; background-color: #e2ffe2; font-family: monospace\">class_2</div><b>.</b>\n",
    "<div style=\"display: inline; padding: 5px; border-radius: 4px; background-color: #ffe5e5; font-family: monospace\">attribute_2</div>\n",
    "</div>\n",
    "\n",
    "Basically, **dots are used to separate elements in the tree**, which are arranged in **decreasing hierarchical order** down to the desired element. The starting point, `module_1` in the example above, is determined by the way in which a *module* or *package* is made accessible to your code.\n",
    "\n",
    "## 2.3. The `import` Statement\n",
    "\n",
    "The `import` statement is the way in which the contents of a module are made available to a programme. There are a number of ways in which `import` can be used. Let's look at them with some examples. We'll focus on the module called `datetime`, which contains, amongst others, the `date` class we used earlier.\n",
    "\n",
    "At its most basic `import` can be called with just the name of the *module* we wish to make available:"
   ]
  },
  {
   "cell_type": "code",
   "execution_count": 1,
   "id": "26c10db4",
   "metadata": {},
   "outputs": [],
   "source": [
    "import datetime"
   ]
  },
  {
   "cell_type": "markdown",
   "id": "3db732fe",
   "metadata": {},
   "source": [
    "**Multiple modules can be imported in the same statement** by separating them with a comma. If, in addition to `datetime`, we wished to also import the `math` module (which provides access to [mathematical functions](https://docs.python.org/3/library/math.html#module-math)), we could do it like this:"
   ]
  },
  {
   "cell_type": "code",
   "execution_count": 3,
   "id": "90e618e5",
   "metadata": {},
   "outputs": [],
   "source": [
    "import datetime, math # datetime, which is already imported, will just be overwritten"
   ]
  },
  {
   "cell_type": "markdown",
   "id": "3c3fe242",
   "metadata": {},
   "source": [
    "Importing a module, however, **does not make the module's functions and classes *directly* accessible to us**: even after importing `datetime` we can't, for instance, invoke the class `time` (peer of the `date` class from the earlier example):"
   ]
  },
  {
   "cell_type": "code",
   "execution_count": 4,
   "id": "7cc17d56",
   "metadata": {},
   "outputs": [
    {
     "ename": "NameError",
     "evalue": "name 'time' is not defined",
     "output_type": "error",
     "traceback": [
      "\u001b[0;31m---------------------------------------------------------------------------\u001b[0m",
      "\u001b[0;31mNameError\u001b[0m                                 Traceback (most recent call last)",
      "Cell \u001b[0;32mIn[4], line 1\u001b[0m\n\u001b[0;32m----> 1\u001b[0m lincoln_tob \u001b[38;5;241m=\u001b[39m \u001b[43mtime\u001b[49m(\u001b[38;5;241m8\u001b[39m, \u001b[38;5;241m44\u001b[39m) \u001b[38;5;66;03m# no, of course this is not Lincoln's time of birth!\u001b[39;00m\n\u001b[1;32m      2\u001b[0m \u001b[38;5;28mprint\u001b[39m(lincoln_tob)\n",
      "\u001b[0;31mNameError\u001b[0m: name 'time' is not defined"
     ]
    }
   ],
   "source": [
    "lincoln_tob = time(8, 44) # no, this is NOT Lincoln's time of birth!\n",
    "print(lincoln_tob)"
   ]
  },
  {
   "cell_type": "markdown",
   "id": "8fd5eacb",
   "metadata": {},
   "source": [
    "When we `import` a module, what we are doing is **creating a new *namespace***, a sort of **entrypoint** for all the objects it contains. The individual objects **need to be accessed using *dot notation***, as explained above, **using the module's name as the starting point**.\n",
    "\n",
    "The `date` and `time` classes are organized like this withing the `datetime` module:\n",
    "\n",
    "<img src=\"https://mermaid.ink/img/pako:eNqdk1trwyAUgP9KcC8ttJQVAkNCYG13Z0_boy9Gj4s0icMcKaX0v0-TLAvpHtrmSfR837kYD0QYCYQSVZidyLnF6HPFqsh_ouB1vQEVlUa6AiKli4LeiDuIlRpFKFcJ1KbqYlQmY3E7ihFFXXfnsFQKlqNzjviLK4ghHhcBmBv5T4L7CSNJlkqOgLqEZJGlSWYXaaLTSVv5NFnolJEppbRrZT6fR6vAhebTFmuWPdnkHYCh-i5fQ697OiQ-n1439GZA78ewH4TVmcNh3X5vyD_0fGkqzK8wPPaGPXB7heCpF-wAtr6NyXRsaa9sOP1mY2h57i01WhUu4kLNqtG89JrcuMu6aQWvfwPVlTu90DMUb9e3QmakBFtyLf1DPAQpI5hDCYxQv5Tcbhlh1dHHcYfmY18JQtE6mBH3Hf6_jeZflpeEKl7UfhekRmPf25fdPPDjD4c4NhQ\" width=900>\n",
    "\n",
    "If we import `datetime` like this (as we did above):\n",
    "\n",
    "```python\n",
    "import datetime\n",
    "```\n",
    "\n",
    "We need to use the following syntax to call the `time` class:"
   ]
  },
  {
   "cell_type": "code",
   "execution_count": 5,
   "id": "99d9a78e",
   "metadata": {},
   "outputs": [
    {
     "name": "stdout",
     "output_type": "stream",
     "text": [
      "08:44:00\n"
     ]
    }
   ],
   "source": [
    "lincoln_tob = datetime.time(8, 44)\n",
    "print(lincoln_tob)"
   ]
  },
  {
   "cell_type": "markdown",
   "id": "61b3c06c",
   "metadata": {},
   "source": [
    "The `import` statement allows **importing only a subset of the objects in a module**. For example, if we know we will only need the `time` class, we could import it like this:"
   ]
  },
  {
   "cell_type": "code",
   "execution_count": 6,
   "id": "a7ff214a",
   "metadata": {},
   "outputs": [],
   "source": [
    "from datetime import time"
   ]
  },
  {
   "cell_type": "markdown",
   "id": "4c9d8b64",
   "metadata": {},
   "source": [
    "That statement makes the `time` class, and all its methods and attributes, *directly* available to us: "
   ]
  },
  {
   "cell_type": "code",
   "execution_count": 8,
   "id": "8795e17c",
   "metadata": {},
   "outputs": [
    {
     "name": "stdout",
     "output_type": "stream",
     "text": [
      "08:44:00\n"
     ]
    }
   ],
   "source": [
    "lincoln_tob = time(8, 44) # note we use just 'time'!\n",
    "print(lincoln_tob)"
   ]
  },
  {
   "cell_type": "markdown",
   "id": "8e2df23c",
   "metadata": {},
   "source": [
    "The rest of the `datetime` module **is not available**. If we try, for example, to use the `date` class:"
   ]
  },
  {
   "cell_type": "code",
   "execution_count": 9,
   "id": "07a18ac3",
   "metadata": {},
   "outputs": [
    {
     "ename": "NameError",
     "evalue": "name 'date' is not defined",
     "output_type": "error",
     "traceback": [
      "\u001b[0;31m---------------------------------------------------------------------------\u001b[0m",
      "\u001b[0;31mNameError\u001b[0m                                 Traceback (most recent call last)",
      "Cell \u001b[0;32mIn[9], line 1\u001b[0m\n\u001b[0;32m----> 1\u001b[0m lincoln_dob \u001b[38;5;241m=\u001b[39m \u001b[43mdate\u001b[49m(\u001b[38;5;241m1809\u001b[39m, \u001b[38;5;241m2\u001b[39m, \u001b[38;5;241m12\u001b[39m)\n\u001b[1;32m      2\u001b[0m \u001b[38;5;28mprint\u001b[39m(lincoln_dob)\n",
      "\u001b[0;31mNameError\u001b[0m: name 'date' is not defined"
     ]
    }
   ],
   "source": [
    "lincoln_dob = date(1809, 2, 12)\n",
    "print(lincoln_dob)"
   ]
  },
  {
   "cell_type": "markdown",
   "id": "34b8b4cf",
   "metadata": {},
   "source": [
    "<div class=\"alert alert-block alert-info\">\n",
    "<b>Note:</b> Because this usage of <code>import</code> places the object names directly into the local symbol table, any objects that already exist with the same name will be overwritten.\n",
    "</div>\n",
    "\n",
    "It is also possible, **albeit strongly discouraged**, to **import everything from a module at once**. The following statement will make all objects in the `datetime` module—with the exception of any that begin with underscores (`_`), which are considered private—accessible to us:"
   ]
  },
  {
   "cell_type": "code",
   "execution_count": 11,
   "id": "78a2cf9d",
   "metadata": {},
   "outputs": [],
   "source": [
    "from datetime import *"
   ]
  },
  {
   "cell_type": "markdown",
   "id": "4f1a9c10",
   "metadata": {},
   "source": [
    "It is essential that **module namespaces remain unique** in the context of your programme for this modular approach to work. To work around potential issues, Python allows **aliases** for modules to be defined at import time through the use of the `as` keyword:"
   ]
  },
  {
   "cell_type": "code",
   "execution_count": 1,
   "id": "452d00a1",
   "metadata": {},
   "outputs": [
    {
     "name": "stdout",
     "output_type": "stream",
     "text": [
      "08:44:00\n"
     ]
    }
   ],
   "source": [
    "import datetime as my_own_name_for_datetime # creates alias for entire 'datetime' module\n",
    "\n",
    "lincoln_tob = my_own_name_for_datetime.time(8, 44)\n",
    "print(lincoln_tob)"
   ]
  },
  {
   "cell_type": "code",
   "execution_count": 2,
   "id": "b1cb25a5",
   "metadata": {},
   "outputs": [
    {
     "name": "stdout",
     "output_type": "stream",
     "text": [
      "1809-02-12\n"
     ]
    }
   ],
   "source": [
    "from datetime import date as gabes_date_module # creates alias for the 'date' class only\n",
    "\n",
    "lincoln_dob = gabes_date_module(1809, 2, 12)\n",
    "print(lincoln_dob)"
   ]
  },
  {
   "cell_type": "markdown",
   "id": "c4f829ce",
   "metadata": {},
   "source": [
    "Lastly, we can use the `dir()` built-in function to see what names are currently defined in our programme:"
   ]
  },
  {
   "cell_type": "code",
   "execution_count": 3,
   "id": "4de0a972",
   "metadata": {},
   "outputs": [
    {
     "data": {
      "text/plain": [
       "['In',\n",
       " 'Out',\n",
       " '_',\n",
       " '__',\n",
       " '___',\n",
       " '__builtin__',\n",
       " '__builtins__',\n",
       " '__doc__',\n",
       " '__loader__',\n",
       " '__name__',\n",
       " '__package__',\n",
       " '__spec__',\n",
       " '_dh',\n",
       " '_i',\n",
       " '_i1',\n",
       " '_i2',\n",
       " '_i3',\n",
       " '_ih',\n",
       " '_ii',\n",
       " '_iii',\n",
       " '_oh',\n",
       " 'exit',\n",
       " 'gabes_date_module',\n",
       " 'get_ipython',\n",
       " 'lincoln_dob',\n",
       " 'lincoln_tob',\n",
       " 'my_own_name_for_datetime',\n",
       " 'open',\n",
       " 'quit']"
      ]
     },
     "execution_count": 3,
     "metadata": {},
     "output_type": "execute_result"
    }
   ],
   "source": [
    "dir()"
   ]
  },
  {
   "cell_type": "markdown",
   "id": "11a09622",
   "metadata": {},
   "source": [
    "`dir()` can also be called with a module as argument to list all the objects it defines:"
   ]
  },
  {
   "cell_type": "code",
   "execution_count": 14,
   "id": "3c5fbb84",
   "metadata": {},
   "outputs": [
    {
     "data": {
      "text/plain": [
       "['__add__',\n",
       " '__class__',\n",
       " '__delattr__',\n",
       " '__dir__',\n",
       " '__doc__',\n",
       " '__eq__',\n",
       " '__format__',\n",
       " '__ge__',\n",
       " '__getattribute__',\n",
       " '__gt__',\n",
       " '__hash__',\n",
       " '__init__',\n",
       " '__init_subclass__',\n",
       " '__le__',\n",
       " '__lt__',\n",
       " '__ne__',\n",
       " '__new__',\n",
       " '__radd__',\n",
       " '__reduce__',\n",
       " '__reduce_ex__',\n",
       " '__repr__',\n",
       " '__rsub__',\n",
       " '__setattr__',\n",
       " '__sizeof__',\n",
       " '__str__',\n",
       " '__sub__',\n",
       " '__subclasshook__',\n",
       " 'astimezone',\n",
       " 'combine',\n",
       " 'ctime',\n",
       " 'date',\n",
       " 'day',\n",
       " 'dst',\n",
       " 'fold',\n",
       " 'fromisocalendar',\n",
       " 'fromisoformat',\n",
       " 'fromordinal',\n",
       " 'fromtimestamp',\n",
       " 'hour',\n",
       " 'isocalendar',\n",
       " 'isoformat',\n",
       " 'isoweekday',\n",
       " 'max',\n",
       " 'microsecond',\n",
       " 'min',\n",
       " 'minute',\n",
       " 'month',\n",
       " 'now',\n",
       " 'replace',\n",
       " 'resolution',\n",
       " 'second',\n",
       " 'strftime',\n",
       " 'strptime',\n",
       " 'time',\n",
       " 'timestamp',\n",
       " 'timetuple',\n",
       " 'timetz',\n",
       " 'today',\n",
       " 'toordinal',\n",
       " 'tzinfo',\n",
       " 'tzname',\n",
       " 'utcfromtimestamp',\n",
       " 'utcnow',\n",
       " 'utcoffset',\n",
       " 'utctimetuple',\n",
       " 'weekday',\n",
       " 'year']"
      ]
     },
     "execution_count": 14,
     "metadata": {},
     "output_type": "execute_result"
    }
   ],
   "source": [
    "dir(datetime)"
   ]
  },
  {
   "cell_type": "markdown",
   "id": "1a1e2421",
   "metadata": {},
   "source": [
    "# 3. External Modules and Packages\n",
    "\n",
    "So far, we have only used *built-in* functions and modules, *i.e.* those that are included in the [Python Standard Library](https://docs.python.org/3.11/library/index.html), a collection of utilities providing common functionality that is installed by default alongside the core Python elements. There are, in addition, **millions of Python components**, from individual functions to entire development frameworks, **available as external modules and packages**. \n",
    "\n",
    "The official repository for these external resources is the [Python Package Index (**PyPI**)](https://pypi.org/). Before spending time developing your own solution to a problem, it is a good idea to search the **PyPI** (and maybe [**GitHub**](https://github.com/search?l=Python&q=python&type=Repositories) as well), particularly if the problem seems common enough for someone to have had to solve it before.\n",
    "\n",
    "External packages and modules **are used in the exact same way as built-in ones**, via the `import` statement, but before they can be imported, they **have to be installed in your system**. Before we look at how to install packages, however, it is important to understand the concept of *dependencies*.\n",
    "\n",
    "## 3.1. Dependencies and Virtual Environments\n",
    "\n",
    "Most developers tend to take the aforementioned bit of advice to heart: **the vast majority of Python packages rely on functionality from other packages and libraries**. These external pieces of code that a programme requires to work as intended are called **dependencies**. \n",
    "\n",
    "Naturally, over the lifetime of a piece of software, **functionality is added, changed, and removed**. This means that **dependencies are often version-dependent**: a programme may not only depend upon a package, but upon *a specific version* of that package, *i.e.* one that contains the specific functionality it requires. \n",
    "\n",
    "In addition, one **can only have a single version of a package installed at a time**, a fact that imposes some potentially problematic constraints. Let's say that your programme depends on an external module called `package_1`. `package_1`, in turn, depends upon version 1.0 of `package_2`. If you also want to use `package_2` in your own code, you could only use the same version (1.0), because that is the only one that would satisfy the requirements of `package_1`. If the functionality you require is only present in another version, then you are out of luck.\n",
    "\n",
    "All this creates all kinds of conflicts and makes *dependency management* a key concern when developing projects at any scale. Attempting to manage the dependencies of multiple projects in a single environment, say your laptop, is generally considered <span style=\"color: red; font-weight: bold\">a bad idea</span>. The more than likely result is called *dependency hell*, and is conveniently illustrated in the following graphic:\n",
    "\n",
    "<a href=\"https://xkcd.com/1987/\" target=\"_blank\"><img src=\"https://imgs.xkcd.com/comics/python_environment.png\" width=492></a>\n",
    "\n",
    "The best way to avoid conflicts is to isolate dependencies to specific projects, and the most common isolation method are **virtual environments**. A *virtual environment* is a semi-isolated Python environment where packages are installed and used by a particular project instead of being installed system-wide. \n",
    "\n",
    "## 3.2. Environment and Package Management\n",
    "\n",
    "There are a number of ways in which one can manage virtual environments and packages. The choice will largely be determined by the manner in which Python was installed in your system. In all cases, however, these tasks will be accomplished through the use of highly specialized programmes called *virtual environment managers* and *package managers*, respectively.\n",
    "\n",
    "While these tools make both processes largely automated, it should be noted that, occasionally, a package will have special requirements that fall outside the purview of package managers, such as some atypical hardware configuration, or a special, os-dependent low-level library. In those cases manual intervention may be required. The landing pages for most packages in **PyPI** and **GitHub** will include special installation instructions, as well as links to the relevant documentation, when necessary. \n",
    "\n",
    "### Command Line\n",
    "\n",
    "If you installed Python directly from the command line, the preferred programmes are `venv`, Python's module for [creating virtual environments](https://docs.python.org/3/library/venv.html) and `pip`, the official Python [package manager](https://packaging.python.org/en/latest/guides/tool-recommendations/). Both are used directly from the command line by invoking their respective keywords.\n",
    "\n",
    "`venv` is used alongside the native `source` command:\n",
    "\n",
    "```python\n",
    "venv [/path/environment_name] # create a new virtual environment\n",
    "source [/path/environment_name] # activate a virtual environment for use\n",
    "```\n",
    "\n",
    "`pip` must be followed by an action keyword and then whatever parameters are pertinent to it. The keyword to install packages is `install`:\n",
    "\n",
    "```bash\n",
    "pip install [package name] # installs the latest version\n",
    "pip install [package name]==1.0.4 # installs version 1.0.4\n",
    "pip install [package name]>=1.0.4 # installs at least version 1.0.4\n",
    "pip install [package name]~=1.0.4 # installs a version compatible with 1.0.4\n",
    "pip install --upgrade [package name] # upgrades package to the latest version\n",
    "```\n",
    "\n",
    "`install` will download and set up a package and all its dependencies. You can read more about version specifiers [here](https://peps.python.org/pep-0440/#compatible-release). Package upgrades **must be requested explicitly** using the `--upgrade` flag, since attempting to install an already present module will have no effect.\n",
    "\n",
    "The keyword `list` can be used to see which packages are installed in the current environment (or current system, if not using virtual environments):\n",
    "\n",
    "```bash\n",
    "pip list # lists all packages installed and their versions\n",
    "pip list --outdated # lists all packages with newer versions available\n",
    "```\n",
    "\n",
    "By default, `pip` only installs packages included in the **PyPI**, but it can also use other sources if configured to do so. See the [full documentation](https://pip.pypa.io/en/stable/) for details.\n",
    "\n",
    "### Anaconda \n",
    "\n",
    "If you installed Python using the [Anaconda Distribution](https://www.anaconda.com/products/distribution), both tasks can be accomplished through the [Navigator](https://docs.anaconda.com/navigator/getting-started/), a graphical user interface for *conda*, Anaconda's own powerful [environment manager](https://docs.anaconda.com/navigator/tutorials/manage-environments/) and [package manager](https://docs.anaconda.com/navigator/tutorials/manage-packages/).\n",
    "\n",
    "<div class=\"alert alert-block alert-info\">\n",
    "<b>Note:</b> If you are so inclined, <i>conda</i> can also be used directly from the command line. See the <a href=\"https://conda.io/projects/conda/en/latest/user-guide/getting-started.html\" target=\"_blank\">documentation</a> for the details.\n",
    "</div>"
   ]
  },
  {
   "cell_type": "markdown",
   "id": "4a030778",
   "metadata": {},
   "source": [
    "# 4. External Data\n",
    "\n",
    "Our experience with Python so far has been very self-contained, we've been working entirely within a sandbox. Naturally, in real life you would want to work with external sources of data. In this unit we'll learn how to exchange information via your file system.\n",
    "\n",
    "## 4.1. Reading and Writing Files\n",
    "\n",
    "The key built-in function for creating, writing, and reading files is called `open()`. It takes two arguments, a `filename` and an *optional* string indicating what `access mode` to use. The latter determines the type of file and the type of operations that are possible with it. There are six mode designators denoted by a single letter, as follows:\n",
    "\n",
    "| Code | Value | Description |\n",
    "|:----:|:------|:------------|\n",
    "|`t`|text mode|**Default** - Handles file as text, each line is terminated with a special character called *End of Line* (EOL), by default the new line character (`\\n`).|\n",
    "|`b`|binary mode|Handles file as binary, there is no line terminator and the file is stored as raw binary data (*e.g.* images)|\n",
    "|`r`|read|**Default** - Opens a file for reading, throws an **error if the file does not exist**|\n",
    "|`a`|append|Opens a file for appending, **creates the file if it does not exist**|\n",
    "|`w`|write|Opens a file for writing, **creates the file if it does not exist**|\n",
    "|`x`|create|Creates the specified file, returns an **error if the file exists**|\n",
    "\n",
    "The *text* and *binary* mode designators can be combined with the other modes into a single string. Files are assumed to be *text* by default, so in principle this is only necessary if we want to work with *binary* files.\n",
    "\n",
    "Let's start by opening a file and assigning it to a variable:"
   ]
  },
  {
   "cell_type": "code",
   "execution_count": 6,
   "id": "8722b0f1",
   "metadata": {},
   "outputs": [
    {
     "name": "stdout",
     "output_type": "stream",
     "text": [
      "<_io.TextIOWrapper name='carroll.txt' mode='r' encoding='UTF-8'>\n"
     ]
    }
   ],
   "source": [
    "jabberwocky = open('carroll.txt', 'r') # the 'r' here is optional, as read mode is the default\n",
    "print(jabberwocky) # once open, let's print the file"
   ]
  },
  {
   "cell_type": "markdown",
   "id": "e3dcf762",
   "metadata": {},
   "source": [
    "As you can see from the printed result, the `open()` function returns a **file object**, not the actual contents of the file. \n",
    "\n",
    "Following the OOP paradigm, we must use *methods* to interact with the *file object's* attributes (*i.e.* the data contained in the file). In the specific case of text files, *file objects* include a built-in iterator as a convenience, meaning that we can use a loop to read the contents line by line:"
   ]
  },
  {
   "cell_type": "code",
   "execution_count": 7,
   "id": "eed4fef0",
   "metadata": {},
   "outputs": [
    {
     "name": "stdout",
     "output_type": "stream",
     "text": [
      "’Twas brillig, and the slithy toves\n",
      "\n",
      "Did gyre and gimble in the wabe:\n",
      "\n",
      "All mimsy were the borogoves,\n",
      "\n",
      "And the mome raths outgrabe.\n",
      "\n",
      "“Beware the Jabberwock, my son!\n",
      "\n",
      "The jaws that bite, the claws that catch!\n",
      "\n",
      "Beware the Jubjub bird, and shun\n",
      "\n",
      "The frumious Bandersnatch!”\n",
      "\n",
      "He took his vorpal sword in hand;\n",
      "\n",
      "Long time the manxome foe he sought—\n",
      "\n",
      "So rested he by the Tumtum tree\n",
      "\n",
      "And stood awhile in thought.\n"
     ]
    }
   ],
   "source": [
    "for line in jabberwocky:\n",
    "    print(line)"
   ]
  },
  {
   "cell_type": "markdown",
   "id": "bff22c1e",
   "metadata": {},
   "source": [
    "The iterator is just a convenient wrapper for the `readlines()` method which splits the contents of a text file, using the newline character as separator, and returns them as a **list**. Let's open another file and try `readlines()`:"
   ]
  },
  {
   "cell_type": "code",
   "execution_count": 9,
   "id": "b5c2463d",
   "metadata": {},
   "outputs": [
    {
     "name": "stdout",
     "output_type": "stream",
     "text": [
      "<class 'list'>\n",
      "['Miraris veteres, Vacerra, solos\\n', 'nec laudas nisi mortuos poetas.\\n', 'Ignoscas petimus, Vacerra: tanti\\n', 'non est, ut placeam tibi, perire.']\n"
     ]
    }
   ],
   "source": [
    "epigram = open('martial.txt') # access mode will be the default `rt`\n",
    "all_lines = epigram.readlines()\n",
    "print(type(all_lines))\n",
    "print(all_lines)"
   ]
  },
  {
   "cell_type": "markdown",
   "id": "374e5d4a",
   "metadata": {},
   "source": [
    "Another method, `readline()` (note the singular), also splits the contents on the newline character, but instead of a list, it returns each line in sequence:"
   ]
  },
  {
   "cell_type": "code",
   "execution_count": 11,
   "id": "65b83a84",
   "metadata": {},
   "outputs": [
    {
     "name": "stdout",
     "output_type": "stream",
     "text": [
      "Now is the winter of our discontent\n",
      "\n"
     ]
    }
   ],
   "source": [
    "richard_iii = open('shakespeare.txt', 'r')\n",
    "print(richard_iii.readline()) # reads a line from the file"
   ]
  },
  {
   "cell_type": "markdown",
   "id": "6cbca117",
   "metadata": {},
   "source": [
    "Yet another method, `read()`, allows us to treat the contents of a file **as a single block of data**. Unlike the previous methods, it works with both *text* and *binary* files. \n",
    "\n",
    "`read()` takes a **single numeric argument**, `size`, which indicates **how much of that block to read**. If it is omitted (or negative), the entire contents of the file will be read and returned. If supplied, `size` is interpreted depending on the mode the file was opened in: as **characters in text mode**, or as **bytes in binary mode**:"
   ]
  },
  {
   "cell_type": "code",
   "execution_count": 12,
   "id": "ac615c33",
   "metadata": {},
   "outputs": [
    {
     "name": "stdout",
     "output_type": "stream",
     "text": [
      "abcde\n"
     ]
    }
   ],
   "source": [
    "alphabet = open('alphabet.txt', 'r')\n",
    "print(alphabet.read(5)) # reads 5 characters from the file"
   ]
  },
  {
   "cell_type": "markdown",
   "id": "6cdbcc2f",
   "metadata": {},
   "source": [
    "It is important to keep in mind that these are **methods**, *i.e.* functions operating on the data stored in the file object, hence their return values are determined by their internal logic, which may not line up with our expectations. For example, you could quite rightly expect that running the above commands again would return the same values, however:"
   ]
  },
  {
   "cell_type": "code",
   "execution_count": 13,
   "id": "0176076e",
   "metadata": {},
   "outputs": [
    {
     "name": "stdout",
     "output_type": "stream",
     "text": [
      "Made glorious summer by this sun of York;\n",
      "\n",
      "fghij\n"
     ]
    }
   ],
   "source": [
    "print(richard_iii.readline()) # reads a line from the file\n",
    "print(alphabet.read(5)) # reads 5 characters from the file"
   ]
  },
  {
   "cell_type": "markdown",
   "id": "8c35f550",
   "metadata": {},
   "source": [
    "*File objects* keep track of something called the **file handle**, which works similarly to the *cursor* in a document: it **moves position as operations are performed on the contents** and, consequently, it also determines where most methods operate (*i.e.* where the *handle* is currently located). The position of the *handle* is always set to `0` when the file is first opened.\n",
    "\n",
    "If using `readline()`, the *handle* will **track its position in terms of lines**, *i.e.* it will remember the last line we read and start from the next if we call the method again. If using `read()`, the *handle* **tracks its position in terms of characters or bytes** (depending on the file mode). \n",
    "\n",
    "Let's re-open the `alphabet.txt` file and read a few times from it to illustrate the point:"
   ]
  },
  {
   "cell_type": "code",
   "execution_count": 14,
   "id": "94460667",
   "metadata": {},
   "outputs": [
    {
     "name": "stdout",
     "output_type": "stream",
     "text": [
      "abcde\n",
      "fghijklmno\n"
     ]
    }
   ],
   "source": [
    "alphabet_2 = open('alphabet.txt', 'r')\n",
    "print(alphabet_2.read(5)) # read 5 characters - handle will end at position 4 (0-based count)\n",
    "print(alphabet_2.read(10)) # read 10 characters - will start at 4, end at 14"
   ]
  },
  {
   "cell_type": "markdown",
   "id": "1a0cc085",
   "metadata": {},
   "source": [
    "A method called `seek()` allows us to re-position the *handle*. It uses two arguments to compute the new position: `offset` indicates how many characters or bytes to move, and `whence` determines the reference point, *i.e.* *from where* to start moving. Only three values are valid for `whence`: `0` (the beginning of the file), `1` (the current position of the *handle*), and `2` (the end of the file). Of those, `1` and `2` only work with *binary* files, or if `offset` is set to `0`:"
   ]
  },
  {
   "cell_type": "code",
   "execution_count": 15,
   "id": "d3a77b56",
   "metadata": {},
   "outputs": [
    {
     "name": "stdout",
     "output_type": "stream",
     "text": [
      "abcde\n",
      "\n",
      "klmno\n"
     ]
    }
   ],
   "source": [
    "alphabet_2.seek(0) # move handle to the beginning of the file\n",
    "print(alphabet_2.read(5))\n",
    "\n",
    "alphabet_2.seek(0, 2) # move handle to the end of the file\n",
    "print(alphabet_2.read(5))\n",
    "\n",
    "alphabet_2.seek(10) # move handle 10 characters ahead from the beginning of the file\n",
    "print(alphabet_2.read(5))"
   ]
  },
  {
   "cell_type": "markdown",
   "id": "b68b71a3",
   "metadata": {},
   "source": [
    "**Writing to a file** works in a similar manner: **we need to open or create it** before we can write anything to it. For this we use `open()` as well, and indicate our intent by using a **writeable access mode**:\n",
    "\n",
    "- `a` will open an existing file and append content to it, *i.e.* it will add whatever we write to the end of the file.\n",
    "- `w` will overwrite a file if it already exists, or create it if it doesn't. \n",
    "- `x` provides a way to ensure we won't accidentally overwrite something: it attempts to create a file, but returns an error if it already exists\n",
    "\n",
    "Some examples:\n",
    "\n",
    "```python\n",
    "i_can_improve_shakespeare = open('shakespeare.txt', 'a') # will open shakespeare.txt and append at the end\n",
    "i_am_better_than_shakespeare = open('shakespeare.txt', 'w') # will overwrite shakespeare.txt\n",
    "my_file_1 = open('my_text_1.txt', 'x') # will create my_text_1.txt or return an error if it exists\n",
    "my_file_2 = open('my_text_2.txt', 'w') # will overwrite my_text_2.txt if it exists or create it if not\n",
    "```\n",
    "\n",
    "As for the writing itself, the relevant methods are `write()` and `writelines()`. Let's start by creating some content to write to a file:\n",
    "\n",
    "<div class=\"alert alert-block alert-info\">\n",
    "<b>Note:</b> Since we're going to be writing files to the hard drive, starting here, <b>you'll have to run the cells</b> to see the results and follow along.\n",
    "</div>"
   ]
  },
  {
   "cell_type": "code",
   "execution_count": 17,
   "id": "225dff9f",
   "metadata": {},
   "outputs": [],
   "source": [
    "advice_bit = 'Take time to know yourself.'\n",
    "\n",
    "advice_list = [\n",
    "    advice_bit,\n",
    "    'A narrow focus brings big results.',\n",
    "    'Show up fully.',\n",
    "    'Do not make assumptions.',\n",
    "    'Be patient and persistent.',\n",
    "]"
   ]
  },
  {
   "cell_type": "markdown",
   "id": "b2d9e069",
   "metadata": {},
   "source": [
    "More stupid advice [here](https://www.inc.com/lolly-daskal/25-excellent-pieces-of-advice-that-most-people-ignore.html), if you're interested (and, yes, I'm only adding this because I can't bring myself to not include the source). \n",
    "\n",
    "`write()` takes a single argument, which can be any kind of content, *text* or *binary*, and **writes to the file without modification**. \n",
    "\n",
    "`writelines()`, which **can only be used in text mode**, takes an *iterable* as argument, such as a list, and **writes each item as a line** to the file.\n",
    "\n",
    "Let's go ahead and create a couple of files:"
   ]
  },
  {
   "cell_type": "code",
   "execution_count": 18,
   "id": "44ae3e8c",
   "metadata": {},
   "outputs": [],
   "source": [
    "# let's use 'write()' first:\n",
    "great_advice_1 = open('great_advice_1.txt', 'w') # open the file\n",
    "great_advice_1.write(advice_bit) # write the contents of 'advice_bit' to it\n",
    "\n",
    "# next let's use 'writelines()':\n",
    "great_advice_2 = open('great_advice_2.txt', 'w') # open a new file\n",
    "great_advice_2.writelines(advice_list) # write the contents of 'advice_list' to it"
   ]
  },
  {
   "cell_type": "markdown",
   "id": "fd9ded43",
   "metadata": {},
   "source": [
    "**Have a look at the files**: they are probably empty. \n",
    "\n",
    "<div class=\"alert alert-block alert-info\">\n",
    "<b>Note:</b> The files are in the same folder as the notebook. <b>Don't know where the notebook is?</b> No problem, in Jupyter you can use the <a href=\"https://ipython.readthedocs.io/en/stable/interactive/magics.html\" target=\"_blank\">magic command</a> <code>%pwd</code> to find out. Just run the next cell!\n",
    "</div>"
   ]
  },
  {
   "cell_type": "code",
   "execution_count": null,
   "id": "3de818fd",
   "metadata": {},
   "outputs": [],
   "source": [
    "%pwd"
   ]
  },
  {
   "cell_type": "markdown",
   "id": "ea050b1a",
   "metadata": {},
   "source": [
    "The reason the files are empty is that Python uses buffering to interact with the file system, so changes may not show until a **file is closed**.\n",
    "\n",
    "<div class=\"alert alert-block alert-danger\">\n",
    "<b>Warning:</b> In addtion to the problem described above, and many others, forgetting to close files also means that whatever resources they are using, such as memory, will continue to be tied up and thus unavailable for other purposes.\n",
    "</div>\n",
    "\n",
    "To **close a file we use the** `close()` method. It is also possible to **check whether a file is open**: *file objects* have a boolean attribute called `closed` that will be `False` if the file is open.\n",
    "\n",
    "Let's check and close the files we've opened so far:"
   ]
  },
  {
   "cell_type": "code",
   "execution_count": 19,
   "id": "0f74b575",
   "metadata": {},
   "outputs": [
    {
     "name": "stdout",
     "output_type": "stream",
     "text": [
      "False\n",
      "False\n",
      "False\n",
      "False\n",
      "False\n",
      "False\n",
      "False\n"
     ]
    }
   ],
   "source": [
    "print(jabberwocky.closed)\n",
    "jabberwocky.close()\n",
    "\n",
    "print(epigram.closed)\n",
    "epigram.close()\n",
    "\n",
    "print(richard_iii.closed)\n",
    "richard_iii.close()\n",
    "\n",
    "print(alphabet.closed)\n",
    "alphabet.close()\n",
    "\n",
    "# if multiple instances of the same file are open, \n",
    "# each has to be closed individually\n",
    "print(alphabet_2.closed)\n",
    "alphabet_2.close()\n",
    "\n",
    "# last, let's do the files we just created\n",
    "print(great_advice_1.closed)\n",
    "great_advice_1.close()\n",
    "\n",
    "print(great_advice_2.closed)\n",
    "great_advice_2.close()"
   ]
  },
  {
   "cell_type": "markdown",
   "id": "21028a92",
   "metadata": {},
   "source": [
    "**Have another look at the files we created earlier**: the text we wrote to them should now be there.\n",
    "\n",
    "<div class=\"alert alert-block alert-info\">\n",
    "<b>Note:</b> If you look carefully at <code>great_advice_2.txt</code>, you'll notice that the lines are not in fact lines (<i>i.e.</i> there are no new line characters). This is because <code>writelines()</code> does not add them automatically.\n",
    "</div>\n",
    "\n",
    "Forgetting to close a file is such a common occurrence, that **this way of working with files is generally discouraged**. A much **better approach** is to take advantage of the `with` statement, which is used to [wrap the execution of a block of code](https://docs.python.org/3/reference/compound_stmts.html#the-with-statement). The general syntax looks like this:\n",
    "\n",
    "```python\n",
    "with [EXPRESSION] as [TARGET]:\n",
    "    [CODE BLOCK]\n",
    "```\n",
    "\n",
    "For working with files, the syntax would look like this:\n",
    "\n",
    "```python\n",
    "with open([filename], [access mode]) as [variable]:\n",
    "    [CODE BLOCK]\n",
    "```\n",
    "\n",
    "The key advantage of this aproach is that **the file is automatically closed after** `[CODE BLOCK]` **finishes executing**, even if an exception is raised at some point. This guarantees that the file will be closed:"
   ]
  },
  {
   "cell_type": "code",
   "execution_count": 20,
   "id": "37f3944d",
   "metadata": {},
   "outputs": [
    {
     "name": "stdout",
     "output_type": "stream",
     "text": [
      "True\n"
     ]
    }
   ],
   "source": [
    "with open('great_advice_2.txt', 'w') as great_advice_2: # now we can access the file object in the indented code\n",
    "    # here's a way to add line breaks to the file:\n",
    "    for line in advice_list:\n",
    "        great_advice_2.write(f'{line}\\n')\n",
    "\n",
    "print(great_advice_2.closed) # let's verify that the file was automatically closed"
   ]
  },
  {
   "cell_type": "markdown",
   "id": "175c9f12",
   "metadata": {},
   "source": [
    "## 4.2. Working with Files and Directories\n",
    "\n",
    "The examples in the previous section relied on **files present in the same directory as the notebook**, but what if that is not the case? The `filename` argument supplied to the `open()` function can **include a *path* to help locate the file**. That, however, is a bit more complicated than it sounds.\n",
    "\n",
    "Let's assume we want to open a file called `martial.txt` which is located in a folder called `samples` located in the same folder as the notebook. The **format of the path to that file will depend on the operating system your computer is running**: in Unix systems, such as MacOS and Linux, it is `./samples/martial.txt`, in Windows computers it should look something like `samples\\martial.txt`.\n",
    "\n",
    "Let's try both:"
   ]
  },
  {
   "cell_type": "code",
   "execution_count": 21,
   "id": "514789da",
   "metadata": {},
   "outputs": [
    {
     "name": "stdout",
     "output_type": "stream",
     "text": [
      "Miraris veteres, Vacerra, solos\n",
      "\n",
      "nec laudas nisi mortuos poetas.\n",
      "\n",
      "Ignoscas petimus, Vacerra: tanti\n",
      "\n",
      "non est, ut placeam tibi, perire.\n",
      "\n",
      "Oops, 'samples\\martial.txt' didn't work because your computer is not running Windows.\n",
      "\n"
     ]
    }
   ],
   "source": [
    "filepaths = [\n",
    "    {'filename': './samples/martial.txt', 'type': 'Unix'},\n",
    "    {'filename': r'samples\\martial.txt', 'type': 'Windows'}\n",
    "]\n",
    "\n",
    "for fp in filepaths:\n",
    "    try:\n",
    "        with open(fp['filename'], 'r') as epigram:\n",
    "            for line in epigram:\n",
    "                print(line)\n",
    "    except:\n",
    "        print(f\"\\nOops, '{fp['filename']}' didn't work because your computer is not running {fp['type']}.\\n\")\n"
   ]
  },
  {
   "cell_type": "markdown",
   "id": "aa056210",
   "metadata": {},
   "source": [
    "Writing paths by hand, while okay for your own, short term use, is **not a good idea if you intend to share your code or use it across multiple platforms**. \n",
    "\n",
    "Thankfully, the built-in `os` module, **provides the tools to specify paths in a cross-platform way**. In order to do that for the case outlined above, we'll need:\n",
    "\n",
    "- the `curdir` attribute, which **returns the current directory** (*i.e.* the one where the code is being executed), and \n",
    "- the `join()` method of the `path` class, which **takes individual path elements** as arguments and **returns a universally valid *path object***.\n",
    "\n",
    "Let's go ahead and do it:"
   ]
  },
  {
   "cell_type": "code",
   "execution_count": 22,
   "id": "c8d7271c",
   "metadata": {},
   "outputs": [
    {
     "name": "stdout",
     "output_type": "stream",
     "text": [
      "./samples/martial.txt\n"
     ]
    }
   ],
   "source": [
    "import os\n",
    "\n",
    "filepath = os.path.join(os.curdir, 'samples', 'martial.txt')\n",
    "print(filepath)"
   ]
  },
  {
   "cell_type": "markdown",
   "id": "bafef391",
   "metadata": {},
   "source": [
    "We can test whether the path is valid using the `exists()` method (returns `True` if a file exists):"
   ]
  },
  {
   "cell_type": "code",
   "execution_count": 23,
   "id": "ccd4cc70",
   "metadata": {},
   "outputs": [
    {
     "name": "stdout",
     "output_type": "stream",
     "text": [
      "True\n"
     ]
    }
   ],
   "source": [
    "print(os.path.exists(filepath))"
   ]
  },
  {
   "cell_type": "markdown",
   "id": "d24f417f",
   "metadata": {},
   "source": [
    "Now we can open the file:"
   ]
  },
  {
   "cell_type": "code",
   "execution_count": 24,
   "id": "e2e440d4",
   "metadata": {},
   "outputs": [
    {
     "name": "stdout",
     "output_type": "stream",
     "text": [
      "Miraris veteres, Vacerra, solos\n",
      "\n",
      "nec laudas nisi mortuos poetas.\n",
      "\n",
      "Ignoscas petimus, Vacerra: tanti\n",
      "\n",
      "non est, ut placeam tibi, perire.\n"
     ]
    }
   ],
   "source": [
    "with open(filepath, 'r') as epigram:\n",
    "    for line in epigram:\n",
    "        print(line)"
   ]
  },
  {
   "cell_type": "markdown",
   "id": "fc836a93",
   "metadata": {},
   "source": [
    "The `os` module provides **many other functions**. Here are a few particularly useful examples:"
   ]
  },
  {
   "cell_type": "code",
   "execution_count": 37,
   "id": "d1612798",
   "metadata": {},
   "outputs": [
    {
     "name": "stdout",
     "output_type": "stream",
     "text": [
      "['death_causes.json', 'death_causes.csv', '.DS_Store', 'martial.txt']\n"
     ]
    }
   ],
   "source": [
    "path_to_samples = os.path.join(os.curdir, 'samples') # path to the 'samples' folder\n",
    "\n",
    "# the os.listdir() method returns a list of all files and folders in a location\n",
    "print(os.listdir(path_to_samples)) # list all files and folders in the 'samples' folder"
   ]
  },
  {
   "cell_type": "code",
   "execution_count": 38,
   "id": "ec1ed753",
   "metadata": {},
   "outputs": [
    {
     "name": "stdout",
     "output_type": "stream",
     "text": [
      "['.DS_Store', 'carroll.txt', 'samples', 'Unit 3 - Modules, Functions, and External Data.ipynb', '.ipynb_checkpoints', 'great_advice_1.txt', 'martial.txt', 'great_advice_2.txt', 'alphabet.txt', 'shakespeare.txt']\n"
     ]
    }
   ],
   "source": [
    "print(os.listdir()) # if not location is provided, it defaults to the current directory"
   ]
  },
  {
   "cell_type": "code",
   "execution_count": 28,
   "id": "58e26f88",
   "metadata": {},
   "outputs": [
    {
     "name": "stdout",
     "output_type": "stream",
     "text": [
      "carroll.txt\n",
      "great_advice_1.txt\n",
      "martial.txt\n",
      "great_advice_2.txt\n",
      "alphabet.txt\n",
      "shakespeare.txt\n"
     ]
    }
   ],
   "source": [
    "# the items in the list are just strings so they can be easily filtered\n",
    "# print only text files\n",
    "for item in os.listdir():\n",
    "    if item.endswith('txt'):\n",
    "        print(item)"
   ]
  },
  {
   "cell_type": "code",
   "execution_count": 29,
   "id": "985bb884",
   "metadata": {},
   "outputs": [
    {
     "name": "stdout",
     "output_type": "stream",
     "text": [
      ".DS_Store\n",
      "carroll.txt\n",
      "Unit 3 - Modules, Functions, and External Data.ipynb\n",
      "great_advice_1.txt\n",
      "martial.txt\n",
      "great_advice_2.txt\n",
      "alphabet.txt\n",
      "shakespeare.txt\n"
     ]
    }
   ],
   "source": [
    "# print only files, not directories\n",
    "for item in os.listdir():\n",
    "    item_path = os.path.join(os.curdir, item) # we need to build the path, 'item' is just a string\n",
    "    if os.path.isfile(item_path): # isfile() tests whether a path is a file [fyi: isdir() is its counterpart]\n",
    "        print(item)"
   ]
  },
  {
   "cell_type": "code",
   "execution_count": 30,
   "id": "1bfedf6c",
   "metadata": {},
   "outputs": [
    {
     "name": "stdout",
     "output_type": "stream",
     "text": [
      ".DS_Store\n",
      "carroll.txt\n",
      "Unit 3 - Modules, Functions, and External Data.ipynb\n",
      "great_advice_1.txt\n",
      "martial.txt\n",
      "great_advice_2.txt\n",
      "alphabet.txt\n",
      "shakespeare.txt\n"
     ]
    }
   ],
   "source": [
    "# os.scandir() is equivalent to os.listdir() but returns an \n",
    "# iterator of path objects instead of a list of strings\n",
    "\n",
    "# same as above - print only files but with scandir()\n",
    "for item in os.scandir():\n",
    "    if os.path.isfile(item): # 'item' is a path object so we can test directly\n",
    "        print(item.name) # the 'name' attribute returns the name of the object"
   ]
  },
  {
   "cell_type": "markdown",
   "id": "9897865f",
   "metadata": {},
   "source": [
    "<div class=\"alert alert-block alert-success\">\n",
    "<b>Exercise:</b> Print a list of all <b>files</b> in the current directory, <b>sorted by their size</b>.\n",
    "</div>"
   ]
  },
  {
   "cell_type": "code",
   "execution_count": null,
   "id": "5ac14a62",
   "metadata": {},
   "outputs": [],
   "source": [
    "# Tip: the method os.path.getsize(path) will return the size of a file in bytes\n",
    "# your code goes here:\n",
    "\n"
   ]
  },
  {
   "cell_type": "markdown",
   "id": "96f06013",
   "metadata": {},
   "source": [
    "While running the next few cells, you'll want to **keep a window open to the current directory** to watch what happens:"
   ]
  },
  {
   "cell_type": "code",
   "execution_count": 31,
   "id": "8c0b9c2a",
   "metadata": {},
   "outputs": [],
   "source": [
    "# create a new folder called 'test' in the current directory\n",
    "new_folder = os.path.join(os.curdir, 'test') # create the path\n",
    "os.mkdir(new_folder) # create the folder"
   ]
  },
  {
   "cell_type": "code",
   "execution_count": 32,
   "id": "3a35bc90",
   "metadata": {},
   "outputs": [],
   "source": [
    "# move the 'martial.txt' file in 'samples' to 'test'\n",
    "# we stored the path to the file earlier in 'filepath'\n",
    "target_file = os.path.join(new_folder, 'martial.txt') # we create the destination path\n",
    "os.rename(filepath, target_file) # and move it"
   ]
  },
  {
   "cell_type": "code",
   "execution_count": 33,
   "id": "3de450c1",
   "metadata": {},
   "outputs": [],
   "source": [
    "# Let's move it back and delete the directory we created\n",
    "os.rename(target_file, filepath)\n",
    "os.rmdir(new_folder)"
   ]
  },
  {
   "cell_type": "markdown",
   "id": "d7783937",
   "metadata": {},
   "source": [
    "## 4.3. Using Common Exchange Formats\n",
    "\n",
    "Python's *Standard Library* includes modules designed to facilitate working with many file types. In this section, we'll go over the basic aspects of working with the two most common **data exchange formats**: [Comma-separated values (CSV)](https://datatracker.ietf.org/doc/html/rfc4180) and [JavaScript Object Notation (JSON)](https://www.json.org/json-en.html).\n",
    "\n",
    "### CSV\n",
    "\n",
    "The *CSV* format is used to store tabular data (*i.e.* data arranged in rows and columns, like in a spreadsheet). The following examples will use some familiar csv-formatted data (left column, rendered as a table on the right).\n",
    "\n",
    "<div style=\"margin-top: 20px\"><div style=\"width: 49%; float: left;\">\n",
    "\n",
    "```csv\n",
    "State,Quarter ending,Population,Deaths,Cause \n",
    "AZ,6/30/1907,122,931,1,diphtheria\n",
    "AZ,6/30/1907,122,931,4,enteric fever\n",
    "AZ,6/30/1907,122,931,11,scarlet fever\n",
    "AZ,6/30/1907,122,931,2,smallpox\n",
    "CA,6/30/1907,2,054,000,19,diphtheria\n",
    "CA,6/30/1907,2,054,000,18,enteric fever\n",
    "CA,6/30/1907,2,054,000,1,scarlet fever\n",
    "CA,6/30/1907,2,054,000,0,smallpox\n",
    "```\n",
    "\n",
    "</div><div style=\"width: 49%; float: right;\">\n",
    "\n",
    "State | Quarter ending | Population | Deaths | Cause \n",
    ":----:|:--------------:|-----------:|-------:|:------\n",
    "AZ | 6/30/1907 | 122,931 | 1 | diphtheria\n",
    "AZ | 6/30/1907 | 122,931 | 4 | enteric fever\n",
    "AZ | 6/30/1907 | 122,931 | 11 | scarlet fever\n",
    "AZ | 6/30/1907 | 122,931 | 2 | smallpox\n",
    "CA | 6/30/1907 | 2,054,000 | 19 | diphtheria\n",
    "CA | 6/30/1907 | 2,054,000 | 18 | enteric fever\n",
    "CA | 6/30/1907 | 2,054,000 | 1 | scarlet fever\n",
    "CA | 6/30/1907 | 2,054,000 | 0 | smallpox\n",
    "\n",
    "</div></div>\n",
    "\n",
    "The data has been saved to a file called `death_causes.csv` located in the `samples` folder.\n",
    "\n",
    "The built-in [`csv` module](https://docs.python.org/3/library/csv.html) includes a function called `reader()` that will **take the contents of the file** and **return an iterable with the rows**. The iterable is not particularly useful, but it can be easily **converted to a list** using the `list()` constructor:"
   ]
  },
  {
   "cell_type": "code",
   "execution_count": 34,
   "id": "2777b90d",
   "metadata": {},
   "outputs": [
    {
     "name": "stdout",
     "output_type": "stream",
     "text": [
      "['State', 'Quarter ending', 'Population', 'Deaths', 'Cause']\n",
      "['AZ', '6/30/1907', '122,931', '1', 'diphtheria']\n",
      "['AZ', '6/30/1907', '122,931', '4', 'enteric fever']\n",
      "['AZ', '6/30/1907', '122,931', '11', 'scarlet fever']\n",
      "['AZ', '6/30/1907', '122,931', '2', 'smallpox']\n",
      "['CA', '6/30/1907', '2,054,000', '19', 'diphtheria']\n",
      "['CA', '6/30/1907', '2,054,000', '18', 'enteric fever']\n",
      "['CA', '6/30/1907', '2,054,000', '1', 'scarlet fever']\n",
      "['CA', '6/30/1907', '2,054,000', '0', 'smallpox']\n"
     ]
    }
   ],
   "source": [
    "import os, csv # import os and csv modules\n",
    "\n",
    "csv_file_in = os.path.join(os.curdir, 'samples', 'death_causes.csv') # define the file\n",
    "\n",
    "with open(csv_file_in, 'r') as file: # load it\n",
    "    csv_content = csv.reader(file) # and provide the file object to csv.reader()\n",
    "    rows_from_reader = list(csv_content) # convert the reader() object to a list\n",
    "\n",
    "for row in rows_from_reader:\n",
    "    print(row)"
   ]
  },
  {
   "cell_type": "markdown",
   "id": "8820fba2",
   "metadata": {},
   "source": [
    "As we can see from the print out, `rows_from_reader` is a *list of lists*: **rows in the csv file have been converted to lists in which the order of the columns is preserved**. The column *headers*, if the csv file had them, will be contained in the first list, but are otherwise treated as a regular row.\n",
    "\n",
    "The `csv` module provides an **alternative method** called `DictReader()` that coverts **rows to dictionaries** instead:"
   ]
  },
  {
   "cell_type": "code",
   "execution_count": 35,
   "id": "76e64609",
   "metadata": {},
   "outputs": [
    {
     "name": "stdout",
     "output_type": "stream",
     "text": [
      "{'State': 'AZ', 'Quarter ending': '6/30/1907', 'Population': '122,931', 'Deaths': '1', 'Cause': 'diphtheria'}\n",
      "{'State': 'AZ', 'Quarter ending': '6/30/1907', 'Population': '122,931', 'Deaths': '4', 'Cause': 'enteric fever'}\n",
      "{'State': 'AZ', 'Quarter ending': '6/30/1907', 'Population': '122,931', 'Deaths': '11', 'Cause': 'scarlet fever'}\n",
      "{'State': 'AZ', 'Quarter ending': '6/30/1907', 'Population': '122,931', 'Deaths': '2', 'Cause': 'smallpox'}\n",
      "{'State': 'CA', 'Quarter ending': '6/30/1907', 'Population': '2,054,000', 'Deaths': '19', 'Cause': 'diphtheria'}\n",
      "{'State': 'CA', 'Quarter ending': '6/30/1907', 'Population': '2,054,000', 'Deaths': '18', 'Cause': 'enteric fever'}\n",
      "{'State': 'CA', 'Quarter ending': '6/30/1907', 'Population': '2,054,000', 'Deaths': '1', 'Cause': 'scarlet fever'}\n",
      "{'State': 'CA', 'Quarter ending': '6/30/1907', 'Population': '2,054,000', 'Deaths': '0', 'Cause': 'smallpox'}\n"
     ]
    }
   ],
   "source": [
    "with open(csv_file_in, 'r') as file:\n",
    "    csv_content = csv.DictReader(file) # this time we use csv.DictReader()\n",
    "    rows_from_dictreader = list(csv_content)\n",
    "    \n",
    "for row in rows_from_dictreader:\n",
    "    print(row)"
   ]
  },
  {
   "cell_type": "markdown",
   "id": "6cb449c2",
   "metadata": {},
   "source": [
    "`DictReader()` **converts the rows in the csv file into a dictionary where the column *headers* are used as keys**. The first row of the csv file is **assumed to contain *headers*** by default, but the keyword argument `fieldnames` can be used to **pass them in a list** if necessary.\n",
    "\n",
    "If a row has **more fields than there are *headers***, the remaining data is put in a list under the key name supplied by the `restkey` keyword argument (or the default `None`). Similarly, if a non-blank row has **fewer fields than there are *headers***, the missing values are filled-in with the value supplied by the `restval` keyword argument (or the default `None`)\n",
    "\n",
    "Both `reader()` and `DictReader()` also take a number of other keyword arguments that provide [information about the format of the file]((https://docs.python.org/3/library/csv.html#csv-fmt-params)). While rarely necessary, these can be used to fine-tune the conversion process. Here's a list of the most useful:\n",
    "\n",
    "Keyword Arg | Description\n",
    ":------|:------\n",
    "`dialect` | String indicating one of several predefined settings, *e.g.* `excel` or `excel-tab`. The full list can be obtained by running the `csv.list_dialects()` function.\n",
    "`delimiter` | A one-character string indicating what character is used to separate fields, *e.g.* `\\t` for tabs. Defaults to `,`.\n",
    "`quotechar` | A one-character string used to indicate whic character is used to quote fields containing special characters, such as the delimiter or new-line marker. It defaults to `\"`.\n",
    "\n",
    "A few examples:\n",
    "\n",
    "```python\n",
    "# assume that the file is in Excel tab-separated format\n",
    "csv.reader(file_object, dialect='excel-tab')\n",
    "\n",
    "# assume tab-separated format with pipes enclosing special fields\n",
    "csv.reader(file_object, delimiter='\\t', quotechar='|')\n",
    "\n",
    "# assume tab-separated format, store date without headers under `extra` key, fill blanks with `N/A'\n",
    "csv.DictReader(file_object, delimiter='\\t', restkey='extra', restval='N/A')\n",
    "\n",
    "# assume first row is data and use supplied headers, fill blanks with `DUCK'\n",
    "csv.DictReader(file_object, fieldnames=['column_1', 'column_2', 'column_3'], restval='DUCK')\n",
    "```"
   ]
  },
  {
   "cell_type": "markdown",
   "id": "67510156",
   "metadata": {},
   "source": [
    "The `csv` module provides two functions for writing data, `writer()` and `DictWriter()`, that **have to be instantiated before they can be used**. The syntax is identical to the *reader objects* discussed above: they take a *file object* representing the destination csv file, and the **same formatting arguments** with one exception: the `fieldnames` argument **has to be passed to** `DictWriter()`, it's not optional as with `DictReader()`.\n",
    "\n",
    "Once the *writer object* is instantiated, **individual rows can be written using the** `writerow()` **method**. `writerow()` takes row data **formatted as a list in the case of** `writer()` and **as a dictionary in the case of** `DictWriter()`. The latter supports an additional method called `writeheader()` (no arguments) that will write the supplied `fieldnames` to the file:"
   ]
  },
  {
   "cell_type": "code",
   "execution_count": 40,
   "id": "c0286768",
   "metadata": {},
   "outputs": [],
   "source": [
    "csv_file_out = os.path.join(os.curdir, 'samples', 'death_causes_out_1.csv') # destination csv file\n",
    "\n",
    "with open(csv_file_out, 'w') as file: # open file in write mode\n",
    "    csv_writer = csv.writer(file, delimiter=',') # instantiate writer object (delimiter karg. is optional)\n",
    "    # now we write all the rows in the `rows_from_reader` list (which are formatted as lists)\n",
    "    for row in rows_from_reader:\n",
    "        csv_writer.writerow(row) # the first will be the headers"
   ]
  },
  {
   "cell_type": "markdown",
   "id": "7946ea9d",
   "metadata": {},
   "source": [
    "Go ahead and check the results in the `samples` folder. The resulting file, `death_causes_out_1.csv` should be identical to the original.\n",
    "\n",
    "Now let's write the contents of `rows_from_dictreader` to a new file:"
   ]
  },
  {
   "cell_type": "code",
   "execution_count": 39,
   "id": "5fc3a701",
   "metadata": {},
   "outputs": [],
   "source": [
    "csv_file_out = os.path.join(os.curdir, 'samples', 'death_causes_out_2.csv') # new destination csv file\n",
    "\n",
    "with open(csv_file_out, 'w') as file: # open file in write mode\n",
    "    headers = ['State', 'Quarter ending', 'Population', 'Deaths', 'Cause'] # let's create a list with our headers\n",
    "    csv_writer = csv.DictWriter(file, fieldnames=headers) # new we instantiate the writer\n",
    "    # next we write the headers to the file\n",
    "    csv_writer.writeheader()\n",
    "    # then we write the rows (which are formatted as dictionaries)\n",
    "    for row in rows_from_dictreader:\n",
    "        csv_writer.writerow(row)"
   ]
  },
  {
   "cell_type": "markdown",
   "id": "bb06a421",
   "metadata": {},
   "source": [
    "**Check the** `samples` **folder!** `death_causes_out_2.csv` should be identical to the other two csv files."
   ]
  },
  {
   "cell_type": "markdown",
   "id": "9cd619d3",
   "metadata": {},
   "source": [
    "### JSON\n",
    "\n",
    "The JSON format can store **serializable data structures** as **key-value pairs** (*e.g.* dictionaries) and **arrays** (*e.g.* lists). We'll continue using the same data, but it has been rearranged into a structure better fitting the JSON format:\n",
    "\n",
    "```json\n",
    "[\n",
    "\t{\n",
    "\t\t\"State\": \"AZ\",\n",
    "\t\t\"Population\": 122931,\n",
    "\t\t\"Deaths per quarter\": [\n",
    "\t\t\t{\n",
    "\t\t\t\t\"Quater ending\": \"6/30/1907\",\n",
    "\t\t\t\t\"Deaths\": {\n",
    "\t\t\t\t\t\"diphtheria\": 1,\n",
    "\t\t\t\t\t\"enteric fever\": 4,\n",
    "\t\t\t\t\t\"scarlet fever\": 11,\n",
    "\t\t\t\t\t\"smallpox\": 2,\n",
    "\t\t\t\t},\n",
    "\t\t\t},\n",
    "\t\t],\n",
    "\t},\n",
    "\t{\n",
    "\t\t\"State\": \"CA\",\n",
    "\t\t\"Population\": 2054000,\n",
    "\t\t\"Deaths per quarter\": [\n",
    "\t\t\t{\n",
    "\t\t\t\t\"Quater ending\": \"6/30/1907\",\n",
    "\t\t\t\t\"Deaths\": {\n",
    "\t\t\t\t\t\"diphtheria\": 19,\n",
    "\t\t\t\t\t\"enteric fever\": 18,\n",
    "\t\t\t\t\t\"scarlet fever\": 1,\n",
    "\t\t\t\t\t\"smallpox\": 0,\n",
    "\t\t\t\t},\n",
    "\t\t\t},\n",
    "\t\t],\n",
    "\t},\n",
    "]\n",
    "```\n",
    "\n",
    "The data is saved in a file called `death_causes.json` located in the `samples` folder. \n",
    "\n",
    "The built-in [`json` module](https://docs.python.org/3/library/json.html) includes two functions that will **take JSON-formatted content and serialize it into a Python data structure**: `load()` and `loads()`. In this case, the latter is not a plural, the `s` stands for *string*. `json.load()` takes a file object as input, while `json.loads()` takes a string.\n",
    "\n",
    "Let's try loading the data from the file first:"
   ]
  },
  {
   "cell_type": "code",
   "execution_count": 41,
   "id": "39de8704",
   "metadata": {},
   "outputs": [
    {
     "name": "stdout",
     "output_type": "stream",
     "text": [
      "<class 'list'>\n",
      "2\n",
      "<class 'dict'>\n",
      "<class 'dict'>\n"
     ]
    }
   ],
   "source": [
    "import json # load the module\n",
    "\n",
    "json_file_in = os.path.join(os.curdir, 'samples', 'death_causes.json') # define the file\n",
    "\n",
    "with open(json_file_in, 'r') as file: # load it\n",
    "    json_content_from_file = json.load(file)\n",
    "\n",
    "print(type(json_content_from_file))\n",
    "print(len(json_content_from_file))\n",
    "for i in range(len(json_content_from_file)):\n",
    "    print(type(json_content_from_file[i]))"
   ]
  },
  {
   "cell_type": "markdown",
   "id": "de3481e7",
   "metadata": {},
   "source": [
    "As you can see from the printed output, **the resulting object is a list containing two dictionaries**, just as we would expect. Converting between Python and JavaScript/JSON objects is fairly straightforwards: JSON data types are mapped to Python objects as follows:\n",
    "\n",
    "JSON | Python\n",
    ":-----|:----\n",
    "object | `dict`\n",
    "array | `list`\n",
    "string | `str`\n",
    "number (int) | `int`\n",
    "number (real) | `float`\n",
    "true | `True`\n",
    "false | `False`\n",
    "null | `None`\n",
    "\n",
    "The full structure of `json_content_from_file` looks like this:"
   ]
  },
  {
   "cell_type": "code",
   "execution_count": 42,
   "id": "a7478856",
   "metadata": {},
   "outputs": [
    {
     "name": "stdout",
     "output_type": "stream",
     "text": [
      "[{'State': 'AZ', 'Population': 122931, 'Deaths per quarter': [{'Quater ending': '6/30/1907', 'Deaths': {'diphtheria': 1, 'enteric fever': 4, 'scarlet fever': 11, 'smallpox': 2}}]}, {'State': 'CA', 'Population': 2054000, 'Deaths per quarter': [{'Quater ending': '6/30/1907', 'Deaths': {'diphtheria': 19, 'enteric fever': 18, 'scarlet fever': 1, 'smallpox': 0}}]}]\n"
     ]
    }
   ],
   "source": [
    "print(json_content_from_file)"
   ]
  },
  {
   "cell_type": "markdown",
   "id": "5e72221d",
   "metadata": {},
   "source": [
    "The opposite process, **serializing a Python object to JSON**, is accomplished through the `dump()` and `dumps()` functions. These are the counterparts to `load()` and `loads()`: `dump()` will **return a stream that can be written to a file**, while `dumps()` will **return a string**.\n",
    "\n",
    "Let's take the list of dictionaries in `json_content_from_file` and convert it into a JSON-formatted string:"
   ]
  },
  {
   "cell_type": "code",
   "execution_count": 43,
   "id": "ef7bd56c",
   "metadata": {},
   "outputs": [
    {
     "name": "stdout",
     "output_type": "stream",
     "text": [
      "<class 'str'>\n",
      "[{\"State\": \"AZ\", \"Population\": 122931, \"Deaths per quarter\": [{\"Quater ending\": \"6/30/1907\", \"Deaths\": {\"diphtheria\": 1, \"enteric fever\": 4, \"scarlet fever\": 11, \"smallpox\": 2}}]}, {\"State\": \"CA\", \"Population\": 2054000, \"Deaths per quarter\": [{\"Quater ending\": \"6/30/1907\", \"Deaths\": {\"diphtheria\": 19, \"enteric fever\": 18, \"scarlet fever\": 1, \"smallpox\": 0}}]}]\n"
     ]
    }
   ],
   "source": [
    "json_content_as_string = json.dumps(json_content_from_file)\n",
    "print(type(json_content_as_string))\n",
    "print(json_content_as_string)"
   ]
  },
  {
   "cell_type": "markdown",
   "id": "3fa83a73",
   "metadata": {},
   "source": [
    "The output looks like *properly formatted* JSON, even if it's not *nicely* formatted. Besides printing the `type` we can tell the output is no longer a Python object because it uses **double-quotes** to enclose fields (the JSON default) as opposed to **single-quotes** (the Python default). \n",
    "\n",
    "As for making the output look nicer, `json.dumps()` **takes a keyword argument called** `indent` that, if provided, will **split and indent the lines properly**:"
   ]
  },
  {
   "cell_type": "code",
   "execution_count": 44,
   "id": "36fe3c21",
   "metadata": {},
   "outputs": [
    {
     "name": "stdout",
     "output_type": "stream",
     "text": [
      "[\n",
      "    {\n",
      "        \"State\": \"AZ\",\n",
      "        \"Population\": 122931,\n",
      "        \"Deaths per quarter\": [\n",
      "            {\n",
      "                \"Quater ending\": \"6/30/1907\",\n",
      "                \"Deaths\": {\n",
      "                    \"diphtheria\": 1,\n",
      "                    \"enteric fever\": 4,\n",
      "                    \"scarlet fever\": 11,\n",
      "                    \"smallpox\": 2\n",
      "                }\n",
      "            }\n",
      "        ]\n",
      "    },\n",
      "    {\n",
      "        \"State\": \"CA\",\n",
      "        \"Population\": 2054000,\n",
      "        \"Deaths per quarter\": [\n",
      "            {\n",
      "                \"Quater ending\": \"6/30/1907\",\n",
      "                \"Deaths\": {\n",
      "                    \"diphtheria\": 19,\n",
      "                    \"enteric fever\": 18,\n",
      "                    \"scarlet fever\": 1,\n",
      "                    \"smallpox\": 0\n",
      "                }\n",
      "            }\n",
      "        ]\n",
      "    }\n",
      "]\n"
     ]
    }
   ],
   "source": [
    "json_content_as_string = json.dumps(json_content_from_file, indent=4) # let's use the standard 4 spaces\n",
    "print(json_content_as_string)"
   ]
  },
  {
   "cell_type": "markdown",
   "id": "dff26b2b",
   "metadata": {},
   "source": [
    "**Much better!** For reference, Python data types are mapped to JSON as follows:\n",
    "\n",
    "Python | JSON\n",
    ":-----|:-----\n",
    "`dict` | object\n",
    "`list`, `tuple` | array\n",
    "`str` | string\n",
    "`int`, `float` | number\n",
    "`True` | true\n",
    "`False` | false\n",
    "`None` | null\n",
    "\n",
    "<div class=\"alert alert-block alert-warning\">\n",
    "<b>Warning:</b> The data type of <i>keys</i> in JSON objects is always <code>string</code>, whereas Python supports other types (<i>e.g.</i> integers). When a Python dictionary is serialized into JSON, all the keys are coerced into strings. Because of this, <b>if a dictionary is serialized into JSON and then back into Python, the resulting dictionary may not equal the original</b>.\n",
    "</div>\n",
    "\n",
    "Now that we have a string formatted as JSON, we can demonstrate the workings of `json.loads()`:"
   ]
  },
  {
   "cell_type": "code",
   "execution_count": 45,
   "id": "d38b25c2",
   "metadata": {},
   "outputs": [
    {
     "name": "stdout",
     "output_type": "stream",
     "text": [
      "<class 'list'>\n",
      "[{'State': 'AZ', 'Population': 122931, 'Deaths per quarter': [{'Quater ending': '6/30/1907', 'Deaths': {'diphtheria': 1, 'enteric fever': 4, 'scarlet fever': 11, 'smallpox': 2}}]}, {'State': 'CA', 'Population': 2054000, 'Deaths per quarter': [{'Quater ending': '6/30/1907', 'Deaths': {'diphtheria': 19, 'enteric fever': 18, 'scarlet fever': 1, 'smallpox': 0}}]}]\n"
     ]
    }
   ],
   "source": [
    "json_content_from_string = json.loads(json_content_as_string)\n",
    "print(type(json_content_from_string))\n",
    "print(json_content_from_string)"
   ]
  },
  {
   "cell_type": "code",
   "execution_count": 46,
   "id": "50fdf71f",
   "metadata": {},
   "outputs": [
    {
     "name": "stdout",
     "output_type": "stream",
     "text": [
      "[{'State': 'AZ', 'Population': 122931, 'Deaths per quarter': [{'Quater ending': '6/30/1907', 'Deaths': {'diphtheria': 1, 'enteric fever': 4, 'scarlet fever': 11, 'smallpox': 2}}]}, {'State': 'CA', 'Population': 2054000, 'Deaths per quarter': [{'Quater ending': '6/30/1907', 'Deaths': {'diphtheria': 19, 'enteric fever': 18, 'scarlet fever': 1, 'smallpox': 0}}]}]\n"
     ]
    }
   ],
   "source": [
    "print(json_content_from_file) # let's print the date we imported directly from the file for comparison"
   ]
  },
  {
   "cell_type": "markdown",
   "id": "5f0bb7e2",
   "metadata": {},
   "source": [
    "`json_content_from_file` and `json_content_from_string` are **identical Python objects** (lists of dictionaries). \n",
    "\n",
    "Finally, let's write our data to a JSON-formatted file. `json.dump()` **takes a Python object** to serialize, **a *file object*** as destination, and **a number of keyword arguments**, of which only `indent` (same as above) is immediately relevant:"
   ]
  },
  {
   "cell_type": "code",
   "execution_count": 47,
   "id": "02f14abd",
   "metadata": {},
   "outputs": [],
   "source": [
    "json_file_out_1 = os.path.join(os.curdir, 'samples', 'death_causes_out_1.json') # create destination path\n",
    "\n",
    "with open(json_file_out_1, 'w') as file: # open file in write mode\n",
    "    json.dump(json_content_from_file, file, indent=4)"
   ]
  },
  {
   "cell_type": "markdown",
   "id": "e062b08c",
   "metadata": {},
   "source": [
    "**Go ahead and have a look at the file**, it should be identical to the original JSON source."
   ]
  }
 ],
 "metadata": {
  "kernelspec": {
   "display_name": "Python 3 (ipykernel)",
   "language": "python",
   "name": "python3"
  },
  "language_info": {
   "codemirror_mode": {
    "name": "ipython",
    "version": 3
   },
   "file_extension": ".py",
   "mimetype": "text/x-python",
   "name": "python",
   "nbconvert_exporter": "python",
   "pygments_lexer": "ipython3",
   "version": "3.9.13"
  }
 },
 "nbformat": 4,
 "nbformat_minor": 5
}

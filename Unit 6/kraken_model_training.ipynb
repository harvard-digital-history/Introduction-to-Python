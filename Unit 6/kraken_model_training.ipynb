{
 "cells": [
  {
   "cell_type": "markdown",
   "id": "122eae48",
   "metadata": {},
   "source": [
    "# Training Kraken Models\n",
    "\n",
    "Requirements (use pip command listed or Anaconda Navigator to install):\n",
    "\n",
    "- [Kraken](https://github.com/mittagessen/kraken): `pip install kraken`\n",
    "- [TensorBoard](https://www.tensorflow.org/tensorboard): `pip install tensorboard`\n",
    "- [Ray](https://docs.ray.io/en/latest/ray-overview/installation.html) `pip install ray`\n"
   ]
  },
  {
   "cell_type": "markdown",
   "id": "9dd8bff2",
   "metadata": {},
   "source": [
    "### Load Modules"
   ]
  },
  {
   "cell_type": "code",
   "execution_count": 17,
   "id": "f8c510b0",
   "metadata": {},
   "outputs": [],
   "source": [
    "import os\n",
    "from functools import partial\n",
    "from kraken.lib import arrow_dataset\n",
    "from kraken.lib.progress import KrakenProgressBar\n",
    "from kraken.lib.default_specs import (SEGMENTATION_HYPER_PARAMS, SEGMENTATION_SPEC, \n",
    "                                      RECOGNITION_HYPER_PARAMS, RECOGNITION_SPEC)\n",
    "from kraken.lib.train import SegmentationModel, RecognitionModel, KrakenTrainer\n",
    "from kraken.lib.exceptions import KrakenInputException\n",
    "import tensorboard\n",
    "from ray import tune\n",
    "from ray.tune.integration.pytorch_lightning import TuneReportCallback\n",
    "from ray.tune.schedulers import ASHAScheduler\n",
    "import pytorch_lightning as pl\n",
    "import torch\n",
    "import warnings\n",
    "\n",
    "warnings.filterwarnings('ignore') # mute annoying warnings\n"
   ]
  },
  {
   "cell_type": "code",
   "execution_count": 18,
   "id": "ea39c68c",
   "metadata": {},
   "outputs": [
    {
     "name": "stdout",
     "output_type": "stream",
     "text": [
      "The tensorboard extension is already loaded. To reload it, use:\n",
      "  %reload_ext tensorboard\n"
     ]
    }
   ],
   "source": [
    "# load Tensorboard Jupyter extension\n",
    "%load_ext tensorboard"
   ]
  },
  {
   "cell_type": "code",
   "execution_count": null,
   "id": "fda94626",
   "metadata": {},
   "outputs": [],
   "source": []
  },
  {
   "cell_type": "markdown",
   "id": "95383dc1",
   "metadata": {},
   "source": [
    "### Define the Training Dataset"
   ]
  },
  {
   "cell_type": "code",
   "execution_count": 3,
   "id": "d43e0a23",
   "metadata": {},
   "outputs": [
    {
     "name": "stdout",
     "output_type": "stream",
     "text": [
      "22\n"
     ]
    }
   ],
   "source": [
    "data = 'W/11.20' # folder with xml + images\n",
    "xml = [f'{data}/{f.name}' for f in os.scandir(data) if f.name != \".DS_Store\" and f.name.endswith('xml')]\n",
    "print(len(xml))"
   ]
  },
  {
   "cell_type": "markdown",
   "id": "38207035",
   "metadata": {},
   "source": [
    "### Train a Segmentation Model"
   ]
  },
  {
   "cell_type": "code",
   "execution_count": 19,
   "id": "250b1988",
   "metadata": {},
   "outputs": [],
   "source": [
    "# create a copy of the default hyper-parameters\n",
    "seg_hyper_params = SEGMENTATION_HYPER_PARAMS.copy()\n",
    "# and update them as necessary\n",
    "seg_hyper_params.update({\n",
    "    'line_width': 8, # height of baseline in target (after scaling)\n",
    "    'padding': (0, 0), # padding around the page image (l/r, t/b)\n",
    "    'freq': 1.0, # model saving/report generation frequency (in epochs)\n",
    "    'quit': 'early', # stop condition for training, `early`|`dumb` (fixed number of epochs)\n",
    "    'epochs': -1, # number of epochs to train for\n",
    "    'min_epochs': 1, # minimum number of epochs to train for when using early stopping\n",
    "    'lag': 10, # number of evaluations to wait before stopping training without improvement\n",
    "    'min_delta': None, # minimum improv. before reset of early stopping, None=scale delta by best loss\n",
    "    'optimizer': 'Adam', # optimizer: 'Adam'|'SGD'|'RMSprop'|'Lamb'\n",
    "    'lrate': 2e-4, # learning rate\n",
    "    'momentum': 0.9, # momentum\n",
    "    'weight_decay': 1e-5, # weight decay\n",
    "    'schedule': 'constant', # lr scheduler: 'constant'|'1cycle'|'exponential'|'cosine'|'step'|'reduceonplateau'\n",
    "    'completed_epochs': 0,\n",
    "    'augment': False, # enable image augmentation\n",
    "    'step_size': 10, # step decay (validation runs between lr decay for exponential and step)\n",
    "    'gamma': 0.1, # exp decay (factor for exponential, step, and reduceonplateau)\n",
    "    'rop_factor': 0.1, # exp decay for reduce on plateau \n",
    "    'rop_patience': 5, # step decay for reduce on plateau\n",
    "    'cos_t_max': 50, # epoch of minimal learning rate for cosine\n",
    "    'warmup': 0, # number of steps to ramp up to `lrate` initial lr\n",
    "    'pl_logger': 'tensorboard' # logger or None\n",
    "})\n"
   ]
  },
  {
   "cell_type": "code",
   "execution_count": 20,
   "id": "fc9c4045",
   "metadata": {},
   "outputs": [
    {
     "ename": "FileNotFoundError",
     "evalue": "[Errno 2] No such file or directory: '/home/giod/Documents/Kraken Training/WSeg/weisser_3.mlmodel'",
     "output_type": "error",
     "traceback": [
      "\u001b[0;31m---------------------------------------------------------------------------\u001b[0m",
      "\u001b[0;31mFileNotFoundError\u001b[0m                         Traceback (most recent call last)",
      "Cell \u001b[0;32mIn[20], line 2\u001b[0m\n\u001b[1;32m      1\u001b[0m \u001b[38;5;66;03m# create the model\u001b[39;00m\n\u001b[0;32m----> 2\u001b[0m seg_model \u001b[38;5;241m=\u001b[39m \u001b[43mSegmentationModel\u001b[49m\u001b[43m(\u001b[49m\n\u001b[1;32m      3\u001b[0m \u001b[43m    \u001b[49m\u001b[43mhyper_params\u001b[49m\u001b[38;5;241;43m=\u001b[39;49m\u001b[43mseg_hyper_params\u001b[49m\u001b[43m,\u001b[49m\u001b[43m \u001b[49m\u001b[38;5;66;43;03m# hyperparameters\u001b[39;49;00m\n\u001b[1;32m      4\u001b[0m \u001b[43m    \u001b[49m\u001b[43moutput\u001b[49m\u001b[38;5;241;43m=\u001b[39;49m\u001b[38;5;124;43m'\u001b[39;49m\u001b[38;5;124;43mWSeg/Weisser_4\u001b[39;49m\u001b[38;5;124;43m'\u001b[39;49m\u001b[43m,\u001b[49m\u001b[43m \u001b[49m\u001b[38;5;66;43;03m# output model file\u001b[39;49;00m\n\u001b[1;32m      5\u001b[0m \u001b[43m    \u001b[49m\u001b[43mspec\u001b[49m\u001b[38;5;241;43m=\u001b[39;49m\u001b[43mSEGMENTATION_SPEC\u001b[49m\u001b[43m,\u001b[49m\u001b[43m \u001b[49m\u001b[38;5;66;43;03m# VGSL spec of the baseline labeling network\u001b[39;49;00m\n\u001b[1;32m      6\u001b[0m \u001b[43m    \u001b[49m\u001b[43mmodel\u001b[49m\u001b[38;5;241;43m=\u001b[39;49m\u001b[38;5;124;43m'\u001b[39;49m\u001b[38;5;124;43mWSeg/weisser_3.mlmodel\u001b[39;49m\u001b[38;5;124;43m'\u001b[39;49m\u001b[43m,\u001b[49m\u001b[43m \u001b[49m\u001b[38;5;66;43;03m# existing model file to load and continue training\u001b[39;49;00m\n\u001b[1;32m      7\u001b[0m \u001b[43m    \u001b[49m\u001b[43mtraining_data\u001b[49m\u001b[38;5;241;43m=\u001b[39;49m\u001b[43mxml\u001b[49m\u001b[43m,\u001b[49m\u001b[43m \u001b[49m\u001b[38;5;66;43;03m# list of xml files for training\u001b[39;49;00m\n\u001b[1;32m      8\u001b[0m \u001b[43m    \u001b[49m\u001b[43mevaluation_data\u001b[49m\u001b[38;5;241;43m=\u001b[39;49m\u001b[38;5;28;43;01mNone\u001b[39;49;00m\u001b[43m,\u001b[49m\u001b[43m \u001b[49m\u001b[38;5;66;43;03m# list of xml files for evaluation\u001b[39;49;00m\n\u001b[1;32m      9\u001b[0m \u001b[43m    \u001b[49m\u001b[43mpartition\u001b[49m\u001b[38;5;241;43m=\u001b[39;49m\u001b[38;5;241;43m0.9\u001b[39;49m\u001b[43m,\u001b[49m\u001b[43m \u001b[49m\u001b[38;5;66;43;03m# ground truth partition train/validation ratio, set to 1 if evaluation_data is passed\u001b[39;49;00m\n\u001b[1;32m     10\u001b[0m \u001b[43m    \u001b[49m\u001b[43mnum_workers\u001b[49m\u001b[38;5;241;43m=\u001b[39;49m\u001b[38;5;241;43m0\u001b[39;49m\u001b[43m,\u001b[49m\u001b[43m \u001b[49m\u001b[38;5;66;43;03m# number of OpenMP threads when running on CPU, set to 0 to avoid ParallelNative.cpp warn.\u001b[39;49;00m\n\u001b[1;32m     11\u001b[0m \u001b[43m    \u001b[49m\u001b[43mload_hyper_parameters\u001b[49m\u001b[38;5;241;43m=\u001b[39;49m\u001b[38;5;28;43;01mFalse\u001b[39;49;00m\u001b[43m,\u001b[49m\u001b[43m \u001b[49m\u001b[38;5;66;43;03m# retrieve hyper-parameters model when loading existing file\u001b[39;49;00m\n\u001b[1;32m     12\u001b[0m \u001b[43m    \u001b[49m\u001b[43mforce_binarization\u001b[49m\u001b[38;5;241;43m=\u001b[39;49m\u001b[38;5;28;43;01mFalse\u001b[39;49;00m\u001b[43m,\u001b[49m\u001b[43m \u001b[49m\u001b[38;5;66;43;03m# forces input images to be binary, otherwise auto determines format\u001b[39;49;00m\n\u001b[1;32m     13\u001b[0m \u001b[43m    \u001b[49m\u001b[43mformat_type\u001b[49m\u001b[38;5;241;43m=\u001b[39;49m\u001b[38;5;124;43m'\u001b[39;49m\u001b[38;5;124;43mpage\u001b[39;49m\u001b[38;5;124;43m'\u001b[39;49m\u001b[43m,\u001b[49m\u001b[43m \u001b[49m\u001b[38;5;66;43;03m# `xml`, `alto`, `page`, `path`, or None\u001b[39;49;00m\n\u001b[1;32m     14\u001b[0m \u001b[43m    \u001b[49m\u001b[43msuppress_regions\u001b[49m\u001b[38;5;241;43m=\u001b[39;49m\u001b[38;5;28;43;01mFalse\u001b[39;49;00m\u001b[43m,\u001b[49m\u001b[43m \u001b[49m\u001b[38;5;66;43;03m# disables region segmentation training\u001b[39;49;00m\n\u001b[1;32m     15\u001b[0m \u001b[43m    \u001b[49m\u001b[43msuppress_baselines\u001b[49m\u001b[38;5;241;43m=\u001b[39;49m\u001b[38;5;28;43;01mFalse\u001b[39;49;00m\u001b[43m,\u001b[49m\u001b[43m \u001b[49m\u001b[38;5;66;43;03m# disables baseline segmentation training\u001b[39;49;00m\n\u001b[1;32m     16\u001b[0m \u001b[43m    \u001b[49m\u001b[43mvalid_regions\u001b[49m\u001b[38;5;241;43m=\u001b[39;49m\u001b[38;5;28;43;01mNone\u001b[39;49;00m\u001b[43m,\u001b[49m\u001b[43m \u001b[49m\u001b[38;5;66;43;03m# valid region types in training data (can be used multiple times)\u001b[39;49;00m\n\u001b[1;32m     17\u001b[0m \u001b[43m    \u001b[49m\u001b[43mvalid_baselines\u001b[49m\u001b[38;5;241;43m=\u001b[39;49m\u001b[38;5;28;43;01mNone\u001b[39;49;00m\u001b[43m,\u001b[49m\u001b[43m \u001b[49m\u001b[38;5;66;43;03m# valid baseline types in training data (can be used multiple times)\u001b[39;49;00m\n\u001b[1;32m     18\u001b[0m \u001b[43m    \u001b[49m\u001b[43mmerge_regions\u001b[49m\u001b[38;5;241;43m=\u001b[39;49m\u001b[38;5;28;43;01mNone\u001b[39;49;00m\u001b[43m,\u001b[49m\u001b[43m \u001b[49m\u001b[38;5;66;43;03m# region merge mapping(s) as `$target:$src`\u001b[39;49;00m\n\u001b[1;32m     19\u001b[0m \u001b[43m    \u001b[49m\u001b[43mmerge_baselines\u001b[49m\u001b[38;5;241;43m=\u001b[39;49m\u001b[38;5;28;43;01mNone\u001b[39;49;00m\u001b[43m,\u001b[49m\u001b[43m \u001b[49m\u001b[38;5;66;43;03m# baseline type merge mapping(s) as `$target:$src`\u001b[39;49;00m\n\u001b[1;32m     20\u001b[0m \u001b[43m    \u001b[49m\u001b[43mbounding_regions\u001b[49m\u001b[38;5;241;43m=\u001b[39;49m\u001b[38;5;28;43;01mNone\u001b[39;49;00m\u001b[43m,\u001b[49m\u001b[43m \u001b[49m\u001b[38;5;66;43;03m# regions treated as boundaries for polygonization (can be used multiple times)\u001b[39;49;00m\n\u001b[1;32m     21\u001b[0m \u001b[43m    \u001b[49m\u001b[43mresize\u001b[49m\u001b[38;5;241;43m=\u001b[39;49m\u001b[38;5;124;43m'\u001b[39;49m\u001b[38;5;124;43mboth\u001b[39;49m\u001b[38;5;124;43m'\u001b[39;49m\u001b[43m,\u001b[49m\u001b[43m \u001b[49m\u001b[38;5;66;43;03m# resize output layer: 'add' new classes, 'both' add and set to match, 'fail' abort if no match\u001b[39;49;00m\n\u001b[1;32m     22\u001b[0m \u001b[43m    \u001b[49m\u001b[43mtopline\u001b[49m\u001b[38;5;241;43m=\u001b[39;49m\u001b[38;5;28;43;01mFalse\u001b[39;49;00m\u001b[43m \u001b[49m\u001b[38;5;66;43;03m# baseline location: baseline=False, topline/hanging baseline=True, centerline=None\u001b[39;49;00m\n\u001b[1;32m     23\u001b[0m \u001b[43m)\u001b[49m\n\u001b[1;32m     25\u001b[0m \u001b[38;5;66;03m# do a couple of basic checks\u001b[39;00m\n\u001b[1;32m     26\u001b[0m \u001b[38;5;28mprint\u001b[39m(\u001b[38;5;124m'\u001b[39m\u001b[38;5;124mTraining line types:\u001b[39m\u001b[38;5;124m'\u001b[39m)\n",
      "File \u001b[0;32m~/Documents/Kraken Training/.conda/lib/python3.10/site-packages/kraken/lib/train.py:768\u001b[0m, in \u001b[0;36mSegmentationModel.__init__\u001b[0;34m(self, hyper_params, load_hyper_parameters, progress_callback, message, output, spec, model, training_data, evaluation_data, partition, num_workers, force_binarization, format_type, suppress_regions, suppress_baselines, valid_regions, valid_baselines, merge_regions, merge_baselines, bounding_regions, resize, topline)\u001b[0m\n\u001b[1;32m    766\u001b[0m \u001b[38;5;28;01mif\u001b[39;00m model:\n\u001b[1;32m    767\u001b[0m     logger\u001b[38;5;241m.\u001b[39minfo(\u001b[38;5;124mf\u001b[39m\u001b[38;5;124m'\u001b[39m\u001b[38;5;124mLoading existing model from \u001b[39m\u001b[38;5;132;01m{\u001b[39;00mmodel\u001b[38;5;132;01m}\u001b[39;00m\u001b[38;5;124m'\u001b[39m)\n\u001b[0;32m--> 768\u001b[0m     \u001b[38;5;28mself\u001b[39m\u001b[38;5;241m.\u001b[39mnn \u001b[38;5;241m=\u001b[39m \u001b[43mvgsl\u001b[49m\u001b[38;5;241;43m.\u001b[39;49m\u001b[43mTorchVGSLModel\u001b[49m\u001b[38;5;241;43m.\u001b[39;49m\u001b[43mload_model\u001b[49m\u001b[43m(\u001b[49m\u001b[43mmodel\u001b[49m\u001b[43m)\u001b[49m\n\u001b[1;32m    770\u001b[0m     \u001b[38;5;28;01mif\u001b[39;00m \u001b[38;5;28mself\u001b[39m\u001b[38;5;241m.\u001b[39mnn\u001b[38;5;241m.\u001b[39mmodel_type \u001b[38;5;129;01mnot\u001b[39;00m \u001b[38;5;129;01min\u001b[39;00m [\u001b[38;5;28;01mNone\u001b[39;00m, \u001b[38;5;124m'\u001b[39m\u001b[38;5;124msegmentation\u001b[39m\u001b[38;5;124m'\u001b[39m]:\n\u001b[1;32m    771\u001b[0m         \u001b[38;5;28;01mraise\u001b[39;00m \u001b[38;5;167;01mValueError\u001b[39;00m(\u001b[38;5;124mf\u001b[39m\u001b[38;5;124m'\u001b[39m\u001b[38;5;124mModel \u001b[39m\u001b[38;5;132;01m{\u001b[39;00mmodel\u001b[38;5;132;01m}\u001b[39;00m\u001b[38;5;124m is of type \u001b[39m\u001b[38;5;132;01m{\u001b[39;00m\u001b[38;5;28mself\u001b[39m\u001b[38;5;241m.\u001b[39mnn\u001b[38;5;241m.\u001b[39mmodel_type\u001b[38;5;132;01m}\u001b[39;00m\u001b[38;5;124m while `segmentation` is expected.\u001b[39m\u001b[38;5;124m'\u001b[39m)\n",
      "File \u001b[0;32m~/Documents/Kraken Training/.conda/lib/python3.10/site-packages/kraken/lib/vgsl.py:285\u001b[0m, in \u001b[0;36mTorchVGSLModel.load_model\u001b[0;34m(cls, path)\u001b[0m\n\u001b[1;32m    283\u001b[0m     path \u001b[38;5;241m=\u001b[39m path\u001b[38;5;241m.\u001b[39mas_posix()\n\u001b[1;32m    284\u001b[0m \u001b[38;5;28;01mtry\u001b[39;00m:\n\u001b[0;32m--> 285\u001b[0m     mlmodel \u001b[38;5;241m=\u001b[39m \u001b[43mMLModel\u001b[49m\u001b[43m(\u001b[49m\u001b[43mpath\u001b[49m\u001b[43m)\u001b[49m\n\u001b[1;32m    286\u001b[0m \u001b[38;5;28;01mexcept\u001b[39;00m \u001b[38;5;167;01mTypeError\u001b[39;00m \u001b[38;5;28;01mas\u001b[39;00m e:\n\u001b[1;32m    287\u001b[0m     \u001b[38;5;28;01mraise\u001b[39;00m KrakenInvalidModelException(\u001b[38;5;28mstr\u001b[39m(e)) \u001b[38;5;28;01mfrom\u001b[39;00m \u001b[38;5;21;01me\u001b[39;00m\n",
      "File \u001b[0;32m~/Documents/Kraken Training/.conda/lib/python3.10/site-packages/coremltools/models/model.py:340\u001b[0m, in \u001b[0;36mMLModel.__init__\u001b[0;34m(self, model, is_temp_package, mil_program, skip_model_load, compute_units, weights_dir)\u001b[0m\n\u001b[1;32m    338\u001b[0m         \u001b[38;5;28mself\u001b[39m\u001b[38;5;241m.\u001b[39mis_temp_package \u001b[38;5;241m=\u001b[39m is_temp_package\n\u001b[1;32m    339\u001b[0m         \u001b[38;5;28mself\u001b[39m\u001b[38;5;241m.\u001b[39m_weights_dir \u001b[38;5;241m=\u001b[39m _try_get_weights_dir_path(model)\n\u001b[0;32m--> 340\u001b[0m     \u001b[38;5;28mself\u001b[39m\u001b[38;5;241m.\u001b[39m__proxy__, \u001b[38;5;28mself\u001b[39m\u001b[38;5;241m.\u001b[39m_spec, \u001b[38;5;28mself\u001b[39m\u001b[38;5;241m.\u001b[39m_framework_error \u001b[38;5;241m=\u001b[39m \u001b[43m_get_proxy_and_spec\u001b[49m\u001b[43m(\u001b[49m\n\u001b[1;32m    341\u001b[0m \u001b[43m        \u001b[49m\u001b[43mmodel\u001b[49m\u001b[43m,\u001b[49m\u001b[43m \u001b[49m\u001b[43mcompute_units\u001b[49m\u001b[43m,\u001b[49m\u001b[43m \u001b[49m\u001b[43mskip_model_load\u001b[49m\u001b[38;5;241;43m=\u001b[39;49m\u001b[43mskip_model_load\u001b[49m\u001b[43m,\u001b[49m\n\u001b[1;32m    342\u001b[0m \u001b[43m    \u001b[49m\u001b[43m)\u001b[49m\n\u001b[1;32m    343\u001b[0m \u001b[38;5;28;01melif\u001b[39;00m \u001b[38;5;28misinstance\u001b[39m(model, _Model_pb2\u001b[38;5;241m.\u001b[39mModel):\n\u001b[1;32m    344\u001b[0m     model_type \u001b[38;5;241m=\u001b[39m model\u001b[38;5;241m.\u001b[39mWhichOneof(\u001b[38;5;124m'\u001b[39m\u001b[38;5;124mType\u001b[39m\u001b[38;5;124m'\u001b[39m)\n",
      "File \u001b[0;32m~/Documents/Kraken Training/.conda/lib/python3.10/site-packages/coremltools/models/model.py:132\u001b[0m, in \u001b[0;36m_get_proxy_and_spec\u001b[0;34m(filename, compute_units, skip_model_load)\u001b[0m\n\u001b[1;32m    129\u001b[0m     _MLModelProxy \u001b[38;5;241m=\u001b[39m \u001b[38;5;28;01mNone\u001b[39;00m\n\u001b[1;32m    131\u001b[0m filename \u001b[38;5;241m=\u001b[39m _os\u001b[38;5;241m.\u001b[39mpath\u001b[38;5;241m.\u001b[39mexpanduser(filename)\n\u001b[0;32m--> 132\u001b[0m specification \u001b[38;5;241m=\u001b[39m \u001b[43m_load_spec\u001b[49m\u001b[43m(\u001b[49m\u001b[43mfilename\u001b[49m\u001b[43m)\u001b[49m\n\u001b[1;32m    134\u001b[0m \u001b[38;5;28;01mif\u001b[39;00m _MLModelProxy \u001b[38;5;129;01mand\u001b[39;00m \u001b[38;5;129;01mnot\u001b[39;00m skip_model_load:\n\u001b[1;32m    135\u001b[0m \n\u001b[1;32m    136\u001b[0m     \u001b[38;5;66;03m# check if the version is supported\u001b[39;00m\n\u001b[1;32m    137\u001b[0m     engine_version \u001b[38;5;241m=\u001b[39m _MLModelProxy\u001b[38;5;241m.\u001b[39mmaximum_supported_specification_version()\n",
      "File \u001b[0;32m~/Documents/Kraken Training/.conda/lib/python3.10/site-packages/coremltools/models/utils.py:225\u001b[0m, in \u001b[0;36mload_spec\u001b[0;34m(model_path)\u001b[0m\n\u001b[1;32m    222\u001b[0m     specfile \u001b[38;5;241m=\u001b[39m model_path\n\u001b[1;32m    224\u001b[0m spec \u001b[38;5;241m=\u001b[39m _Model_pb2\u001b[38;5;241m.\u001b[39mModel()\n\u001b[0;32m--> 225\u001b[0m \u001b[38;5;28;01mwith\u001b[39;00m \u001b[38;5;28;43mopen\u001b[39;49m\u001b[43m(\u001b[49m\u001b[43mspecfile\u001b[49m\u001b[43m,\u001b[49m\u001b[43m \u001b[49m\u001b[38;5;124;43m\"\u001b[39;49m\u001b[38;5;124;43mrb\u001b[39;49m\u001b[38;5;124;43m\"\u001b[39;49m\u001b[43m)\u001b[49m \u001b[38;5;28;01mas\u001b[39;00m f:\n\u001b[1;32m    226\u001b[0m     spec\u001b[38;5;241m.\u001b[39mParseFromString(f\u001b[38;5;241m.\u001b[39mread())\n\u001b[1;32m    227\u001b[0m \u001b[38;5;28;01mreturn\u001b[39;00m spec\n",
      "\u001b[0;31mFileNotFoundError\u001b[0m: [Errno 2] No such file or directory: '/home/giod/Documents/Kraken Training/WSeg/weisser_3.mlmodel'"
     ]
    }
   ],
   "source": [
    "# create the model\n",
    "seg_model = SegmentationModel(\n",
    "    hyper_params=seg_hyper_params, # hyperparameters\n",
    "    output='WSeg/Weisser_4', # output model file\n",
    "    spec=SEGMENTATION_SPEC, # VGSL spec of the baseline labeling network\n",
    "    model='WSeg/weisser_3.mlmodel', # existing model file to load and continue training\n",
    "    training_data=xml, # list of xml files for training\n",
    "    evaluation_data=None, # list of xml files for evaluation\n",
    "    partition=0.9, # ground truth partition train/validation ratio, set to 1 if evaluation_data is passed\n",
    "    num_workers=0, # number of OpenMP threads when running on CPU, set to 0 to avoid ParallelNative.cpp warn.\n",
    "    load_hyper_parameters=False, # retrieve hyper-parameters model when loading existing file\n",
    "    force_binarization=False, # forces input images to be binary, otherwise auto determines format\n",
    "    format_type='page', # `xml`, `alto`, `page`, `path`, or None\n",
    "    suppress_regions=False, # disables region segmentation training\n",
    "    suppress_baselines=False, # disables baseline segmentation training\n",
    "    valid_regions=None, # valid region types in training data (can be used multiple times)\n",
    "    valid_baselines=None, # valid baseline types in training data (can be used multiple times)\n",
    "    merge_regions=None, # region merge mapping(s) as `$target:$src`\n",
    "    merge_baselines=None, # baseline type merge mapping(s) as `$target:$src`\n",
    "    bounding_regions=None, # regions treated as boundaries for polygonization (can be used multiple times)\n",
    "    resize='both', # resize output layer: 'add' new classes, 'both' add and set to match, 'fail' abort if no match\n",
    "    topline=False # baseline location: baseline=False, topline/hanging baseline=True, centerline=None\n",
    ")\n",
    "\n",
    "# do a couple of basic checks\n",
    "print('Training line types:')\n",
    "for k, v in seg_model.train_set.dataset.class_mapping['baselines'].items():\n",
    "    print(f'{k}\\t\\t{v}\\t{seg_model.train_set.dataset.class_stats[\"baselines\"][k]}')\n",
    "    \n",
    "print('Training region types:')\n",
    "for k, v in seg_model.train_set.dataset.class_mapping['regions'].items():\n",
    "    print(f'{k}\\t\\t{v}\\t{seg_model.train_set.dataset.class_stats[\"regions\"][k]}')\n"
   ]
  },
  {
   "cell_type": "code",
   "execution_count": 33,
   "id": "06caf17a",
   "metadata": {},
   "outputs": [
    {
     "name": "stderr",
     "output_type": "stream",
     "text": [
      "GPU available: True (cuda), used: True\n",
      "TPU available: False, using: 0 TPU cores\n",
      "IPU available: False, using: 0 IPUs\n",
      "HPU available: False, using: 0 HPUs\n",
      "`Trainer(val_check_interval=1.0)` was configured so validation will run at the end of the training epoch..\n"
     ]
    }
   ],
   "source": [
    "# define how often to assess values while training\n",
    "val_check_interval = {\n",
    "    'check_val_every_n_epoch': int(seg_hyper_params['freq'])\n",
    "} if seg_hyper_params['freq'] > 1 else {\n",
    "    'val_check_interval': seg_hyper_params['freq']\n",
    "}\n",
    "\n",
    "# define the trainer\n",
    "seg_trainer = KrakenTrainer(\n",
    "    accelerator='cuda', # use mps for gpu (several unsupported functions for M1)\n",
    "    devices=1, # cpu cores when used with accelerator=cpu, 1 when used with mps\n",
    "    precision=32, # numerical precision for training (default is 32-bit single-point)\n",
    "    max_epochs=seg_hyper_params['epochs'] if seg_hyper_params['quit'] == 'dumb' else -1,\n",
    "    min_epochs=seg_hyper_params['min_epochs'],\n",
    "    enable_progress_bar=True, # show progress bar\n",
    "    deterministic=False, # use deterministic training (seed default = 42)\n",
    "    pl_logger='tensorboard', # logger\n",
    "    log_dir='WSeg/logs', # directory for logger\n",
    "    **val_check_interval\n",
    ")\n"
   ]
  },
  {
   "cell_type": "code",
   "execution_count": null,
   "id": "098e8137",
   "metadata": {},
   "outputs": [],
   "source": [
    "# there environment variables are probably only needed on M1 Macs\n",
    "!export GLOO_SOCKET_IFNAME=localhost\n",
    "!export OMP_NUM_THREADS=1"
   ]
  },
  {
   "cell_type": "code",
   "execution_count": 13,
   "id": "76c6deea",
   "metadata": {},
   "outputs": [
    {
     "data": {
      "text/plain": [
       "Reusing TensorBoard on port 6006 (pid 196597), started 0:00:52 ago. (Use '!kill 196597' to kill it.)"
      ]
     },
     "metadata": {},
     "output_type": "display_data"
    },
    {
     "data": {
      "text/html": [
       "\n",
       "      <iframe id=\"tensorboard-frame-a809221e6eeeae69\" width=\"100%\" height=\"800\" frameborder=\"0\">\n",
       "      </iframe>\n",
       "      <script>\n",
       "        (function() {\n",
       "          const frame = document.getElementById(\"tensorboard-frame-a809221e6eeeae69\");\n",
       "          const url = new URL(\"http://localhost\");\n",
       "          const port = 6006;\n",
       "          if (port) {\n",
       "            url.port = port;\n",
       "          }\n",
       "          frame.src = url;\n",
       "        })();\n",
       "      </script>\n",
       "    "
      ],
      "text/plain": [
       "<IPython.core.display.HTML object>"
      ]
     },
     "metadata": {},
     "output_type": "display_data"
    }
   ],
   "source": [
    "# load the TansorBoard dashboard\n",
    "%tensorboard --logdir 'WSeg/logs'"
   ]
  },
  {
   "cell_type": "code",
   "execution_count": 34,
   "id": "f3de2dd0",
   "metadata": {},
   "outputs": [
    {
     "name": "stderr",
     "output_type": "stream",
     "text": [
      "LOCAL_RANK: 0 - CUDA_VISIBLE_DEVICES: [0]\n"
     ]
    },
    {
     "data": {
      "text/html": [
       "<pre style=\"white-space:pre;overflow-x:auto;line-height:normal;font-family:Menlo,'DejaVu Sans Mono',consolas,'Courier New',monospace\">┏━━━━┳━━━━━━━━━━━━━━━━━━━┳━━━━━━━━━━━━━━━━━━━━━━━━━━┳━━━━━━━━┳━━━━━━━━━━━━━━━━━━━━━━━━━━┳━━━━━━━━━━━━━━━━━━━━━━━━━┓\n",
       "┃<span style=\"color: #800080; text-decoration-color: #800080; font-weight: bold\">    </span>┃<span style=\"color: #800080; text-decoration-color: #800080; font-weight: bold\"> Name              </span>┃<span style=\"color: #800080; text-decoration-color: #800080; font-weight: bold\"> Type                     </span>┃<span style=\"color: #800080; text-decoration-color: #800080; font-weight: bold\"> Params </span>┃<span style=\"color: #800080; text-decoration-color: #800080; font-weight: bold\">                 In sizes </span>┃<span style=\"color: #800080; text-decoration-color: #800080; font-weight: bold\">               Out sizes </span>┃\n",
       "┡━━━━╇━━━━━━━━━━━━━━━━━━━╇━━━━━━━━━━━━━━━━━━━━━━━━━━╇━━━━━━━━╇━━━━━━━━━━━━━━━━━━━━━━━━━━╇━━━━━━━━━━━━━━━━━━━━━━━━━┩\n",
       "│<span style=\"color: #7f7f7f; text-decoration-color: #7f7f7f\"> 0  </span>│ net               │ MultiParamSequential     │  1.3 M │<span style=\"color: #c0c0c0; text-decoration-color: #c0c0c0\">        [1, 3, 1800, 300] </span>│<span style=\"color: #c0c0c0; text-decoration-color: #c0c0c0\">  [[1, 7, 450, 75], '?'] </span>│\n",
       "│<span style=\"color: #7f7f7f; text-decoration-color: #7f7f7f\"> 1  </span>│ net.C_0           │ ActConv2D                │  9.5 K │<span style=\"color: #c0c0c0; text-decoration-color: #c0c0c0\"> [[1, 3, 1800, 300], '?'] </span>│<span style=\"color: #c0c0c0; text-decoration-color: #c0c0c0\">     [[1, 64, 900, 150], </span>│\n",
       "│<span style=\"color: #7f7f7f; text-decoration-color: #7f7f7f\">    </span>│                   │                          │        │<span style=\"color: #c0c0c0; text-decoration-color: #c0c0c0\">                          </span>│<span style=\"color: #c0c0c0; text-decoration-color: #c0c0c0\">                    '?'] </span>│\n",
       "│<span style=\"color: #7f7f7f; text-decoration-color: #7f7f7f\"> 2  </span>│ net.Gn_1          │ GroupNorm                │    128 │<span style=\"color: #c0c0c0; text-decoration-color: #c0c0c0\"> [[1, 64, 900, 150], '?', </span>│<span style=\"color: #c0c0c0; text-decoration-color: #c0c0c0\">     [[1, 64, 900, 150], </span>│\n",
       "│<span style=\"color: #7f7f7f; text-decoration-color: #7f7f7f\">    </span>│                   │                          │        │<span style=\"color: #c0c0c0; text-decoration-color: #c0c0c0\">                     '?'] </span>│<span style=\"color: #c0c0c0; text-decoration-color: #c0c0c0\">                    '?'] </span>│\n",
       "│<span style=\"color: #7f7f7f; text-decoration-color: #7f7f7f\"> 3  </span>│ net.C_2           │ ActConv2D                │ 73.9 K │<span style=\"color: #c0c0c0; text-decoration-color: #c0c0c0\"> [[1, 64, 900, 150], '?', </span>│<span style=\"color: #c0c0c0; text-decoration-color: #c0c0c0\">     [[1, 128, 450, 75], </span>│\n",
       "│<span style=\"color: #7f7f7f; text-decoration-color: #7f7f7f\">    </span>│                   │                          │        │<span style=\"color: #c0c0c0; text-decoration-color: #c0c0c0\">                     '?'] </span>│<span style=\"color: #c0c0c0; text-decoration-color: #c0c0c0\">                    '?'] </span>│\n",
       "│<span style=\"color: #7f7f7f; text-decoration-color: #7f7f7f\"> 4  </span>│ net.Gn_3          │ GroupNorm                │    256 │<span style=\"color: #c0c0c0; text-decoration-color: #c0c0c0\"> [[1, 128, 450, 75], '?', </span>│<span style=\"color: #c0c0c0; text-decoration-color: #c0c0c0\">     [[1, 128, 450, 75], </span>│\n",
       "│<span style=\"color: #7f7f7f; text-decoration-color: #7f7f7f\">    </span>│                   │                          │        │<span style=\"color: #c0c0c0; text-decoration-color: #c0c0c0\">                     '?'] </span>│<span style=\"color: #c0c0c0; text-decoration-color: #c0c0c0\">                    '?'] </span>│\n",
       "│<span style=\"color: #7f7f7f; text-decoration-color: #7f7f7f\"> 5  </span>│ net.C_4           │ ActConv2D                │  147 K │<span style=\"color: #c0c0c0; text-decoration-color: #c0c0c0\"> [[1, 128, 450, 75], '?', </span>│<span style=\"color: #c0c0c0; text-decoration-color: #c0c0c0\">     [[1, 128, 450, 75], </span>│\n",
       "│<span style=\"color: #7f7f7f; text-decoration-color: #7f7f7f\">    </span>│                   │                          │        │<span style=\"color: #c0c0c0; text-decoration-color: #c0c0c0\">                     '?'] </span>│<span style=\"color: #c0c0c0; text-decoration-color: #c0c0c0\">                    '?'] </span>│\n",
       "│<span style=\"color: #7f7f7f; text-decoration-color: #7f7f7f\"> 6  </span>│ net.Gn_5          │ GroupNorm                │    256 │<span style=\"color: #c0c0c0; text-decoration-color: #c0c0c0\"> [[1, 128, 450, 75], '?', </span>│<span style=\"color: #c0c0c0; text-decoration-color: #c0c0c0\">     [[1, 128, 450, 75], </span>│\n",
       "│<span style=\"color: #7f7f7f; text-decoration-color: #7f7f7f\">    </span>│                   │                          │        │<span style=\"color: #c0c0c0; text-decoration-color: #c0c0c0\">                     '?'] </span>│<span style=\"color: #c0c0c0; text-decoration-color: #c0c0c0\">                    '?'] </span>│\n",
       "│<span style=\"color: #7f7f7f; text-decoration-color: #7f7f7f\"> 7  </span>│ net.C_6           │ ActConv2D                │  295 K │<span style=\"color: #c0c0c0; text-decoration-color: #c0c0c0\"> [[1, 128, 450, 75], '?', </span>│<span style=\"color: #c0c0c0; text-decoration-color: #c0c0c0\">     [[1, 256, 450, 75], </span>│\n",
       "│<span style=\"color: #7f7f7f; text-decoration-color: #7f7f7f\">    </span>│                   │                          │        │<span style=\"color: #c0c0c0; text-decoration-color: #c0c0c0\">                     '?'] </span>│<span style=\"color: #c0c0c0; text-decoration-color: #c0c0c0\">                    '?'] </span>│\n",
       "│<span style=\"color: #7f7f7f; text-decoration-color: #7f7f7f\"> 8  </span>│ net.Gn_7          │ GroupNorm                │    512 │<span style=\"color: #c0c0c0; text-decoration-color: #c0c0c0\"> [[1, 256, 450, 75], '?', </span>│<span style=\"color: #c0c0c0; text-decoration-color: #c0c0c0\">     [[1, 256, 450, 75], </span>│\n",
       "│<span style=\"color: #7f7f7f; text-decoration-color: #7f7f7f\">    </span>│                   │                          │        │<span style=\"color: #c0c0c0; text-decoration-color: #c0c0c0\">                     '?'] </span>│<span style=\"color: #c0c0c0; text-decoration-color: #c0c0c0\">                    '?'] </span>│\n",
       "│<span style=\"color: #7f7f7f; text-decoration-color: #7f7f7f\"> 9  </span>│ net.C_8           │ ActConv2D                │  590 K │<span style=\"color: #c0c0c0; text-decoration-color: #c0c0c0\"> [[1, 256, 450, 75], '?', </span>│<span style=\"color: #c0c0c0; text-decoration-color: #c0c0c0\">     [[1, 256, 450, 75], </span>│\n",
       "│<span style=\"color: #7f7f7f; text-decoration-color: #7f7f7f\">    </span>│                   │                          │        │<span style=\"color: #c0c0c0; text-decoration-color: #c0c0c0\">                     '?'] </span>│<span style=\"color: #c0c0c0; text-decoration-color: #c0c0c0\">                    '?'] </span>│\n",
       "│<span style=\"color: #7f7f7f; text-decoration-color: #7f7f7f\"> 10 </span>│ net.Gn_9          │ GroupNorm                │    512 │<span style=\"color: #c0c0c0; text-decoration-color: #c0c0c0\"> [[1, 256, 450, 75], '?', </span>│<span style=\"color: #c0c0c0; text-decoration-color: #c0c0c0\">     [[1, 256, 450, 75], </span>│\n",
       "│<span style=\"color: #7f7f7f; text-decoration-color: #7f7f7f\">    </span>│                   │                          │        │<span style=\"color: #c0c0c0; text-decoration-color: #c0c0c0\">                     '?'] </span>│<span style=\"color: #c0c0c0; text-decoration-color: #c0c0c0\">                    '?'] </span>│\n",
       "│<span style=\"color: #7f7f7f; text-decoration-color: #7f7f7f\"> 11 </span>│ net.L_10          │ TransposedSummarizingRNN │ 74.2 K │<span style=\"color: #c0c0c0; text-decoration-color: #c0c0c0\"> [[1, 256, 450, 75], '?', </span>│<span style=\"color: #c0c0c0; text-decoration-color: #c0c0c0\"> [[1, 64, 450, 75], '?'] </span>│\n",
       "│<span style=\"color: #7f7f7f; text-decoration-color: #7f7f7f\">    </span>│                   │                          │        │<span style=\"color: #c0c0c0; text-decoration-color: #c0c0c0\">                     '?'] </span>│<span style=\"color: #c0c0c0; text-decoration-color: #c0c0c0\">                         </span>│\n",
       "│<span style=\"color: #7f7f7f; text-decoration-color: #7f7f7f\"> 12 </span>│ net.L_11          │ TransposedSummarizingRNN │ 25.1 K │<span style=\"color: #c0c0c0; text-decoration-color: #c0c0c0\">  [[1, 64, 450, 75], '?', </span>│<span style=\"color: #c0c0c0; text-decoration-color: #c0c0c0\"> [[1, 64, 450, 75], '?'] </span>│\n",
       "│<span style=\"color: #7f7f7f; text-decoration-color: #7f7f7f\">    </span>│                   │                          │        │<span style=\"color: #c0c0c0; text-decoration-color: #c0c0c0\">                     '?'] </span>│<span style=\"color: #c0c0c0; text-decoration-color: #c0c0c0\">                         </span>│\n",
       "│<span style=\"color: #7f7f7f; text-decoration-color: #7f7f7f\"> 13 </span>│ net.C_12          │ ActConv2D                │  2.1 K │<span style=\"color: #c0c0c0; text-decoration-color: #c0c0c0\">  [[1, 64, 450, 75], '?', </span>│<span style=\"color: #c0c0c0; text-decoration-color: #c0c0c0\"> [[1, 32, 450, 75], '?'] </span>│\n",
       "│<span style=\"color: #7f7f7f; text-decoration-color: #7f7f7f\">    </span>│                   │                          │        │<span style=\"color: #c0c0c0; text-decoration-color: #c0c0c0\">                     '?'] </span>│<span style=\"color: #c0c0c0; text-decoration-color: #c0c0c0\">                         </span>│\n",
       "│<span style=\"color: #7f7f7f; text-decoration-color: #7f7f7f\"> 14 </span>│ net.Gn_13         │ GroupNorm                │     64 │<span style=\"color: #c0c0c0; text-decoration-color: #c0c0c0\">  [[1, 32, 450, 75], '?', </span>│<span style=\"color: #c0c0c0; text-decoration-color: #c0c0c0\"> [[1, 32, 450, 75], '?'] </span>│\n",
       "│<span style=\"color: #7f7f7f; text-decoration-color: #7f7f7f\">    </span>│                   │                          │        │<span style=\"color: #c0c0c0; text-decoration-color: #c0c0c0\">                     '?'] </span>│<span style=\"color: #c0c0c0; text-decoration-color: #c0c0c0\">                         </span>│\n",
       "│<span style=\"color: #7f7f7f; text-decoration-color: #7f7f7f\"> 15 </span>│ net.L_14          │ TransposedSummarizingRNN │ 16.9 K │<span style=\"color: #c0c0c0; text-decoration-color: #c0c0c0\">  [[1, 32, 450, 75], '?', </span>│<span style=\"color: #c0c0c0; text-decoration-color: #c0c0c0\"> [[1, 64, 450, 75], '?'] </span>│\n",
       "│<span style=\"color: #7f7f7f; text-decoration-color: #7f7f7f\">    </span>│                   │                          │        │<span style=\"color: #c0c0c0; text-decoration-color: #c0c0c0\">                     '?'] </span>│<span style=\"color: #c0c0c0; text-decoration-color: #c0c0c0\">                         </span>│\n",
       "│<span style=\"color: #7f7f7f; text-decoration-color: #7f7f7f\"> 16 </span>│ net.L_15          │ TransposedSummarizingRNN │ 25.1 K │<span style=\"color: #c0c0c0; text-decoration-color: #c0c0c0\">  [[1, 64, 450, 75], '?', </span>│<span style=\"color: #c0c0c0; text-decoration-color: #c0c0c0\"> [[1, 64, 450, 75], '?'] </span>│\n",
       "│<span style=\"color: #7f7f7f; text-decoration-color: #7f7f7f\">    </span>│                   │                          │        │<span style=\"color: #c0c0c0; text-decoration-color: #c0c0c0\">                     '?'] </span>│<span style=\"color: #c0c0c0; text-decoration-color: #c0c0c0\">                         </span>│\n",
       "│<span style=\"color: #7f7f7f; text-decoration-color: #7f7f7f\"> 17 </span>│ net.l_16          │ ActConv2D                │    455 │<span style=\"color: #c0c0c0; text-decoration-color: #c0c0c0\">  [[1, 64, 450, 75], '?', </span>│<span style=\"color: #c0c0c0; text-decoration-color: #c0c0c0\">  [[1, 7, 450, 75], '?'] </span>│\n",
       "│<span style=\"color: #7f7f7f; text-decoration-color: #7f7f7f\">    </span>│                   │                          │        │<span style=\"color: #c0c0c0; text-decoration-color: #c0c0c0\">                     '?'] </span>│<span style=\"color: #c0c0c0; text-decoration-color: #c0c0c0\">                         </span>│\n",
       "│<span style=\"color: #7f7f7f; text-decoration-color: #7f7f7f\"> 18 </span>│ val_px_accuracy   │ MultilabelAccuracy       │      0 │<span style=\"color: #c0c0c0; text-decoration-color: #c0c0c0\">                        ? </span>│<span style=\"color: #c0c0c0; text-decoration-color: #c0c0c0\">                       ? </span>│\n",
       "│<span style=\"color: #7f7f7f; text-decoration-color: #7f7f7f\"> 19 </span>│ val_mean_accuracy │ MultilabelAccuracy       │      0 │<span style=\"color: #c0c0c0; text-decoration-color: #c0c0c0\">                        ? </span>│<span style=\"color: #c0c0c0; text-decoration-color: #c0c0c0\">                       ? </span>│\n",
       "│<span style=\"color: #7f7f7f; text-decoration-color: #7f7f7f\"> 20 </span>│ val_mean_iu       │ MultilabelJaccardIndex   │      0 │<span style=\"color: #c0c0c0; text-decoration-color: #c0c0c0\">                        ? </span>│<span style=\"color: #c0c0c0; text-decoration-color: #c0c0c0\">                       ? </span>│\n",
       "│<span style=\"color: #7f7f7f; text-decoration-color: #7f7f7f\"> 21 </span>│ val_freq_iu       │ MultilabelJaccardIndex   │      0 │<span style=\"color: #c0c0c0; text-decoration-color: #c0c0c0\">                        ? </span>│<span style=\"color: #c0c0c0; text-decoration-color: #c0c0c0\">                       ? </span>│\n",
       "└────┴───────────────────┴──────────────────────────┴────────┴──────────────────────────┴─────────────────────────┘\n",
       "</pre>\n"
      ],
      "text/plain": [
       "┏━━━━┳━━━━━━━━━━━━━━━━━━━┳━━━━━━━━━━━━━━━━━━━━━━━━━━┳━━━━━━━━┳━━━━━━━━━━━━━━━━━━━━━━━━━━┳━━━━━━━━━━━━━━━━━━━━━━━━━┓\n",
       "┃\u001b[1;35m \u001b[0m\u001b[1;35m  \u001b[0m\u001b[1;35m \u001b[0m┃\u001b[1;35m \u001b[0m\u001b[1;35mName             \u001b[0m\u001b[1;35m \u001b[0m┃\u001b[1;35m \u001b[0m\u001b[1;35mType                    \u001b[0m\u001b[1;35m \u001b[0m┃\u001b[1;35m \u001b[0m\u001b[1;35mParams\u001b[0m\u001b[1;35m \u001b[0m┃\u001b[1;35m \u001b[0m\u001b[1;35m                In sizes\u001b[0m\u001b[1;35m \u001b[0m┃\u001b[1;35m \u001b[0m\u001b[1;35m              Out sizes\u001b[0m\u001b[1;35m \u001b[0m┃\n",
       "┡━━━━╇━━━━━━━━━━━━━━━━━━━╇━━━━━━━━━━━━━━━━━━━━━━━━━━╇━━━━━━━━╇━━━━━━━━━━━━━━━━━━━━━━━━━━╇━━━━━━━━━━━━━━━━━━━━━━━━━┩\n",
       "│\u001b[2m \u001b[0m\u001b[2m0 \u001b[0m\u001b[2m \u001b[0m│ net               │ MultiParamSequential     │  1.3 M │\u001b[37m \u001b[0m\u001b[37m       [1, 3, 1800, 300]\u001b[0m\u001b[37m \u001b[0m│\u001b[37m \u001b[0m\u001b[37m [[1, 7, 450, 75], '?']\u001b[0m\u001b[37m \u001b[0m│\n",
       "│\u001b[2m \u001b[0m\u001b[2m1 \u001b[0m\u001b[2m \u001b[0m│ net.C_0           │ ActConv2D                │  9.5 K │\u001b[37m \u001b[0m\u001b[37m[[1, 3, 1800, 300], '?']\u001b[0m\u001b[37m \u001b[0m│\u001b[37m \u001b[0m\u001b[37m    [[1, 64, 900, 150],\u001b[0m\u001b[37m \u001b[0m│\n",
       "│\u001b[2m    \u001b[0m│                   │                          │        │\u001b[37m                          \u001b[0m│\u001b[37m \u001b[0m\u001b[37m                   '?']\u001b[0m\u001b[37m \u001b[0m│\n",
       "│\u001b[2m \u001b[0m\u001b[2m2 \u001b[0m\u001b[2m \u001b[0m│ net.Gn_1          │ GroupNorm                │    128 │\u001b[37m \u001b[0m\u001b[37m[[1, 64, 900, 150], '?',\u001b[0m\u001b[37m \u001b[0m│\u001b[37m \u001b[0m\u001b[37m    [[1, 64, 900, 150],\u001b[0m\u001b[37m \u001b[0m│\n",
       "│\u001b[2m    \u001b[0m│                   │                          │        │\u001b[37m \u001b[0m\u001b[37m                    '?']\u001b[0m\u001b[37m \u001b[0m│\u001b[37m \u001b[0m\u001b[37m                   '?']\u001b[0m\u001b[37m \u001b[0m│\n",
       "│\u001b[2m \u001b[0m\u001b[2m3 \u001b[0m\u001b[2m \u001b[0m│ net.C_2           │ ActConv2D                │ 73.9 K │\u001b[37m \u001b[0m\u001b[37m[[1, 64, 900, 150], '?',\u001b[0m\u001b[37m \u001b[0m│\u001b[37m \u001b[0m\u001b[37m    [[1, 128, 450, 75],\u001b[0m\u001b[37m \u001b[0m│\n",
       "│\u001b[2m    \u001b[0m│                   │                          │        │\u001b[37m \u001b[0m\u001b[37m                    '?']\u001b[0m\u001b[37m \u001b[0m│\u001b[37m \u001b[0m\u001b[37m                   '?']\u001b[0m\u001b[37m \u001b[0m│\n",
       "│\u001b[2m \u001b[0m\u001b[2m4 \u001b[0m\u001b[2m \u001b[0m│ net.Gn_3          │ GroupNorm                │    256 │\u001b[37m \u001b[0m\u001b[37m[[1, 128, 450, 75], '?',\u001b[0m\u001b[37m \u001b[0m│\u001b[37m \u001b[0m\u001b[37m    [[1, 128, 450, 75],\u001b[0m\u001b[37m \u001b[0m│\n",
       "│\u001b[2m    \u001b[0m│                   │                          │        │\u001b[37m \u001b[0m\u001b[37m                    '?']\u001b[0m\u001b[37m \u001b[0m│\u001b[37m \u001b[0m\u001b[37m                   '?']\u001b[0m\u001b[37m \u001b[0m│\n",
       "│\u001b[2m \u001b[0m\u001b[2m5 \u001b[0m\u001b[2m \u001b[0m│ net.C_4           │ ActConv2D                │  147 K │\u001b[37m \u001b[0m\u001b[37m[[1, 128, 450, 75], '?',\u001b[0m\u001b[37m \u001b[0m│\u001b[37m \u001b[0m\u001b[37m    [[1, 128, 450, 75],\u001b[0m\u001b[37m \u001b[0m│\n",
       "│\u001b[2m    \u001b[0m│                   │                          │        │\u001b[37m \u001b[0m\u001b[37m                    '?']\u001b[0m\u001b[37m \u001b[0m│\u001b[37m \u001b[0m\u001b[37m                   '?']\u001b[0m\u001b[37m \u001b[0m│\n",
       "│\u001b[2m \u001b[0m\u001b[2m6 \u001b[0m\u001b[2m \u001b[0m│ net.Gn_5          │ GroupNorm                │    256 │\u001b[37m \u001b[0m\u001b[37m[[1, 128, 450, 75], '?',\u001b[0m\u001b[37m \u001b[0m│\u001b[37m \u001b[0m\u001b[37m    [[1, 128, 450, 75],\u001b[0m\u001b[37m \u001b[0m│\n",
       "│\u001b[2m    \u001b[0m│                   │                          │        │\u001b[37m \u001b[0m\u001b[37m                    '?']\u001b[0m\u001b[37m \u001b[0m│\u001b[37m \u001b[0m\u001b[37m                   '?']\u001b[0m\u001b[37m \u001b[0m│\n",
       "│\u001b[2m \u001b[0m\u001b[2m7 \u001b[0m\u001b[2m \u001b[0m│ net.C_6           │ ActConv2D                │  295 K │\u001b[37m \u001b[0m\u001b[37m[[1, 128, 450, 75], '?',\u001b[0m\u001b[37m \u001b[0m│\u001b[37m \u001b[0m\u001b[37m    [[1, 256, 450, 75],\u001b[0m\u001b[37m \u001b[0m│\n",
       "│\u001b[2m    \u001b[0m│                   │                          │        │\u001b[37m \u001b[0m\u001b[37m                    '?']\u001b[0m\u001b[37m \u001b[0m│\u001b[37m \u001b[0m\u001b[37m                   '?']\u001b[0m\u001b[37m \u001b[0m│\n",
       "│\u001b[2m \u001b[0m\u001b[2m8 \u001b[0m\u001b[2m \u001b[0m│ net.Gn_7          │ GroupNorm                │    512 │\u001b[37m \u001b[0m\u001b[37m[[1, 256, 450, 75], '?',\u001b[0m\u001b[37m \u001b[0m│\u001b[37m \u001b[0m\u001b[37m    [[1, 256, 450, 75],\u001b[0m\u001b[37m \u001b[0m│\n",
       "│\u001b[2m    \u001b[0m│                   │                          │        │\u001b[37m \u001b[0m\u001b[37m                    '?']\u001b[0m\u001b[37m \u001b[0m│\u001b[37m \u001b[0m\u001b[37m                   '?']\u001b[0m\u001b[37m \u001b[0m│\n",
       "│\u001b[2m \u001b[0m\u001b[2m9 \u001b[0m\u001b[2m \u001b[0m│ net.C_8           │ ActConv2D                │  590 K │\u001b[37m \u001b[0m\u001b[37m[[1, 256, 450, 75], '?',\u001b[0m\u001b[37m \u001b[0m│\u001b[37m \u001b[0m\u001b[37m    [[1, 256, 450, 75],\u001b[0m\u001b[37m \u001b[0m│\n",
       "│\u001b[2m    \u001b[0m│                   │                          │        │\u001b[37m \u001b[0m\u001b[37m                    '?']\u001b[0m\u001b[37m \u001b[0m│\u001b[37m \u001b[0m\u001b[37m                   '?']\u001b[0m\u001b[37m \u001b[0m│\n",
       "│\u001b[2m \u001b[0m\u001b[2m10\u001b[0m\u001b[2m \u001b[0m│ net.Gn_9          │ GroupNorm                │    512 │\u001b[37m \u001b[0m\u001b[37m[[1, 256, 450, 75], '?',\u001b[0m\u001b[37m \u001b[0m│\u001b[37m \u001b[0m\u001b[37m    [[1, 256, 450, 75],\u001b[0m\u001b[37m \u001b[0m│\n",
       "│\u001b[2m    \u001b[0m│                   │                          │        │\u001b[37m \u001b[0m\u001b[37m                    '?']\u001b[0m\u001b[37m \u001b[0m│\u001b[37m \u001b[0m\u001b[37m                   '?']\u001b[0m\u001b[37m \u001b[0m│\n",
       "│\u001b[2m \u001b[0m\u001b[2m11\u001b[0m\u001b[2m \u001b[0m│ net.L_10          │ TransposedSummarizingRNN │ 74.2 K │\u001b[37m \u001b[0m\u001b[37m[[1, 256, 450, 75], '?',\u001b[0m\u001b[37m \u001b[0m│\u001b[37m \u001b[0m\u001b[37m[[1, 64, 450, 75], '?']\u001b[0m\u001b[37m \u001b[0m│\n",
       "│\u001b[2m    \u001b[0m│                   │                          │        │\u001b[37m \u001b[0m\u001b[37m                    '?']\u001b[0m\u001b[37m \u001b[0m│\u001b[37m                         \u001b[0m│\n",
       "│\u001b[2m \u001b[0m\u001b[2m12\u001b[0m\u001b[2m \u001b[0m│ net.L_11          │ TransposedSummarizingRNN │ 25.1 K │\u001b[37m \u001b[0m\u001b[37m [[1, 64, 450, 75], '?',\u001b[0m\u001b[37m \u001b[0m│\u001b[37m \u001b[0m\u001b[37m[[1, 64, 450, 75], '?']\u001b[0m\u001b[37m \u001b[0m│\n",
       "│\u001b[2m    \u001b[0m│                   │                          │        │\u001b[37m \u001b[0m\u001b[37m                    '?']\u001b[0m\u001b[37m \u001b[0m│\u001b[37m                         \u001b[0m│\n",
       "│\u001b[2m \u001b[0m\u001b[2m13\u001b[0m\u001b[2m \u001b[0m│ net.C_12          │ ActConv2D                │  2.1 K │\u001b[37m \u001b[0m\u001b[37m [[1, 64, 450, 75], '?',\u001b[0m\u001b[37m \u001b[0m│\u001b[37m \u001b[0m\u001b[37m[[1, 32, 450, 75], '?']\u001b[0m\u001b[37m \u001b[0m│\n",
       "│\u001b[2m    \u001b[0m│                   │                          │        │\u001b[37m \u001b[0m\u001b[37m                    '?']\u001b[0m\u001b[37m \u001b[0m│\u001b[37m                         \u001b[0m│\n",
       "│\u001b[2m \u001b[0m\u001b[2m14\u001b[0m\u001b[2m \u001b[0m│ net.Gn_13         │ GroupNorm                │     64 │\u001b[37m \u001b[0m\u001b[37m [[1, 32, 450, 75], '?',\u001b[0m\u001b[37m \u001b[0m│\u001b[37m \u001b[0m\u001b[37m[[1, 32, 450, 75], '?']\u001b[0m\u001b[37m \u001b[0m│\n",
       "│\u001b[2m    \u001b[0m│                   │                          │        │\u001b[37m \u001b[0m\u001b[37m                    '?']\u001b[0m\u001b[37m \u001b[0m│\u001b[37m                         \u001b[0m│\n",
       "│\u001b[2m \u001b[0m\u001b[2m15\u001b[0m\u001b[2m \u001b[0m│ net.L_14          │ TransposedSummarizingRNN │ 16.9 K │\u001b[37m \u001b[0m\u001b[37m [[1, 32, 450, 75], '?',\u001b[0m\u001b[37m \u001b[0m│\u001b[37m \u001b[0m\u001b[37m[[1, 64, 450, 75], '?']\u001b[0m\u001b[37m \u001b[0m│\n",
       "│\u001b[2m    \u001b[0m│                   │                          │        │\u001b[37m \u001b[0m\u001b[37m                    '?']\u001b[0m\u001b[37m \u001b[0m│\u001b[37m                         \u001b[0m│\n",
       "│\u001b[2m \u001b[0m\u001b[2m16\u001b[0m\u001b[2m \u001b[0m│ net.L_15          │ TransposedSummarizingRNN │ 25.1 K │\u001b[37m \u001b[0m\u001b[37m [[1, 64, 450, 75], '?',\u001b[0m\u001b[37m \u001b[0m│\u001b[37m \u001b[0m\u001b[37m[[1, 64, 450, 75], '?']\u001b[0m\u001b[37m \u001b[0m│\n",
       "│\u001b[2m    \u001b[0m│                   │                          │        │\u001b[37m \u001b[0m\u001b[37m                    '?']\u001b[0m\u001b[37m \u001b[0m│\u001b[37m                         \u001b[0m│\n",
       "│\u001b[2m \u001b[0m\u001b[2m17\u001b[0m\u001b[2m \u001b[0m│ net.l_16          │ ActConv2D                │    455 │\u001b[37m \u001b[0m\u001b[37m [[1, 64, 450, 75], '?',\u001b[0m\u001b[37m \u001b[0m│\u001b[37m \u001b[0m\u001b[37m [[1, 7, 450, 75], '?']\u001b[0m\u001b[37m \u001b[0m│\n",
       "│\u001b[2m    \u001b[0m│                   │                          │        │\u001b[37m \u001b[0m\u001b[37m                    '?']\u001b[0m\u001b[37m \u001b[0m│\u001b[37m                         \u001b[0m│\n",
       "│\u001b[2m \u001b[0m\u001b[2m18\u001b[0m\u001b[2m \u001b[0m│ val_px_accuracy   │ MultilabelAccuracy       │      0 │\u001b[37m \u001b[0m\u001b[37m                       ?\u001b[0m\u001b[37m \u001b[0m│\u001b[37m \u001b[0m\u001b[37m                      ?\u001b[0m\u001b[37m \u001b[0m│\n",
       "│\u001b[2m \u001b[0m\u001b[2m19\u001b[0m\u001b[2m \u001b[0m│ val_mean_accuracy │ MultilabelAccuracy       │      0 │\u001b[37m \u001b[0m\u001b[37m                       ?\u001b[0m\u001b[37m \u001b[0m│\u001b[37m \u001b[0m\u001b[37m                      ?\u001b[0m\u001b[37m \u001b[0m│\n",
       "│\u001b[2m \u001b[0m\u001b[2m20\u001b[0m\u001b[2m \u001b[0m│ val_mean_iu       │ MultilabelJaccardIndex   │      0 │\u001b[37m \u001b[0m\u001b[37m                       ?\u001b[0m\u001b[37m \u001b[0m│\u001b[37m \u001b[0m\u001b[37m                      ?\u001b[0m\u001b[37m \u001b[0m│\n",
       "│\u001b[2m \u001b[0m\u001b[2m21\u001b[0m\u001b[2m \u001b[0m│ val_freq_iu       │ MultilabelJaccardIndex   │      0 │\u001b[37m \u001b[0m\u001b[37m                       ?\u001b[0m\u001b[37m \u001b[0m│\u001b[37m \u001b[0m\u001b[37m                      ?\u001b[0m\u001b[37m \u001b[0m│\n",
       "└────┴───────────────────┴──────────────────────────┴────────┴──────────────────────────┴─────────────────────────┘\n"
      ]
     },
     "metadata": {},
     "output_type": "display_data"
    },
    {
     "data": {
      "text/html": [
       "<pre style=\"white-space:pre;overflow-x:auto;line-height:normal;font-family:Menlo,'DejaVu Sans Mono',consolas,'Courier New',monospace\"><span style=\"font-weight: bold\">Trainable params</span>: 1.3 M                                                                                            \n",
       "<span style=\"font-weight: bold\">Non-trainable params</span>: 0                                                                                            \n",
       "<span style=\"font-weight: bold\">Total params</span>: 1.3 M                                                                                                \n",
       "<span style=\"font-weight: bold\">Total estimated model params size (MB)</span>: 5                                                                          \n",
       "</pre>\n"
      ],
      "text/plain": [
       "\u001b[1mTrainable params\u001b[0m: 1.3 M                                                                                            \n",
       "\u001b[1mNon-trainable params\u001b[0m: 0                                                                                            \n",
       "\u001b[1mTotal params\u001b[0m: 1.3 M                                                                                                \n",
       "\u001b[1mTotal estimated model params size (MB)\u001b[0m: 5                                                                          \n"
      ]
     },
     "metadata": {},
     "output_type": "display_data"
    },
    {
     "data": {
      "application/vnd.jupyter.widget-view+json": {
       "model_id": "b6f944f471424ed7b56b4becc981c05f",
       "version_major": 2,
       "version_minor": 0
      },
      "text/plain": [
       "Output()"
      ]
     },
     "metadata": {},
     "output_type": "display_data"
    },
    {
     "data": {
      "text/html": [
       "<pre style=\"white-space:pre;overflow-x:auto;line-height:normal;font-family:Menlo,'DejaVu Sans Mono',consolas,'Courier New',monospace\"></pre>\n"
      ],
      "text/plain": []
     },
     "metadata": {},
     "output_type": "display_data"
    },
    {
     "data": {
      "text/html": [
       "<pre style=\"white-space:pre;overflow-x:auto;line-height:normal;font-family:Menlo,'DejaVu Sans Mono',consolas,'Courier New',monospace\">\n",
       "</pre>\n"
      ],
      "text/plain": [
       "\n"
      ]
     },
     "metadata": {},
     "output_type": "display_data"
    },
    {
     "ename": "RuntimeError",
     "evalue": "Predictions and targets are expected to have the same shape, but got torch.Size([1, 7, 450, 348]) and torch.Size([1, 6, 450, 348]).",
     "output_type": "error",
     "traceback": [
      "\u001b[0;31m---------------------------------------------------------------------------\u001b[0m",
      "\u001b[0;31mRuntimeError\u001b[0m                              Traceback (most recent call last)",
      "Cell \u001b[0;32mIn[34], line 2\u001b[0m\n\u001b[1;32m      1\u001b[0m \u001b[38;5;66;03m# train the model\u001b[39;00m\n\u001b[0;32m----> 2\u001b[0m \u001b[43mseg_trainer\u001b[49m\u001b[38;5;241;43m.\u001b[39;49m\u001b[43mfit\u001b[49m\u001b[43m(\u001b[49m\u001b[43mseg_model\u001b[49m\u001b[43m)\u001b[49m\n",
      "File \u001b[0;32m~/Documents/Kraken Training/.conda/lib/python3.10/site-packages/kraken/lib/train.py:129\u001b[0m, in \u001b[0;36mKrakenTrainer.fit\u001b[0;34m(self, *args, **kwargs)\u001b[0m\n\u001b[1;32m    126\u001b[0m \u001b[38;5;28;01mwith\u001b[39;00m warnings\u001b[38;5;241m.\u001b[39mcatch_warnings():\n\u001b[1;32m    127\u001b[0m     warnings\u001b[38;5;241m.\u001b[39mfilterwarnings(action\u001b[38;5;241m=\u001b[39m\u001b[38;5;124m'\u001b[39m\u001b[38;5;124mignore\u001b[39m\u001b[38;5;124m'\u001b[39m, category\u001b[38;5;241m=\u001b[39m\u001b[38;5;167;01mUserWarning\u001b[39;00m,\n\u001b[1;32m    128\u001b[0m                             message\u001b[38;5;241m=\u001b[39m\u001b[38;5;124m'\u001b[39m\u001b[38;5;124mThe dataloader,\u001b[39m\u001b[38;5;124m'\u001b[39m)\n\u001b[0;32m--> 129\u001b[0m     \u001b[38;5;28;43msuper\u001b[39;49m\u001b[43m(\u001b[49m\u001b[43m)\u001b[49m\u001b[38;5;241;43m.\u001b[39;49m\u001b[43mfit\u001b[49m\u001b[43m(\u001b[49m\u001b[38;5;241;43m*\u001b[39;49m\u001b[43margs\u001b[49m\u001b[43m,\u001b[49m\u001b[43m \u001b[49m\u001b[38;5;241;43m*\u001b[39;49m\u001b[38;5;241;43m*\u001b[39;49m\u001b[43mkwargs\u001b[49m\u001b[43m)\u001b[49m\n",
      "File \u001b[0;32m~/Documents/Kraken Training/.conda/lib/python3.10/site-packages/lightning/pytorch/trainer/trainer.py:544\u001b[0m, in \u001b[0;36mTrainer.fit\u001b[0;34m(self, model, train_dataloaders, val_dataloaders, datamodule, ckpt_path)\u001b[0m\n\u001b[1;32m    542\u001b[0m \u001b[38;5;28mself\u001b[39m\u001b[38;5;241m.\u001b[39mstate\u001b[38;5;241m.\u001b[39mstatus \u001b[38;5;241m=\u001b[39m TrainerStatus\u001b[38;5;241m.\u001b[39mRUNNING\n\u001b[1;32m    543\u001b[0m \u001b[38;5;28mself\u001b[39m\u001b[38;5;241m.\u001b[39mtraining \u001b[38;5;241m=\u001b[39m \u001b[38;5;28;01mTrue\u001b[39;00m\n\u001b[0;32m--> 544\u001b[0m \u001b[43mcall\u001b[49m\u001b[38;5;241;43m.\u001b[39;49m\u001b[43m_call_and_handle_interrupt\u001b[49m\u001b[43m(\u001b[49m\n\u001b[1;32m    545\u001b[0m \u001b[43m    \u001b[49m\u001b[38;5;28;43mself\u001b[39;49m\u001b[43m,\u001b[49m\u001b[43m \u001b[49m\u001b[38;5;28;43mself\u001b[39;49m\u001b[38;5;241;43m.\u001b[39;49m\u001b[43m_fit_impl\u001b[49m\u001b[43m,\u001b[49m\u001b[43m \u001b[49m\u001b[43mmodel\u001b[49m\u001b[43m,\u001b[49m\u001b[43m \u001b[49m\u001b[43mtrain_dataloaders\u001b[49m\u001b[43m,\u001b[49m\u001b[43m \u001b[49m\u001b[43mval_dataloaders\u001b[49m\u001b[43m,\u001b[49m\u001b[43m \u001b[49m\u001b[43mdatamodule\u001b[49m\u001b[43m,\u001b[49m\u001b[43m \u001b[49m\u001b[43mckpt_path\u001b[49m\n\u001b[1;32m    546\u001b[0m \u001b[43m\u001b[49m\u001b[43m)\u001b[49m\n",
      "File \u001b[0;32m~/Documents/Kraken Training/.conda/lib/python3.10/site-packages/lightning/pytorch/trainer/call.py:44\u001b[0m, in \u001b[0;36m_call_and_handle_interrupt\u001b[0;34m(trainer, trainer_fn, *args, **kwargs)\u001b[0m\n\u001b[1;32m     42\u001b[0m     \u001b[38;5;28;01mif\u001b[39;00m trainer\u001b[38;5;241m.\u001b[39mstrategy\u001b[38;5;241m.\u001b[39mlauncher \u001b[38;5;129;01mis\u001b[39;00m \u001b[38;5;129;01mnot\u001b[39;00m \u001b[38;5;28;01mNone\u001b[39;00m:\n\u001b[1;32m     43\u001b[0m         \u001b[38;5;28;01mreturn\u001b[39;00m trainer\u001b[38;5;241m.\u001b[39mstrategy\u001b[38;5;241m.\u001b[39mlauncher\u001b[38;5;241m.\u001b[39mlaunch(trainer_fn, \u001b[38;5;241m*\u001b[39margs, trainer\u001b[38;5;241m=\u001b[39mtrainer, \u001b[38;5;241m*\u001b[39m\u001b[38;5;241m*\u001b[39mkwargs)\n\u001b[0;32m---> 44\u001b[0m     \u001b[38;5;28;01mreturn\u001b[39;00m \u001b[43mtrainer_fn\u001b[49m\u001b[43m(\u001b[49m\u001b[38;5;241;43m*\u001b[39;49m\u001b[43margs\u001b[49m\u001b[43m,\u001b[49m\u001b[43m \u001b[49m\u001b[38;5;241;43m*\u001b[39;49m\u001b[38;5;241;43m*\u001b[39;49m\u001b[43mkwargs\u001b[49m\u001b[43m)\u001b[49m\n\u001b[1;32m     46\u001b[0m \u001b[38;5;28;01mexcept\u001b[39;00m _TunerExitException:\n\u001b[1;32m     47\u001b[0m     _call_teardown_hook(trainer)\n",
      "File \u001b[0;32m~/Documents/Kraken Training/.conda/lib/python3.10/site-packages/lightning/pytorch/trainer/trainer.py:580\u001b[0m, in \u001b[0;36mTrainer._fit_impl\u001b[0;34m(self, model, train_dataloaders, val_dataloaders, datamodule, ckpt_path)\u001b[0m\n\u001b[1;32m    573\u001b[0m \u001b[38;5;28;01massert\u001b[39;00m \u001b[38;5;28mself\u001b[39m\u001b[38;5;241m.\u001b[39mstate\u001b[38;5;241m.\u001b[39mfn \u001b[38;5;129;01mis\u001b[39;00m \u001b[38;5;129;01mnot\u001b[39;00m \u001b[38;5;28;01mNone\u001b[39;00m\n\u001b[1;32m    574\u001b[0m ckpt_path \u001b[38;5;241m=\u001b[39m \u001b[38;5;28mself\u001b[39m\u001b[38;5;241m.\u001b[39m_checkpoint_connector\u001b[38;5;241m.\u001b[39m_select_ckpt_path(\n\u001b[1;32m    575\u001b[0m     \u001b[38;5;28mself\u001b[39m\u001b[38;5;241m.\u001b[39mstate\u001b[38;5;241m.\u001b[39mfn,\n\u001b[1;32m    576\u001b[0m     ckpt_path,\n\u001b[1;32m    577\u001b[0m     model_provided\u001b[38;5;241m=\u001b[39m\u001b[38;5;28;01mTrue\u001b[39;00m,\n\u001b[1;32m    578\u001b[0m     model_connected\u001b[38;5;241m=\u001b[39m\u001b[38;5;28mself\u001b[39m\u001b[38;5;241m.\u001b[39mlightning_module \u001b[38;5;129;01mis\u001b[39;00m \u001b[38;5;129;01mnot\u001b[39;00m \u001b[38;5;28;01mNone\u001b[39;00m,\n\u001b[1;32m    579\u001b[0m )\n\u001b[0;32m--> 580\u001b[0m \u001b[38;5;28;43mself\u001b[39;49m\u001b[38;5;241;43m.\u001b[39;49m\u001b[43m_run\u001b[49m\u001b[43m(\u001b[49m\u001b[43mmodel\u001b[49m\u001b[43m,\u001b[49m\u001b[43m \u001b[49m\u001b[43mckpt_path\u001b[49m\u001b[38;5;241;43m=\u001b[39;49m\u001b[43mckpt_path\u001b[49m\u001b[43m)\u001b[49m\n\u001b[1;32m    582\u001b[0m \u001b[38;5;28;01massert\u001b[39;00m \u001b[38;5;28mself\u001b[39m\u001b[38;5;241m.\u001b[39mstate\u001b[38;5;241m.\u001b[39mstopped\n\u001b[1;32m    583\u001b[0m \u001b[38;5;28mself\u001b[39m\u001b[38;5;241m.\u001b[39mtraining \u001b[38;5;241m=\u001b[39m \u001b[38;5;28;01mFalse\u001b[39;00m\n",
      "File \u001b[0;32m~/Documents/Kraken Training/.conda/lib/python3.10/site-packages/lightning/pytorch/trainer/trainer.py:987\u001b[0m, in \u001b[0;36mTrainer._run\u001b[0;34m(self, model, ckpt_path)\u001b[0m\n\u001b[1;32m    982\u001b[0m \u001b[38;5;28mself\u001b[39m\u001b[38;5;241m.\u001b[39m_signal_connector\u001b[38;5;241m.\u001b[39mregister_signal_handlers()\n\u001b[1;32m    984\u001b[0m \u001b[38;5;66;03m# ----------------------------\u001b[39;00m\n\u001b[1;32m    985\u001b[0m \u001b[38;5;66;03m# RUN THE TRAINER\u001b[39;00m\n\u001b[1;32m    986\u001b[0m \u001b[38;5;66;03m# ----------------------------\u001b[39;00m\n\u001b[0;32m--> 987\u001b[0m results \u001b[38;5;241m=\u001b[39m \u001b[38;5;28;43mself\u001b[39;49m\u001b[38;5;241;43m.\u001b[39;49m\u001b[43m_run_stage\u001b[49m\u001b[43m(\u001b[49m\u001b[43m)\u001b[49m\n\u001b[1;32m    989\u001b[0m \u001b[38;5;66;03m# ----------------------------\u001b[39;00m\n\u001b[1;32m    990\u001b[0m \u001b[38;5;66;03m# POST-Training CLEAN UP\u001b[39;00m\n\u001b[1;32m    991\u001b[0m \u001b[38;5;66;03m# ----------------------------\u001b[39;00m\n\u001b[1;32m    992\u001b[0m log\u001b[38;5;241m.\u001b[39mdebug(\u001b[38;5;124mf\u001b[39m\u001b[38;5;124m\"\u001b[39m\u001b[38;5;132;01m{\u001b[39;00m\u001b[38;5;28mself\u001b[39m\u001b[38;5;241m.\u001b[39m\u001b[38;5;18m__class__\u001b[39m\u001b[38;5;241m.\u001b[39m\u001b[38;5;18m__name__\u001b[39m\u001b[38;5;132;01m}\u001b[39;00m\u001b[38;5;124m: trainer tearing down\u001b[39m\u001b[38;5;124m\"\u001b[39m)\n",
      "File \u001b[0;32m~/Documents/Kraken Training/.conda/lib/python3.10/site-packages/lightning/pytorch/trainer/trainer.py:1031\u001b[0m, in \u001b[0;36mTrainer._run_stage\u001b[0;34m(self)\u001b[0m\n\u001b[1;32m   1029\u001b[0m \u001b[38;5;28;01mif\u001b[39;00m \u001b[38;5;28mself\u001b[39m\u001b[38;5;241m.\u001b[39mtraining:\n\u001b[1;32m   1030\u001b[0m     \u001b[38;5;28;01mwith\u001b[39;00m isolate_rng():\n\u001b[0;32m-> 1031\u001b[0m         \u001b[38;5;28;43mself\u001b[39;49m\u001b[38;5;241;43m.\u001b[39;49m\u001b[43m_run_sanity_check\u001b[49m\u001b[43m(\u001b[49m\u001b[43m)\u001b[49m\n\u001b[1;32m   1032\u001b[0m     \u001b[38;5;28;01mwith\u001b[39;00m torch\u001b[38;5;241m.\u001b[39mautograd\u001b[38;5;241m.\u001b[39mset_detect_anomaly(\u001b[38;5;28mself\u001b[39m\u001b[38;5;241m.\u001b[39m_detect_anomaly):\n\u001b[1;32m   1033\u001b[0m         \u001b[38;5;28mself\u001b[39m\u001b[38;5;241m.\u001b[39mfit_loop\u001b[38;5;241m.\u001b[39mrun()\n",
      "File \u001b[0;32m~/Documents/Kraken Training/.conda/lib/python3.10/site-packages/lightning/pytorch/trainer/trainer.py:1060\u001b[0m, in \u001b[0;36mTrainer._run_sanity_check\u001b[0;34m(self)\u001b[0m\n\u001b[1;32m   1057\u001b[0m call\u001b[38;5;241m.\u001b[39m_call_callback_hooks(\u001b[38;5;28mself\u001b[39m, \u001b[38;5;124m\"\u001b[39m\u001b[38;5;124mon_sanity_check_start\u001b[39m\u001b[38;5;124m\"\u001b[39m)\n\u001b[1;32m   1059\u001b[0m \u001b[38;5;66;03m# run eval step\u001b[39;00m\n\u001b[0;32m-> 1060\u001b[0m \u001b[43mval_loop\u001b[49m\u001b[38;5;241;43m.\u001b[39;49m\u001b[43mrun\u001b[49m\u001b[43m(\u001b[49m\u001b[43m)\u001b[49m\n\u001b[1;32m   1062\u001b[0m call\u001b[38;5;241m.\u001b[39m_call_callback_hooks(\u001b[38;5;28mself\u001b[39m, \u001b[38;5;124m\"\u001b[39m\u001b[38;5;124mon_sanity_check_end\u001b[39m\u001b[38;5;124m\"\u001b[39m)\n\u001b[1;32m   1064\u001b[0m \u001b[38;5;66;03m# reset logger connector\u001b[39;00m\n",
      "File \u001b[0;32m~/Documents/Kraken Training/.conda/lib/python3.10/site-packages/lightning/pytorch/loops/utilities.py:182\u001b[0m, in \u001b[0;36m_no_grad_context.<locals>._decorator\u001b[0;34m(self, *args, **kwargs)\u001b[0m\n\u001b[1;32m    180\u001b[0m     context_manager \u001b[38;5;241m=\u001b[39m torch\u001b[38;5;241m.\u001b[39mno_grad\n\u001b[1;32m    181\u001b[0m \u001b[38;5;28;01mwith\u001b[39;00m context_manager():\n\u001b[0;32m--> 182\u001b[0m     \u001b[38;5;28;01mreturn\u001b[39;00m \u001b[43mloop_run\u001b[49m\u001b[43m(\u001b[49m\u001b[38;5;28;43mself\u001b[39;49m\u001b[43m,\u001b[49m\u001b[43m \u001b[49m\u001b[38;5;241;43m*\u001b[39;49m\u001b[43margs\u001b[49m\u001b[43m,\u001b[49m\u001b[43m \u001b[49m\u001b[38;5;241;43m*\u001b[39;49m\u001b[38;5;241;43m*\u001b[39;49m\u001b[43mkwargs\u001b[49m\u001b[43m)\u001b[49m\n",
      "File \u001b[0;32m~/Documents/Kraken Training/.conda/lib/python3.10/site-packages/lightning/pytorch/loops/evaluation_loop.py:135\u001b[0m, in \u001b[0;36m_EvaluationLoop.run\u001b[0;34m(self)\u001b[0m\n\u001b[1;32m    133\u001b[0m     \u001b[38;5;28mself\u001b[39m\u001b[38;5;241m.\u001b[39mbatch_progress\u001b[38;5;241m.\u001b[39mis_last_batch \u001b[38;5;241m=\u001b[39m data_fetcher\u001b[38;5;241m.\u001b[39mdone\n\u001b[1;32m    134\u001b[0m     \u001b[38;5;66;03m# run step hooks\u001b[39;00m\n\u001b[0;32m--> 135\u001b[0m     \u001b[38;5;28;43mself\u001b[39;49m\u001b[38;5;241;43m.\u001b[39;49m\u001b[43m_evaluation_step\u001b[49m\u001b[43m(\u001b[49m\u001b[43mbatch\u001b[49m\u001b[43m,\u001b[49m\u001b[43m \u001b[49m\u001b[43mbatch_idx\u001b[49m\u001b[43m,\u001b[49m\u001b[43m \u001b[49m\u001b[43mdataloader_idx\u001b[49m\u001b[43m,\u001b[49m\u001b[43m \u001b[49m\u001b[43mdataloader_iter\u001b[49m\u001b[43m)\u001b[49m\n\u001b[1;32m    136\u001b[0m \u001b[38;5;28;01mexcept\u001b[39;00m \u001b[38;5;167;01mStopIteration\u001b[39;00m:\n\u001b[1;32m    137\u001b[0m     \u001b[38;5;66;03m# this needs to wrap the `*_step` call too (not just `next`) for `dataloader_iter` support\u001b[39;00m\n\u001b[1;32m    138\u001b[0m     \u001b[38;5;28;01mbreak\u001b[39;00m\n",
      "File \u001b[0;32m~/Documents/Kraken Training/.conda/lib/python3.10/site-packages/lightning/pytorch/loops/evaluation_loop.py:396\u001b[0m, in \u001b[0;36m_EvaluationLoop._evaluation_step\u001b[0;34m(self, batch, batch_idx, dataloader_idx, dataloader_iter)\u001b[0m\n\u001b[1;32m    390\u001b[0m hook_name \u001b[38;5;241m=\u001b[39m \u001b[38;5;124m\"\u001b[39m\u001b[38;5;124mtest_step\u001b[39m\u001b[38;5;124m\"\u001b[39m \u001b[38;5;28;01mif\u001b[39;00m trainer\u001b[38;5;241m.\u001b[39mtesting \u001b[38;5;28;01melse\u001b[39;00m \u001b[38;5;124m\"\u001b[39m\u001b[38;5;124mvalidation_step\u001b[39m\u001b[38;5;124m\"\u001b[39m\n\u001b[1;32m    391\u001b[0m step_args \u001b[38;5;241m=\u001b[39m (\n\u001b[1;32m    392\u001b[0m     \u001b[38;5;28mself\u001b[39m\u001b[38;5;241m.\u001b[39m_build_step_args_from_hook_kwargs(hook_kwargs, hook_name)\n\u001b[1;32m    393\u001b[0m     \u001b[38;5;28;01mif\u001b[39;00m \u001b[38;5;129;01mnot\u001b[39;00m using_dataloader_iter\n\u001b[1;32m    394\u001b[0m     \u001b[38;5;28;01melse\u001b[39;00m (dataloader_iter,)\n\u001b[1;32m    395\u001b[0m )\n\u001b[0;32m--> 396\u001b[0m output \u001b[38;5;241m=\u001b[39m \u001b[43mcall\u001b[49m\u001b[38;5;241;43m.\u001b[39;49m\u001b[43m_call_strategy_hook\u001b[49m\u001b[43m(\u001b[49m\u001b[43mtrainer\u001b[49m\u001b[43m,\u001b[49m\u001b[43m \u001b[49m\u001b[43mhook_name\u001b[49m\u001b[43m,\u001b[49m\u001b[43m \u001b[49m\u001b[38;5;241;43m*\u001b[39;49m\u001b[43mstep_args\u001b[49m\u001b[43m)\u001b[49m\n\u001b[1;32m    398\u001b[0m \u001b[38;5;28mself\u001b[39m\u001b[38;5;241m.\u001b[39mbatch_progress\u001b[38;5;241m.\u001b[39mincrement_processed()\n\u001b[1;32m    400\u001b[0m \u001b[38;5;28;01mif\u001b[39;00m using_dataloader_iter:\n\u001b[1;32m    401\u001b[0m     \u001b[38;5;66;03m# update the hook kwargs now that the step method might have consumed the iterator\u001b[39;00m\n",
      "File \u001b[0;32m~/Documents/Kraken Training/.conda/lib/python3.10/site-packages/lightning/pytorch/trainer/call.py:309\u001b[0m, in \u001b[0;36m_call_strategy_hook\u001b[0;34m(trainer, hook_name, *args, **kwargs)\u001b[0m\n\u001b[1;32m    306\u001b[0m     \u001b[38;5;28;01mreturn\u001b[39;00m \u001b[38;5;28;01mNone\u001b[39;00m\n\u001b[1;32m    308\u001b[0m \u001b[38;5;28;01mwith\u001b[39;00m trainer\u001b[38;5;241m.\u001b[39mprofiler\u001b[38;5;241m.\u001b[39mprofile(\u001b[38;5;124mf\u001b[39m\u001b[38;5;124m\"\u001b[39m\u001b[38;5;124m[Strategy]\u001b[39m\u001b[38;5;132;01m{\u001b[39;00mtrainer\u001b[38;5;241m.\u001b[39mstrategy\u001b[38;5;241m.\u001b[39m\u001b[38;5;18m__class__\u001b[39m\u001b[38;5;241m.\u001b[39m\u001b[38;5;18m__name__\u001b[39m\u001b[38;5;132;01m}\u001b[39;00m\u001b[38;5;124m.\u001b[39m\u001b[38;5;132;01m{\u001b[39;00mhook_name\u001b[38;5;132;01m}\u001b[39;00m\u001b[38;5;124m\"\u001b[39m):\n\u001b[0;32m--> 309\u001b[0m     output \u001b[38;5;241m=\u001b[39m \u001b[43mfn\u001b[49m\u001b[43m(\u001b[49m\u001b[38;5;241;43m*\u001b[39;49m\u001b[43margs\u001b[49m\u001b[43m,\u001b[49m\u001b[43m \u001b[49m\u001b[38;5;241;43m*\u001b[39;49m\u001b[38;5;241;43m*\u001b[39;49m\u001b[43mkwargs\u001b[49m\u001b[43m)\u001b[49m\n\u001b[1;32m    311\u001b[0m \u001b[38;5;66;03m# restore current_fx when nested context\u001b[39;00m\n\u001b[1;32m    312\u001b[0m pl_module\u001b[38;5;241m.\u001b[39m_current_fx_name \u001b[38;5;241m=\u001b[39m prev_fx_name\n",
      "File \u001b[0;32m~/Documents/Kraken Training/.conda/lib/python3.10/site-packages/lightning/pytorch/strategies/strategy.py:412\u001b[0m, in \u001b[0;36mStrategy.validation_step\u001b[0;34m(self, *args, **kwargs)\u001b[0m\n\u001b[1;32m    410\u001b[0m \u001b[38;5;28;01mif\u001b[39;00m \u001b[38;5;28mself\u001b[39m\u001b[38;5;241m.\u001b[39mmodel \u001b[38;5;241m!=\u001b[39m \u001b[38;5;28mself\u001b[39m\u001b[38;5;241m.\u001b[39mlightning_module:\n\u001b[1;32m    411\u001b[0m     \u001b[38;5;28;01mreturn\u001b[39;00m \u001b[38;5;28mself\u001b[39m\u001b[38;5;241m.\u001b[39m_forward_redirection(\u001b[38;5;28mself\u001b[39m\u001b[38;5;241m.\u001b[39mmodel, \u001b[38;5;28mself\u001b[39m\u001b[38;5;241m.\u001b[39mlightning_module, \u001b[38;5;124m\"\u001b[39m\u001b[38;5;124mvalidation_step\u001b[39m\u001b[38;5;124m\"\u001b[39m, \u001b[38;5;241m*\u001b[39margs, \u001b[38;5;241m*\u001b[39m\u001b[38;5;241m*\u001b[39mkwargs)\n\u001b[0;32m--> 412\u001b[0m \u001b[38;5;28;01mreturn\u001b[39;00m \u001b[38;5;28;43mself\u001b[39;49m\u001b[38;5;241;43m.\u001b[39;49m\u001b[43mlightning_module\u001b[49m\u001b[38;5;241;43m.\u001b[39;49m\u001b[43mvalidation_step\u001b[49m\u001b[43m(\u001b[49m\u001b[38;5;241;43m*\u001b[39;49m\u001b[43margs\u001b[49m\u001b[43m,\u001b[49m\u001b[43m \u001b[49m\u001b[38;5;241;43m*\u001b[39;49m\u001b[38;5;241;43m*\u001b[39;49m\u001b[43mkwargs\u001b[49m\u001b[43m)\u001b[49m\n",
      "File \u001b[0;32m~/Documents/Kraken Training/.conda/lib/python3.10/site-packages/kraken/lib/train.py:906\u001b[0m, in \u001b[0;36mSegmentationModel.validation_step\u001b[0;34m(self, batch, batch_idx)\u001b[0m\n\u001b[1;32m    903\u001b[0m \u001b[38;5;66;03m# scale target to output size\u001b[39;00m\n\u001b[1;32m    904\u001b[0m y \u001b[38;5;241m=\u001b[39m F\u001b[38;5;241m.\u001b[39minterpolate(y, size\u001b[38;5;241m=\u001b[39m(pred\u001b[38;5;241m.\u001b[39msize(\u001b[38;5;241m2\u001b[39m), pred\u001b[38;5;241m.\u001b[39msize(\u001b[38;5;241m3\u001b[39m)))\u001b[38;5;241m.\u001b[39mint()\n\u001b[0;32m--> 906\u001b[0m \u001b[38;5;28;43mself\u001b[39;49m\u001b[38;5;241;43m.\u001b[39;49m\u001b[43mval_px_accuracy\u001b[49m\u001b[38;5;241;43m.\u001b[39;49m\u001b[43mupdate\u001b[49m\u001b[43m(\u001b[49m\u001b[43mpred\u001b[49m\u001b[43m,\u001b[49m\u001b[43m \u001b[49m\u001b[43my\u001b[49m\u001b[43m)\u001b[49m\n\u001b[1;32m    907\u001b[0m \u001b[38;5;28mself\u001b[39m\u001b[38;5;241m.\u001b[39mval_mean_accuracy\u001b[38;5;241m.\u001b[39mupdate(pred, y)\n\u001b[1;32m    908\u001b[0m \u001b[38;5;28mself\u001b[39m\u001b[38;5;241m.\u001b[39mval_mean_iu\u001b[38;5;241m.\u001b[39mupdate(pred, y)\n",
      "File \u001b[0;32m~/Documents/Kraken Training/.conda/lib/python3.10/site-packages/torchmetrics/metric.py:492\u001b[0m, in \u001b[0;36mMetric._wrap_update.<locals>.wrapped_func\u001b[0;34m(*args, **kwargs)\u001b[0m\n\u001b[1;32m    484\u001b[0m         \u001b[38;5;28;01mif\u001b[39;00m \u001b[38;5;124m\"\u001b[39m\u001b[38;5;124mExpected all tensors to be on\u001b[39m\u001b[38;5;124m\"\u001b[39m \u001b[38;5;129;01min\u001b[39;00m \u001b[38;5;28mstr\u001b[39m(err):\n\u001b[1;32m    485\u001b[0m             \u001b[38;5;28;01mraise\u001b[39;00m \u001b[38;5;167;01mRuntimeError\u001b[39;00m(\n\u001b[1;32m    486\u001b[0m                 \u001b[38;5;124m\"\u001b[39m\u001b[38;5;124mEncountered different devices in metric calculation (see stacktrace for details).\u001b[39m\u001b[38;5;124m\"\u001b[39m\n\u001b[1;32m    487\u001b[0m                 \u001b[38;5;124m\"\u001b[39m\u001b[38;5;124m This could be due to the metric class not being on the same device as input.\u001b[39m\u001b[38;5;124m\"\u001b[39m\n\u001b[0;32m   (...)\u001b[0m\n\u001b[1;32m    490\u001b[0m                 \u001b[38;5;124m\"\u001b[39m\u001b[38;5;124m device corresponds to the device of the input.\u001b[39m\u001b[38;5;124m\"\u001b[39m\n\u001b[1;32m    491\u001b[0m             ) \u001b[38;5;28;01mfrom\u001b[39;00m \u001b[38;5;21;01merr\u001b[39;00m\n\u001b[0;32m--> 492\u001b[0m         \u001b[38;5;28;01mraise\u001b[39;00m err\n\u001b[1;32m    494\u001b[0m \u001b[38;5;28;01mif\u001b[39;00m \u001b[38;5;28mself\u001b[39m\u001b[38;5;241m.\u001b[39mcompute_on_cpu:\n\u001b[1;32m    495\u001b[0m     \u001b[38;5;28mself\u001b[39m\u001b[38;5;241m.\u001b[39m_move_list_states_to_cpu()\n",
      "File \u001b[0;32m~/Documents/Kraken Training/.conda/lib/python3.10/site-packages/torchmetrics/metric.py:482\u001b[0m, in \u001b[0;36mMetric._wrap_update.<locals>.wrapped_func\u001b[0;34m(*args, **kwargs)\u001b[0m\n\u001b[1;32m    480\u001b[0m \u001b[38;5;28;01mwith\u001b[39;00m torch\u001b[38;5;241m.\u001b[39mset_grad_enabled(\u001b[38;5;28mself\u001b[39m\u001b[38;5;241m.\u001b[39m_enable_grad):\n\u001b[1;32m    481\u001b[0m     \u001b[38;5;28;01mtry\u001b[39;00m:\n\u001b[0;32m--> 482\u001b[0m         \u001b[43mupdate\u001b[49m\u001b[43m(\u001b[49m\u001b[38;5;241;43m*\u001b[39;49m\u001b[43margs\u001b[49m\u001b[43m,\u001b[49m\u001b[43m \u001b[49m\u001b[38;5;241;43m*\u001b[39;49m\u001b[38;5;241;43m*\u001b[39;49m\u001b[43mkwargs\u001b[49m\u001b[43m)\u001b[49m\n\u001b[1;32m    483\u001b[0m     \u001b[38;5;28;01mexcept\u001b[39;00m \u001b[38;5;167;01mRuntimeError\u001b[39;00m \u001b[38;5;28;01mas\u001b[39;00m err:\n\u001b[1;32m    484\u001b[0m         \u001b[38;5;28;01mif\u001b[39;00m \u001b[38;5;124m\"\u001b[39m\u001b[38;5;124mExpected all tensors to be on\u001b[39m\u001b[38;5;124m\"\u001b[39m \u001b[38;5;129;01min\u001b[39;00m \u001b[38;5;28mstr\u001b[39m(err):\n",
      "File \u001b[0;32m~/Documents/Kraken Training/.conda/lib/python3.10/site-packages/torchmetrics/classification/stat_scores.py:489\u001b[0m, in \u001b[0;36mMultilabelStatScores.update\u001b[0;34m(self, preds, target)\u001b[0m\n\u001b[1;32m    487\u001b[0m \u001b[38;5;250m\u001b[39m\u001b[38;5;124;03m\"\"\"Update state with predictions and targets.\"\"\"\u001b[39;00m\n\u001b[1;32m    488\u001b[0m \u001b[38;5;28;01mif\u001b[39;00m \u001b[38;5;28mself\u001b[39m\u001b[38;5;241m.\u001b[39mvalidate_args:\n\u001b[0;32m--> 489\u001b[0m     \u001b[43m_multilabel_stat_scores_tensor_validation\u001b[49m\u001b[43m(\u001b[49m\n\u001b[1;32m    490\u001b[0m \u001b[43m        \u001b[49m\u001b[43mpreds\u001b[49m\u001b[43m,\u001b[49m\u001b[43m \u001b[49m\u001b[43mtarget\u001b[49m\u001b[43m,\u001b[49m\u001b[43m \u001b[49m\u001b[38;5;28;43mself\u001b[39;49m\u001b[38;5;241;43m.\u001b[39;49m\u001b[43mnum_labels\u001b[49m\u001b[43m,\u001b[49m\u001b[43m \u001b[49m\u001b[38;5;28;43mself\u001b[39;49m\u001b[38;5;241;43m.\u001b[39;49m\u001b[43mmultidim_average\u001b[49m\u001b[43m,\u001b[49m\u001b[43m \u001b[49m\u001b[38;5;28;43mself\u001b[39;49m\u001b[38;5;241;43m.\u001b[39;49m\u001b[43mignore_index\u001b[49m\n\u001b[1;32m    491\u001b[0m \u001b[43m    \u001b[49m\u001b[43m)\u001b[49m\n\u001b[1;32m    492\u001b[0m preds, target \u001b[38;5;241m=\u001b[39m _multilabel_stat_scores_format(\n\u001b[1;32m    493\u001b[0m     preds, target, \u001b[38;5;28mself\u001b[39m\u001b[38;5;241m.\u001b[39mnum_labels, \u001b[38;5;28mself\u001b[39m\u001b[38;5;241m.\u001b[39mthreshold, \u001b[38;5;28mself\u001b[39m\u001b[38;5;241m.\u001b[39mignore_index\n\u001b[1;32m    494\u001b[0m )\n\u001b[1;32m    495\u001b[0m tp, fp, tn, fn \u001b[38;5;241m=\u001b[39m _multilabel_stat_scores_update(preds, target, \u001b[38;5;28mself\u001b[39m\u001b[38;5;241m.\u001b[39mmultidim_average)\n",
      "File \u001b[0;32m~/Documents/Kraken Training/.conda/lib/python3.10/site-packages/torchmetrics/functional/classification/stat_scores.py:618\u001b[0m, in \u001b[0;36m_multilabel_stat_scores_tensor_validation\u001b[0;34m(preds, target, num_labels, multidim_average, ignore_index)\u001b[0m\n\u001b[1;32m    608\u001b[0m \u001b[38;5;250m\u001b[39m\u001b[38;5;124;03m\"\"\"Validate tensor input.\u001b[39;00m\n\u001b[1;32m    609\u001b[0m \n\u001b[1;32m    610\u001b[0m \u001b[38;5;124;03m- tensors have to be of same shape\u001b[39;00m\n\u001b[0;32m   (...)\u001b[0m\n\u001b[1;32m    615\u001b[0m \n\u001b[1;32m    616\u001b[0m \u001b[38;5;124;03m\"\"\"\u001b[39;00m\n\u001b[1;32m    617\u001b[0m \u001b[38;5;66;03m# Check that they have same shape\u001b[39;00m\n\u001b[0;32m--> 618\u001b[0m \u001b[43m_check_same_shape\u001b[49m\u001b[43m(\u001b[49m\u001b[43mpreds\u001b[49m\u001b[43m,\u001b[49m\u001b[43m \u001b[49m\u001b[43mtarget\u001b[49m\u001b[43m)\u001b[49m\n\u001b[1;32m    620\u001b[0m \u001b[38;5;28;01mif\u001b[39;00m preds\u001b[38;5;241m.\u001b[39mshape[\u001b[38;5;241m1\u001b[39m] \u001b[38;5;241m!=\u001b[39m num_labels:\n\u001b[1;32m    621\u001b[0m     \u001b[38;5;28;01mraise\u001b[39;00m \u001b[38;5;167;01mValueError\u001b[39;00m(\n\u001b[1;32m    622\u001b[0m         \u001b[38;5;124m\"\u001b[39m\u001b[38;5;124mExpected both `target.shape[1]` and `preds.shape[1]` to be equal to the number of labels\u001b[39m\u001b[38;5;124m\"\u001b[39m\n\u001b[1;32m    623\u001b[0m         \u001b[38;5;124mf\u001b[39m\u001b[38;5;124m\"\u001b[39m\u001b[38;5;124m but got \u001b[39m\u001b[38;5;132;01m{\u001b[39;00mpreds\u001b[38;5;241m.\u001b[39mshape[\u001b[38;5;241m1\u001b[39m]\u001b[38;5;132;01m}\u001b[39;00m\u001b[38;5;124m and expected \u001b[39m\u001b[38;5;132;01m{\u001b[39;00mnum_labels\u001b[38;5;132;01m}\u001b[39;00m\u001b[38;5;124m\"\u001b[39m\n\u001b[1;32m    624\u001b[0m     )\n",
      "File \u001b[0;32m~/Documents/Kraken Training/.conda/lib/python3.10/site-packages/torchmetrics/utilities/checks.py:42\u001b[0m, in \u001b[0;36m_check_same_shape\u001b[0;34m(preds, target)\u001b[0m\n\u001b[1;32m     40\u001b[0m \u001b[38;5;250m\u001b[39m\u001b[38;5;124;03m\"\"\"Check that predictions and target have the same shape, else raise error.\"\"\"\u001b[39;00m\n\u001b[1;32m     41\u001b[0m \u001b[38;5;28;01mif\u001b[39;00m preds\u001b[38;5;241m.\u001b[39mshape \u001b[38;5;241m!=\u001b[39m target\u001b[38;5;241m.\u001b[39mshape:\n\u001b[0;32m---> 42\u001b[0m     \u001b[38;5;28;01mraise\u001b[39;00m \u001b[38;5;167;01mRuntimeError\u001b[39;00m(\n\u001b[1;32m     43\u001b[0m         \u001b[38;5;124mf\u001b[39m\u001b[38;5;124m\"\u001b[39m\u001b[38;5;124mPredictions and targets are expected to have the same shape, but got \u001b[39m\u001b[38;5;132;01m{\u001b[39;00mpreds\u001b[38;5;241m.\u001b[39mshape\u001b[38;5;132;01m}\u001b[39;00m\u001b[38;5;124m and \u001b[39m\u001b[38;5;132;01m{\u001b[39;00mtarget\u001b[38;5;241m.\u001b[39mshape\u001b[38;5;132;01m}\u001b[39;00m\u001b[38;5;124m.\u001b[39m\u001b[38;5;124m\"\u001b[39m\n\u001b[1;32m     44\u001b[0m     )\n",
      "\u001b[0;31mRuntimeError\u001b[0m: Predictions and targets are expected to have the same shape, but got torch.Size([1, 7, 450, 348]) and torch.Size([1, 6, 450, 348])."
     ]
    }
   ],
   "source": [
    "# train the model\n",
    "seg_trainer.fit(seg_model)\n"
   ]
  },
  {
   "cell_type": "markdown",
   "id": "5a3e27b3",
   "metadata": {},
   "source": [
    "### Compile the Training Dataset into Binary Format\n",
    "\n",
    "This is not required, but a binary dataset is substantially faster than a set of xml files for training. It can only be used to train a recognition model (i.e. not a segmentation one)."
   ]
  },
  {
   "cell_type": "code",
   "execution_count": 4,
   "id": "f8f2f390",
   "metadata": {},
   "outputs": [
    {
     "data": {
      "application/vnd.jupyter.widget-view+json": {
       "model_id": "8a6481bda81a46f195c3c1c0db0443bb",
       "version_major": 2,
       "version_minor": 0
      },
      "text/plain": [
       "Output()"
      ]
     },
     "metadata": {},
     "output_type": "display_data"
    },
    {
     "data": {
      "text/html": [
       "<pre style=\"white-space:pre;overflow-x:auto;line-height:normal;font-family:Menlo,'DejaVu Sans Mono',consolas,'Courier New',monospace\">Region eSc_dummyblock_ without coordinates\n",
       "</pre>\n"
      ],
      "text/plain": [
       "Region eSc_dummyblock_ without coordinates\n"
      ]
     },
     "metadata": {},
     "output_type": "display_data"
    },
    {
     "data": {
      "text/html": [
       "<pre style=\"white-space:pre;overflow-x:auto;line-height:normal;font-family:Menlo,'DejaVu Sans Mono',consolas,'Courier New',monospace\">Region eSc_dummyblock_ without coordinates\n",
       "</pre>\n"
      ],
      "text/plain": [
       "Region eSc_dummyblock_ without coordinates\n"
      ]
     },
     "metadata": {},
     "output_type": "display_data"
    },
    {
     "data": {
      "text/html": [
       "<pre style=\"white-space:pre;overflow-x:auto;line-height:normal;font-family:Menlo,'DejaVu Sans Mono',consolas,'Courier New',monospace\"></pre>\n"
      ],
      "text/plain": []
     },
     "metadata": {},
     "output_type": "display_data"
    },
    {
     "data": {
      "text/html": [
       "<pre style=\"white-space:pre;overflow-x:auto;line-height:normal;font-family:Menlo,'DejaVu Sans Mono',consolas,'Courier New',monospace\">\n",
       "</pre>\n"
      ],
      "text/plain": [
       "\n"
      ]
     },
     "metadata": {},
     "output_type": "display_data"
    }
   ],
   "source": [
    "# compile training dataset into binary format (massive speed improvement over files)\n",
    "with KrakenProgressBar() as progress:\n",
    "    extract_task = progress.add_task('Extracting lines', total=0, start=False, visible=True)\n",
    "    \n",
    "    arrow_dataset.build_binary_dataset(\n",
    "        files=xml,\n",
    "        output_file='W/11.20/training_dataset.arrow',\n",
    "        format_type='page', # `xml`, `alto`, `page`, `path`, or None\n",
    "        num_workers=0, # parallelized extraction, `0`= no parallelism\n",
    "        ignore_splits=False, # enable/disable serialization of train/validation/test splits in the source files\n",
    "        random_split=None, # serialize random split into the dataset with (train, val, test)\n",
    "        force_type='kraken_recognition_baseline', # force a dataset type, `kraken_recognition_baseline` / `kraken_recognition_bbox`\n",
    "        recordbatch_size=100, # minimum number of records per RecordBatch written to output\n",
    "        skip_empty_lines=True, # do not compile empty text lines into the dataset\n",
    "        callback = lambda advance, total: progress.update(extract_task, total=total, advance=advance)\n",
    "    )\n"
   ]
  },
  {
   "cell_type": "markdown",
   "id": "c00a44cc",
   "metadata": {},
   "source": [
    "### Train a Recognition Model"
   ]
  },
  {
   "cell_type": "code",
   "execution_count": 32,
   "id": "2c9b7cd9",
   "metadata": {},
   "outputs": [],
   "source": [
    "# copy default hyper-parameters\n",
    "rec_hyper_params = RECOGNITION_HYPER_PARAMS.copy()\n",
    "# and modify as necessary\n",
    "rec_hyper_params.update({\n",
    "    'pad': 16, # left/right padding around lines\n",
    "    'freq': 1.0, # model saving/report generation frequency (in epochs)\n",
    "    'batch_size': 1, # batch sample size\n",
    "    'quit': 'early', # stop condition for training, `early` or `dumb` (fixed number of epochs)\n",
    "    'epochs': -1, # number of epochs to train for\n",
    "    'min_epochs': 10, # minimum number of epochs to train for when using early stopping\n",
    "    'lag': 10, # number of evaluations to wait before stopping training without improvement\n",
    "    'min_delta': None, # minimum improvement between epochs to reset early stopping, None=scale delta by best loss\n",
    "    'optimizer': 'Adam', # optimizer: 'Adam', 'SGD', 'RMSprop', 'Lamb'\n",
    "    #'lrate': 1e-3, # learning rate\n",
    "    \"lrate\": 0.0003426459057850771,\n",
    "    \"mask_prob\": 0.021118124693851062,\n",
    "    \"mask_width\": 4,\n",
    "    \"num_negatives\": 56,\n",
    "    #\"lrate\": 1.4898468934950387e-05,\n",
    "    #\"mask_prob\": 0.041236782381262986,\n",
    "    #\"mask_width\": 4,\n",
    "    #\"num_negatives\": 72,\n",
    "    'momentum': 0.9, # momentum\n",
    "    'weight_decay': 0.0, # weight decay\n",
    "    'schedule': 'constant', # lr scheduler: 'constant', '1cycle', 'exponential', 'cosine', 'step', 'reduceonplateau'\n",
    "    'normalization': None, # ground truth normalization\n",
    "    'normalize_whitespace': True, # normalizes unicode whitespace'\n",
    "    'completed_epochs': 0,\n",
    "    'augment': False, # enable image augmentation\n",
    "    'step_size': 10, # step decay (validation runs between learning rate decay for exponential and step schedules)\n",
    "    'gamma': 0.1, # exp decay (factor for exponential, step, and reduceonplateau schedules)\n",
    "    'rop_factor': 0.1, # exp decay for reduce on plateau \n",
    "    'rop_patience': 5, # step decay for reduce on plateau\n",
    "    'cos_t_max': 50, # epoch of minimal learning rate for cosine scheduler\n",
    "    'warmup': 0, # number of steps to ramp up to `lrate` initial lr\n",
    "    'freeze_backbone': 0, # number of samples to keep everything but last layer frozen\n",
    "    'pl_logger': 'tensorboard', # loggers\n",
    "})\n"
   ]
  },
  {
   "cell_type": "code",
   "execution_count": 33,
   "id": "57034067",
   "metadata": {},
   "outputs": [],
   "source": [
    "# create the model\n",
    "rec_model = RecognitionModel(\n",
    "    hyper_params=rec_hyper_params, # hyperparameters\n",
    "    output='W/11.20/out_print/W_1_highLR', # output model file\n",
    "    spec=RECOGNITION_SPEC, # VGSL spec of the network to train (CTC layer added automatically)\n",
    "    append=None, # remove layers before argument and append spec (only for loading existing model)\n",
    "    model='print_transcription_new.mlmodel', # existing model file to load and continue training\n",
    "    reorder=True, # reorder code points to display order\n",
    "    training_data=['W/11.20/training_dataset.arrow'], # list with path to binary or xml files\n",
    "    evaluation_data=None, # path to binary or list of xml files\n",
    "    partition=0.9, # ground truth partition train/validation ratio, set to 1 if evaluation_data is passed\n",
    "    binary_dataset_split=False, # whether to honour fixed splits in binary datasets\n",
    "    num_workers=0, # number of OpenMP threads when running on CPU\n",
    "    load_hyper_parameters=True, # retrieve hyper-parameters model when loading existing file\n",
    "    #repolygonize=False, # repolygonize line data in ALTO/PageXML files\n",
    "    force_binarization=False, # forces input images to be binary, otherwise auto determines format\n",
    "    format_type='binary', # `xml`, `alto`, `page`, `path`, or 'binary'\n",
    "    codec=None, # load a codec JSON definition (invalid if loading existing model)\n",
    "    resize='both' # resize output layer: 'add' new classes, 'both' add and set to match, 'fail' abort if no match\n",
    ")\n"
   ]
  },
  {
   "cell_type": "code",
   "execution_count": 34,
   "id": "92cb0a6e",
   "metadata": {},
   "outputs": [
    {
     "name": "stderr",
     "output_type": "stream",
     "text": [
      "GPU available: True (cuda), used: True\n",
      "TPU available: False, using: 0 TPU cores\n",
      "IPU available: False, using: 0 IPUs\n",
      "HPU available: False, using: 0 HPUs\n",
      "`Trainer(val_check_interval=1.0)` was configured so validation will run at the end of the training epoch..\n"
     ]
    }
   ],
   "source": [
    "# define how often to assess values while training\n",
    "val_check_interval = {\n",
    "    'check_val_every_n_epoch': int(rec_hyper_params['freq'])\n",
    "} if rec_hyper_params['freq'] > 1 else {\n",
    "    'val_check_interval': rec_hyper_params['freq']\n",
    "}\n",
    "\n",
    "# define the trainer\n",
    "rec_trainer = KrakenTrainer(\n",
    "    accelerator='cuda', # use mps for gpu (several unsupported functions for M1)\n",
    "    devices=1, # cpu cores when used with accelerator=cpu, 1 when used with mps\n",
    "    precision=32, # numerical precision for training (default is 32-bit single-point),\n",
    "    max_epochs=rec_hyper_params['epochs'] if rec_hyper_params['quit'] == 'dumb' else -1,\n",
    "    min_epochs=rec_hyper_params['min_epochs'],\n",
    "    freeze_backbone=rec_hyper_params['freeze_backbone'],\n",
    "    enable_progress_bar=True, # show progress bar\n",
    "    deterministic=False, # use deterministic training (seed default = 42)\n",
    "    pl_logger='tensorboard', # logger\n",
    "    log_dir='W/11.20/out_print/logs', # directory for logger\n",
    "    **val_check_interval\n",
    ")\n"
   ]
  },
  {
   "cell_type": "code",
   "execution_count": 35,
   "id": "faf6e58b",
   "metadata": {},
   "outputs": [
    {
     "data": {
      "text/plain": [
       "Launching TensorBoard..."
      ]
     },
     "metadata": {},
     "output_type": "display_data"
    },
    {
     "data": {
      "text/html": [
       "\n",
       "      <iframe id=\"tensorboard-frame-6d97e32dcf7fa2ab\" width=\"100%\" height=\"800\" frameborder=\"0\">\n",
       "      </iframe>\n",
       "      <script>\n",
       "        (function() {\n",
       "          const frame = document.getElementById(\"tensorboard-frame-6d97e32dcf7fa2ab\");\n",
       "          const url = new URL(\"http://localhost\");\n",
       "          const port = 6007;\n",
       "          if (port) {\n",
       "            url.port = port;\n",
       "          }\n",
       "          frame.src = url;\n",
       "        })();\n",
       "      </script>\n",
       "    "
      ],
      "text/plain": [
       "<IPython.core.display.HTML object>"
      ]
     },
     "metadata": {},
     "output_type": "display_data"
    }
   ],
   "source": [
    "# load TensorBoard dashboard - this won't work if there's a version already running\n",
    "%tensorboard --logdir 'W/11.20/out_print/logs'"
   ]
  },
  {
   "cell_type": "code",
   "execution_count": 36,
   "id": "d87b2208",
   "metadata": {},
   "outputs": [
    {
     "name": "stderr",
     "output_type": "stream",
     "text": [
      "Neural network has been trained on mode 1 images, training set contains mode L data. Consider setting `force_binarization`\n",
      "LOCAL_RANK: 0 - CUDA_VISIBLE_DEVICES: [0]\n"
     ]
    },
    {
     "data": {
      "text/html": [
       "<pre style=\"white-space:pre;overflow-x:auto;line-height:normal;font-family:Menlo,'DejaVu Sans Mono',consolas,'Courier New',monospace\">┏━━━━┳━━━━━━━━━━━┳━━━━━━━━━━━━━━━━━━━━━━━━━━┳━━━━━━━━┳━━━━━━━━━━━━━━━━━━━━━━━━━━━━━━━┳━━━━━━━━━━━━━━━━━━━━━━━━━━┓\n",
       "┃<span style=\"color: #800080; text-decoration-color: #800080; font-weight: bold\">    </span>┃<span style=\"color: #800080; text-decoration-color: #800080; font-weight: bold\"> Name      </span>┃<span style=\"color: #800080; text-decoration-color: #800080; font-weight: bold\"> Type                     </span>┃<span style=\"color: #800080; text-decoration-color: #800080; font-weight: bold\"> Params </span>┃<span style=\"color: #800080; text-decoration-color: #800080; font-weight: bold\">                      In sizes </span>┃<span style=\"color: #800080; text-decoration-color: #800080; font-weight: bold\">                Out sizes </span>┃\n",
       "┡━━━━╇━━━━━━━━━━━╇━━━━━━━━━━━━━━━━━━━━━━━━━━╇━━━━━━━━╇━━━━━━━━━━━━━━━━━━━━━━━━━━━━━━━╇━━━━━━━━━━━━━━━━━━━━━━━━━━┩\n",
       "│<span style=\"color: #7f7f7f; text-decoration-color: #7f7f7f\"> 0  </span>│ val_cer   │ CharErrorRate            │      0 │<span style=\"color: #c0c0c0; text-decoration-color: #c0c0c0\">                             ? </span>│<span style=\"color: #c0c0c0; text-decoration-color: #c0c0c0\">                        ? </span>│\n",
       "│<span style=\"color: #7f7f7f; text-decoration-color: #7f7f7f\"> 1  </span>│ val_wer   │ WordErrorRate            │      0 │<span style=\"color: #c0c0c0; text-decoration-color: #c0c0c0\">                             ? </span>│<span style=\"color: #c0c0c0; text-decoration-color: #c0c0c0\">                        ? </span>│\n",
       "│<span style=\"color: #7f7f7f; text-decoration-color: #7f7f7f\"> 2  </span>│ net       │ MultiParamSequential     │  5.0 M │<span style=\"color: #c0c0c0; text-decoration-color: #c0c0c0\">       [[1, 1, 120, 400], '?'] </span>│<span style=\"color: #c0c0c0; text-decoration-color: #c0c0c0\">   [[1, 177, 1, 50], '?'] </span>│\n",
       "│<span style=\"color: #7f7f7f; text-decoration-color: #7f7f7f\"> 3  </span>│ net.C_0   │ ActConv2D                │  1.3 K │<span style=\"color: #c0c0c0; text-decoration-color: #c0c0c0\">  [[1, 1, 120, 400], '?', '?'] </span>│<span style=\"color: #c0c0c0; text-decoration-color: #c0c0c0\"> [[1, 32, 120, 400], '?'] </span>│\n",
       "│<span style=\"color: #7f7f7f; text-decoration-color: #7f7f7f\"> 4  </span>│ net.Do_1  │ Dropout                  │      0 │<span style=\"color: #c0c0c0; text-decoration-color: #c0c0c0\"> [[1, 32, 120, 400], '?', '?'] </span>│<span style=\"color: #c0c0c0; text-decoration-color: #c0c0c0\"> [[1, 32, 120, 400], '?'] </span>│\n",
       "│<span style=\"color: #7f7f7f; text-decoration-color: #7f7f7f\"> 5  </span>│ net.Mp_2  │ MaxPool                  │      0 │<span style=\"color: #c0c0c0; text-decoration-color: #c0c0c0\"> [[1, 32, 120, 400], '?', '?'] </span>│<span style=\"color: #c0c0c0; text-decoration-color: #c0c0c0\">  [[1, 32, 60, 200], '?'] </span>│\n",
       "│<span style=\"color: #7f7f7f; text-decoration-color: #7f7f7f\"> 6  </span>│ net.C_3   │ ActConv2D                │ 40.0 K │<span style=\"color: #c0c0c0; text-decoration-color: #c0c0c0\">  [[1, 32, 60, 200], '?', '?'] </span>│<span style=\"color: #c0c0c0; text-decoration-color: #c0c0c0\">  [[1, 32, 60, 200], '?'] </span>│\n",
       "│<span style=\"color: #7f7f7f; text-decoration-color: #7f7f7f\"> 7  </span>│ net.Do_4  │ Dropout                  │      0 │<span style=\"color: #c0c0c0; text-decoration-color: #c0c0c0\">  [[1, 32, 60, 200], '?', '?'] </span>│<span style=\"color: #c0c0c0; text-decoration-color: #c0c0c0\">  [[1, 32, 60, 200], '?'] </span>│\n",
       "│<span style=\"color: #7f7f7f; text-decoration-color: #7f7f7f\"> 8  </span>│ net.Mp_5  │ MaxPool                  │      0 │<span style=\"color: #c0c0c0; text-decoration-color: #c0c0c0\">  [[1, 32, 60, 200], '?', '?'] </span>│<span style=\"color: #c0c0c0; text-decoration-color: #c0c0c0\">  [[1, 32, 30, 100], '?'] </span>│\n",
       "│<span style=\"color: #7f7f7f; text-decoration-color: #7f7f7f\"> 9  </span>│ net.C_6   │ ActConv2D                │ 55.4 K │<span style=\"color: #c0c0c0; text-decoration-color: #c0c0c0\">  [[1, 32, 30, 100], '?', '?'] </span>│<span style=\"color: #c0c0c0; text-decoration-color: #c0c0c0\">  [[1, 64, 30, 100], '?'] </span>│\n",
       "│<span style=\"color: #7f7f7f; text-decoration-color: #7f7f7f\"> 10 </span>│ net.Do_7  │ Dropout                  │      0 │<span style=\"color: #c0c0c0; text-decoration-color: #c0c0c0\">  [[1, 64, 30, 100], '?', '?'] </span>│<span style=\"color: #c0c0c0; text-decoration-color: #c0c0c0\">  [[1, 64, 30, 100], '?'] </span>│\n",
       "│<span style=\"color: #7f7f7f; text-decoration-color: #7f7f7f\"> 11 </span>│ net.Mp_8  │ MaxPool                  │      0 │<span style=\"color: #c0c0c0; text-decoration-color: #c0c0c0\">  [[1, 64, 30, 100], '?', '?'] </span>│<span style=\"color: #c0c0c0; text-decoration-color: #c0c0c0\">   [[1, 64, 15, 50], '?'] </span>│\n",
       "│<span style=\"color: #7f7f7f; text-decoration-color: #7f7f7f\"> 12 </span>│ net.C_9   │ ActConv2D                │  110 K │<span style=\"color: #c0c0c0; text-decoration-color: #c0c0c0\">   [[1, 64, 15, 50], '?', '?'] </span>│<span style=\"color: #c0c0c0; text-decoration-color: #c0c0c0\">   [[1, 64, 15, 50], '?'] </span>│\n",
       "│<span style=\"color: #7f7f7f; text-decoration-color: #7f7f7f\"> 13 </span>│ net.Do_10 │ Dropout                  │      0 │<span style=\"color: #c0c0c0; text-decoration-color: #c0c0c0\">   [[1, 64, 15, 50], '?', '?'] </span>│<span style=\"color: #c0c0c0; text-decoration-color: #c0c0c0\">   [[1, 64, 15, 50], '?'] </span>│\n",
       "│<span style=\"color: #7f7f7f; text-decoration-color: #7f7f7f\"> 14 </span>│ net.S_11  │ Reshape                  │      0 │<span style=\"color: #c0c0c0; text-decoration-color: #c0c0c0\">   [[1, 64, 15, 50], '?', '?'] </span>│<span style=\"color: #c0c0c0; text-decoration-color: #c0c0c0\">   [[1, 960, 1, 50], '?'] </span>│\n",
       "│<span style=\"color: #7f7f7f; text-decoration-color: #7f7f7f\"> 15 </span>│ net.L_12  │ TransposedSummarizingRNN │  1.9 M │<span style=\"color: #c0c0c0; text-decoration-color: #c0c0c0\">   [[1, 960, 1, 50], '?', '?'] </span>│<span style=\"color: #c0c0c0; text-decoration-color: #c0c0c0\">   [[1, 400, 1, 50], '?'] </span>│\n",
       "│<span style=\"color: #7f7f7f; text-decoration-color: #7f7f7f\"> 16 </span>│ net.Do_13 │ Dropout                  │      0 │<span style=\"color: #c0c0c0; text-decoration-color: #c0c0c0\">   [[1, 400, 1, 50], '?', '?'] </span>│<span style=\"color: #c0c0c0; text-decoration-color: #c0c0c0\">   [[1, 400, 1, 50], '?'] </span>│\n",
       "│<span style=\"color: #7f7f7f; text-decoration-color: #7f7f7f\"> 17 </span>│ net.L_14  │ TransposedSummarizingRNN │  963 K │<span style=\"color: #c0c0c0; text-decoration-color: #c0c0c0\">   [[1, 400, 1, 50], '?', '?'] </span>│<span style=\"color: #c0c0c0; text-decoration-color: #c0c0c0\">   [[1, 400, 1, 50], '?'] </span>│\n",
       "│<span style=\"color: #7f7f7f; text-decoration-color: #7f7f7f\"> 18 </span>│ net.Do_15 │ Dropout                  │      0 │<span style=\"color: #c0c0c0; text-decoration-color: #c0c0c0\">   [[1, 400, 1, 50], '?', '?'] </span>│<span style=\"color: #c0c0c0; text-decoration-color: #c0c0c0\">   [[1, 400, 1, 50], '?'] </span>│\n",
       "│<span style=\"color: #7f7f7f; text-decoration-color: #7f7f7f\"> 19 </span>│ net.L_16  │ TransposedSummarizingRNN │  963 K │<span style=\"color: #c0c0c0; text-decoration-color: #c0c0c0\">   [[1, 400, 1, 50], '?', '?'] </span>│<span style=\"color: #c0c0c0; text-decoration-color: #c0c0c0\">   [[1, 400, 1, 50], '?'] </span>│\n",
       "│<span style=\"color: #7f7f7f; text-decoration-color: #7f7f7f\"> 20 </span>│ net.Do_17 │ Dropout                  │      0 │<span style=\"color: #c0c0c0; text-decoration-color: #c0c0c0\">   [[1, 400, 1, 50], '?', '?'] </span>│<span style=\"color: #c0c0c0; text-decoration-color: #c0c0c0\">   [[1, 400, 1, 50], '?'] </span>│\n",
       "│<span style=\"color: #7f7f7f; text-decoration-color: #7f7f7f\"> 21 </span>│ net.L_18  │ TransposedSummarizingRNN │  963 K │<span style=\"color: #c0c0c0; text-decoration-color: #c0c0c0\">   [[1, 400, 1, 50], '?', '?'] </span>│<span style=\"color: #c0c0c0; text-decoration-color: #c0c0c0\">   [[1, 400, 1, 50], '?'] </span>│\n",
       "│<span style=\"color: #7f7f7f; text-decoration-color: #7f7f7f\"> 22 </span>│ net.Do_19 │ Dropout                  │      0 │<span style=\"color: #c0c0c0; text-decoration-color: #c0c0c0\">   [[1, 400, 1, 50], '?', '?'] </span>│<span style=\"color: #c0c0c0; text-decoration-color: #c0c0c0\">   [[1, 400, 1, 50], '?'] </span>│\n",
       "│<span style=\"color: #7f7f7f; text-decoration-color: #7f7f7f\"> 23 </span>│ net.O_20  │ LinSoftmax               │ 71.0 K │<span style=\"color: #c0c0c0; text-decoration-color: #c0c0c0\">   [[1, 400, 1, 50], '?', '?'] </span>│<span style=\"color: #c0c0c0; text-decoration-color: #c0c0c0\">   [[1, 177, 1, 50], '?'] </span>│\n",
       "└────┴───────────┴──────────────────────────┴────────┴───────────────────────────────┴──────────────────────────┘\n",
       "</pre>\n"
      ],
      "text/plain": [
       "┏━━━━┳━━━━━━━━━━━┳━━━━━━━━━━━━━━━━━━━━━━━━━━┳━━━━━━━━┳━━━━━━━━━━━━━━━━━━━━━━━━━━━━━━━┳━━━━━━━━━━━━━━━━━━━━━━━━━━┓\n",
       "┃\u001b[1;35m \u001b[0m\u001b[1;35m  \u001b[0m\u001b[1;35m \u001b[0m┃\u001b[1;35m \u001b[0m\u001b[1;35mName     \u001b[0m\u001b[1;35m \u001b[0m┃\u001b[1;35m \u001b[0m\u001b[1;35mType                    \u001b[0m\u001b[1;35m \u001b[0m┃\u001b[1;35m \u001b[0m\u001b[1;35mParams\u001b[0m\u001b[1;35m \u001b[0m┃\u001b[1;35m \u001b[0m\u001b[1;35m                     In sizes\u001b[0m\u001b[1;35m \u001b[0m┃\u001b[1;35m \u001b[0m\u001b[1;35m               Out sizes\u001b[0m\u001b[1;35m \u001b[0m┃\n",
       "┡━━━━╇━━━━━━━━━━━╇━━━━━━━━━━━━━━━━━━━━━━━━━━╇━━━━━━━━╇━━━━━━━━━━━━━━━━━━━━━━━━━━━━━━━╇━━━━━━━━━━━━━━━━━━━━━━━━━━┩\n",
       "│\u001b[2m \u001b[0m\u001b[2m0 \u001b[0m\u001b[2m \u001b[0m│ val_cer   │ CharErrorRate            │      0 │\u001b[37m \u001b[0m\u001b[37m                            ?\u001b[0m\u001b[37m \u001b[0m│\u001b[37m \u001b[0m\u001b[37m                       ?\u001b[0m\u001b[37m \u001b[0m│\n",
       "│\u001b[2m \u001b[0m\u001b[2m1 \u001b[0m\u001b[2m \u001b[0m│ val_wer   │ WordErrorRate            │      0 │\u001b[37m \u001b[0m\u001b[37m                            ?\u001b[0m\u001b[37m \u001b[0m│\u001b[37m \u001b[0m\u001b[37m                       ?\u001b[0m\u001b[37m \u001b[0m│\n",
       "│\u001b[2m \u001b[0m\u001b[2m2 \u001b[0m\u001b[2m \u001b[0m│ net       │ MultiParamSequential     │  5.0 M │\u001b[37m \u001b[0m\u001b[37m      [[1, 1, 120, 400], '?']\u001b[0m\u001b[37m \u001b[0m│\u001b[37m \u001b[0m\u001b[37m  [[1, 177, 1, 50], '?']\u001b[0m\u001b[37m \u001b[0m│\n",
       "│\u001b[2m \u001b[0m\u001b[2m3 \u001b[0m\u001b[2m \u001b[0m│ net.C_0   │ ActConv2D                │  1.3 K │\u001b[37m \u001b[0m\u001b[37m [[1, 1, 120, 400], '?', '?']\u001b[0m\u001b[37m \u001b[0m│\u001b[37m \u001b[0m\u001b[37m[[1, 32, 120, 400], '?']\u001b[0m\u001b[37m \u001b[0m│\n",
       "│\u001b[2m \u001b[0m\u001b[2m4 \u001b[0m\u001b[2m \u001b[0m│ net.Do_1  │ Dropout                  │      0 │\u001b[37m \u001b[0m\u001b[37m[[1, 32, 120, 400], '?', '?']\u001b[0m\u001b[37m \u001b[0m│\u001b[37m \u001b[0m\u001b[37m[[1, 32, 120, 400], '?']\u001b[0m\u001b[37m \u001b[0m│\n",
       "│\u001b[2m \u001b[0m\u001b[2m5 \u001b[0m\u001b[2m \u001b[0m│ net.Mp_2  │ MaxPool                  │      0 │\u001b[37m \u001b[0m\u001b[37m[[1, 32, 120, 400], '?', '?']\u001b[0m\u001b[37m \u001b[0m│\u001b[37m \u001b[0m\u001b[37m [[1, 32, 60, 200], '?']\u001b[0m\u001b[37m \u001b[0m│\n",
       "│\u001b[2m \u001b[0m\u001b[2m6 \u001b[0m\u001b[2m \u001b[0m│ net.C_3   │ ActConv2D                │ 40.0 K │\u001b[37m \u001b[0m\u001b[37m [[1, 32, 60, 200], '?', '?']\u001b[0m\u001b[37m \u001b[0m│\u001b[37m \u001b[0m\u001b[37m [[1, 32, 60, 200], '?']\u001b[0m\u001b[37m \u001b[0m│\n",
       "│\u001b[2m \u001b[0m\u001b[2m7 \u001b[0m\u001b[2m \u001b[0m│ net.Do_4  │ Dropout                  │      0 │\u001b[37m \u001b[0m\u001b[37m [[1, 32, 60, 200], '?', '?']\u001b[0m\u001b[37m \u001b[0m│\u001b[37m \u001b[0m\u001b[37m [[1, 32, 60, 200], '?']\u001b[0m\u001b[37m \u001b[0m│\n",
       "│\u001b[2m \u001b[0m\u001b[2m8 \u001b[0m\u001b[2m \u001b[0m│ net.Mp_5  │ MaxPool                  │      0 │\u001b[37m \u001b[0m\u001b[37m [[1, 32, 60, 200], '?', '?']\u001b[0m\u001b[37m \u001b[0m│\u001b[37m \u001b[0m\u001b[37m [[1, 32, 30, 100], '?']\u001b[0m\u001b[37m \u001b[0m│\n",
       "│\u001b[2m \u001b[0m\u001b[2m9 \u001b[0m\u001b[2m \u001b[0m│ net.C_6   │ ActConv2D                │ 55.4 K │\u001b[37m \u001b[0m\u001b[37m [[1, 32, 30, 100], '?', '?']\u001b[0m\u001b[37m \u001b[0m│\u001b[37m \u001b[0m\u001b[37m [[1, 64, 30, 100], '?']\u001b[0m\u001b[37m \u001b[0m│\n",
       "│\u001b[2m \u001b[0m\u001b[2m10\u001b[0m\u001b[2m \u001b[0m│ net.Do_7  │ Dropout                  │      0 │\u001b[37m \u001b[0m\u001b[37m [[1, 64, 30, 100], '?', '?']\u001b[0m\u001b[37m \u001b[0m│\u001b[37m \u001b[0m\u001b[37m [[1, 64, 30, 100], '?']\u001b[0m\u001b[37m \u001b[0m│\n",
       "│\u001b[2m \u001b[0m\u001b[2m11\u001b[0m\u001b[2m \u001b[0m│ net.Mp_8  │ MaxPool                  │      0 │\u001b[37m \u001b[0m\u001b[37m [[1, 64, 30, 100], '?', '?']\u001b[0m\u001b[37m \u001b[0m│\u001b[37m \u001b[0m\u001b[37m  [[1, 64, 15, 50], '?']\u001b[0m\u001b[37m \u001b[0m│\n",
       "│\u001b[2m \u001b[0m\u001b[2m12\u001b[0m\u001b[2m \u001b[0m│ net.C_9   │ ActConv2D                │  110 K │\u001b[37m \u001b[0m\u001b[37m  [[1, 64, 15, 50], '?', '?']\u001b[0m\u001b[37m \u001b[0m│\u001b[37m \u001b[0m\u001b[37m  [[1, 64, 15, 50], '?']\u001b[0m\u001b[37m \u001b[0m│\n",
       "│\u001b[2m \u001b[0m\u001b[2m13\u001b[0m\u001b[2m \u001b[0m│ net.Do_10 │ Dropout                  │      0 │\u001b[37m \u001b[0m\u001b[37m  [[1, 64, 15, 50], '?', '?']\u001b[0m\u001b[37m \u001b[0m│\u001b[37m \u001b[0m\u001b[37m  [[1, 64, 15, 50], '?']\u001b[0m\u001b[37m \u001b[0m│\n",
       "│\u001b[2m \u001b[0m\u001b[2m14\u001b[0m\u001b[2m \u001b[0m│ net.S_11  │ Reshape                  │      0 │\u001b[37m \u001b[0m\u001b[37m  [[1, 64, 15, 50], '?', '?']\u001b[0m\u001b[37m \u001b[0m│\u001b[37m \u001b[0m\u001b[37m  [[1, 960, 1, 50], '?']\u001b[0m\u001b[37m \u001b[0m│\n",
       "│\u001b[2m \u001b[0m\u001b[2m15\u001b[0m\u001b[2m \u001b[0m│ net.L_12  │ TransposedSummarizingRNN │  1.9 M │\u001b[37m \u001b[0m\u001b[37m  [[1, 960, 1, 50], '?', '?']\u001b[0m\u001b[37m \u001b[0m│\u001b[37m \u001b[0m\u001b[37m  [[1, 400, 1, 50], '?']\u001b[0m\u001b[37m \u001b[0m│\n",
       "│\u001b[2m \u001b[0m\u001b[2m16\u001b[0m\u001b[2m \u001b[0m│ net.Do_13 │ Dropout                  │      0 │\u001b[37m \u001b[0m\u001b[37m  [[1, 400, 1, 50], '?', '?']\u001b[0m\u001b[37m \u001b[0m│\u001b[37m \u001b[0m\u001b[37m  [[1, 400, 1, 50], '?']\u001b[0m\u001b[37m \u001b[0m│\n",
       "│\u001b[2m \u001b[0m\u001b[2m17\u001b[0m\u001b[2m \u001b[0m│ net.L_14  │ TransposedSummarizingRNN │  963 K │\u001b[37m \u001b[0m\u001b[37m  [[1, 400, 1, 50], '?', '?']\u001b[0m\u001b[37m \u001b[0m│\u001b[37m \u001b[0m\u001b[37m  [[1, 400, 1, 50], '?']\u001b[0m\u001b[37m \u001b[0m│\n",
       "│\u001b[2m \u001b[0m\u001b[2m18\u001b[0m\u001b[2m \u001b[0m│ net.Do_15 │ Dropout                  │      0 │\u001b[37m \u001b[0m\u001b[37m  [[1, 400, 1, 50], '?', '?']\u001b[0m\u001b[37m \u001b[0m│\u001b[37m \u001b[0m\u001b[37m  [[1, 400, 1, 50], '?']\u001b[0m\u001b[37m \u001b[0m│\n",
       "│\u001b[2m \u001b[0m\u001b[2m19\u001b[0m\u001b[2m \u001b[0m│ net.L_16  │ TransposedSummarizingRNN │  963 K │\u001b[37m \u001b[0m\u001b[37m  [[1, 400, 1, 50], '?', '?']\u001b[0m\u001b[37m \u001b[0m│\u001b[37m \u001b[0m\u001b[37m  [[1, 400, 1, 50], '?']\u001b[0m\u001b[37m \u001b[0m│\n",
       "│\u001b[2m \u001b[0m\u001b[2m20\u001b[0m\u001b[2m \u001b[0m│ net.Do_17 │ Dropout                  │      0 │\u001b[37m \u001b[0m\u001b[37m  [[1, 400, 1, 50], '?', '?']\u001b[0m\u001b[37m \u001b[0m│\u001b[37m \u001b[0m\u001b[37m  [[1, 400, 1, 50], '?']\u001b[0m\u001b[37m \u001b[0m│\n",
       "│\u001b[2m \u001b[0m\u001b[2m21\u001b[0m\u001b[2m \u001b[0m│ net.L_18  │ TransposedSummarizingRNN │  963 K │\u001b[37m \u001b[0m\u001b[37m  [[1, 400, 1, 50], '?', '?']\u001b[0m\u001b[37m \u001b[0m│\u001b[37m \u001b[0m\u001b[37m  [[1, 400, 1, 50], '?']\u001b[0m\u001b[37m \u001b[0m│\n",
       "│\u001b[2m \u001b[0m\u001b[2m22\u001b[0m\u001b[2m \u001b[0m│ net.Do_19 │ Dropout                  │      0 │\u001b[37m \u001b[0m\u001b[37m  [[1, 400, 1, 50], '?', '?']\u001b[0m\u001b[37m \u001b[0m│\u001b[37m \u001b[0m\u001b[37m  [[1, 400, 1, 50], '?']\u001b[0m\u001b[37m \u001b[0m│\n",
       "│\u001b[2m \u001b[0m\u001b[2m23\u001b[0m\u001b[2m \u001b[0m│ net.O_20  │ LinSoftmax               │ 71.0 K │\u001b[37m \u001b[0m\u001b[37m  [[1, 400, 1, 50], '?', '?']\u001b[0m\u001b[37m \u001b[0m│\u001b[37m \u001b[0m\u001b[37m  [[1, 177, 1, 50], '?']\u001b[0m\u001b[37m \u001b[0m│\n",
       "└────┴───────────┴──────────────────────────┴────────┴───────────────────────────────┴──────────────────────────┘\n"
      ]
     },
     "metadata": {},
     "output_type": "display_data"
    },
    {
     "data": {
      "text/html": [
       "<pre style=\"white-space:pre;overflow-x:auto;line-height:normal;font-family:Menlo,'DejaVu Sans Mono',consolas,'Courier New',monospace\"><span style=\"font-weight: bold\">Trainable params</span>: 5.0 M                                                                                            \n",
       "<span style=\"font-weight: bold\">Non-trainable params</span>: 0                                                                                            \n",
       "<span style=\"font-weight: bold\">Total params</span>: 5.0 M                                                                                                \n",
       "<span style=\"font-weight: bold\">Total estimated model params size (MB)</span>: 20                                                                         \n",
       "</pre>\n"
      ],
      "text/plain": [
       "\u001b[1mTrainable params\u001b[0m: 5.0 M                                                                                            \n",
       "\u001b[1mNon-trainable params\u001b[0m: 0                                                                                            \n",
       "\u001b[1mTotal params\u001b[0m: 5.0 M                                                                                                \n",
       "\u001b[1mTotal estimated model params size (MB)\u001b[0m: 20                                                                         \n"
      ]
     },
     "metadata": {},
     "output_type": "display_data"
    },
    {
     "data": {
      "application/vnd.jupyter.widget-view+json": {
       "model_id": "b5f101801ac34214adef493191f9e5a7",
       "version_major": 2,
       "version_minor": 0
      },
      "text/plain": [
       "Output()"
      ]
     },
     "metadata": {},
     "output_type": "display_data"
    },
    {
     "data": {
      "text/html": [
       "<pre style=\"white-space:pre;overflow-x:auto;line-height:normal;font-family:Menlo,'DejaVu Sans Mono',consolas,'Courier New',monospace\"></pre>\n"
      ],
      "text/plain": []
     },
     "metadata": {},
     "output_type": "display_data"
    },
    {
     "data": {
      "text/html": [
       "<pre style=\"white-space:pre;overflow-x:auto;line-height:normal;font-family:Menlo,'DejaVu Sans Mono',consolas,'Courier New',monospace\">\n",
       "</pre>\n"
      ],
      "text/plain": [
       "\n"
      ]
     },
     "metadata": {},
     "output_type": "display_data"
    },
    {
     "data": {
      "application/vnd.jupyter.widget-view+json": {
       "model_id": "4dd4eec74995492ab9a4745738c35aa9",
       "version_major": 2,
       "version_minor": 0
      },
      "text/plain": [
       "Output()"
      ]
     },
     "metadata": {},
     "output_type": "display_data"
    },
    {
     "data": {
      "text/html": [
       "<pre style=\"white-space:pre;overflow-x:auto;line-height:normal;font-family:Menlo,'DejaVu Sans Mono',consolas,'Courier New',monospace\"></pre>\n"
      ],
      "text/plain": []
     },
     "metadata": {},
     "output_type": "display_data"
    },
    {
     "data": {
      "text/html": [
       "<pre style=\"white-space:pre;overflow-x:auto;line-height:normal;font-family:Menlo,'DejaVu Sans Mono',consolas,'Courier New',monospace\">\n",
       "</pre>\n"
      ],
      "text/plain": [
       "\n"
      ]
     },
     "metadata": {},
     "output_type": "display_data"
    },
    {
     "data": {
      "application/vnd.jupyter.widget-view+json": {
       "model_id": "50ebaa3933d544aba5a8ef7725f5a506",
       "version_major": 2,
       "version_minor": 0
      },
      "text/plain": [
       "Output()"
      ]
     },
     "metadata": {},
     "output_type": "display_data"
    },
    {
     "data": {
      "text/html": [
       "<pre style=\"white-space:pre;overflow-x:auto;line-height:normal;font-family:Menlo,'DejaVu Sans Mono',consolas,'Courier New',monospace\"></pre>\n"
      ],
      "text/plain": []
     },
     "metadata": {},
     "output_type": "display_data"
    },
    {
     "data": {
      "text/html": [
       "<pre style=\"white-space:pre;overflow-x:auto;line-height:normal;font-family:Menlo,'DejaVu Sans Mono',consolas,'Courier New',monospace\">\n",
       "</pre>\n"
      ],
      "text/plain": [
       "\n"
      ]
     },
     "metadata": {},
     "output_type": "display_data"
    },
    {
     "data": {
      "application/vnd.jupyter.widget-view+json": {
       "model_id": "b414b9302fad4389a6e17ad44e7a356c",
       "version_major": 2,
       "version_minor": 0
      },
      "text/plain": [
       "Output()"
      ]
     },
     "metadata": {},
     "output_type": "display_data"
    },
    {
     "data": {
      "text/html": [
       "<pre style=\"white-space:pre;overflow-x:auto;line-height:normal;font-family:Menlo,'DejaVu Sans Mono',consolas,'Courier New',monospace\"></pre>\n"
      ],
      "text/plain": []
     },
     "metadata": {},
     "output_type": "display_data"
    },
    {
     "data": {
      "text/html": [
       "<pre style=\"white-space:pre;overflow-x:auto;line-height:normal;font-family:Menlo,'DejaVu Sans Mono',consolas,'Courier New',monospace\">\n",
       "</pre>\n"
      ],
      "text/plain": [
       "\n"
      ]
     },
     "metadata": {},
     "output_type": "display_data"
    },
    {
     "data": {
      "application/vnd.jupyter.widget-view+json": {
       "model_id": "bfb90889394d47d096869f69e62227b9",
       "version_major": 2,
       "version_minor": 0
      },
      "text/plain": [
       "Output()"
      ]
     },
     "metadata": {},
     "output_type": "display_data"
    },
    {
     "data": {
      "text/html": [
       "<pre style=\"white-space:pre;overflow-x:auto;line-height:normal;font-family:Menlo,'DejaVu Sans Mono',consolas,'Courier New',monospace\"></pre>\n"
      ],
      "text/plain": []
     },
     "metadata": {},
     "output_type": "display_data"
    },
    {
     "data": {
      "text/html": [
       "<pre style=\"white-space:pre;overflow-x:auto;line-height:normal;font-family:Menlo,'DejaVu Sans Mono',consolas,'Courier New',monospace\">\n",
       "</pre>\n"
      ],
      "text/plain": [
       "\n"
      ]
     },
     "metadata": {},
     "output_type": "display_data"
    },
    {
     "data": {
      "application/vnd.jupyter.widget-view+json": {
       "model_id": "f4b39023ea924581825dea3a5d9a1dee",
       "version_major": 2,
       "version_minor": 0
      },
      "text/plain": [
       "Output()"
      ]
     },
     "metadata": {},
     "output_type": "display_data"
    },
    {
     "data": {
      "text/html": [
       "<pre style=\"white-space:pre;overflow-x:auto;line-height:normal;font-family:Menlo,'DejaVu Sans Mono',consolas,'Courier New',monospace\"></pre>\n"
      ],
      "text/plain": []
     },
     "metadata": {},
     "output_type": "display_data"
    },
    {
     "data": {
      "text/html": [
       "<pre style=\"white-space:pre;overflow-x:auto;line-height:normal;font-family:Menlo,'DejaVu Sans Mono',consolas,'Courier New',monospace\">\n",
       "</pre>\n"
      ],
      "text/plain": [
       "\n"
      ]
     },
     "metadata": {},
     "output_type": "display_data"
    },
    {
     "data": {
      "application/vnd.jupyter.widget-view+json": {
       "model_id": "b70f8561fb0b4156ac8889102605499b",
       "version_major": 2,
       "version_minor": 0
      },
      "text/plain": [
       "Output()"
      ]
     },
     "metadata": {},
     "output_type": "display_data"
    },
    {
     "data": {
      "text/html": [
       "<pre style=\"white-space:pre;overflow-x:auto;line-height:normal;font-family:Menlo,'DejaVu Sans Mono',consolas,'Courier New',monospace\"></pre>\n"
      ],
      "text/plain": []
     },
     "metadata": {},
     "output_type": "display_data"
    },
    {
     "data": {
      "text/html": [
       "<pre style=\"white-space:pre;overflow-x:auto;line-height:normal;font-family:Menlo,'DejaVu Sans Mono',consolas,'Courier New',monospace\">\n",
       "</pre>\n"
      ],
      "text/plain": [
       "\n"
      ]
     },
     "metadata": {},
     "output_type": "display_data"
    },
    {
     "data": {
      "application/vnd.jupyter.widget-view+json": {
       "model_id": "392084dbd760412cbe8e3b6792bb150e",
       "version_major": 2,
       "version_minor": 0
      },
      "text/plain": [
       "Output()"
      ]
     },
     "metadata": {},
     "output_type": "display_data"
    },
    {
     "data": {
      "text/html": [
       "<pre style=\"white-space:pre;overflow-x:auto;line-height:normal;font-family:Menlo,'DejaVu Sans Mono',consolas,'Courier New',monospace\"></pre>\n"
      ],
      "text/plain": []
     },
     "metadata": {},
     "output_type": "display_data"
    },
    {
     "data": {
      "text/html": [
       "<pre style=\"white-space:pre;overflow-x:auto;line-height:normal;font-family:Menlo,'DejaVu Sans Mono',consolas,'Courier New',monospace\">\n",
       "</pre>\n"
      ],
      "text/plain": [
       "\n"
      ]
     },
     "metadata": {},
     "output_type": "display_data"
    },
    {
     "data": {
      "application/vnd.jupyter.widget-view+json": {
       "model_id": "4b45ae7f506f46fa9e9cbf8cc79085ff",
       "version_major": 2,
       "version_minor": 0
      },
      "text/plain": [
       "Output()"
      ]
     },
     "metadata": {},
     "output_type": "display_data"
    },
    {
     "data": {
      "text/html": [
       "<pre style=\"white-space:pre;overflow-x:auto;line-height:normal;font-family:Menlo,'DejaVu Sans Mono',consolas,'Courier New',monospace\"></pre>\n"
      ],
      "text/plain": []
     },
     "metadata": {},
     "output_type": "display_data"
    },
    {
     "data": {
      "text/html": [
       "<pre style=\"white-space:pre;overflow-x:auto;line-height:normal;font-family:Menlo,'DejaVu Sans Mono',consolas,'Courier New',monospace\">\n",
       "</pre>\n"
      ],
      "text/plain": [
       "\n"
      ]
     },
     "metadata": {},
     "output_type": "display_data"
    },
    {
     "data": {
      "application/vnd.jupyter.widget-view+json": {
       "model_id": "ede11b69bc1943158b8318e412467f17",
       "version_major": 2,
       "version_minor": 0
      },
      "text/plain": [
       "Output()"
      ]
     },
     "metadata": {},
     "output_type": "display_data"
    },
    {
     "data": {
      "text/html": [
       "<pre style=\"white-space:pre;overflow-x:auto;line-height:normal;font-family:Menlo,'DejaVu Sans Mono',consolas,'Courier New',monospace\"></pre>\n"
      ],
      "text/plain": []
     },
     "metadata": {},
     "output_type": "display_data"
    },
    {
     "data": {
      "text/html": [
       "<pre style=\"white-space:pre;overflow-x:auto;line-height:normal;font-family:Menlo,'DejaVu Sans Mono',consolas,'Courier New',monospace\">\n",
       "</pre>\n"
      ],
      "text/plain": [
       "\n"
      ]
     },
     "metadata": {},
     "output_type": "display_data"
    },
    {
     "data": {
      "application/vnd.jupyter.widget-view+json": {
       "model_id": "0599358afc9e491d8f8b578ae4874f8b",
       "version_major": 2,
       "version_minor": 0
      },
      "text/plain": [
       "Output()"
      ]
     },
     "metadata": {},
     "output_type": "display_data"
    },
    {
     "data": {
      "text/html": [
       "<pre style=\"white-space:pre;overflow-x:auto;line-height:normal;font-family:Menlo,'DejaVu Sans Mono',consolas,'Courier New',monospace\"></pre>\n"
      ],
      "text/plain": []
     },
     "metadata": {},
     "output_type": "display_data"
    },
    {
     "data": {
      "text/html": [
       "<pre style=\"white-space:pre;overflow-x:auto;line-height:normal;font-family:Menlo,'DejaVu Sans Mono',consolas,'Courier New',monospace\">\n",
       "</pre>\n"
      ],
      "text/plain": [
       "\n"
      ]
     },
     "metadata": {},
     "output_type": "display_data"
    },
    {
     "data": {
      "application/vnd.jupyter.widget-view+json": {
       "model_id": "97fe36d29a96482c8883a627ae6ff5eb",
       "version_major": 2,
       "version_minor": 0
      },
      "text/plain": [
       "Output()"
      ]
     },
     "metadata": {},
     "output_type": "display_data"
    },
    {
     "data": {
      "text/html": [
       "<pre style=\"white-space:pre;overflow-x:auto;line-height:normal;font-family:Menlo,'DejaVu Sans Mono',consolas,'Courier New',monospace\"></pre>\n"
      ],
      "text/plain": []
     },
     "metadata": {},
     "output_type": "display_data"
    },
    {
     "data": {
      "text/html": [
       "<pre style=\"white-space:pre;overflow-x:auto;line-height:normal;font-family:Menlo,'DejaVu Sans Mono',consolas,'Courier New',monospace\">\n",
       "</pre>\n"
      ],
      "text/plain": [
       "\n"
      ]
     },
     "metadata": {},
     "output_type": "display_data"
    },
    {
     "data": {
      "application/vnd.jupyter.widget-view+json": {
       "model_id": "5341f6740975412d85fcccc85fdb232e",
       "version_major": 2,
       "version_minor": 0
      },
      "text/plain": [
       "Output()"
      ]
     },
     "metadata": {},
     "output_type": "display_data"
    },
    {
     "data": {
      "text/html": [
       "<pre style=\"white-space:pre;overflow-x:auto;line-height:normal;font-family:Menlo,'DejaVu Sans Mono',consolas,'Courier New',monospace\"></pre>\n"
      ],
      "text/plain": []
     },
     "metadata": {},
     "output_type": "display_data"
    },
    {
     "data": {
      "text/html": [
       "<pre style=\"white-space:pre;overflow-x:auto;line-height:normal;font-family:Menlo,'DejaVu Sans Mono',consolas,'Courier New',monospace\">\n",
       "</pre>\n"
      ],
      "text/plain": [
       "\n"
      ]
     },
     "metadata": {},
     "output_type": "display_data"
    },
    {
     "data": {
      "application/vnd.jupyter.widget-view+json": {
       "model_id": "633fd69326674f56a3930755a26301da",
       "version_major": 2,
       "version_minor": 0
      },
      "text/plain": [
       "Output()"
      ]
     },
     "metadata": {},
     "output_type": "display_data"
    },
    {
     "data": {
      "text/html": [
       "<pre style=\"white-space:pre;overflow-x:auto;line-height:normal;font-family:Menlo,'DejaVu Sans Mono',consolas,'Courier New',monospace\"></pre>\n"
      ],
      "text/plain": []
     },
     "metadata": {},
     "output_type": "display_data"
    },
    {
     "data": {
      "text/html": [
       "<pre style=\"white-space:pre;overflow-x:auto;line-height:normal;font-family:Menlo,'DejaVu Sans Mono',consolas,'Courier New',monospace\">\n",
       "</pre>\n"
      ],
      "text/plain": [
       "\n"
      ]
     },
     "metadata": {},
     "output_type": "display_data"
    },
    {
     "data": {
      "application/vnd.jupyter.widget-view+json": {
       "model_id": "9447b397e9fc4f268e02b1649c2eb2bf",
       "version_major": 2,
       "version_minor": 0
      },
      "text/plain": [
       "Output()"
      ]
     },
     "metadata": {},
     "output_type": "display_data"
    },
    {
     "data": {
      "text/html": [
       "<pre style=\"white-space:pre;overflow-x:auto;line-height:normal;font-family:Menlo,'DejaVu Sans Mono',consolas,'Courier New',monospace\"></pre>\n"
      ],
      "text/plain": []
     },
     "metadata": {},
     "output_type": "display_data"
    },
    {
     "data": {
      "text/html": [
       "<pre style=\"white-space:pre;overflow-x:auto;line-height:normal;font-family:Menlo,'DejaVu Sans Mono',consolas,'Courier New',monospace\">\n",
       "</pre>\n"
      ],
      "text/plain": [
       "\n"
      ]
     },
     "metadata": {},
     "output_type": "display_data"
    },
    {
     "data": {
      "application/vnd.jupyter.widget-view+json": {
       "model_id": "817d5a18100e4c3e923817a982f83ac5",
       "version_major": 2,
       "version_minor": 0
      },
      "text/plain": [
       "Output()"
      ]
     },
     "metadata": {},
     "output_type": "display_data"
    },
    {
     "data": {
      "text/html": [
       "<pre style=\"white-space:pre;overflow-x:auto;line-height:normal;font-family:Menlo,'DejaVu Sans Mono',consolas,'Courier New',monospace\"></pre>\n"
      ],
      "text/plain": []
     },
     "metadata": {},
     "output_type": "display_data"
    },
    {
     "data": {
      "text/html": [
       "<pre style=\"white-space:pre;overflow-x:auto;line-height:normal;font-family:Menlo,'DejaVu Sans Mono',consolas,'Courier New',monospace\">\n",
       "</pre>\n"
      ],
      "text/plain": [
       "\n"
      ]
     },
     "metadata": {},
     "output_type": "display_data"
    },
    {
     "data": {
      "application/vnd.jupyter.widget-view+json": {
       "model_id": "ea3292e30ef0408fac61c9d538f85150",
       "version_major": 2,
       "version_minor": 0
      },
      "text/plain": [
       "Output()"
      ]
     },
     "metadata": {},
     "output_type": "display_data"
    },
    {
     "data": {
      "text/html": [
       "<pre style=\"white-space:pre;overflow-x:auto;line-height:normal;font-family:Menlo,'DejaVu Sans Mono',consolas,'Courier New',monospace\"></pre>\n"
      ],
      "text/plain": []
     },
     "metadata": {},
     "output_type": "display_data"
    },
    {
     "data": {
      "text/html": [
       "<pre style=\"white-space:pre;overflow-x:auto;line-height:normal;font-family:Menlo,'DejaVu Sans Mono',consolas,'Courier New',monospace\">\n",
       "</pre>\n"
      ],
      "text/plain": [
       "\n"
      ]
     },
     "metadata": {},
     "output_type": "display_data"
    },
    {
     "data": {
      "application/vnd.jupyter.widget-view+json": {
       "model_id": "f8b476a1994844709d6151cfae4d2e61",
       "version_major": 2,
       "version_minor": 0
      },
      "text/plain": [
       "Output()"
      ]
     },
     "metadata": {},
     "output_type": "display_data"
    },
    {
     "data": {
      "text/html": [
       "<pre style=\"white-space:pre;overflow-x:auto;line-height:normal;font-family:Menlo,'DejaVu Sans Mono',consolas,'Courier New',monospace\"></pre>\n"
      ],
      "text/plain": []
     },
     "metadata": {},
     "output_type": "display_data"
    },
    {
     "data": {
      "text/html": [
       "<pre style=\"white-space:pre;overflow-x:auto;line-height:normal;font-family:Menlo,'DejaVu Sans Mono',consolas,'Courier New',monospace\">\n",
       "</pre>\n"
      ],
      "text/plain": [
       "\n"
      ]
     },
     "metadata": {},
     "output_type": "display_data"
    },
    {
     "data": {
      "application/vnd.jupyter.widget-view+json": {
       "model_id": "1d38d45d069b4344af47846d37921581",
       "version_major": 2,
       "version_minor": 0
      },
      "text/plain": [
       "Output()"
      ]
     },
     "metadata": {},
     "output_type": "display_data"
    },
    {
     "data": {
      "text/html": [
       "<pre style=\"white-space:pre;overflow-x:auto;line-height:normal;font-family:Menlo,'DejaVu Sans Mono',consolas,'Courier New',monospace\"></pre>\n"
      ],
      "text/plain": []
     },
     "metadata": {},
     "output_type": "display_data"
    },
    {
     "data": {
      "text/html": [
       "<pre style=\"white-space:pre;overflow-x:auto;line-height:normal;font-family:Menlo,'DejaVu Sans Mono',consolas,'Courier New',monospace\">\n",
       "</pre>\n"
      ],
      "text/plain": [
       "\n"
      ]
     },
     "metadata": {},
     "output_type": "display_data"
    },
    {
     "data": {
      "application/vnd.jupyter.widget-view+json": {
       "model_id": "351c00da64ad47d9a5edb1cb205e07f3",
       "version_major": 2,
       "version_minor": 0
      },
      "text/plain": [
       "Output()"
      ]
     },
     "metadata": {},
     "output_type": "display_data"
    },
    {
     "data": {
      "text/html": [
       "<pre style=\"white-space:pre;overflow-x:auto;line-height:normal;font-family:Menlo,'DejaVu Sans Mono',consolas,'Courier New',monospace\"></pre>\n"
      ],
      "text/plain": []
     },
     "metadata": {},
     "output_type": "display_data"
    },
    {
     "data": {
      "text/html": [
       "<pre style=\"white-space:pre;overflow-x:auto;line-height:normal;font-family:Menlo,'DejaVu Sans Mono',consolas,'Courier New',monospace\">\n",
       "</pre>\n"
      ],
      "text/plain": [
       "\n"
      ]
     },
     "metadata": {},
     "output_type": "display_data"
    },
    {
     "data": {
      "application/vnd.jupyter.widget-view+json": {
       "model_id": "2836c6e47108441d947f0582f3f7502f",
       "version_major": 2,
       "version_minor": 0
      },
      "text/plain": [
       "Output()"
      ]
     },
     "metadata": {},
     "output_type": "display_data"
    },
    {
     "data": {
      "text/html": [
       "<pre style=\"white-space:pre;overflow-x:auto;line-height:normal;font-family:Menlo,'DejaVu Sans Mono',consolas,'Courier New',monospace\"></pre>\n"
      ],
      "text/plain": []
     },
     "metadata": {},
     "output_type": "display_data"
    },
    {
     "data": {
      "text/html": [
       "<pre style=\"white-space:pre;overflow-x:auto;line-height:normal;font-family:Menlo,'DejaVu Sans Mono',consolas,'Courier New',monospace\">\n",
       "</pre>\n"
      ],
      "text/plain": [
       "\n"
      ]
     },
     "metadata": {},
     "output_type": "display_data"
    },
    {
     "data": {
      "application/vnd.jupyter.widget-view+json": {
       "model_id": "0d2f03be7f0845c1bdd9ae8c4366b6d7",
       "version_major": 2,
       "version_minor": 0
      },
      "text/plain": [
       "Output()"
      ]
     },
     "metadata": {},
     "output_type": "display_data"
    },
    {
     "data": {
      "text/html": [
       "<pre style=\"white-space:pre;overflow-x:auto;line-height:normal;font-family:Menlo,'DejaVu Sans Mono',consolas,'Courier New',monospace\"></pre>\n"
      ],
      "text/plain": []
     },
     "metadata": {},
     "output_type": "display_data"
    },
    {
     "data": {
      "text/html": [
       "<pre style=\"white-space:pre;overflow-x:auto;line-height:normal;font-family:Menlo,'DejaVu Sans Mono',consolas,'Courier New',monospace\">\n",
       "</pre>\n"
      ],
      "text/plain": [
       "\n"
      ]
     },
     "metadata": {},
     "output_type": "display_data"
    },
    {
     "data": {
      "application/vnd.jupyter.widget-view+json": {
       "model_id": "a6a08848bec84940a15d7404b72808cb",
       "version_major": 2,
       "version_minor": 0
      },
      "text/plain": [
       "Output()"
      ]
     },
     "metadata": {},
     "output_type": "display_data"
    },
    {
     "data": {
      "text/html": [
       "<pre style=\"white-space:pre;overflow-x:auto;line-height:normal;font-family:Menlo,'DejaVu Sans Mono',consolas,'Courier New',monospace\"></pre>\n"
      ],
      "text/plain": []
     },
     "metadata": {},
     "output_type": "display_data"
    },
    {
     "data": {
      "text/html": [
       "<pre style=\"white-space:pre;overflow-x:auto;line-height:normal;font-family:Menlo,'DejaVu Sans Mono',consolas,'Courier New',monospace\">\n",
       "</pre>\n"
      ],
      "text/plain": [
       "\n"
      ]
     },
     "metadata": {},
     "output_type": "display_data"
    },
    {
     "data": {
      "application/vnd.jupyter.widget-view+json": {
       "model_id": "5475150833454c05a0469ad3f6cc2552",
       "version_major": 2,
       "version_minor": 0
      },
      "text/plain": [
       "Output()"
      ]
     },
     "metadata": {},
     "output_type": "display_data"
    },
    {
     "data": {
      "text/html": [
       "<pre style=\"white-space:pre;overflow-x:auto;line-height:normal;font-family:Menlo,'DejaVu Sans Mono',consolas,'Courier New',monospace\"></pre>\n"
      ],
      "text/plain": []
     },
     "metadata": {},
     "output_type": "display_data"
    },
    {
     "data": {
      "text/html": [
       "<pre style=\"white-space:pre;overflow-x:auto;line-height:normal;font-family:Menlo,'DejaVu Sans Mono',consolas,'Courier New',monospace\">\n",
       "</pre>\n"
      ],
      "text/plain": [
       "\n"
      ]
     },
     "metadata": {},
     "output_type": "display_data"
    },
    {
     "data": {
      "application/vnd.jupyter.widget-view+json": {
       "model_id": "b3ac13f8614e4bf6a0f67068e6b5d7f1",
       "version_major": 2,
       "version_minor": 0
      },
      "text/plain": [
       "Output()"
      ]
     },
     "metadata": {},
     "output_type": "display_data"
    },
    {
     "data": {
      "text/html": [
       "<pre style=\"white-space:pre;overflow-x:auto;line-height:normal;font-family:Menlo,'DejaVu Sans Mono',consolas,'Courier New',monospace\"></pre>\n"
      ],
      "text/plain": []
     },
     "metadata": {},
     "output_type": "display_data"
    },
    {
     "data": {
      "text/html": [
       "<pre style=\"white-space:pre;overflow-x:auto;line-height:normal;font-family:Menlo,'DejaVu Sans Mono',consolas,'Courier New',monospace\">\n",
       "</pre>\n"
      ],
      "text/plain": [
       "\n"
      ]
     },
     "metadata": {},
     "output_type": "display_data"
    }
   ],
   "source": [
    "# train the model\n",
    "try:\n",
    "    torch.set_float32_matmul_precision('high')\n",
    "    rec_trainer.fit(rec_model)\n",
    "\n",
    "except KrakenInputException as e:\n",
    "    if e.args[0].startswith('Training data and model codec alphabets mismatch') and resize == 'fail':\n",
    "        print('Mismatched training data for loaded model. Set option `--resize` to `add` or `both`')\n",
    "    else:\n",
    "        print(e)\n"
   ]
  },
  {
   "cell_type": "markdown",
   "id": "df47609b",
   "metadata": {},
   "source": [
    "### Optimize Hyper-Parameters\n",
    "\n",
    "This is how you determine the best set of parameters to train your model."
   ]
  },
  {
   "cell_type": "code",
   "execution_count": 37,
   "id": "b89cc45a",
   "metadata": {},
   "outputs": [],
   "source": [
    "# define the training function\n",
    "def optimize(config, training_data=None, epochs=100):\n",
    "    hyper_params = RECOGNITION_HYPER_PARAMS.copy()\n",
    "    hyper_params.update(config)\n",
    "\n",
    "    model = RecognitionModel(\n",
    "        hyper_params=hyper_params,\n",
    "        output='model',\n",
    "        spec=RECOGNITION_SPEC,\n",
    "        training_data=training_data,\n",
    "        format_type='binary',\n",
    "        model='555/to 10/555_ver 1_best.mlmodel',\n",
    "        resize='add',\n",
    "    )\n",
    "\n",
    "    #callback = TuneReportCallback({'loss': 'train_loss'}, on='validation_end')\n",
    "    callback = TuneReportCallback({'acc': 'val_accuracy'}, on='validation_end')\n",
    "    \n",
    "    trainer = pl.Trainer(\n",
    "        max_epochs=epochs,\n",
    "        gpus=1,\n",
    "        callbacks=[callback],\n",
    "        enable_progress_bar=False\n",
    "    )\n",
    "    \n",
    "    trainer.fit(model)\n",
    "\n",
    "# decide what parameters to optimize and what value ranges to use \n",
    "config = {\n",
    "    'lrate': tune.loguniform(1e-8, 1e-1),\n",
    "    'num_negatives': tune.qrandint(2, 100, 8),\n",
    "    'mask_prob': tune.loguniform(0.01, 0.2),\n",
    "    'mask_width': tune.qrandint(2, 8, 2)\n",
    "}\n",
    "\n",
    "# resources to assign to each test\n",
    "resources = {\n",
    "    \"cpu\": 8, \n",
    "    \"gpu\": 1\n",
    "}\n",
    "\n",
    "# and our training dataset - might be a good idea to thin it down for this!\n",
    "data = ['555/12-31/training_dataset.arrow']\n"
   ]
  },
  {
   "cell_type": "code",
   "execution_count": 38,
   "id": "70de08a0",
   "metadata": {},
   "outputs": [
    {
     "data": {
      "text/html": [
       "\n",
       "      <iframe id=\"tensorboard-frame-6605fa5cbeaa0b98\" width=\"100%\" height=\"800\" frameborder=\"0\">\n",
       "      </iframe>\n",
       "      <script>\n",
       "        (function() {\n",
       "          const frame = document.getElementById(\"tensorboard-frame-6605fa5cbeaa0b98\");\n",
       "          const url = new URL(\"/\", window.location);\n",
       "          const port = 6008;\n",
       "          if (port) {\n",
       "            url.port = port;\n",
       "          }\n",
       "          frame.src = url;\n",
       "        })();\n",
       "      </script>\n",
       "    "
      ],
      "text/plain": [
       "<IPython.core.display.HTML object>"
      ]
     },
     "metadata": {},
     "output_type": "display_data"
    }
   ],
   "source": [
    "# load the TansorBoard dashboard\n",
    "%tensorboard --logdir '/home/giod/Downloads/opt_logs'"
   ]
  },
  {
   "cell_type": "code",
   "execution_count": 39,
   "id": "37fbe67e",
   "metadata": {},
   "outputs": [
    {
     "ename": "TypeError",
     "evalue": "run() got an unexpected keyword argument 'storage_path'",
     "output_type": "error",
     "traceback": [
      "\u001b[0;31m---------------------------------------------------------------------------\u001b[0m",
      "\u001b[0;31mTypeError\u001b[0m                                 Traceback (most recent call last)",
      "Cell \u001b[0;32mIn[39], line 2\u001b[0m\n\u001b[1;32m      1\u001b[0m \u001b[38;5;66;03m# and run the analysis\u001b[39;00m\n\u001b[0;32m----> 2\u001b[0m analysis \u001b[38;5;241m=\u001b[39m \u001b[43mtune\u001b[49m\u001b[38;5;241;43m.\u001b[39;49m\u001b[43mrun\u001b[49m\u001b[43m(\u001b[49m\n\u001b[1;32m      3\u001b[0m \u001b[43m    \u001b[49m\u001b[43mpartial\u001b[49m\u001b[43m(\u001b[49m\u001b[43moptimize\u001b[49m\u001b[43m,\u001b[49m\u001b[43m \u001b[49m\u001b[43mtraining_data\u001b[49m\u001b[38;5;241;43m=\u001b[39;49m\u001b[43mdata\u001b[49m\u001b[43m)\u001b[49m\u001b[43m,\u001b[49m\u001b[43m \u001b[49m\n\u001b[1;32m      4\u001b[0m \u001b[43m    \u001b[49m\u001b[43mstorage_path\u001b[49m\u001b[38;5;241;43m=\u001b[39;49m\u001b[38;5;124;43m'\u001b[39;49m\u001b[38;5;124;43m/home/giod/Downloads/opt_logs\u001b[39;49m\u001b[38;5;124;43m'\u001b[39;49m\u001b[43m,\u001b[49m\u001b[43m \u001b[49m\n\u001b[1;32m      5\u001b[0m \u001b[43m    \u001b[49m\u001b[43mnum_samples\u001b[49m\u001b[38;5;241;43m=\u001b[39;49m\u001b[38;5;241;43m100\u001b[39;49m\u001b[43m,\u001b[49m\u001b[43m \u001b[49m\n\u001b[1;32m      6\u001b[0m \u001b[43m    \u001b[49m\u001b[43mresources_per_trial\u001b[49m\u001b[38;5;241;43m=\u001b[39;49m\u001b[43mresources\u001b[49m\u001b[43m,\u001b[49m\u001b[43m \u001b[49m\n\u001b[1;32m      7\u001b[0m \u001b[43m    \u001b[49m\u001b[43mconfig\u001b[49m\u001b[38;5;241;43m=\u001b[39;49m\u001b[43mconfig\u001b[49m\n\u001b[1;32m      8\u001b[0m \u001b[43m)\u001b[49m\n\u001b[1;32m     10\u001b[0m \u001b[38;5;28mprint\u001b[39m(\u001b[38;5;124m\"\u001b[39m\u001b[38;5;124mBest hyperparameters found were: \u001b[39m\u001b[38;5;124m\"\u001b[39m, analysis\u001b[38;5;241m.\u001b[39mget_best_config(metric\u001b[38;5;241m=\u001b[39m\u001b[38;5;124m'\u001b[39m\u001b[38;5;124maccuracy\u001b[39m\u001b[38;5;124m'\u001b[39m, mode\u001b[38;5;241m=\u001b[39m\u001b[38;5;124m'\u001b[39m\u001b[38;5;124mmax\u001b[39m\u001b[38;5;124m'\u001b[39m))\n",
      "\u001b[0;31mTypeError\u001b[0m: run() got an unexpected keyword argument 'storage_path'"
     ]
    }
   ],
   "source": [
    "# and run the analysis\n",
    "analysis = tune.run(\n",
    "    partial(optimize, training_data=data), \n",
    "    storage_path='/home/giod/Downloads/opt_logs', \n",
    "    num_samples=100, \n",
    "    resources_per_trial=resources, \n",
    "    config=config\n",
    ")\n",
    "\n",
    "print(\"Best hyperparameters found were: \", analysis.get_best_config(metric='accuracy', mode='max'))\n"
   ]
  },
  {
   "cell_type": "code",
   "execution_count": null,
   "id": "14654148",
   "metadata": {},
   "outputs": [],
   "source": []
  }
 ],
 "metadata": {
  "kernelspec": {
   "display_name": "Python 3 (ipykernel)",
   "language": "python",
   "name": "python3"
  },
  "language_info": {
   "codemirror_mode": {
    "name": "ipython",
    "version": 3
   },
   "file_extension": ".py",
   "mimetype": "text/x-python",
   "name": "python",
   "nbconvert_exporter": "python",
   "pygments_lexer": "ipython3",
   "version": "3.10.14"
  }
 },
 "nbformat": 4,
 "nbformat_minor": 5
}

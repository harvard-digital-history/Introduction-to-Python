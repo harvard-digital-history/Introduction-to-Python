{
 "cells": [
  {
   "cell_type": "markdown",
   "id": "4cf96783",
   "metadata": {},
   "source": [
    "# UNIT 2: Control Flow and Syntax"
   ]
  },
  {
   "cell_type": "markdown",
   "id": "fdd4610e",
   "metadata": {},
   "source": [
    "## Table of Contents\n",
    "\n",
    "1. [Conditional Statements](#1.-Conditional-Statements)  \n",
    "    1.1. [`if`, `elif`, and `else`](#1.1.-if,-elif,-and-else)  \n",
    "    1.2. [Nested Conditional Statements](#1.2.-Nested-Conditional-Statements)  \n",
    "    1.3. [Chaining Conditions](#1.3.-Chaining-Conditions)  \n",
    "2. [Interlude: Syntax](#2.-Interlude:-Syntax)  \n",
    "    2.1. [Statements](#2.1.-Statements)  \n",
    "    2.2. [Code Blocks](#2.2.-Code-Blocks)  \n",
    "3. [Iterative Statements](#3.-Iterative-Statements)  \n",
    "    3.1. [`while` Loops](#3.1.-while-Loops)  \n",
    "    3.2. [`for` Loops](#3.2.-for-Loops)  \n",
    "4. [Transfer Statements](#4.-Transfer-Statements)  \n",
    "    4.1. [The `continue` Statement](#4.1.-The-continue-Statement)  \n",
    "    4.2. [The `break` Statement](#4.2.-The-break-Statement)  \n",
    "    4.3. [The `pass` Statement](#4.3.-The-pass-Statement)  \n",
    "5. [Handling Errors](#5.-Handling-Errors)  \n",
    "    5.1. [Types of Error](#5.1.-Types-of-Error)  \n",
    "    5.2. [Using `try` and `except`](#5.2.-Using-try-and-except)  \n"
   ]
  },
  {
   "cell_type": "markdown",
   "id": "e55a041c",
   "metadata": {},
   "source": [
    "In order to be effective, programmes need to do more than execute commands in the order they are written. One needs to be able to specify conditions that determine whether certain commands are executed or not, or how many times they are run. This ability to indicate how, and when, commands are executed is called the programme’s **control flow**. Python uses three types of statements to enact control flow, they are labelled **conditional**, **iterative**, and **transfer** statements.\n",
    "\n",
    "# 1. Conditional Statements\n",
    "\n",
    "This type of statements evaluate a condition and, based on the results of that evaluation, they determine whether a certain piece of code should be executed or not. Conditional statements always return a boolean value, *i.e.* `True` or `False`. \n",
    "\n",
    "## 1.1. `if`, `elif`, and `else`\n",
    "\n",
    "The basic conditional statement consists of the keyword `if`, followed by an expression that returns a *boolean*, and a colon:\n",
    "\n",
    "<div class=\"alert alert-block alert-info\">\n",
    "<b>Note:</b> The code that is to be executed if the conditional statement evaluates to <code>True</code> is <i>indented</i>. More on this in the <b>Syntax</b> section below.\n",
    "</div>"
   ]
  },
  {
   "cell_type": "code",
   "execution_count": 1,
   "id": "55a68817",
   "metadata": {},
   "outputs": [
    {
     "name": "stdout",
     "output_type": "stream",
     "text": [
      "Condition 1 was True\n"
     ]
    }
   ],
   "source": [
    "if 5 == 5:\n",
    "    print('Condition 1 was True')  # will be executed because condition is True\n",
    "    \n",
    "if 2 == 5:\n",
    "    print('Condition 2 was True')  # will NOT be executed because condition is False"
   ]
  },
  {
   "cell_type": "markdown",
   "id": "07771405",
   "metadata": {},
   "source": [
    "The keyword `elif`, short for *else if*, can be used to provide alternative conditions when the `if` statement  evaluates to `False`:"
   ]
  },
  {
   "cell_type": "code",
   "execution_count": 2,
   "id": "8ab4ebe0",
   "metadata": {},
   "outputs": [
    {
     "name": "stdout",
     "output_type": "stream",
     "text": [
      "Condition 2 was True\n"
     ]
    }
   ],
   "source": [
    "if 2 == 5:\n",
    "    print('Condition 1 was True')  # not executed\n",
    "elif 5 == 5:\n",
    "    print('Condition 2 was True')  # executed"
   ]
  },
  {
   "cell_type": "markdown",
   "id": "5dbb5f10",
   "metadata": {},
   "source": [
    "`elif` cannot be used by itself, it must follow a regular `if` or another `elif` statement. An `elif` statement will **only** be evaluated if all previous conditional statements are `False`. Thus, for the code under an `elif` statement to be executed **both** of these conditions must be met:\n",
    "1. all previous conditional statements are `False`\n",
    "2. the condition in the `elif` statement itself is `True`"
   ]
  },
  {
   "cell_type": "code",
   "execution_count": 3,
   "id": "5ea6ab1e",
   "metadata": {},
   "outputs": [
    {
     "name": "stdout",
     "output_type": "stream",
     "text": [
      "Test 1: if\n",
      "Test 2: elif 2\n"
     ]
    }
   ],
   "source": [
    "if 5 == 5:\n",
    "    print('Test 1: if')  # evaluated | executed\n",
    "elif 6 == 6:\n",
    "    print('Test 1: elif 1')  # not evaluated | not executed\n",
    "elif 8 == 8:\n",
    "    print('Test 1: elif 2')  # not evaluated | not executed\n",
    "    \n",
    "if 4 == 5:\n",
    "    print('Test 2: if')  # evaluated | not executed\n",
    "elif 7 == 6:\n",
    "    print('Test 2: elif 1')  # evaluated | not executed\n",
    "elif 8 == 8:\n",
    "    print('Test 2: elif 2')  # evaluated | executed\n"
   ]
  },
  {
   "cell_type": "markdown",
   "id": "c28bbd85",
   "metadata": {},
   "source": [
    "The `else` keyword is used to supply code that will be executed if **all previous conditions** are `False`:"
   ]
  },
  {
   "cell_type": "code",
   "execution_count": 4,
   "id": "e4d0842c",
   "metadata": {},
   "outputs": [
    {
     "name": "stdout",
     "output_type": "stream",
     "text": [
      "Test 1: elif 2\n",
      "Nothing was True!\n"
     ]
    }
   ],
   "source": [
    "if 4 == 5:\n",
    "    print('Test 1: if')  # evaluated | not executed\n",
    "elif 7 == 6:\n",
    "    print('Test 1: elif 1')  # evaluated | not executed\n",
    "elif 8 == 8:\n",
    "    print('Test 1: elif 2')  # evaluated | executed\n",
    "else:\n",
    "    print('Nothing was True!')  # not executed\n",
    "    \n",
    "if 4 == 5:\n",
    "    print('Test 2: if')  # evaluated | not executed\n",
    "elif 7 == 6:\n",
    "    print('Test 2: elif 1')  # evaluated | not executed\n",
    "elif 9 == 8:\n",
    "    print('Test 2: elif 2')  # evaluated | not executed\n",
    "else:\n",
    "    print('Nothing was True!') # executed"
   ]
  },
  {
   "cell_type": "markdown",
   "id": "b63d1c75",
   "metadata": {},
   "source": [
    "Note how the `else` statement itself does not include a condition: it is always executed provided that the previous statements were `False`.\n",
    "\n",
    "The general flow of a conditional statement, then, looks like this:\n",
    "\n",
    "<img src=\"https://mermaid.ink/img/CmZsb3djaGFydCBMUgogICAgQXs8Y29kZT48Yj5pZjwvYj48L2NvZGU+IDxpPmNvbmRpdGlvbiAxPC9pPn0gLS0tLT58VHJ1ZXwgQihjb2RlIGJsb2NrIDEpCiAgICBBIC0tPnxGYWxzZXwgQ3s8Y29kZT48Yj5lbGlmPC9iPjwvY29kZT4gPGk+Y29uZGl0aW9uIDI8L2k+fQogICAgQyAtLS0+fFRydWV8IEQoY29kZSBibG9jayAyKQogICAgQyAtLT58RmFsc2V8IEV7PGNvZGU+PGI+ZWxzZTwvYj48L2NvZGU+fQogICAgRSAtLT4gRihjb2RlIGJsb2NrIDMpCg==\" width=550>"
   ]
  },
  {
   "cell_type": "markdown",
   "id": "0459c0b4",
   "metadata": {},
   "source": [
    "## 1.2. Nested Conditional Statements\n",
    "\n",
    "Conditional statements can be nested to allow for evaluation of multiple conditions in succession:"
   ]
  },
  {
   "cell_type": "code",
   "execution_count": 5,
   "id": "a0b05ba3",
   "metadata": {},
   "outputs": [
    {
     "name": "stdout",
     "output_type": "stream",
     "text": [
      "\"Now\" is present and the sentence is 36 characters long.\n"
     ]
    }
   ],
   "source": [
    "sentence = 'Now is the winter of our discontent.'\n",
    "\n",
    "if 'Now' in sentence:\n",
    "    if len(sentence) == 36:\n",
    "        print('\"Now\" is present and the sentence is 36 characters long.')\n",
    "    else:\n",
    "        print('the sentence is NOT 36 characters long.')\n",
    "else:\n",
    "    print('The word \"Now\" is not present in the sentence.')\n"
   ]
  },
  {
   "cell_type": "markdown",
   "id": "4d9c1bb8",
   "metadata": {},
   "source": [
    "## 1.3. Chaining Conditions\n",
    "\n",
    "When working with relatively simple conditions, it is often more practical to chain them than to nest them. Multiple conditions can be chained together using logical operators: `and`, `or`, and `not`. \n",
    "\n",
    "Conditions linked by `and` must **all** be `True` for the `if` statement to be considered `True`. In the case of conditions linked with `or`, only **one** of them must be `True`. `not` is used to **reverse the result** of the conditional statement immediately after it:"
   ]
  },
  {
   "cell_type": "code",
   "execution_count": 6,
   "id": "c904e938",
   "metadata": {},
   "outputs": [
    {
     "name": "stdout",
     "output_type": "stream",
     "text": [
      "Both conditions are met\n",
      "At least one condition is met\n",
      "Both conditions are met\n"
     ]
    }
   ],
   "source": [
    "if 'Now' in sentence and len(sentence) == 36:\n",
    "    print('Both conditions are met')\n",
    "    \n",
    "if 'winter' in sentence or 'summer' in sentence:\n",
    "    print('At least one condition is met')\n",
    "\n",
    "if 'winter' in sentence and 'summer' not in sentence:\n",
    "    print('Both conditions are met')\n"
   ]
  },
  {
   "cell_type": "markdown",
   "id": "9055e67b",
   "metadata": {},
   "source": [
    "While *nested conditionals* and *chained conditions* can sometimes be used interchangeably, **they are not equivalent**. \n",
    "\n",
    "<div class=\"alert alert-block alert-success\">\n",
    "<b>Exercise:</b> Try re-writing the example in <b>section 1.3.</b> using chained conditions. Are you satisfied with the result? If not, why not?\n",
    "</div>"
   ]
  },
  {
   "cell_type": "code",
   "execution_count": 7,
   "id": "fc7f9de6",
   "metadata": {},
   "outputs": [],
   "source": [
    "# Here's the original code commented out:\n",
    "# if 'Now' in sentence:\n",
    "#     if len(sentence) == 36:\n",
    "#         print('\"Now\" is present and the sentence is 36 characters long.')\n",
    "#     else:\n",
    "#         print('the sentence is NOT 36 characters long.')\n",
    "# else:\n",
    "#     print('The word \"Now\" is not present in the sentence.')\n",
    "    \n",
    "# Re-write it using logical operands to chain conditions:\n",
    "\n",
    "\n",
    "\n"
   ]
  },
  {
   "cell_type": "markdown",
   "id": "4770e788",
   "metadata": {},
   "source": [
    "# 2. *Interlude:* Syntax \n",
    "\n",
    "Programming languages, just like natural ones, have rules that define how to *correctly* write in that language. These rules reflect the way in which the software interpreter will execute the code, therefore failing to follow them can lead to errors or at the very least unpredictable results.\n",
    "\n",
    "## 2.1. Statements\n",
    "\n",
    "The fundamental syntactic unit in most programming languages is the **statement**, *i.e.* a command, or a series of characters that indicate some action to be carried out. From **Unit 1**, you should already have an intuitive undertanding of how this works: in Python, **a line of code corresponds to a statement**.\n",
    "\n",
    "When executing a programme, Python's interpreter will read each line in the order they were entered, treating each as a singular statement or command:"
   ]
  },
  {
   "cell_type": "code",
   "execution_count": 8,
   "id": "8c5a58ea",
   "metadata": {},
   "outputs": [
    {
     "name": "stdout",
     "output_type": "stream",
     "text": [
      "6\n"
     ]
    }
   ],
   "source": [
    "x = 1  # this is a statement\n",
    "y = 2  # this is another statement\n",
    "z = 3  # and here's another\n",
    "total = x + y + z # and another\n",
    "print(total)  # and another"
   ]
  },
  {
   "cell_type": "markdown",
   "id": "c3d3bd9b",
   "metadata": {},
   "source": [
    "There are, however, a couple of **exeptions** to this rule. \n",
    "\n",
    "The first you're already familiar with: **comments** (*i.e.* an explanation or annotation in the source code). A comment begins with a hash sign (`#`) outside a string literal (*i.e.* not in quotations). All characters after the hash sign and up to the end of the line are part of the comment and the Python interpreter ignores them. A comment can follow on the same line after a statement or expression (see examples in previous cell). If the hash sign is the first character in a line, then the entire line is ignored."
   ]
  },
  {
   "cell_type": "code",
   "execution_count": 9,
   "id": "5df1de81",
   "metadata": {},
   "outputs": [],
   "source": [
    "# this is a comment\n",
    "# lines starting with '#' are not executed\n",
    "# print('Hello!')"
   ]
  },
  {
   "cell_type": "markdown",
   "id": "bc7dd9c0",
   "metadata": {},
   "source": [
    "The second exception are **multi-line statements**, which Python allows if certain conditions are met. For example, one can create a multi-line statement by terminating a line with the **continuation character** (`\\`), to denote that the next line belongs to the same statement:"
   ]
  },
  {
   "cell_type": "code",
   "execution_count": 10,
   "id": "78975bf4",
   "metadata": {},
   "outputs": [
    {
     "name": "stdout",
     "output_type": "stream",
     "text": [
      "6\n"
     ]
    }
   ],
   "source": [
    "x = 1  # this is a statement\n",
    "y = 2  # this is another statement\n",
    "z = 3  # and here's another\n",
    "# the following three lines are a single statement\n",
    "total = x + \\\n",
    "        y + \\\n",
    "        z\n",
    "print(total)  # and another"
   ]
  },
  {
   "cell_type": "markdown",
   "id": "dd186020",
   "metadata": {},
   "source": [
    "Likewise, lines contained within `[]`, `{}`, or `()` are considered part of the same statement:"
   ]
  },
  {
   "cell_type": "code",
   "execution_count": 11,
   "id": "c18d8a3a",
   "metadata": {},
   "outputs": [
    {
     "name": "stdout",
     "output_type": "stream",
     "text": [
      "6\n"
     ]
    }
   ],
   "source": [
    "x = 1  # this is a statement\n",
    "y = 2  # this is another statement\n",
    "z = 3  # and here's another\n",
    "# the following three lines are a single statement\n",
    "total = (x +\n",
    "        y +\n",
    "        z)\n",
    "print(total)  # and another"
   ]
  },
  {
   "cell_type": "markdown",
   "id": "caed30e9",
   "metadata": {},
   "source": [
    "This is particularly useful for making lists, tuples, and dictionaries easier to read:\n",
    "\n",
    "<div class=\"alert alert-block alert-info\">\n",
    "<b>Note:</b> Another way to improve code readability is to use blank lines, <i>i.e.</i> those containing only whitespace, to separate sections of code, since they are also ignored by Python.\n",
    "</div>"
   ]
  },
  {
   "cell_type": "code",
   "execution_count": 12,
   "id": "30e2127e",
   "metadata": {},
   "outputs": [
    {
     "name": "stdout",
     "output_type": "stream",
     "text": [
      "['apple', 'banana', 'cherry', 'orange', 'kiwi', 'melon', 'mango']\n"
     ]
    }
   ],
   "source": [
    "fruits = [\n",
    "    'apple', \n",
    "    'banana', \n",
    "    'cherry', \n",
    "    'orange', \n",
    "    'kiwi', \n",
    "    'melon', \n",
    "    'mango'\n",
    "]\n",
    "\n",
    "print(fruits)"
   ]
  },
  {
   "cell_type": "markdown",
   "id": "508391b7",
   "metadata": {},
   "source": [
    "## 2.2. Code Blocks\n",
    "\n",
    "A **code block** is a group of statements with a specific purpose, such as the code to be executed if a conditional is `True`. Python, unlike most other programming languages, uses **indentation** (*i.e.* whitespace at the beginning of a line) to indicate distinct code blocks. Basically, all statements with the same distance to the right belong in the same block.\n",
    "\n",
    "Any number of spaces (or tabs) can be used to indent lines, although **four spaces** is the default indentation unit in Python. Regardless of what indentation you use, the key is to **use it consistently** and avoid mixing styles.\n",
    "\n",
    "<div class=\"alert alert-block alert-info\">\n",
    "<b>Note:</b> When coding in Python, it is customary to indent code blocks using the <code>tab</code> key. Most code editors, Jupyter included, will convert the tab to four spaces.\n",
    "</div>"
   ]
  },
  {
   "cell_type": "code",
   "execution_count": 13,
   "id": "b4b89591",
   "metadata": {},
   "outputs": [
    {
     "name": "stdout",
     "output_type": "stream",
     "text": [
      "\"Now\" is present in the sentence.\n"
     ]
    }
   ],
   "source": [
    "if 'Now' in sentence:                                   # <-- code block 1 - 0 spaces\n",
    "    word = sentence[:3]                                 # <-- code block 2 - 4 spaces\n",
    "    print(f'\"{word}\" is present in the sentence.')      # <-- code block 2 - 4 spaces"
   ]
  },
  {
   "cell_type": "markdown",
   "id": "3f218618",
   "metadata": {},
   "source": [
    "Multiple **levels of indentation** can be used to nest code blocks within each other. If a block has to be more deeply nested than another, one simply indents it further to the right.\n",
    "\n",
    "In the example below, we follow best practices by using four spaces for the first indented block and then multiples of four to indicate nested blocks."
   ]
  },
  {
   "cell_type": "code",
   "execution_count": 14,
   "id": "8363391b",
   "metadata": {},
   "outputs": [
    {
     "name": "stdout",
     "output_type": "stream",
     "text": [
      "\"Now\" is present in the sentence.\n"
     ]
    }
   ],
   "source": [
    "if 'Now' in sentence:                                    # <-- code block 1 - 0 spaces  \n",
    "    sentence_length = len(sentence)                      # <-- code block 2 - 4 spaces\n",
    "    if sentence_length == 36:                            # <-- code block 2 - 4 spaces\n",
    "        word = sentence[:3]                              # <-- code block 3 - 8 spaces\n",
    "        print(f'\"{word}\" is present in the sentence.')   # <-- code block 3 - 8 spaces"
   ]
  },
  {
   "cell_type": "markdown",
   "id": "8806a488",
   "metadata": {},
   "source": [
    "# 3. Iterative Statements\n",
    "\n",
    "This type of statements repeat the same code block for as long as a condition is met. The code that implements iteration is usually called a **loop**. Python has two primitive loop commands:\n",
    "\n",
    "Command | Type | Description\n",
    "|:-|:-|:-|\n",
    "`while` | Indefinite iteration | The number of times the loop is executed isn’t specified explicitly in advance\n",
    "`for` | Definite iteration | The number of times the loop is executed is specified explicitly at the time the loop starts\n",
    "\n",
    "\n",
    "## 3.1. `while` Loops\n",
    "\n",
    "The keyword `while` takes a *condition* and creates a loop that executes a code block **for as long as the condition evaluates to** `True`. The flow of a `while` loop looks like this:\n",
    "\n",
    "<img src=\"https://mermaid.ink/img/pako:eNpFj80KwkAMhF8l5FTBJyio9MebetCTsJfQTbXY3S1rikrbdzdVwZySmQ8yM2AVLGOKdRse1ZWiwO5oPOhkyUn0XsBqtYZ8KIK3jTTBg2PZTF8mn83xzPcRCsVDt_jrahzCCGWyfXLVC8P86eeXs6_AkTsmGSHDJTqOjhqrWYYZMihXdmww1dVSvBk0flKOegmnl68wldjzEvvOknDZ0CWSw7Sm9q4qa9gQ999yn47TGw6tS0I\" width=450>"
   ]
  },
  {
   "cell_type": "code",
   "execution_count": 15,
   "id": "585e8633",
   "metadata": {},
   "outputs": [
    {
     "name": "stdout",
     "output_type": "stream",
     "text": [
      "1\n",
      "2\n",
      "3\n",
      "4\n",
      "5\n"
     ]
    }
   ],
   "source": [
    "i = 1\n",
    "while i < 6:\n",
    "    print(i)\n",
    "    i = i + 1"
   ]
  },
  {
   "cell_type": "markdown",
   "id": "9db05b8f",
   "metadata": {},
   "source": [
    "The `while` loop **has to be supplied with a condition**, and any variables used in that condition have to be declared before declaring the loop itself. In the example above, we need to define an indexing variable, `i`, which we set to `1`, so that it can be used to define the loop's condition.\n",
    "\n",
    "The condition in a `while` loop is evaluated **before every iteration**: if the result is `True`, the code  beneath the `while` statement is executed, if `False`, the loop is terminated. In this case the condition we supply the loop is `i < 6`: it will run as long as the value of `i` is lesser than `6`.\n",
    "\n",
    "<div class=\"alert alert-block alert-danger\">\n",
    "<b>Warning:</b> You <b>must</b> remember to increment <code>i</code> within the loop, or else it will continue forever. If you've ever heard the expression <b><i>infinite loop</i></b>, this is what it refers to!\n",
    "</div>\n",
    "\n",
    "<div class=\"alert alert-block alert-info\">\n",
    "<b>Note:</b> If you start an infinite loop in a Jupyter cell, <b>stop the kernel</b> using the stop button in the toolbar <button class=\"btn btn-default\" title=\"interrupt the kernel\" data-jupyter-action=\"jupyter-notebook:interrupt-kernel\"><i class=\"fa-stop fa\"></i></button>, and then <b>restart the kernel</b> with <button class=\"btn btn-default\" title=\"restart the kernel (with dialog)\" data-jupyter-action=\"jupyter-notebook:confirm-restart-kernel\"><i class=\"fa-repeat fa\"></i></button>.\n",
    "</div>"
   ]
  },
  {
   "cell_type": "markdown",
   "id": "84ca78db",
   "metadata": {},
   "source": [
    "Just like with `if`, we can use the `else` keyword to define a block of code to be run once when the `while` condition is no longer `True`:"
   ]
  },
  {
   "cell_type": "code",
   "execution_count": 16,
   "id": "21a15392",
   "metadata": {},
   "outputs": [
    {
     "name": "stdout",
     "output_type": "stream",
     "text": [
      "1\n",
      "2\n",
      "3\n",
      "4\n",
      "5\n",
      "i(6) is no longer less than 6\n"
     ]
    }
   ],
   "source": [
    "i = 1\n",
    "while i < 6:\n",
    "    print(i)\n",
    "    i = i + 1\n",
    "else:\n",
    "    print(f'i({i}) is no longer less than 6')"
   ]
  },
  {
   "cell_type": "markdown",
   "id": "2a07a358",
   "metadata": {},
   "source": [
    "It is also possible to nest `while` statements, but one must be **extremely careful to avoid infinite loops**. \n",
    "\n",
    "<div class=\"alert alert-block alert-success\">\n",
    "<b>Exercise:</b> The code below is given as an example of a nested <code>while</code> loop in an <a href=\"https://pythontut.com/while\" target=\"_blank\">online Python tutorial</a>, but it will cause an infinite loop if run. <b>What is the problem?</b>\n",
    "</div>"
   ]
  },
  {
   "cell_type": "code",
   "execution_count": null,
   "id": "d363fff8",
   "metadata": {},
   "outputs": [],
   "source": [
    "x = 1\n",
    "while x < 10:\n",
    "    print(x)\n",
    "    while x < 3:\n",
    "        print(\"We are at the very beginning\")\n",
    "    x += 1\n",
    "else:\n",
    "    print('While loop is a great tool')"
   ]
  },
  {
   "cell_type": "markdown",
   "id": "32999c08",
   "metadata": {},
   "source": [
    "## 3.2. `for` Loops\n",
    "\n",
    "The keyword `for` takes a *sequence* (*e.g.* `list`, `tuple`, `dictionary`, `set`, `string`), and creates a loop that executes a code block **once for each item** in the sequence. The flow of a `for` loop looks like this:\n",
    "\n",
    "<img src=\"https://mermaid.ink/img/pako:eNpNj7EOgzAMRH8l8gQS_ECGVlC60Q5lqpTFIqZEbQgKRm0F_HsDLPVk3zv5dBPUThNIaF7uXbfoWZQ31YkwWVRxuGORpgdRROcP1SOTWP3x7ig2lE8lDiwMkz0uO8hXMN9pmMUpfHF9_K9f3SwySMCSt2h0CJ9WrIBbsqRAhlWjfypQ3RJ8OLKrvl0Nkv1ICYy9RqbC4MOjBdngawgqacPOX_Y2W6nlB_33RQg\" width=450>\n",
    "\n",
    "The example below shows how to rewrite the `while` loop from section 3.1 as a `for` loop. Unlike a `while` loop, a `for` loop does not require an indexing variable to be set beforehand, but **a variable name must be supplied** with the call (`i` in the example). This variable will take on the value of one (and only one) item in the sequence (*i.e.* one of the numbers in `indices`) for each iteration in the loop."
   ]
  },
  {
   "cell_type": "code",
   "execution_count": 17,
   "id": "06e53132",
   "metadata": {},
   "outputs": [
    {
     "name": "stdout",
     "output_type": "stream",
     "text": [
      "1\n",
      "2\n",
      "3\n",
      "4\n",
      "5\n"
     ]
    }
   ],
   "source": [
    "indices = [1, 2, 3 ,4, 5]\n",
    "for i in indices:\n",
    "    print(i)"
   ]
  },
  {
   "cell_type": "markdown",
   "id": "1bc19c0d",
   "metadata": {},
   "source": [
    "The need to iterate over a sequence of numbers is a very common one. The solution shown above, *i.e.* manually writing the sequence as a list, quickly becomes impractical as a sequence becomes longer. A much better approach is to use Python's built-in `range()` function, which returns a sequence of numbers. `range()` takes up to three arguments:\n",
    "\n",
    "- `start` is an **optional** integer indicating the start value of the range. If not provided, it **defaults to** `0`.\n",
    "- `end` is a **required** integer indicating the end value of the range.\n",
    "- `step` is an **optional** integer indicating the difference between two items in the list. If not provided it **defaults to** `1`."
   ]
  },
  {
   "cell_type": "code",
   "execution_count": 18,
   "id": "bf0a768c",
   "metadata": {},
   "outputs": [
    {
     "name": "stdout",
     "output_type": "stream",
     "text": [
      "[0, 1, 2, 3, 4, 5, 6, 7, 8, 9]\n",
      "[1, 2, 3, 4, 5, 6, 7, 8, 9]\n",
      "[1, 3, 5, 7, 9]\n"
     ]
    }
   ],
   "source": [
    "# here, we use the list constructor to covert the range to a list for printing\n",
    "print(list(range(10)))           # we only specify end, so start=0 and step=1\n",
    "print(list(range(1, 10)))        # we specify start and end, step defaults to 1\n",
    "print(list(range(1, 10, 2)))     # we specify all arguments"
   ]
  },
  {
   "cell_type": "markdown",
   "id": "03937dce",
   "metadata": {},
   "source": [
    "Let's rewrite the `for` loop example using `range()`:"
   ]
  },
  {
   "cell_type": "code",
   "execution_count": 19,
   "id": "c7826c3d",
   "metadata": {},
   "outputs": [
    {
     "name": "stdout",
     "output_type": "stream",
     "text": [
      "1\n",
      "2\n",
      "3\n",
      "4\n",
      "5\n"
     ]
    }
   ],
   "source": [
    "for i in range(1, 6):  # we need to specify start=1, otherwise it will start at 0\n",
    "    print(i)"
   ]
  },
  {
   "cell_type": "markdown",
   "id": "e749bb34",
   "metadata": {},
   "source": [
    "As before, the `else` keyword can be used to specify a code block to be executed when the loop is finished:"
   ]
  },
  {
   "cell_type": "code",
   "execution_count": 20,
   "id": "c0e27a76",
   "metadata": {},
   "outputs": [
    {
     "name": "stdout",
     "output_type": "stream",
     "text": [
      "1\n",
      "2\n",
      "3\n",
      "4\n",
      "5\n",
      "Sequence complete.\n"
     ]
    }
   ],
   "source": [
    "for i in range(1, 6):  # we need to specify start=1, otherwise it will start at 0\n",
    "    print(i)\n",
    "else:\n",
    "    print('Sequence complete.')"
   ]
  },
  {
   "cell_type": "markdown",
   "id": "0d02fe48",
   "metadata": {},
   "source": [
    "`for` loops can also be nested: the **inner loop** will be executed once for each iteration of the **outer loop**:"
   ]
  },
  {
   "cell_type": "code",
   "execution_count": 21,
   "id": "1000f7a1",
   "metadata": {},
   "outputs": [
    {
     "name": "stdout",
     "output_type": "stream",
     "text": [
      "Starting i = 1.\n",
      "\t1 + 2 = 3\n",
      "\t1 + 5 = 6\n",
      "\t1 + 23 = 24\n",
      "Done with i = 1.\n",
      "\n",
      "Starting i = 2.\n",
      "\t2 + 2 = 4\n",
      "\t2 + 5 = 7\n",
      "\t2 + 23 = 25\n",
      "Done with i = 2.\n",
      "\n",
      "Starting i = 3.\n",
      "\t3 + 2 = 5\n",
      "\t3 + 5 = 8\n",
      "\t3 + 23 = 26\n",
      "Done with i = 3.\n",
      "\n",
      "Starting i = 4.\n",
      "\t4 + 2 = 6\n",
      "\t4 + 5 = 9\n",
      "\t4 + 23 = 27\n",
      "Done with i = 4.\n",
      "\n",
      "Starting i = 5.\n",
      "\t5 + 2 = 7\n",
      "\t5 + 5 = 10\n",
      "\t5 + 23 = 28\n",
      "Done with i = 5.\n",
      "\n"
     ]
    }
   ],
   "source": [
    "additions = [2, 5, 23]\n",
    "for i in range(1, 6):\n",
    "    print(f'Starting i = {i}.')\n",
    "    for a in additions:\n",
    "        print(f'\\t{i} + {a} = {i + a}')\n",
    "    print(f'Done with i = {i}.\\n')"
   ]
  },
  {
   "cell_type": "markdown",
   "id": "efc862d3",
   "metadata": {},
   "source": [
    "Another convenient built-in function often used in `for` loops is `enumerate()`. It takes a sequence and returns another sequence which contains, for each item in the original, a *two-tuple* with a counter and the item itself:"
   ]
  },
  {
   "cell_type": "code",
   "execution_count": 22,
   "id": "ccab360f",
   "metadata": {},
   "outputs": [
    {
     "name": "stdout",
     "output_type": "stream",
     "text": [
      "['one', 'two', 'three', 'four', 'five']\n",
      "[(0, 'one'), (1, 'two'), (2, 'three'), (3, 'four'), (4, 'five')]\n"
     ]
    }
   ],
   "source": [
    "numbers = ['one', 'two', 'three', 'four', 'five']\n",
    "print(numbers)\n",
    "print(list(enumerate(numbers))) # the list constructor converts the enumerate object to a list for printing"
   ]
  },
  {
   "cell_type": "markdown",
   "id": "9281f1d1",
   "metadata": {},
   "source": [
    "As always with Python, the count starts at `0`, but `enumerate()` accepts a starting integer as a second argument:"
   ]
  },
  {
   "cell_type": "code",
   "execution_count": 23,
   "id": "42baa8d1",
   "metadata": {},
   "outputs": [
    {
     "name": "stdout",
     "output_type": "stream",
     "text": [
      "[(1, 'one'), (2, 'two'), (3, 'three'), (4, 'four'), (5, 'five')]\n",
      "[(23, 'one'), (24, 'two'), (25, 'three'), (26, 'four'), (27, 'five')]\n"
     ]
    }
   ],
   "source": [
    "print(list(enumerate(numbers, 1)))  # start counting at 1\n",
    "print(list(enumerate(numbers, 23))) # start counting at 23"
   ]
  },
  {
   "cell_type": "markdown",
   "id": "0b867aa6",
   "metadata": {},
   "source": [
    "The `enumerate()` function can be used to keep a count of iterations in a `for` loop: "
   ]
  },
  {
   "cell_type": "code",
   "execution_count": 24,
   "id": "bff93034",
   "metadata": {},
   "outputs": [
    {
     "name": "stdout",
     "output_type": "stream",
     "text": [
      "Iteration is 0, number is one\n",
      "Iteration is 1, number is two\n",
      "Iteration is 2, number is three\n",
      "Iteration is 3, number is four\n",
      "Iteration is 4, number is five\n"
     ]
    }
   ],
   "source": [
    "for index, number in enumerate(numbers):\n",
    "    print(f'Iteration is {index}, number is {number}')"
   ]
  },
  {
   "cell_type": "markdown",
   "id": "b3d2819e",
   "metadata": {},
   "source": [
    "Note how, in the example above, we provide two variables when defining the loop, `index` and `number`. This is because we are **unpacking** the tuple returned by `enumerate()` (*i.e.* we are extracting its components, see **Unit 1, section 2.2** for details).\n",
    "\n",
    "The count provided by `enumerate()` can be used to make desicions about how to process each item. For example, in the following cell, we print out only the even numbers (using the [modulo](https://en.wikipedia.org/wiki/Modulo) operator):"
   ]
  },
  {
   "cell_type": "code",
   "execution_count": 25,
   "id": "ffb7e494",
   "metadata": {},
   "outputs": [
    {
     "name": "stdout",
     "output_type": "stream",
     "text": [
      "two\n",
      "four\n"
     ]
    }
   ],
   "source": [
    "for index, number in enumerate(numbers, 1):  # we start the count at 1 to sync the indices and numbers\n",
    "    if index % 2 == 0:  # if the remainder (modulo) of dividing the number by 2 is 0, then it's even\n",
    "        print(number)"
   ]
  },
  {
   "cell_type": "markdown",
   "id": "d51265b5",
   "metadata": {},
   "source": [
    "# 4. Transfer Statements\n",
    "\n",
    "Sometimes, while executing a conditional statement or running a loop, you may want the task to skip a single iteration or even exit the loop. This can be achieved using **transfer statements**. These are commands that alter the flow of the programme in a pre-determined manner and **do not take any arguments**. Python has three transfer statements: `continue`, `break`, and `pass`.\n",
    "\n",
    "\n",
    "## 4.1. The `continue` Statement\n",
    "\n",
    "`continue` can be used with both `while` and `for` loops. It will immediately stop the current iteration and return to the top of the loop (*i.e.* move on to the next iteration, if any). It is useful when you want the loop to **skip over an iteration** if a specific condition is triggered. \n",
    "\n",
    "For example, in a loop that prints the results of dividing `2` by a range of numbers, one would want to avoid divisors that are *zero*, as that would trigger an error:"
   ]
  },
  {
   "cell_type": "code",
   "execution_count": 26,
   "id": "114e0885",
   "metadata": {},
   "outputs": [
    {
     "name": "stdout",
     "output_type": "stream",
     "text": [
      "2 divided by -3 equals -0.6666666666666666.\n",
      "2 divided by -2 equals -1.0.\n",
      "2 divided by -1 equals -2.0.\n",
      "You can't divide by zero!\n",
      "2 divided by 1 equals 2.0.\n",
      "2 divided by 2 equals 1.0.\n"
     ]
    }
   ],
   "source": [
    "for i in range(-3, 3):\n",
    "    if i == 0:\n",
    "        print(\"You can't divide by zero!\")\n",
    "        continue\n",
    "    print(f'2 divided by {i} equals {2/i}.')"
   ]
  },
  {
   "cell_type": "markdown",
   "id": "b014c8dc",
   "metadata": {},
   "source": [
    "<div class=\"alert alert-block alert-success\">\n",
    "<b>Exercise:</b> Re-write the example above using a <code>while</code> loop instead.\n",
    "</div>"
   ]
  },
  {
   "cell_type": "code",
   "execution_count": null,
   "id": "88a75dcd",
   "metadata": {},
   "outputs": [],
   "source": [
    "# the same using 'while'\n",
    "\n",
    "\n"
   ]
  },
  {
   "cell_type": "markdown",
   "id": "1ce7034b",
   "metadata": {},
   "source": [
    "## 4.2. The `break` Statement\n",
    "\n",
    "The `break` statement is used to **terminate the current loop** (not just the current iteration). It will immediately move on to the next statement outside the loop. Like `continue`, `break` can  be used in both `while` and `for` loops.\n",
    "\n",
    "The most common usage of `break` is to avoid continuing the execution of a loop in cases where the desired result has already been achieved. For instance, suppose you write a `for` loop that finds the first item that is bigger than `5` in a list:"
   ]
  },
  {
   "cell_type": "code",
   "execution_count": 27,
   "id": "18cf8262",
   "metadata": {},
   "outputs": [
    {
     "name": "stdout",
     "output_type": "stream",
     "text": [
      "Found it! The number is 10\n"
     ]
    }
   ],
   "source": [
    "numbers = [1, 1.2, 5, 10, 2, 34, 3, 66, 7, 99]\n",
    "for i in numbers:\n",
    "    if i > 5:\n",
    "        print(f'Found it! The number is {i}')\n",
    "        break"
   ]
  },
  {
   "cell_type": "markdown",
   "id": "404e2dc7",
   "metadata": {},
   "source": [
    "Without the `break` statement, the loop above would continue to evaluate numbers unnecessarily after finding the desired value.\n",
    "\n",
    "<div class=\"alert alert-block alert-warning\">\n",
    "<b>Note:</b> If the <code>for</code> loop contains an <code>else</code> statement and is terminated using  <code>break</code>, the code under <code>else</code> will not be executed.\n",
    "</div>"
   ]
  },
  {
   "cell_type": "markdown",
   "id": "2f4d5754",
   "metadata": {},
   "source": [
    "## 4.3. The `pass` Statement\n",
    "\n",
    "*Conditional* and *iterative* statements **require** a code block under them, they **cannot be empty**. `pass` can be used to force Python to evaluate the statement without throwing an error. The `pass` statement is a *null statement*: it does nothing at all. It is often used as a **placeholder**, in cases where one doesn't want to write code right away:"
   ]
  },
  {
   "cell_type": "code",
   "execution_count": 31,
   "id": "d140cbc9",
   "metadata": {},
   "outputs": [
    {
     "ename": "IndentationError",
     "evalue": "expected an indented block (4240465988.py, line 7)",
     "output_type": "error",
     "traceback": [
      "\u001b[0;36m  Cell \u001b[0;32mIn[31], line 7\u001b[0;36m\u001b[0m\n\u001b[0;31m    elif x > 0:\u001b[0m\n\u001b[0m    ^\u001b[0m\n\u001b[0;31mIndentationError\u001b[0m\u001b[0;31m:\u001b[0m expected an indented block\n"
     ]
    }
   ],
   "source": [
    "x = 0\n",
    "\n",
    "if x < 0:\n",
    "    print('x is lesser than 0')\n",
    "elif x == 0:\n",
    "    # can't be arsed to write the code right now\n",
    "elif x > 0:\n",
    "    print('x is greater than 0')\n",
    "else:\n",
    "    print('Oh dear, I think I broke maths!')\n",
    "\n",
    "print('Programme completed.')"
   ]
  },
  {
   "cell_type": "markdown",
   "id": "4d246a82",
   "metadata": {},
   "source": [
    "But if we use `pass`:"
   ]
  },
  {
   "cell_type": "code",
   "execution_count": 32,
   "id": "b19ebc57",
   "metadata": {},
   "outputs": [
    {
     "name": "stdout",
     "output_type": "stream",
     "text": [
      "Programme completed.\n"
     ]
    }
   ],
   "source": [
    "x = 0\n",
    "\n",
    "if x < 0:\n",
    "    print('x is lesser than 0')\n",
    "elif x == 0:\n",
    "    pass # can't be arsed to write the code right now\n",
    "elif x > 0:\n",
    "    print('x is greater than 0')\n",
    "else:\n",
    "    print('Oh dear, I think I broke maths!')\n",
    "\n",
    "print('Programme completed.')"
   ]
  },
  {
   "cell_type": "markdown",
   "id": "db13e784",
   "metadata": {},
   "source": [
    "<div class=\"alert alert-block alert-success\">\n",
    "<b>Exercise:</b> Find <b>numbers</b> for <code>x</code> that trigger each branch of the conditional statement.\n",
    "</div>"
   ]
  },
  {
   "cell_type": "markdown",
   "id": "a73e0de3",
   "metadata": {},
   "source": [
    "### `continue` vs `pass`\n",
    "\n",
    "In the context of loops, it may seem like `continue` and `pass` could be used interchangeably, but this is not so: the `continue` statement skips the current iteration of a loop whereas `pass` does nothing at all. Compare the two loops below to see the difference:"
   ]
  },
  {
   "cell_type": "code",
   "execution_count": 33,
   "id": "df969b51",
   "metadata": {},
   "outputs": [
    {
     "name": "stdout",
     "output_type": "stream",
     "text": [
      "Loop 1: 0\n",
      "Loop 1: 1\n",
      "Loop 2: 0\n",
      "Loop 2: 1\n",
      "Loop 2: 2\n"
     ]
    }
   ],
   "source": [
    "for i in range(3):\n",
    "    if i == 2:\n",
    "        continue\n",
    "    print(f'Loop 1: {i}')\n",
    "    \n",
    "for i in range(3):\n",
    "    if i == 2:\n",
    "        pass\n",
    "    print(f'Loop 2: {i}')"
   ]
  },
  {
   "cell_type": "markdown",
   "id": "0c7cf54f",
   "metadata": {},
   "source": [
    "# 5. Handling Errors\n",
    "\n",
    "It would be silly to assume one can write code that will always work perfectly, hence a crucial part of programming is learning to anticipate what can go wrong and preparing for it, this is often called *error handling*.\n",
    "\n",
    "## 5.1. Types of Error\n",
    "\n",
    "In Python, errors can be classified into three categories: **syntax errors**, **logical errors**, and **exceptions** (also called runtime errors).\n",
    "\n",
    "**Syntax errors** are those caused by a **failure to follow the rules of the language**. Python checks for syntax errors **before running a program**. If any are encountered, the interpreter will stop, without running anything, and output information about the nature and location of the problem. \n",
    "\n",
    "For example, let's take a loop from the previous example and remove the indentation (a violation of syntax rules):"
   ]
  },
  {
   "cell_type": "code",
   "execution_count": 34,
   "id": "81f2ada6",
   "metadata": {},
   "outputs": [
    {
     "ename": "IndentationError",
     "evalue": "expected an indented block (3927904471.py, line 2)",
     "output_type": "error",
     "traceback": [
      "\u001b[0;36m  Cell \u001b[0;32mIn[34], line 2\u001b[0;36m\u001b[0m\n\u001b[0;31m    if i == 2:\u001b[0m\n\u001b[0m    ^\u001b[0m\n\u001b[0;31mIndentationError\u001b[0m\u001b[0;31m:\u001b[0m expected an indented block\n"
     ]
    }
   ],
   "source": [
    "for i in range(3):\n",
    "if i == 2:\n",
    "continue\n",
    "print(f'Loop 1: {i}')"
   ]
  },
  {
   "cell_type": "markdown",
   "id": "b3f0cfa5",
   "metadata": {},
   "source": [
    "The output shows the section of code where the error **begins** (indicated with a carat) and attempts to describe the nature of the problem. Let's fix it and run the code again:"
   ]
  },
  {
   "cell_type": "code",
   "execution_count": 35,
   "id": "e211ba71",
   "metadata": {},
   "outputs": [
    {
     "ename": "IndentationError",
     "evalue": "expected an indented block (748046161.py, line 3)",
     "output_type": "error",
     "traceback": [
      "\u001b[0;36m  Cell \u001b[0;32mIn[35], line 3\u001b[0;36m\u001b[0m\n\u001b[0;31m    continue\u001b[0m\n\u001b[0m            ^\u001b[0m\n\u001b[0;31mIndentationError\u001b[0m\u001b[0;31m:\u001b[0m expected an indented block\n"
     ]
    }
   ],
   "source": [
    "for i in range(3):\n",
    "    if i == 2:\n",
    "continue\n",
    "print(f'Loop 1: {i}')"
   ]
  },
  {
   "cell_type": "markdown",
   "id": "4d057e77",
   "metadata": {},
   "source": [
    "Now the carat has moved to the next line. That's because **Python stops the moment it encounters a syntax error**. If multiple errors are present in the code, it will **only report the first one**. Once it is fixed, it will stop at the next one, and so on.\n",
    "\n",
    "**Logical errors** are those that cause the programme to return incorrect or unexpected results. The cause of these errors lies with the programmer, for example choosing the wrong algorithm for the problem at hand, not with the code itself. Thus, logical errors **don’t raise error messages** and are, therefore, the most difficult type to fix.\n",
    "\n",
    "**Exceptions** are errors caused by syntactically correct code. They are encountered by the interpreter during  execution and cause the programme to stop and display an error message (*i.e.* to **crash**). Unlike syntax errors, exceptions can remain hidden until the specific code with the problem is executed.\n",
    "\n",
    "For example, from **Unit 1** we know that attempting to extract a value from a dictionary with a non-existent key will trigger an error:"
   ]
  },
  {
   "cell_type": "code",
   "execution_count": 36,
   "id": "fd3aeb06",
   "metadata": {},
   "outputs": [
    {
     "name": "stdout",
     "output_type": "stream",
     "text": [
      "The value for key one is 1\n",
      "The value for key two is 2\n",
      "The value for key three is 3\n"
     ]
    },
    {
     "ename": "KeyError",
     "evalue": "'four'",
     "output_type": "error",
     "traceback": [
      "\u001b[0;31m---------------------------------------------------------------------------\u001b[0m",
      "\u001b[0;31mKeyError\u001b[0m                                  Traceback (most recent call last)",
      "Cell \u001b[0;32mIn[36], line 9\u001b[0m\n\u001b[1;32m      2\u001b[0m my_dict \u001b[38;5;241m=\u001b[39m {\n\u001b[1;32m      3\u001b[0m     \u001b[38;5;124m'\u001b[39m\u001b[38;5;124mone\u001b[39m\u001b[38;5;124m'\u001b[39m: \u001b[38;5;241m1\u001b[39m,\n\u001b[1;32m      4\u001b[0m     \u001b[38;5;124m'\u001b[39m\u001b[38;5;124mtwo\u001b[39m\u001b[38;5;124m'\u001b[39m: \u001b[38;5;241m2\u001b[39m,\n\u001b[1;32m      5\u001b[0m     \u001b[38;5;124m'\u001b[39m\u001b[38;5;124mthree\u001b[39m\u001b[38;5;124m'\u001b[39m: \u001b[38;5;241m3\u001b[39m\n\u001b[1;32m      6\u001b[0m }\n\u001b[1;32m      8\u001b[0m \u001b[38;5;28;01mfor\u001b[39;00m key \u001b[38;5;129;01min\u001b[39;00m keys:\n\u001b[0;32m----> 9\u001b[0m     value \u001b[38;5;241m=\u001b[39m \u001b[43mmy_dict\u001b[49m\u001b[43m[\u001b[49m\u001b[43mkey\u001b[49m\u001b[43m]\u001b[49m\n\u001b[1;32m     10\u001b[0m     \u001b[38;5;28mprint\u001b[39m(\u001b[38;5;124mf\u001b[39m\u001b[38;5;124m'\u001b[39m\u001b[38;5;124mThe value for key \u001b[39m\u001b[38;5;132;01m{\u001b[39;00mkey\u001b[38;5;132;01m}\u001b[39;00m\u001b[38;5;124m is \u001b[39m\u001b[38;5;132;01m{\u001b[39;00mvalue\u001b[38;5;132;01m}\u001b[39;00m\u001b[38;5;124m'\u001b[39m)\n\u001b[1;32m     12\u001b[0m \u001b[38;5;28mprint\u001b[39m(\u001b[38;5;124m'\u001b[39m\u001b[38;5;124mThe program completed successfully.\u001b[39m\u001b[38;5;124m'\u001b[39m)\n",
      "\u001b[0;31mKeyError\u001b[0m: 'four'"
     ]
    }
   ],
   "source": [
    "keys = ['one', 'two', 'three', 'four']\n",
    "my_dict = {\n",
    "    'one': 1,\n",
    "    'two': 2,\n",
    "    'three': 3\n",
    "}\n",
    "\n",
    "for key in keys:\n",
    "    value = my_dict[key]\n",
    "    print(f'The value for key {key} is {value}')\n",
    "\n",
    "print('The program completed successfully.')"
   ]
  },
  {
   "cell_type": "markdown",
   "id": "f0b26d3a",
   "metadata": {},
   "source": [
    "The `for` loop runs perfectly well, until we reach the last key, which is not present in the dictionary and thus throws an error.\n",
    "\n",
    "<div class=\"alert alert-block alert-info\">\n",
    "    <b>Note:</b> Exceptions are Python objects, in this case the object class is <i>KeyError</i>. We will discuss this in more detail in <b>Unit 4</b>.\n",
    "</div>"
   ]
  },
  {
   "cell_type": "markdown",
   "id": "bc23b3ed",
   "metadata": {},
   "source": [
    "## 5.2. Using `try` and `except`\n",
    "\n",
    "The `try` and `except` statements we help us catch exceptions and handle them without the programme crashing. The logic is simple: Python **tries to run the code under the** `try` **statement**. If an exception is raised, the code under the `except` statement will be run. Let's fix the example above:\n",
    "\n",
    "<div class=\"alert alert-block alert-info\">\n",
    "    <b>Note:</b> A better way to fix the example would be to use <code>get()</code> to extract values from the dictionary. See <b>Unit 1, section 2.3</b> for details.\n",
    "</div>"
   ]
  },
  {
   "cell_type": "code",
   "execution_count": 38,
   "id": "32c20064",
   "metadata": {},
   "outputs": [
    {
     "name": "stdout",
     "output_type": "stream",
     "text": [
      "The value for key one is 1\n",
      "The value for key two is 2\n",
      "The value for key three is 3\n",
      "There was a problem retrieving the value for four\n",
      "The programme completed successfully.\n"
     ]
    }
   ],
   "source": [
    "keys = ['one', 'two', 'three', 'four']\n",
    "my_dict = {\n",
    "    'one': 1,\n",
    "    'two': 2,\n",
    "    'three': 3\n",
    "}\n",
    "\n",
    "for key in keys:\n",
    "    try:\n",
    "        value = my_dict[key]\n",
    "        print(f'The value for key {key} is {value}')\n",
    "    except:\n",
    "        print(f'There was a problem retrieving the value for {key}')\n",
    "\n",
    "print('The programme completed successfully.')"
   ]
  },
  {
   "cell_type": "markdown",
   "id": "8305b9d8",
   "metadata": {},
   "source": [
    "The `else` statement can be used to run code **only if no exceptions were raised**. If an exception occurs, the code under the `else` statement won’t be executed. \n",
    "\n",
    "<div class=\"alert alert-block alert-info\">\n",
    "    <b>Note:</b> Generally speaking, the same result would be achieved by including the code under the <code>try</code> statement, but in certain circumstances, <i>e.g.</i> in time sensitive contexts where conditions can change quickly, that can cause unexpected behavior, hence the use of <code>else</code> is preferred.\n",
    "</div>"
   ]
  },
  {
   "cell_type": "code",
   "execution_count": 39,
   "id": "78713158",
   "metadata": {},
   "outputs": [
    {
     "name": "stdout",
     "output_type": "stream",
     "text": [
      "The value for three is 3\n",
      "All is good.\n"
     ]
    }
   ],
   "source": [
    "test_key = 'three'\n",
    "\n",
    "try:\n",
    "    value = my_dict[test_key]\n",
    "    print(f'The value for three is {value}')\n",
    "except:\n",
    "    print(\"That key doesn't exist!\")\n",
    "else: \n",
    "    print('All is good.')"
   ]
  },
  {
   "cell_type": "markdown",
   "id": "cdd068a3",
   "metadata": {},
   "source": [
    "In the cell above, no exception is raised, hence `else` runs. If we use a key that is not present in the dictionary, however:"
   ]
  },
  {
   "cell_type": "code",
   "execution_count": 40,
   "id": "76840492",
   "metadata": {},
   "outputs": [
    {
     "name": "stdout",
     "output_type": "stream",
     "text": [
      "That key doesn't exist!\n"
     ]
    }
   ],
   "source": [
    "test_key = 'four'\n",
    "\n",
    "try:\n",
    "    value = my_dict[test_key]\n",
    "    print(f'The value for three is {value}')\n",
    "except:\n",
    "    print(\"That key doesn't exist!\")\n",
    "else: \n",
    "    print('All is good.')"
   ]
  },
  {
   "cell_type": "markdown",
   "id": "6ea7b2c7",
   "metadata": {},
   "source": [
    "The `finally` statement can be used to execute code **no matter what**, *i.e.* regardles of whether or not and exception was raised. When present, the `finally` clause **must follow all other clauses** (`try`, `except`, `else`). The full flow looks like this:\n",
    "\n",
    "<img src=\"https://mermaid.ink/img/pako:eNqFkMEKwjAQRH8l7Emh4r2Uilpv6kFPQi5rstXQNJGYoqXtv5u2oJ50TwMzb1imAWElQQy5tg9xRefZ9sANC7eccEh6N_WuTuaDYolKe8HO2ooimauUw5TNZilbNZunoJtX1iy6sWDVG-2J7i1bv7toSP2q-4b3tmXZh9V3-k-uh382bypXBrWu_4PZCEIEJbkSlQyzNL3FwV-pJA5xkBJdwYGbLuSw8vZYGwGxdxVFUN0kesoUXhyWEOcYHo6ApPLW7cadh7m7F2WYdVE\" width=650>\n",
    "\n",
    "Let's add `finally` to the previous example:"
   ]
  },
  {
   "cell_type": "code",
   "execution_count": 41,
   "id": "a4d0b02a",
   "metadata": {},
   "outputs": [
    {
     "name": "stdout",
     "output_type": "stream",
     "text": [
      "The value for three is 3\n",
      "All is good.\n",
      "This will always print!\n"
     ]
    }
   ],
   "source": [
    "test_key = 'three'\n",
    "\n",
    "try:\n",
    "    value = my_dict[test_key]\n",
    "    print(f'The value for three is {value}')\n",
    "except:\n",
    "    print(\"That key doesn't exist!\")\n",
    "else: \n",
    "    print('All is good.')\n",
    "finally:\n",
    "    print('This will always print!')"
   ]
  },
  {
   "cell_type": "markdown",
   "id": "d110d8d1",
   "metadata": {},
   "source": [
    "And, if an exception is raised:"
   ]
  },
  {
   "cell_type": "code",
   "execution_count": 42,
   "id": "749957a4",
   "metadata": {},
   "outputs": [
    {
     "name": "stdout",
     "output_type": "stream",
     "text": [
      "That key doesn't exist!\n",
      "This will always print!\n"
     ]
    }
   ],
   "source": [
    "test_key = 'four'\n",
    "\n",
    "try:\n",
    "    value = my_dict[test_key]\n",
    "    print(f'The value for three is {value}')\n",
    "except:\n",
    "    print(\"That key doesn't exist!\")\n",
    "else: \n",
    "    print('All is good.')\n",
    "finally:\n",
    "    print('This will always print!')"
   ]
  }
 ],
 "metadata": {
  "kernelspec": {
   "display_name": "Python 3 (ipykernel)",
   "language": "python",
   "name": "python3"
  },
  "language_info": {
   "codemirror_mode": {
    "name": "ipython",
    "version": 3
   },
   "file_extension": ".py",
   "mimetype": "text/x-python",
   "name": "python",
   "nbconvert_exporter": "python",
   "pygments_lexer": "ipython3",
   "version": "3.9.13"
  }
 },
 "nbformat": 4,
 "nbformat_minor": 5
}

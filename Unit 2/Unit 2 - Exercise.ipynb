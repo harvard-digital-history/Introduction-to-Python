{
 "cells": [
  {
   "cell_type": "markdown",
   "id": "b54ec9b0",
   "metadata": {},
   "source": [
    "# UNIT 2: Control Flow and Syntax\n",
    "\n",
    "## Exercise\n",
    "\n",
    "Use what you learned in units 1 and 2 to write a programme that will take the text in the following `raw_text` variable:"
   ]
  },
  {
   "cell_type": "code",
   "execution_count": 2,
   "id": "319446a1",
   "metadata": {},
   "outputs": [],
   "source": [
    "raw_text = \"\"\"Arizona. - Quarter ended June 30, 1907. Estimated population, \n",
    "122,931. Total number of deaths 292, including diphtheria 1, enteric \n",
    "fever 4, scarlet fever 11, smallpox 2, and 49 from tuberculosis.\n",
    "\n",
    "Quarter ended September 30, 1907. Total number of deaths 402, \n",
    "including diphtheria 4, enteric fever 12, scarlet fever 2, smallpox 1, \n",
    "and 73 from tuberculosis.\n",
    "\n",
    "California. - Quarter ended June 30, 1907. Estimated population, 2,054,000.\n",
    "Total number of deaths 505, including diphtheria 19, enteric fever 18, \n",
    "scarlet fever 1, and 161 from tuberculosis.\n",
    "\n",
    "Quarter ended September 30, 1907. Total number of deaths 232, \n",
    "including diphtheria 8, enteric fever 22, scarlet fever 1, smallpox 5, \n",
    "and 103 from tuberculosis.\"\"\""
   ]
  },
  {
   "cell_type": "markdown",
   "id": "04a9f0a0",
   "metadata": {},
   "source": [
    "And output it in the tabular format below. **Use the CSV (*comma-separated values*) syntax on the left**. The rendered table on the right is provided for clarity.\n",
    "\n",
    "<div style=\"margin-top: 20px\"><div style=\"width: 49%; float: left;\">\n",
    "\n",
    "```csv\n",
    "State,Quarter ending,Population,Deaths,Cause \n",
    "AZ,6/30/1907,122,931,1,diphtheria\n",
    "AZ,6/30/1907,122,931,4,enteric fever\n",
    "AZ,6/30/1907,122,931,11,scarlet fever\n",
    "AZ,6/30/1907,122,931,2,smallpox\n",
    "AZ,6/30/1907,122,931,49,tuberculosis\n",
    "AZ,9/30/1907,122,931,4,diphtheria\n",
    "AZ,9/30/1907,122,931,12,enteric fever\n",
    "AZ,9/30/1907,122,931,2,scarlet fever\n",
    "AZ,9/30/1907,122,931,1,smallpox\n",
    "AZ,9/30/1907,122,931,73,tuberculosis\n",
    "CA,6/30/1907,2,054,000,19,diphtheria\n",
    "CA,6/30/1907,2,054,000,18,enteric fever\n",
    "CA,6/30/1907,2,054,000,1,scarlet fever\n",
    "CA,6/30/1907,2,054,000,0,smallpox\n",
    "CA,6/30/1907,2,054,000,161,tuberculosis\n",
    "CA,9/30/1907,2,054,000,8,diphtheria\n",
    "CA,9/30/1907,2,054,000,22,enteric fever\n",
    "CA,9/30/1907,2,054,000,1,scarlet fever\n",
    "CA,9/30/1907,2,054,000,5,smallpox\n",
    "CA,9/30/1907,2,054,000,103,tuberculosis\n",
    "```\n",
    "\n",
    "</div><div style=\"width: 49%; float: right;\">\n",
    "\n",
    "State | Quarter ending | Population | Deaths | Cause \n",
    ":----:|:--------------:|-----------:|-------:|:------\n",
    "AZ | 6/30/1907 | 122,931 | 1 | diphtheria\n",
    "AZ | 6/30/1907 | 122,931 | 4 | enteric fever\n",
    "AZ | 6/30/1907 | 122,931 | 11 | scarlet fever\n",
    "AZ | 6/30/1907 | 122,931 | 2 | smallpox\n",
    "AZ | 6/30/1907 | 122,931 | 49 | tuberculosis\n",
    "AZ | 9/30/1907 | 122,931 | 4 | diphtheria\n",
    "AZ | 9/30/1907 | 122,931 | 12 | enteric fever\n",
    "AZ | 9/30/1907 | 122,931 | 2 | scarlet fever\n",
    "AZ | 9/30/1907 | 122,931 | 1 | smallpox\n",
    "AZ | 9/30/1907 | 122,931 | 73 | tuberculosis\n",
    "CA | 6/30/1907 | 2,054,000 | 19 | diphtheria\n",
    "CA | 6/30/1907 | 2,054,000 | 18 | enteric fever\n",
    "CA | 6/30/1907 | 2,054,000 | 1 | scarlet fever\n",
    "CA | 6/30/1907 | 2,054,000 | 0 | smallpox\n",
    "CA | 6/30/1907 | 2,054,000 | 161 | tuberculosis\n",
    "CA | 9/30/1907 | 2,054,000 | 8 | diphtheria\n",
    "CA | 9/30/1907 | 2,054,000 | 22 | enteric fever\n",
    "CA | 9/30/1907 | 2,054,000 | 1 | scarlet fever\n",
    "CA | 9/30/1907 | 2,054,000 | 5 | smallpox\n",
    "CA | 9/30/1907 | 2,054,000 | 103 | tuberculosis\n",
    "\n",
    "</div></div>\n"
   ]
  },
  {
   "cell_type": "markdown",
   "id": "56df7301",
   "metadata": {},
   "source": [
    "Remember to document your code!"
   ]
  },
  {
   "cell_type": "code",
   "execution_count": null,
   "id": "268d426e",
   "metadata": {},
   "outputs": [],
   "source": [
    "# your code starts here:"
   ]
  }
 ],
 "metadata": {
  "kernelspec": {
   "display_name": "Python 3 (ipykernel)",
   "language": "python",
   "name": "python3"
  },
  "language_info": {
   "codemirror_mode": {
    "name": "ipython",
    "version": 3
   },
   "file_extension": ".py",
   "mimetype": "text/x-python",
   "name": "python",
   "nbconvert_exporter": "python",
   "pygments_lexer": "ipython3",
   "version": "3.9.13"
  }
 },
 "nbformat": 4,
 "nbformat_minor": 5
}

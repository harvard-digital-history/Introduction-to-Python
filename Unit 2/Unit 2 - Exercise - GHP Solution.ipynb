{
 "cells": [
  {
   "cell_type": "markdown",
   "id": "b54ec9b0",
   "metadata": {},
   "source": [
    "# UNIT 2: Control Flow and Syntax\n",
    "\n",
    "## Exercise\n",
    "\n",
    "Use what you learned in units 1 and 2 to write a programme that will take the text in the following `raw_text` variable:"
   ]
  },
  {
   "cell_type": "code",
   "execution_count": 1,
   "id": "319446a1",
   "metadata": {},
   "outputs": [],
   "source": [
    "raw_text = \"\"\"Arizona. - Quarter ended June 30, 1907. Estimated population, \n",
    "122,931. Total number of deaths 292, including Diphtheria 1, enteric \n",
    "fever 4, scarlet fever 11, smallpox 2, and 49 from Tuberculosis.\n",
    "\n",
    "Quarter ended September 30, 1907. Total number of deaths 402, \n",
    "including diphtheria 4, Enteric fever 12, scarlet fever 2, smallpox 1, \n",
    "and 73 from tuberculosis.\n",
    "\n",
    "California. - Quarter ended June 30, 1907. Estimated population, 2,054,000.\n",
    "Total number of deaths 505, including diphtheria 19, enteric fever 18, \n",
    "scarlet fever 1, and 161 from tuberculosis.\n",
    "\n",
    "Quarter ended September 30, 1907. Total number of deaths 232, \n",
    "including diphtheria 8, Enteric fever 22, scarlet fever 1, Smallpox 5, \n",
    "and 103 from tuberculosis.\"\"\""
   ]
  },
  {
   "cell_type": "markdown",
   "id": "04a9f0a0",
   "metadata": {},
   "source": [
    "And output it in the tabular format below. **Use the CSV (*comma-separated values*) syntax on the left**. The rendered table on the right is provided for clarity.\n",
    "\n",
    "<div style=\"margin-top: 20px\"><div style=\"width: 49%; float: left;\">\n",
    "\n",
    "```csv\n",
    "State,Quarter ending,Population,Deaths,Cause \n",
    "AZ,6/30/1907,122,931,1,diphtheria\n",
    "AZ,6/30/1907,122,931,4,enteric fever\n",
    "AZ,6/30/1907,122,931,11,scarlet fever\n",
    "AZ,6/30/1907,122,931,2,smallpox\n",
    "AZ,6/30/1907,122,931,49,tuberculosis\n",
    "AZ,9/30/1907,122,931,4,diphtheria\n",
    "AZ,9/30/1907,122,931,12,enteric fever\n",
    "AZ,9/30/1907,122,931,2,scarlet fever\n",
    "AZ,9/30/1907,122,931,1,smallpox\n",
    "AZ,9/30/1907,122,931,73,tuberculosis\n",
    "CA,6/30/1907,2,054,000,19,diphtheria\n",
    "CA,6/30/1907,2,054,000,18,enteric fever\n",
    "CA,6/30/1907,2,054,000,1,scarlet fever\n",
    "CA,6/30/1907,2,054,000,0,smallpox\n",
    "CA,6/30/1907,2,054,000,161,tuberculosis\n",
    "CA,9/30/1907,2,054,000,8,diphtheria\n",
    "CA,9/30/1907,2,054,000,22,enteric fever\n",
    "CA,9/30/1907,2,054,000,1,scarlet fever\n",
    "CA,9/30/1907,2,054,000,5,smallpox\n",
    "CA,9/30/1907,2,054,000,103,tuberculosis\n",
    "```\n",
    "\n",
    "</div><div style=\"width: 49%; float: right;\">\n",
    "\n",
    "State | Quarter ending | Population | Deaths | Cause \n",
    ":----:|:--------------:|-----------:|-------:|:------\n",
    "AZ | 6/30/1907 | 122,931 | 1 | diphtheria\n",
    "AZ | 6/30/1907 | 122,931 | 4 | enteric fever\n",
    "AZ | 6/30/1907 | 122,931 | 11 | scarlet fever\n",
    "AZ | 6/30/1907 | 122,931 | 2 | smallpox\n",
    "AZ | 6/30/1907 | 122,931 | 49 | tuberculosis\n",
    "AZ | 9/30/1907 | 122,931 | 4 | diphtheria\n",
    "AZ | 9/30/1907 | 122,931 | 12 | enteric fever\n",
    "AZ | 9/30/1907 | 122,931 | 2 | scarlet fever\n",
    "AZ | 9/30/1907 | 122,931 | 1 | smallpox\n",
    "AZ | 9/30/1907 | 122,931 | 73 | tuberculosis\n",
    "CA | 6/30/1907 | 2,054,000 | 19 | diphtheria\n",
    "CA | 6/30/1907 | 2,054,000 | 18 | enteric fever\n",
    "CA | 6/30/1907 | 2,054,000 | 1 | scarlet fever\n",
    "CA | 6/30/1907 | 2,054,000 | 0 | smallpox\n",
    "CA | 6/30/1907 | 2,054,000 | 161 | tuberculosis\n",
    "CA | 9/30/1907 | 2,054,000 | 8 | diphtheria\n",
    "CA | 9/30/1907 | 2,054,000 | 22 | enteric fever\n",
    "CA | 9/30/1907 | 2,054,000 | 1 | scarlet fever\n",
    "CA | 9/30/1907 | 2,054,000 | 5 | smallpox\n",
    "CA | 9/30/1907 | 2,054,000 | 103 | tuberculosis\n",
    "\n",
    "</div></div>\n"
   ]
  },
  {
   "cell_type": "markdown",
   "id": "56df7301",
   "metadata": {},
   "source": [
    "Remember to document your code! **Here's a tip to get you started**: line breaks in text are encoded as a special, invisible character, if you want to search or replace it, you can target it by using this escape sequence: `\\n`. Here's an example:"
   ]
  },
  {
   "cell_type": "code",
   "execution_count": 2,
   "id": "f759686b",
   "metadata": {},
   "outputs": [
    {
     "name": "stdout",
     "output_type": "stream",
     "text": [
      "This is one line.\n",
      "This is the next line.\n",
      "This is one line. This is the next line.\n"
     ]
    }
   ],
   "source": [
    "text = \"\"\"This is one line.\n",
    "This is the next line.\"\"\"\n",
    "\n",
    "print(text) # print it as-is\n",
    "print(text.replace('\\n', ' ')) # print it after replacing line breaks with a space\n"
   ]
  },
  {
   "cell_type": "markdown",
   "id": "eab17089",
   "metadata": {},
   "source": [
    "## Gabe's Solution"
   ]
  },
  {
   "cell_type": "code",
   "execution_count": 3,
   "id": "268d426e",
   "metadata": {},
   "outputs": [
    {
     "name": "stdout",
     "output_type": "stream",
     "text": [
      "Arizona. Quarter ended June 30, 1907. Estimated population, 122,931. Total number of deaths 292, including Diphtheria 1, enteric fever 4, scarlet fever 11, smallpox 2, and 49 from Tuberculosis. Quarter ended September 30, 1907. Total number of deaths 402, including diphtheria 4, Enteric fever 12, scarlet fever 2, smallpox 1, and 73 from tuberculosis. California. Quarter ended June 30, 1907. Estimated population, 2,054,000. Total number of deaths 505, including diphtheria 19, enteric fever 18, scarlet fever 1, and 161 from tuberculosis. Quarter ended September 30, 1907. Total number of deaths 232, including diphtheria 8, Enteric fever 22, scarlet fever 1, Smallpox 5, and 103 from tuberculosis.\n"
     ]
    }
   ],
   "source": [
    "# this is just one of many, many ways to do this!\n",
    "\n",
    "# let's do some cleaning up:\n",
    "# first we create a new variable and fill it up with a version of the raw_text\n",
    "# where we replace line breaks with a space\n",
    "working_text = raw_text.replace('\\n', ' ')\n",
    "\n",
    "# next we get rid of the annoying dashes in front of state names\n",
    "working_text = working_text.replace(' - ', ' ')\n",
    "\n",
    "# next we remove any double spaces we might have inadvertendtly created\n",
    "working_text = working_text.replace('  ', ' ')\n",
    "\n",
    "# let's look at the result\n",
    "print(working_text)\n"
   ]
  },
  {
   "cell_type": "code",
   "execution_count": 4,
   "id": "05a9b82d",
   "metadata": {},
   "outputs": [
    {
     "name": "stdout",
     "output_type": "stream",
     "text": [
      "Arizona\n",
      "Quarter ended June 30, 1907\n",
      "Estimated population, 122,931\n",
      "Total number of deaths 292, including Diphtheria 1, enteric fever 4, scarlet fever 11, smallpox 2, and 49 from Tuberculosis\n",
      "Quarter ended September 30, 1907\n",
      "Total number of deaths 402, including diphtheria 4, Enteric fever 12, scarlet fever 2, smallpox 1, and 73 from tuberculosis\n",
      "California\n",
      "Quarter ended June 30, 1907\n",
      "Estimated population, 2,054,000\n",
      "Total number of deaths 505, including diphtheria 19, enteric fever 18, scarlet fever 1, and 161 from tuberculosis\n",
      "Quarter ended September 30, 1907\n",
      "Total number of deaths 232, including diphtheria 8, Enteric fever 22, scarlet fever 1, Smallpox 5, and 103 from tuberculosis.\n"
     ]
    }
   ],
   "source": [
    "# now that the text is pretty clean we can start thinking about it as data\n",
    "# the basic organizational unit is the sentence\n",
    "# so next we create a list where every item is a sentence\n",
    "# we'll do it with the split() method of strings\n",
    "# by using a period AND a space we avoid having whitespace at the beginning of sentences\n",
    "\n",
    "sentences = working_text.split('. ')\n",
    "\n",
    "# let's look at the results\n",
    "for s in sentences:  # we iterate over the list\n",
    "    print(s) # and print each item (i.e. sentence)\n"
   ]
  },
  {
   "cell_type": "code",
   "execution_count": 5,
   "id": "ca2cb357",
   "metadata": {},
   "outputs": [],
   "source": [
    "# now we can write a big loop to iterate over the sentences and extract the data we want\n",
    "# it's important to know what we're aiming for, so we can plan accordingly\n",
    "# in order to get CSV-formatted output, we could store the results in a list\n",
    "# where each item is a row\n",
    "# if we make the items also lists, then we can store the values as items\n",
    "# and at the end use the join() method with a comma as separator\n",
    "\n",
    "# we'll need the headers, so let's start there\n",
    "headers = ['State', 'Quarter ending', 'Population', 'Deaths', 'Cause']\n",
    "\n",
    "# now we create the output list\n",
    "# remember each item is a row, so the first should be the headers\n",
    "output = [headers]\n",
    "\n",
    "# several of the values repeat across rows\n",
    "# we'll need a way to persist them across iterations of the loop\n",
    "# so let's define a few variable to hold them:\n",
    "current_state = ''\n",
    "current_quarter = ''\n",
    "current_population = ''\n",
    "\n",
    "# we'll also have to convert the month names to digits\n",
    "# so let's create a quick dictionary matching names to numbers to make things easier\n",
    "months = {\n",
    "    'June': 6,\n",
    "    'September': 9\n",
    "}\n",
    "\n",
    "# lastly, we'll have to figure out the causes of death\n",
    "# since they're a small, finite set of values, let's create a list with them\n",
    "death_causes = ['diphtheria', 'enteric fever', 'scarlet fever', 'smallpox', 'tuberculosis']\n"
   ]
  },
  {
   "cell_type": "code",
   "execution_count": 9,
   "id": "68028cb3",
   "metadata": {},
   "outputs": [
    {
     "name": "stdout",
     "output_type": "stream",
     "text": [
      "['AZ', '6/30/1907', '122,931', '1', 'diphtheria']\n",
      "['AZ', '6/30/1907', '122,931', '4', 'enteric fever']\n",
      "['AZ', '6/30/1907', '122,931', '11', 'scarlet fever']\n",
      "['AZ', '6/30/1907', '122,931', '2', 'smallpox']\n",
      "['AZ', '6/30/1907', '122,931', '49', 'tuberculosis']\n",
      "['AZ', '9/30/1907', '122,931', '4', 'diphtheria']\n",
      "['AZ', '9/30/1907', '122,931', '12', 'enteric fever']\n",
      "['AZ', '9/30/1907', '122,931', '2', 'scarlet fever']\n",
      "['AZ', '9/30/1907', '122,931', '1', 'smallpox']\n",
      "['AZ', '9/30/1907', '122,931', '73', 'tuberculosis']\n",
      "['CA', '6/30/1907', '2,054,000', '19', 'diphtheria']\n",
      "['CA', '6/30/1907', '2,054,000', '18', 'enteric fever']\n",
      "['CA', '6/30/1907', '2,054,000', '1', 'scarlet fever']\n",
      "['CA', '6/30/1907', '2,054,000', '161', 'tuberculosis']\n",
      "['CA', '9/30/1907', '2,054,000', '8', 'diphtheria']\n",
      "['CA', '9/30/1907', '2,054,000', '22', 'enteric fever']\n",
      "['CA', '9/30/1907', '2,054,000', '1', 'scarlet fever']\n",
      "['CA', '9/30/1907', '2,054,000', '5', 'smallpox']\n",
      "['CA', '9/30/1907', '2,054,000', '103', 'tuberculosis']\n"
     ]
    }
   ],
   "source": [
    "# now we write the loop\n",
    "# we already have an iterable (the list of sentences)\n",
    "# so we'll use a for loop\n",
    "for sentence in sentences:\n",
    "    if sentence == 'Arizona': # the state names are their own sentence\n",
    "        current_state = 'AZ' # we set the variable we created to persist the state across iterations\n",
    "    \n",
    "    elif sentence == 'California':\n",
    "        current_state = 'CA'  # we use the initialism, as in the output spec\n",
    "    \n",
    "    elif sentence.startswith('Estimated'): # if it starts with \"Estimated\", it contains the population\n",
    "        current_population = sentence.replace('Estimated population, ', '') # remove the rest, keep the number\n",
    "    \n",
    "    elif sentence.startswith('Quarter'): # if it starts with \"Quarter\"...\n",
    "        quarter_date = sentence.replace('Quarter ended ', '') # keep the date, e.g. \"June 30, 1907\"\n",
    "        month_day, year = quarter_date.split(', ') # split on comma and save to two vars: \"June 30\" & \"1907\"\n",
    "        month_txt, day = month_day.split(' ') # split the first on space to get \"June\" & \"30\"\n",
    "        month = months.get(month_txt, 'Ooops') # use the dictionary to get the month number\n",
    "        current_quarter = f'{month}/{day}/{year}' # we assemble the date to spec: \"6/30/1907\"\n",
    "    \n",
    "    elif sentence.startswith('Total'): # if it starts with \"Total\", it contains the death data\n",
    "        cause_data = sentence.split(', ') # we split on comma to get individual cause/counts\n",
    "        \n",
    "        for cause_entry in cause_data: # then we iterate over them\n",
    "            cause = '' # we'll store cause here when we find it\n",
    "            count = '' # and count here\n",
    "            \n",
    "            if cause_entry.startswith('Total'): # if it starts with \"Total\", it's the one with the total deaths\n",
    "                continue # we don't need that, so we skip to the next iteration\n",
    "            \n",
    "            else: # if it's one of the good ones\n",
    "                \n",
    "                for death_cause in death_causes: # we iterate over our list of causes and compare\n",
    "                    if death_cause in cause_entry.lower():  # lower() deals with inconsistent capitalization\n",
    "                        cause = death_cause # when we find a match, we save it\n",
    "                        break # and we leave the loop, we have our cause, no need to keep looking\n",
    "\n",
    "                for token in cause_entry.split(' '): # now we split the subclause into words\n",
    "                    if token.isdigit(): # only one of them will be a digit: the count we want\n",
    "                        count = token # when we find a match, we save it\n",
    "                        break # and move on\n",
    "                \n",
    "                # now we have all the data we need to create a new row\n",
    "                new_row = [\n",
    "                    current_state,\n",
    "                    current_quarter,\n",
    "                    current_population,\n",
    "                    count,\n",
    "                    cause\n",
    "                ]\n",
    "                \n",
    "                print(new_row)  # let's print it to verify\n",
    "                output.append(new_row) # and we append it to the output list\n",
    "    \n",
    "    else: # this is a catch-all, in case something weird happens\n",
    "        print(f'Unidentified sentence: {sentence}') # if so, print a message\n"
   ]
  },
  {
   "cell_type": "code",
   "execution_count": 7,
   "id": "e2f71c05",
   "metadata": {},
   "outputs": [
    {
     "name": "stdout",
     "output_type": "stream",
     "text": [
      "State,Quarter ending,Population,Deaths,Cause\n",
      "AZ,6/30/1907,122,931,1,diphtheria\n",
      "AZ,6/30/1907,122,931,4,enteric fever\n",
      "AZ,6/30/1907,122,931,11,scarlet fever\n",
      "AZ,6/30/1907,122,931,2,smallpox\n",
      "AZ,6/30/1907,122,931,49,tuberculosis\n",
      "AZ,9/30/1907,122,931,4,diphtheria\n",
      "AZ,9/30/1907,122,931,12,enteric fever\n",
      "AZ,9/30/1907,122,931,2,scarlet fever\n",
      "AZ,9/30/1907,122,931,1,smallpox\n",
      "AZ,9/30/1907,122,931,73,tuberculosis\n",
      "CA,6/30/1907,2,054,000,19,diphtheria\n",
      "CA,6/30/1907,2,054,000,18,enteric fever\n",
      "CA,6/30/1907,2,054,000,1,scarlet fever\n",
      "CA,6/30/1907,2,054,000,161,tuberculosis\n",
      "CA,9/30/1907,2,054,000,8,diphtheria\n",
      "CA,9/30/1907,2,054,000,22,enteric fever\n",
      "CA,9/30/1907,2,054,000,1,scarlet fever\n",
      "CA,9/30/1907,2,054,000,5,smallpox\n",
      "CA,9/30/1907,2,054,000,103,tuberculosis\n"
     ]
    }
   ],
   "source": [
    "# when the loop is done, we're done\n",
    "# to get the formatted data\n",
    "for row in output: # we iterate over the output variable\n",
    "    print(','.join(row)) # and for each row we join the values with commas\n"
   ]
  },
  {
   "cell_type": "code",
   "execution_count": null,
   "id": "16806aed",
   "metadata": {},
   "outputs": [],
   "source": []
  }
 ],
 "metadata": {
  "kernelspec": {
   "display_name": "Python 3 (ipykernel)",
   "language": "python",
   "name": "python3"
  },
  "language_info": {
   "codemirror_mode": {
    "name": "ipython",
    "version": 3
   },
   "file_extension": ".py",
   "mimetype": "text/x-python",
   "name": "python",
   "nbconvert_exporter": "python",
   "pygments_lexer": "ipython3",
   "version": "3.9.13"
  }
 },
 "nbformat": 4,
 "nbformat_minor": 5
}

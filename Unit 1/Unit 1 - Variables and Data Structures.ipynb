{
 "cells": [
  {
   "cell_type": "markdown",
   "id": "0610894d",
   "metadata": {},
   "source": [
    "# UNIT 1: Variables and Data Structures"
   ]
  },
  {
   "cell_type": "markdown",
   "id": "f1338c53",
   "metadata": {},
   "source": [
    "## Table of Contents\n",
    "\n",
    "1. [Variables](#1.-Variables)  \n",
    "    1.1. [Working with Variables](#1.1.-Working-with-Variables)  \n",
    "    1.2. [Data Types](#1.2.-Data-Types)  \n",
    "    1.3. [Operators](#1.3.-Operators)  \n",
    "2. [Data Structures](#2.-Data-Structures)  \n",
    "    2.1. [Lists](#2.1.-Lists)  \n",
    "    2.2. [Tuples and Sets](#2.2.-Tuples-and-Sets)  \n",
    "    2.3. [Dictionaries](#2.3.-Dictionaries)  \n",
    "3. [String Manipulation](#3.-String-Manipulation)  \n",
    "    3.1. [Slicing](#3.1.-Slicing)  \n",
    "    3.2. [Case Transformations and Whitespace](#3.2.-Case-Transformations-and-Whitespace)  \n",
    "    3.3. [Evaluation](#3.3.-Evaluation)  \n",
    "    3.4. [Concatenation and Formatting](#3.4.-Concatenation-and-Formatting)  \n",
    "    3.5. [Find and Replace](#3.5.-Find-and-Replace)  \n",
    "    3.6. [Splitting and Joining](#3.6.-Splitting-and-Joining)  \n"
   ]
  },
  {
   "cell_type": "markdown",
   "id": "bfe96943",
   "metadata": {},
   "source": [
    "# 1. Variables\n",
    "\n",
    "A variable is a storage location associated with a symbolic name that can be used to reference the value stored in it.\n",
    "\n",
    "## 1.1. Working with Variables\n",
    "\n",
    "We assign values to variables using the `=` operator. Below, the value `2` is assigned to the name `x`. Afterwards the value can be referenced by using that name, for example in order to output `2` to the console using the `print()` command."
   ]
  },
  {
   "cell_type": "code",
   "execution_count": null,
   "id": "fb622e18",
   "metadata": {},
   "outputs": [],
   "source": [
    "x = 2\n",
    "print(x)"
   ]
  },
  {
   "cell_type": "markdown",
   "id": "d1ef6789",
   "metadata": {},
   "source": [
    "The values stored in variables are changeable, for example through addition:"
   ]
  },
  {
   "cell_type": "code",
   "execution_count": null,
   "id": "f7ab7bda",
   "metadata": {},
   "outputs": [],
   "source": [
    "year = 2023\n",
    "year = year + 1\n",
    "print(year)"
   ]
  },
  {
   "cell_type": "markdown",
   "id": "d95874e9",
   "metadata": {},
   "source": [
    "The value of one variable can be easily assigned to another:"
   ]
  },
  {
   "cell_type": "code",
   "execution_count": null,
   "id": "3e951cfd",
   "metadata": {},
   "outputs": [],
   "source": [
    "year2 = year\n",
    "print(year2)"
   ]
  },
  {
   "cell_type": "markdown",
   "id": "66316233",
   "metadata": {},
   "source": [
    "Multiple values can be assigned to as many variables at the same time:"
   ]
  },
  {
   "cell_type": "code",
   "execution_count": null,
   "id": "6ea21fc1",
   "metadata": {},
   "outputs": [],
   "source": [
    "x, y, z = 1, 2, 3\n",
    "print(x)\n",
    "print(y)\n",
    "print(z)"
   ]
  },
  {
   "cell_type": "markdown",
   "id": "efd2af6d",
   "metadata": {},
   "source": [
    "Similarly, the same value can be assigned to multiple variables at the same time:"
   ]
  },
  {
   "cell_type": "code",
   "execution_count": null,
   "id": "9581570b",
   "metadata": {},
   "outputs": [],
   "source": [
    "x = y = z = 3\n",
    "print(x)\n",
    "print(y)\n",
    "print(z)"
   ]
  },
  {
   "cell_type": "markdown",
   "id": "d130a6d7",
   "metadata": {},
   "source": [
    "### Variable names\n",
    "\n",
    "Variable names can be arbitrary (like `x` and `y`), although it is *highly advisable* to use descriptive names that make the code more readable (e.g. `age`, `surname`, `total_volume`). The following restrictions apply when naming variables in Python:\n",
    "\n",
    "- A variable name must start with a letter or the underscore character\n",
    "- A variable name cannot start with a number\n",
    "- A variable name can only contain alpha-numeric characters and underscores (`A-z`, `0-9`, and `_` )\n",
    "\n",
    "Several naming approaches have emerged to make variables names easier to read, particularly when the name incorporated multiple words. Amongst the most commonly used are:\n",
    "\n",
    "<div class=\"alert alert-block alert-info\" style=\"width: 50%; float: right; margin-left: 20px;\">\n",
    "<b>Note:</b> <i>Snake case</i> is conventionally accepted as the \"correct\" approach in Python, as that is the way recommended by the official <a href=\"https://peps.python.org/pep-0008/#function-and-variable-names\">Style Guide for Python Code (PEP 8)</a>\n",
    "</div>\n",
    "\n",
    "- **Snake Case**: `my_variable_name` (words are separated by underscores) \n",
    "- **Camel Case**: `myVariableName` (words, except the first, are capitalized) \n",
    "- **Pascal Case**: `MyVariableName` (words are capitalized)\n",
    "\n",
    "Lastly, variable names are case-sensitive. In the following example, declaring a new variable `Year` will not overwrite the existing one named `year`:"
   ]
  },
  {
   "cell_type": "code",
   "execution_count": null,
   "id": "0cf9a028",
   "metadata": {},
   "outputs": [],
   "source": [
    "Year = 1999\n",
    "print(Year)\n",
    "print(year)"
   ]
  },
  {
   "cell_type": "markdown",
   "id": "fa781255",
   "metadata": {},
   "source": [
    "## 1.2. Data Types\n",
    "\n",
    "Variables can store data of many different types, each with its own characteristics and limitations. The following are the most commonly used Python built-in data types.\n",
    "\n",
    "### Strings\n",
    "\n",
    "Strings are sequences of character data, and have to be enclosed with quotation marks (either single or double) to distinguish them from variable names. "
   ]
  },
  {
   "cell_type": "code",
   "execution_count": null,
   "id": "3ea3a81f",
   "metadata": {},
   "outputs": [],
   "source": [
    "x = \"John\"\n",
    "y = 'John'\n",
    "print(x)\n",
    "print(y)"
   ]
  },
  {
   "cell_type": "markdown",
   "id": "138a8d50",
   "metadata": {},
   "source": [
    "There are a few characters that can't be included *as-is* in strings, these are often called **illegal characters**. Examples include a double quote inside a string that is surrounded by double quotation marks. In order to include one of these characters in a string it is necessary to \"escape\" it by prepending it with a `\\` (backslash, which, because of this usage, is itself also an illegal character)."
   ]
  },
  {
   "cell_type": "code",
   "execution_count": null,
   "id": "04560cc7",
   "metadata": {},
   "outputs": [],
   "source": [
    "print(\"the man by the door shouted \"Stop!\"\")  # text outside quotation marks produces an error"
   ]
  },
  {
   "cell_type": "code",
   "execution_count": null,
   "id": "e39a4187",
   "metadata": {},
   "outputs": [],
   "source": [
    "print(\"the man by the door shouted \\\"Stop!\\\"\")  # escaping the quotation marks fixes the problem"
   ]
  },
  {
   "cell_type": "markdown",
   "id": "49438ddb",
   "metadata": {},
   "source": [
    "An alternative solution would be to use two different types of quotation marks:"
   ]
  },
  {
   "cell_type": "code",
   "execution_count": null,
   "id": "ee304795",
   "metadata": {},
   "outputs": [],
   "source": [
    "print('the man by the door shouted \\\"Stop!\\\"')  # double quotes inside single quotes"
   ]
  },
  {
   "cell_type": "markdown",
   "id": "a19439aa",
   "metadata": {},
   "source": [
    "Triple quotation marks can be used to deal with complex situations like the following sentence: `He said: \"the man by the door shouted 'Stop!'\"`"
   ]
  },
  {
   "cell_type": "code",
   "execution_count": null,
   "id": "1b990fa3",
   "metadata": {},
   "outputs": [],
   "source": [
    "print('''He said: \"the man by the door shouted 'Stop!'\"''')"
   ]
  },
  {
   "cell_type": "markdown",
   "id": "78daf34b",
   "metadata": {},
   "source": [
    "Triple quotes can be also used to assign a multiline string to a variable. The resulting text will preserve the line breaks at the same position."
   ]
  },
  {
   "cell_type": "code",
   "execution_count": null,
   "id": "41dd9cb1",
   "metadata": {},
   "outputs": [],
   "source": [
    "x = '''Lorem ipsum dolor sit amet,\n",
    "consectetur adipiscing elit,\n",
    "sed do eiusmod tempor incididunt\n",
    "ut labore et dolore magna aliqua.'''\n",
    "print(x)"
   ]
  },
  {
   "cell_type": "markdown",
   "id": "d4e26076",
   "metadata": {},
   "source": [
    "Lastly, special *invisible* characters, such as new line (`\\n`), carriage returns (`\\r`), and tabs (`\\t`), can also be escaped: "
   ]
  },
  {
   "cell_type": "code",
   "execution_count": null,
   "id": "5af61127",
   "metadata": {},
   "outputs": [],
   "source": [
    "print('first line\\n\\tsecond line\\nthird line')"
   ]
  },
  {
   "cell_type": "markdown",
   "id": "81c3a632",
   "metadata": {},
   "source": [
    "### Numbers\n",
    "\n",
    "As shown in previous examples, variables of numeric types are declared by assigning a value to them, quotation marks are not necessary. Python will automatically distinguish between number types, of which the two most commonly used are:\n",
    "\n",
    "- Integers (`int`), *i.e.* whole numbers of unlimited length, positive or negative, without decimals.\n",
    "- Floating point numbers (`float`), *i.e.* decimal numbers, positive or negative."
   ]
  },
  {
   "cell_type": "code",
   "execution_count": null,
   "id": "ae77caab",
   "metadata": {},
   "outputs": [],
   "source": [
    "a = 2\n",
    "b = 2.5\n",
    "print(a)\n",
    "print(b)"
   ]
  },
  {
   "cell_type": "markdown",
   "id": "765bf932",
   "metadata": {},
   "source": [
    "### Booleans\n",
    "\n",
    "Variables of `Boolean` type may have one of two values, `True` or `False`. They can be declared directly, without quotation marks."
   ]
  },
  {
   "cell_type": "code",
   "execution_count": null,
   "id": "b500df2d",
   "metadata": {},
   "outputs": [],
   "source": [
    "a = True  # note the capitalization: `True` not `true`\n",
    "b = False\n",
    "print(a)\n",
    "print(b)\n"
   ]
  },
  {
   "cell_type": "markdown",
   "id": "92f7ca06",
   "metadata": {},
   "source": [
    "Boolean values are commonly used to assess the veracity of an expression (for example a comparison):"
   ]
  },
  {
   "cell_type": "code",
   "execution_count": null,
   "id": "026d4801",
   "metadata": {},
   "outputs": [],
   "source": [
    "print(10 > 9)\n",
    "print(10 == 9)\n",
    "print(10 < 9)"
   ]
  },
  {
   "cell_type": "markdown",
   "id": "35543f30",
   "metadata": {},
   "source": [
    "### Determine a variable's data type\n",
    "\n",
    "You can get the data type of a variable with the `type()` function:"
   ]
  },
  {
   "cell_type": "code",
   "execution_count": null,
   "id": "bf4e3eb2",
   "metadata": {},
   "outputs": [],
   "source": [
    "x = 5\n",
    "y = 5.5\n",
    "z = \"John\"\n",
    "print(type(x))\n",
    "print(type(y))\n",
    "print(type(z))"
   ]
  },
  {
   "cell_type": "markdown",
   "id": "c1e31a15",
   "metadata": {},
   "source": [
    "### Declare a variable of a specific data type\n",
    "\n",
    "Variables do not need to be declared with any particular type, and can change type after they have been declared. There may be times, however, when it may be necessary to specify the type when declaring a variable. This can be done by *casting* the variable using a **constructor** function. The constructors for the types discussed above are: \n",
    "\n",
    "- `str()` constructs a string from a wide variety of data types, including strings, integer literals and float literals\n",
    "- `int()` constructs an integer number from an integer literal, a float literal (by removing all decimals), or a string literal (providing the string represents a whole number)\n",
    "- `float()` constructs a float number from an integer literal, a float literal or a string literal (providing the string represents a float or an integer)\n",
    "- `bool()` evaluates any value or expression and returns either `True` or `False`\n"
   ]
  },
  {
   "cell_type": "code",
   "execution_count": null,
   "id": "719b5135",
   "metadata": {},
   "outputs": [],
   "source": [
    "x = str(3)\n",
    "y = int(3)\n",
    "z = float(3)\n",
    "print(type(x))\n",
    "print(type(y))\n",
    "print(type(z))"
   ]
  },
  {
   "cell_type": "markdown",
   "id": "3e65d128",
   "metadata": {},
   "source": [
    "### Convert variables between data types\n",
    "\n",
    "The constructors discussed above can also be used to convert variables between data types:"
   ]
  },
  {
   "cell_type": "code",
   "execution_count": null,
   "id": "548dc1bd",
   "metadata": {},
   "outputs": [],
   "source": [
    "x = '2'\n",
    "y = int(x)\n",
    "z = str(y)\n",
    "print(type(x))\n",
    "print(type(y))\n",
    "print(type(z))"
   ]
  },
  {
   "cell_type": "markdown",
   "id": "8165e461",
   "metadata": {},
   "source": [
    "## 1.3. Operators\n",
    "\n",
    "Operators are constructs which can manipulate the value of operands. Given the expression `2 + 4 = 6`, `2` and `4` are **operands** and `+` is the **operator**. Python organizes operators into a number of groups. **Arithmetic operators** are used with numeric values to perform common mathematical operations:"
   ]
  },
  {
   "cell_type": "code",
   "execution_count": null,
   "id": "ca12b101",
   "metadata": {},
   "outputs": [],
   "source": [
    "x = 2\n",
    "y = 4\n",
    "print(x + y)  # addition\n",
    "print(x - y)  # substraction\n",
    "print(x / y)  # division\n",
    "print(x * y)  # multiplication\n",
    "print(x ** y)  # exponentiation"
   ]
  },
  {
   "cell_type": "markdown",
   "id": "980ee3e4",
   "metadata": {},
   "source": [
    "Some arithmetic operators can be used with strings, but their effects are different. While the `+` operator, for example, adds numbers, it instead *concatenates* strings:"
   ]
  },
  {
   "cell_type": "code",
   "execution_count": null,
   "id": "8235ed1c",
   "metadata": {},
   "outputs": [],
   "source": [
    "x = 'Now is the winter '\n",
    "y = 'of our discontent.'\n",
    "print(x + y)"
   ]
  },
  {
   "cell_type": "markdown",
   "id": "c07ff0bc",
   "metadata": {},
   "source": [
    "Using the same operator with mixed types, for example a string and a number, will produce an error:"
   ]
  },
  {
   "cell_type": "code",
   "execution_count": null,
   "id": "91816ac1",
   "metadata": {},
   "outputs": [],
   "source": [
    "x = 'Number '\n",
    "y = 1\n",
    "print(x + y)"
   ]
  },
  {
   "cell_type": "markdown",
   "id": "3fcbc88c",
   "metadata": {},
   "source": [
    "If the goal is to concateneta the variables, then the number should be converted to a string:"
   ]
  },
  {
   "cell_type": "code",
   "execution_count": null,
   "id": "496dea4e",
   "metadata": {},
   "outputs": [],
   "source": [
    "print(x + str(y))"
   ]
  },
  {
   "cell_type": "markdown",
   "id": "b407780b",
   "metadata": {},
   "source": [
    "**Comparison operators** are used to compare two values:"
   ]
  },
  {
   "cell_type": "code",
   "execution_count": null,
   "id": "fc5acb5d",
   "metadata": {},
   "outputs": [],
   "source": [
    "x = 2\n",
    "y = 4\n",
    "print(x == y)  # equal to\n",
    "print(x != y) # not equal to\n",
    "print(x < y)  # less than\n",
    "print(x > y) # greater than\n",
    "print(x <= y) # less than or equal to\n",
    "print(x >= y)  # greater than or equal to"
   ]
  },
  {
   "cell_type": "markdown",
   "id": "d894a037",
   "metadata": {},
   "source": [
    "**Logical operators** are used to combine conditional statements:"
   ]
  },
  {
   "cell_type": "code",
   "execution_count": null,
   "id": "10a969d1",
   "metadata": {},
   "outputs": [],
   "source": [
    "x = 2\n",
    "y = 2\n",
    "z = 4\n",
    "print(x == y and z > y)  # and: both sides are true\n",
    "print(x == y or y > z)  # or: either side is true\n",
    "print(not x == y)  # not: `True` if operand is false, `False` if operand is true"
   ]
  },
  {
   "cell_type": "markdown",
   "id": "9248bb18",
   "metadata": {},
   "source": [
    "**Membership operators** are used to test if an item or sequence of items is present in a collection:"
   ]
  },
  {
   "cell_type": "code",
   "execution_count": null,
   "id": "bc853260",
   "metadata": {},
   "outputs": [],
   "source": [
    "x = 'Now is the winter of our discontent.'\n",
    "print('Now' in x)  # in: returns True if the collection contains the item\n",
    "print('Now' not in x)  # combined with not"
   ]
  },
  {
   "cell_type": "markdown",
   "id": "31580315",
   "metadata": {},
   "source": [
    "# 2. Data Structures\n",
    "\n",
    "Python has four built-in data types used to store collections of data: **lists**, **tuples**, **sets**, and **dictionaries**.\n",
    "\n",
    "## 2.1. Lists\n",
    "\n",
    "A list is used to store multiple items in a single variable. Python uses **square brackets** to denote lists, while the items they contain are **separated by commas**. A variable can be declared as a list simply by using square brackets (with or without items included). Alternatively, the `list()` constructor can be used for the same purpose:"
   ]
  },
  {
   "cell_type": "code",
   "execution_count": null,
   "id": "c642eb2e",
   "metadata": {},
   "outputs": [],
   "source": [
    "my_list = []  # create an empty list\n",
    "another_list = list() # create an empty list using constructor\n",
    "fruits = ['apple', 'banana', 'cherry', 'orange', 'kiwi']  # create a list with items\n",
    "print(my_list)\n",
    "print(another_list)\n",
    "print(fruits)"
   ]
  },
  {
   "cell_type": "markdown",
   "id": "abc30dbd",
   "metadata": {},
   "source": [
    "The function `len()` can be used to determine the number of items in a list:"
   ]
  },
  {
   "cell_type": "code",
   "execution_count": null,
   "id": "31938dd3",
   "metadata": {},
   "outputs": [],
   "source": [
    "print(len(fruits))"
   ]
  },
  {
   "cell_type": "markdown",
   "id": "f4960223",
   "metadata": {},
   "source": [
    "Almost anything can be an item in a list, such as values of any data types, or even other data structures, including lists:"
   ]
  },
  {
   "cell_type": "code",
   "execution_count": null,
   "id": "960f0c70",
   "metadata": {},
   "outputs": [],
   "source": [
    "# notice the last item in this list is itself a list\n",
    "fruits = ['apple', 'banana', 'cherry', 'orange', 'kiwi', ['lemon', 'lime']]\n",
    "print(fruits)"
   ]
  },
  {
   "cell_type": "markdown",
   "id": "eca612ee",
   "metadata": {},
   "source": [
    "### Accessing items from a list\n",
    "\n",
    "Lists will preserve the order in which items are stored, and the items they contain are indexed, meaning they can be retrieved by referring to the index number. The syntax to retrieve a single item from a list consists of the name of the list followed by the index of the desired item in square brackets:\n",
    "\n",
    "<div class=\"alert alert-block alert-info\">\n",
    "<b>Note:</b> Python counts from zero, meaning that the index of the first item in a list will be <b>0</b>.\n",
    "</div>"
   ]
  },
  {
   "cell_type": "code",
   "execution_count": null,
   "id": "d5281c98",
   "metadata": {},
   "outputs": [],
   "source": [
    "print(fruits[0])  # retrieves the first item in the list 'fruits'"
   ]
  },
  {
   "cell_type": "markdown",
   "id": "a46dd79b",
   "metadata": {},
   "source": [
    "Negative indices can be used to tell Python to count from the end of the list instead of the beginning, so that `-1` refers to the last item, `-2` refers to the second last item, and so on:"
   ]
  },
  {
   "cell_type": "code",
   "execution_count": null,
   "id": "c2bdeaec",
   "metadata": {},
   "outputs": [],
   "source": [
    "print(fruits[-2])  # retrieves the second item starting from the end of the list"
   ]
  },
  {
   "cell_type": "markdown",
   "id": "11c07370",
   "metadata": {},
   "source": [
    "The same approach can be extended to access items in **nested lists**:"
   ]
  },
  {
   "cell_type": "code",
   "execution_count": null,
   "id": "47a1c6ab",
   "metadata": {},
   "outputs": [],
   "source": [
    "print(fruits[-1][0])  # retrieves the first item (0) from the list in the last item (-1)"
   ]
  },
  {
   "cell_type": "markdown",
   "id": "46267008",
   "metadata": {},
   "source": [
    "### List slicing\n",
    "\n",
    "If two indices separated by a colon are supplied, Python will read that as a range and return a new list containing all items within it. This process of extracting a subset of the lists' items is called **slicing**.\n",
    "\n",
    "<div class=\"alert alert-block alert-info\">\n",
    "<b>Note:</b> The resulting list will include the item corresponding to the <i>start</i> index of the supplied range but not the one corresponding to the <i>end</i> range.\n",
    "</div>"
   ]
  },
  {
   "cell_type": "code",
   "execution_count": null,
   "id": "0977a1d7",
   "metadata": {},
   "outputs": [],
   "source": [
    "print(fruits)\n",
    "print(fruits[2:5]) # 'cherry', index 2, is included, while 'melon', index 5, is not"
   ]
  },
  {
   "cell_type": "markdown",
   "id": "cd356000",
   "metadata": {},
   "source": [
    "If the start value of the range is not provided, Python will start selecting from the beginning of the list:"
   ]
  },
  {
   "cell_type": "code",
   "execution_count": null,
   "id": "35da8f49",
   "metadata": {},
   "outputs": [],
   "source": [
    "print(fruits[:4])  # selects from the beginning to index 4 (not inclusive)"
   ]
  },
  {
   "cell_type": "markdown",
   "id": "d6d9b77c",
   "metadata": {},
   "source": [
    "Conversely, if the end value of the range is omitted, Python will continue the selection to the end of the list:"
   ]
  },
  {
   "cell_type": "code",
   "execution_count": null,
   "id": "c3120484",
   "metadata": {},
   "outputs": [],
   "source": [
    "print(fruits[2:])  # selects from index 2 (inclusive) to the end of the list"
   ]
  },
  {
   "cell_type": "markdown",
   "id": "c9d99471",
   "metadata": {},
   "source": [
    "As before, negative indices can be used to reverse the direction of the selection:"
   ]
  },
  {
   "cell_type": "code",
   "execution_count": null,
   "id": "e23eb36f",
   "metadata": {},
   "outputs": [],
   "source": [
    "print(fruits)\n",
    "print(fruits[-3:-1])  # selects from the third index starting from the end to the last item (not included)"
   ]
  },
  {
   "cell_type": "markdown",
   "id": "0f8d5a7a",
   "metadata": {},
   "source": [
    "### Adding items to a list\n",
    "\n",
    "To add an item to the end of the list, use the `append()` method:"
   ]
  },
  {
   "cell_type": "code",
   "execution_count": null,
   "id": "f4cc1226",
   "metadata": {},
   "outputs": [],
   "source": [
    "print(fruits)\n",
    "fruits.append('melon')\n",
    "print(fruits)"
   ]
  },
  {
   "cell_type": "markdown",
   "id": "d6c7f369",
   "metadata": {},
   "source": [
    "To insert an item at a specified index, use the `insert()` method:"
   ]
  },
  {
   "cell_type": "code",
   "execution_count": null,
   "id": "bee43a8e",
   "metadata": {},
   "outputs": [],
   "source": [
    "print(fruits)\n",
    "fruits.insert(1, 'mango')\n",
    "print(fruits)"
   ]
  },
  {
   "cell_type": "markdown",
   "id": "1708d82b",
   "metadata": {},
   "source": [
    "### Changing items in a list\n",
    "\n",
    "To change the value of a specific item, use the item's index:"
   ]
  },
  {
   "cell_type": "code",
   "execution_count": null,
   "id": "530ace2d",
   "metadata": {},
   "outputs": [],
   "source": [
    "print(fruits)\n",
    "fruits[3] = 'blackcurrant'\n",
    "print(fruits)"
   ]
  },
  {
   "cell_type": "markdown",
   "id": "5e5c40a8",
   "metadata": {},
   "source": [
    "To change multiple items within a range, supply a list of the new items and the range in question.\n",
    "\n",
    "<div class=\"alert alert-block alert-info\">\n",
    "<b>Note:</b> The length of the list will change when the number of items inserted does not match the number of items replaced. If you insert less or more items than you replace, the new items will be inserted where you specified, and the remaining items will move accordingly.\n",
    "</div>"
   ]
  },
  {
   "cell_type": "code",
   "execution_count": null,
   "id": "ffa6d480",
   "metadata": {},
   "outputs": [],
   "source": [
    "print(fruits)\n",
    "fruits[1:3] = ['raspberry', 'watermelon']\n",
    "print(fruits)"
   ]
  },
  {
   "cell_type": "markdown",
   "id": "1429d8dd",
   "metadata": {},
   "source": [
    "To append elements from another list to the current list, use the `extend()` method:"
   ]
  },
  {
   "cell_type": "code",
   "execution_count": null,
   "id": "2a03f97b",
   "metadata": {},
   "outputs": [],
   "source": [
    "print(fruits)\n",
    "tropical = ['pineapple', 'papaya']\n",
    "fruits.extend(tropical)\n",
    "print(fruits)"
   ]
  },
  {
   "cell_type": "markdown",
   "id": "34dd8786",
   "metadata": {},
   "source": [
    "### Remove items from a list\n",
    "\n",
    "The `remove()` method removes the specified **item**:"
   ]
  },
  {
   "cell_type": "code",
   "execution_count": null,
   "id": "939baf2a",
   "metadata": {},
   "outputs": [],
   "source": [
    "print(fruits)\n",
    "fruits.remove(\"banana\")\n",
    "print(fruits)"
   ]
  },
  {
   "cell_type": "markdown",
   "id": "01b760de",
   "metadata": {},
   "source": [
    "The `del` keyword removes the specified **index**:"
   ]
  },
  {
   "cell_type": "code",
   "execution_count": null,
   "id": "8e65ca12",
   "metadata": {},
   "outputs": [],
   "source": [
    "print(fruits)\n",
    "del fruits[0]\n",
    "print(fruits)"
   ]
  },
  {
   "cell_type": "markdown",
   "id": "2c6b5df9",
   "metadata": {},
   "source": [
    "The `pop()` method **extracts** the specified **index** (or the last item, if an index is not provided). The extracted item can, for example, be stored in a variable:"
   ]
  },
  {
   "cell_type": "code",
   "execution_count": null,
   "id": "968c759b",
   "metadata": {},
   "outputs": [],
   "source": [
    "print(fruits)\n",
    "extracted_fruit = fruits.pop(1)\n",
    "print(fruits)\n",
    "print(extracted_fruit)"
   ]
  },
  {
   "cell_type": "markdown",
   "id": "c18b88e6",
   "metadata": {},
   "source": [
    "Lastly, the `clear()` method empties the list. The list itself still exists, but it no longer has any content:"
   ]
  },
  {
   "cell_type": "code",
   "execution_count": null,
   "id": "7ce44ff6",
   "metadata": {},
   "outputs": [],
   "source": [
    "print(fruits)\n",
    "fruits.clear()\n",
    "print(fruits)"
   ]
  },
  {
   "cell_type": "markdown",
   "id": "e42292c3",
   "metadata": {},
   "source": [
    "### Sort a list\n",
    "\n",
    "Lists have a `sort()` method that will sort the list alphanumerically:"
   ]
  },
  {
   "cell_type": "code",
   "execution_count": null,
   "id": "ea640533",
   "metadata": {},
   "outputs": [],
   "source": [
    "fruits = ['apple', 'banana', 'cherry', 'orange', 'kiwi', 'melon', 'mango']\n",
    "fruits.sort()\n",
    "print(fruits)"
   ]
  },
  {
   "cell_type": "markdown",
   "id": "4de7d42d",
   "metadata": {},
   "source": [
    "The default order is **ascending**. To reverse it and sort in **descending** order, use the keyword argument `reverse=True`:"
   ]
  },
  {
   "cell_type": "code",
   "execution_count": null,
   "id": "61f72d57",
   "metadata": {},
   "outputs": [],
   "source": [
    "fruits.sort(reverse=True)\n",
    "print(fruits)"
   ]
  },
  {
   "cell_type": "markdown",
   "id": "11f16444",
   "metadata": {},
   "source": [
    "## 2.2. Tuples and Sets\n",
    "\n",
    "Tuples and sets, like lists, are used to store multiple items in a single variable. However, they differ in their properties:\n",
    "\n",
    "<div style=\"width: 50%; margin: 20px;\">\n",
    "\n",
    "| Lists      | Tuples        | Sets          |\n",
    "|:-----------|:--------------|:--------------|\n",
    "| Ordered    | Ordered       | Unordered     |\n",
    "| Changeable | Unchangeable  | Unchangeable+ |\n",
    "| Duplicates | No duplicates | No duplicates |\n",
    "| Indexed    | Indexed       | Not indexed   |\n",
    "\n",
    "</div>\n",
    "\n",
    "**+** set items cannot be altered, but the set iteself can, *e.g.* by adding and removing items."
   ]
  },
  {
   "cell_type": "markdown",
   "id": "a2b8d2d0",
   "metadata": {},
   "source": [
    "### Tuples\n",
    "\n",
    "Tuples are denoted with **round brackets**, and the constructor is `tuple()`. The items in a tuple are **separated by commas**.\n",
    "\n",
    "<div class=\"alert alert-block alert-info\">\n",
    "<b>Note:</b> When creating a tuple with only one item, remember to include a comma after the item, otherwise it will not be identified as a tuple.\n",
    "</div>"
   ]
  },
  {
   "cell_type": "code",
   "execution_count": null,
   "id": "9d7ee11a",
   "metadata": {},
   "outputs": [],
   "source": [
    "my_tuple = ()  # create an empty tuple\n",
    "single_item = ('apple',)  # create a tuple with a single item, note the comma\n",
    "another_tuple = tuple() # create an empty tuple using constructor\n",
    "fruit_tuple = ('apple', 'banana', 'cherry', 'orange')  # create a tuple with items\n",
    "print(my_tuple)\n",
    "print(single_item)\n",
    "print(another_tuple)\n",
    "print(fruit_tuple)"
   ]
  },
  {
   "cell_type": "markdown",
   "id": "86df6344",
   "metadata": {},
   "source": [
    "Most of the methods and functions used to work with lists also apply to tuples:"
   ]
  },
  {
   "cell_type": "code",
   "execution_count": null,
   "id": "42681218",
   "metadata": {},
   "outputs": [],
   "source": [
    "print(len(fruit_tuple))  # use `len()` to get the number of items\n",
    "print(fruit_tuple[1])  # tuple items are indexed and can be retrieved just like list items\n",
    "print(fruit_tuple[1:4])  # tuples can aslo be sliced like lists\n",
    "print(fruit_tuple[-1])  # and negative indices work in the same manner\n",
    "print('apple' in fruit_tuple)  # as does checking whether an item is in the tuple"
   ]
  },
  {
   "cell_type": "markdown",
   "id": "7195e23b",
   "metadata": {},
   "source": [
    "Tuples, however, are **unchangeable**, meaning that items cannot be added or removed once the tuple has been created. Therefore methods like `append()`, `insert()`, `remove()`, and `pop()` raise errors if used:"
   ]
  },
  {
   "cell_type": "code",
   "execution_count": null,
   "id": "42e77ac1",
   "metadata": {},
   "outputs": [],
   "source": [
    "print(fruit_tuple.append('lime'))"
   ]
  },
  {
   "cell_type": "markdown",
   "id": "7403b1cd",
   "metadata": {},
   "source": [
    "It is, however, possible to extract the values of a tuple back into variables. This is called **unpacking**:"
   ]
  },
  {
   "cell_type": "code",
   "execution_count": null,
   "id": "ba2d127b",
   "metadata": {},
   "outputs": [],
   "source": [
    "(green, yellow, red, orange) = fruit_tuple\n",
    "print(green)\n",
    "print(yellow)\n",
    "print(red)\n",
    "print(orange)"
   ]
  },
  {
   "cell_type": "markdown",
   "id": "0de023d9",
   "metadata": {},
   "source": [
    "If the number of variables is less than the number of values in the tuple, one of the variables can be designated to receive the remaining values as a list. The variable to be used for this purpose can be indicated by adding `*` next to its name:"
   ]
  },
  {
   "cell_type": "code",
   "execution_count": null,
   "id": "e36c6c29",
   "metadata": {},
   "outputs": [],
   "source": [
    "(green, yellow, *rest) = fruit_tuple\n",
    "print(green)\n",
    "print(yellow)\n",
    "print(rest)"
   ]
  },
  {
   "cell_type": "markdown",
   "id": "de69f145",
   "metadata": {},
   "source": [
    "### Sets\n",
    "\n",
    "Sets are denoted using **curly brackets**, and their constructor is `set()`. Items in sets are **separated by commas**.\n",
    "\n",
    "<div class=\"alert alert-block alert-info\">\n",
    "<b>Note:</b> Because curly brackets are also used to denote dictionaries, you cannot create an empty set without using the constructor.\n",
    "</div>"
   ]
  },
  {
   "cell_type": "code",
   "execution_count": null,
   "id": "e3a6854b",
   "metadata": {},
   "outputs": [],
   "source": [
    "my_set = {}  # cannot create an empty set like this\n",
    "empty_set = set() # but you can do it using the constructor\n",
    "fruit_set = {'apple', 'banana', 'cherry', 'orange'}  # create a set with items\n",
    "print(type(my_set))\n",
    "print(empty_set)\n",
    "print(fruit_set)"
   ]
  },
  {
   "cell_type": "markdown",
   "id": "29d438e6",
   "metadata": {},
   "source": [
    "Because they are neither ordered nor indexed, individual **items in sets cannot be accessed by referencing their indices**. It is possible, however, to add and remove items from the set. The method `add()` can be used to append a new item:"
   ]
  },
  {
   "cell_type": "code",
   "execution_count": null,
   "id": "c5644974",
   "metadata": {},
   "outputs": [],
   "source": [
    "fruit_set.add('lime')\n",
    "print(fruit_set)"
   ]
  },
  {
   "cell_type": "markdown",
   "id": "102982b7",
   "metadata": {},
   "source": [
    "Two different methods can be used to remove an item from a set: `remove()` and `discard`. The main distinction is that, if the item to remove does not exist, `remove()` will raise an error, while `discard()` will not.\n",
    "\n",
    "<div class=\"alert alert-block alert-info\">\n",
    "<b>Note:</b> <span style=\"font-family: monospace;\">pop()</span> can also be used to remove an item but, because sets are <i>unordered</i>, the item will be randomly selected, so you cannot be sure what is being removed.\n",
    "</div>"
   ]
  },
  {
   "cell_type": "code",
   "execution_count": null,
   "id": "b3a9e2e4",
   "metadata": {},
   "outputs": [],
   "source": [
    "fruit_set.discard('guava')  # does nothing\n",
    "fruit_set.remove('guava')  # raises error"
   ]
  },
  {
   "cell_type": "markdown",
   "id": "05bb806f",
   "metadata": {},
   "source": [
    "Because sets do not allow duplicate items, a common use-case for them is to **eliminate duplicates from a list**:"
   ]
  },
  {
   "cell_type": "code",
   "execution_count": null,
   "id": "2f71e491",
   "metadata": {},
   "outputs": [],
   "source": [
    "duplicates = ['apple', 'banana', 'cherry', 'apple']\n",
    "no_duplicates = set(duplicates)\n",
    "print(duplicates)\n",
    "print(no_duplicates)"
   ]
  },
  {
   "cell_type": "markdown",
   "id": "42e9dab5",
   "metadata": {},
   "source": [
    "A set can be converted to a list by using the `list()` constructor:"
   ]
  },
  {
   "cell_type": "code",
   "execution_count": null,
   "id": "e06482bf",
   "metadata": {},
   "outputs": [],
   "source": [
    "back_to_list = list(no_duplicates)\n",
    "print(type(back_to_list))\n",
    "print(back_to_list)"
   ]
  },
  {
   "cell_type": "markdown",
   "id": "7f447ac3",
   "metadata": {},
   "source": [
    "## 2.3. Dictionaries\n",
    "\n",
    "Dictionaries are used to store data as keyed values. They are ordered, changeable, and do not allow duplicates. The values in dictionary items can be of any data type, including lists and other dictionaries. Python denotes dictionaries using **curly brackets**, while items in them are represented as **key:value pairs** and **separated by commas**."
   ]
  },
  {
   "cell_type": "code",
   "execution_count": null,
   "id": "c71098db",
   "metadata": {},
   "outputs": [],
   "source": [
    "# items are in separate lines to improve legibility\n",
    "fruit_dictionary = {  \n",
    "    'name': 'Apple',\n",
    "    'seeds': 345, \n",
    "    'varieties': ['Golden Russet', 'Evercrisp', 'Delicious']\n",
    "}\n",
    "print(fruit_dictionary)"
   ]
  },
  {
   "cell_type": "markdown",
   "id": "6c25d849",
   "metadata": {},
   "source": [
    "Just like with lists, the `len()` function can be used to determine how many items are contained in a dictionary:"
   ]
  },
  {
   "cell_type": "code",
   "execution_count": null,
   "id": "f7a26daf",
   "metadata": {},
   "outputs": [],
   "source": [
    "print(len(fruit_dictionary))"
   ]
  },
  {
   "cell_type": "markdown",
   "id": "ca477f7b",
   "metadata": {},
   "source": [
    "### Accessing items from a dictionary\n",
    "\n",
    "**Values** in a dictionary can be accessed by referencing their **key** inside **square brackets**:"
   ]
  },
  {
   "cell_type": "code",
   "execution_count": null,
   "id": "a4eb9bab",
   "metadata": {},
   "outputs": [],
   "source": [
    "print(fruit_dictionary['name'])  # retrieves the value associated with the 'name' key"
   ]
  },
  {
   "cell_type": "markdown",
   "id": "20001d28",
   "metadata": {},
   "source": [
    "The same result can be accomplished by invoking the `get()` method of dictionaries:"
   ]
  },
  {
   "cell_type": "code",
   "execution_count": null,
   "id": "0035ca2d",
   "metadata": {},
   "outputs": [],
   "source": [
    "print(fruit_dictionary.get('name'))"
   ]
  },
  {
   "cell_type": "markdown",
   "id": "8dbafb26",
   "metadata": {},
   "source": [
    "The advantage of using `get()` lies in the fact that, should the supplied **key not exist in the dictionary**, `get()` will still return a value, either the default `None` or one supplied as a parameter: "
   ]
  },
  {
   "cell_type": "code",
   "execution_count": null,
   "id": "a1a23302",
   "metadata": {},
   "outputs": [],
   "source": [
    "print(fruit_dictionary.get('wrong_key'))\n",
    "print(fruit_dictionary.get('wrong_key', 'provided value'))"
   ]
  },
  {
   "cell_type": "markdown",
   "id": "bddd377b",
   "metadata": {},
   "source": [
    "In the same situation, the square brackets approach will throw an error:"
   ]
  },
  {
   "cell_type": "code",
   "execution_count": null,
   "id": "6cca9ca6",
   "metadata": {},
   "outputs": [],
   "source": [
    "print(fruit_dictionary['wrong_key'])"
   ]
  },
  {
   "cell_type": "markdown",
   "id": "ffd8f77b",
   "metadata": {},
   "source": [
    "It is possible to **test whether a key is in a dictionary** by using the `in` keyword:"
   ]
  },
  {
   "cell_type": "code",
   "execution_count": null,
   "id": "9078437f",
   "metadata": {},
   "outputs": [],
   "source": [
    "print('wrong_key' in fruit_dictionary)"
   ]
  },
  {
   "cell_type": "markdown",
   "id": "47dffa89",
   "metadata": {},
   "source": [
    "It is sometimes convenient to work either with just the keys, or just the values in a dictionary. Dictionaries have two methods to achieve this: `keys()` will return a **list of all the keys in the dictionary**, while `values()` will return a **list of just the values**. An additional method, `items()` will return **each item in a dictionary**, as *key,value* tuples in a list.\n",
    "\n",
    "<div class=\"alert alert-block alert-info\">\n",
    "<b>Note:</b> The lists returned by these methods are <i>views</i> of the dictionary, meaning that if they were to be stored as variables, any future changes to the original dictionary will be propagated to them.\n",
    "</div>"
   ]
  },
  {
   "cell_type": "code",
   "execution_count": null,
   "id": "7c970714",
   "metadata": {},
   "outputs": [],
   "source": [
    "print(fruit_dictionary.keys())\n",
    "print(fruit_dictionary.values())\n",
    "print(fruit_dictionary.items())"
   ]
  },
  {
   "cell_type": "markdown",
   "id": "64920b7e",
   "metadata": {},
   "source": [
    "### Adding and changing items\n",
    "\n",
    "Adding an item to the dictionary is done by using a **new key** and assigning a **value** to it:"
   ]
  },
  {
   "cell_type": "code",
   "execution_count": null,
   "id": "3c9d7787",
   "metadata": {},
   "outputs": [],
   "source": [
    "print(fruit_dictionary)\n",
    "fruit_dictionary['color'] = 'red'\n",
    "print(fruit_dictionary)"
   ]
  },
  {
   "cell_type": "markdown",
   "id": "93b489ad",
   "metadata": {},
   "source": [
    "Similarly, it is possible to **change the value of a specific item** by referring to its key name:"
   ]
  },
  {
   "cell_type": "code",
   "execution_count": null,
   "id": "7b178e34",
   "metadata": {},
   "outputs": [],
   "source": [
    "print(fruit_dictionary)\n",
    "fruit_dictionary['color'] = 'green'\n",
    "print(fruit_dictionary)"
   ]
  },
  {
   "cell_type": "markdown",
   "id": "a51374db",
   "metadata": {},
   "source": [
    "Alternatively, the `update()` method can be used to achieve the same result. It takes another dictionary as an argument and it will update the target dictionary with its contents, or if an item does not exist, it will add it:"
   ]
  },
  {
   "cell_type": "code",
   "execution_count": null,
   "id": "01e375ae",
   "metadata": {},
   "outputs": [],
   "source": [
    "print(fruit_dictionary)\n",
    "fruit_dictionary.update({'color': 'red'})\n",
    "print(fruit_dictionary)\n",
    "\n",
    "fruit_dictionary.update({'weight': '2gr'})\n",
    "print(fruit_dictionary)"
   ]
  },
  {
   "cell_type": "markdown",
   "id": "0c125697",
   "metadata": {},
   "source": [
    "### Removing items\n",
    "\n",
    "There are several ways to remove items from a dictionary. The `del` keyword **removes the item with the specified key name**:"
   ]
  },
  {
   "cell_type": "code",
   "execution_count": null,
   "id": "6fe1ddc3",
   "metadata": {},
   "outputs": [],
   "source": [
    "print(fruit_dictionary)\n",
    "del fruit_dictionary['weight']\n",
    "print(fruit_dictionary)"
   ]
  },
  {
   "cell_type": "markdown",
   "id": "fdf372a4",
   "metadata": {},
   "source": [
    "The `pop()` method **removes the item with the specified key name, while extracting its value**, which can be assigned to a variable for later use:"
   ]
  },
  {
   "cell_type": "code",
   "execution_count": null,
   "id": "6b0aae1a",
   "metadata": {},
   "outputs": [],
   "source": [
    "print(fruit_dictionary)\n",
    "removed_value = fruit_dictionary.pop('color')\n",
    "print(fruit_dictionary)\n",
    "print(removed_value)"
   ]
  },
  {
   "cell_type": "markdown",
   "id": "fc2c2d31",
   "metadata": {},
   "source": [
    "Lastly, the `clear()` method **empties the dictionary**:"
   ]
  },
  {
   "cell_type": "code",
   "execution_count": null,
   "id": "a58561de",
   "metadata": {},
   "outputs": [],
   "source": [
    "print(fruit_dictionary)\n",
    "fruit_dictionary.clear()\n",
    "print(fruit_dictionary)"
   ]
  },
  {
   "cell_type": "markdown",
   "id": "ee592ef6",
   "metadata": {},
   "source": [
    "# 3. String Manipulation\n",
    "\n",
    "Python treats strings as lists where each character is an item, as such, list methods can be used to manipulate strings. The function `len()`, for example, will return the number of characters in a string, and the keyword `in` can be used to test whether a group of characters is present in a string:\n"
   ]
  },
  {
   "cell_type": "code",
   "execution_count": null,
   "id": "0de0bf3e",
   "metadata": {},
   "outputs": [],
   "source": [
    "sentence = 'Now is the winter of our discontent.'\n",
    "print(len(sentence))\n",
    "print('Now' in sentence)"
   ]
  },
  {
   "cell_type": "markdown",
   "id": "6ddf6388",
   "metadata": {},
   "source": [
    "## 3.1. Slicing\n",
    "\n",
    "In particular, **slicing** can be used to extract substrings from a larger string. As with lists, slices are defined by a start index and an end index, separated by a colon. The exact same rules apply regarding omissions and the use of negative indices:<br />\n",
    "\n",
    "<div style=\"width: 90%; margin: 40px; \"><img style=\"float: center; width: 50%;\" src=\"http://www.nltk.org/images/string-slicing.png\" align=center /></div>"
   ]
  },
  {
   "cell_type": "markdown",
   "id": "71206f10",
   "metadata": {},
   "source": [
    "For example, if we want the word **is** from the sentence below, we could use the start index `4` and end index `6` to get it:"
   ]
  },
  {
   "cell_type": "code",
   "execution_count": null,
   "id": "426a0269",
   "metadata": {},
   "outputs": [],
   "source": [
    "sentence = 'Now is the winter of our discontent.'\n",
    "print(sentence[4:6])"
   ]
  },
  {
   "cell_type": "markdown",
   "id": "a7bcad62",
   "metadata": {},
   "source": [
    "If we ommit the first index, Python will start from the beginning of the string by default, so to get the first word we could use:"
   ]
  },
  {
   "cell_type": "code",
   "execution_count": null,
   "id": "16790df6",
   "metadata": {},
   "outputs": [],
   "source": [
    "print(sentence[:3])"
   ]
  },
  {
   "cell_type": "markdown",
   "id": "6f2620d1",
   "metadata": {},
   "source": [
    "We can also start at index `3` and leave the end index unspecified to get the rest of the sentence. If no end index is supplied, Python continues until it reaches the end of the string:"
   ]
  },
  {
   "cell_type": "code",
   "execution_count": null,
   "id": "5a570fea",
   "metadata": {},
   "outputs": [],
   "source": [
    "print(sentence[3:])"
   ]
  },
  {
   "cell_type": "markdown",
   "id": "f902666e",
   "metadata": {},
   "source": [
    "If, for example, we wanted to find out what the last character in the sentence is, we can use a negative index:"
   ]
  },
  {
   "cell_type": "code",
   "execution_count": null,
   "id": "907a8684",
   "metadata": {},
   "outputs": [],
   "source": [
    "print(sentence[:-1])"
   ]
  },
  {
   "cell_type": "markdown",
   "id": "b2725038",
   "metadata": {},
   "source": [
    "## 3.2. Case Transformations and Whitespace\n",
    "\n",
    "Strings also provide their own specific methods, for example to change the case of the characters in them:\n",
    "\n",
    "- `lower()`, converts all characters to lower case\n",
    "- `upper()`, converts all characters to upper case\n",
    "- `capitalize()`, converts the first character to upper case\n",
    "- `title()`, converts the first letter in each word to upper case\n",
    "- `swapcase()`,  converts lower case letters to upper case and viceversa\n"
   ]
  },
  {
   "cell_type": "markdown",
   "id": "651a02ed",
   "metadata": {},
   "source": [
    "Other methods help to deal with unwanted whitespace. `lstrip()` removes any whitespace to the left of the string while `rstrip()` does the same to the right. The `strip()` method does both at the same time."
   ]
  },
  {
   "cell_type": "code",
   "execution_count": null,
   "id": "63bf26c1",
   "metadata": {},
   "outputs": [],
   "source": [
    "spaced = ' Now is the winter of our discontent. '  # note added spaces at beginning and end\n",
    "print('|' + spaced.lstrip() + '|')  # concatenating bars at both ends to show spaces\n",
    "print('|' + spaced.rstrip() + '|')\n",
    "print('|' + spaced.strip() + '|')"
   ]
  },
  {
   "cell_type": "code",
   "execution_count": null,
   "id": "7103eb4a",
   "metadata": {},
   "outputs": [],
   "source": [
    "print(sentence.lower())\n",
    "print(sentence.upper())\n",
    "print(sentence.capitalize())\n",
    "print(sentence.title())\n",
    "print(sentence.swapcase())"
   ]
  },
  {
   "cell_type": "markdown",
   "id": "c5890ea1",
   "metadata": {},
   "source": [
    "## 3.3. Evaluation\n",
    "\n",
    "Python strings provide a number of convenience methods designed to evaluate the contents of a string. These methods **return a boolean indicating whether the target string meets the relevant condition**:"
   ]
  },
  {
   "cell_type": "code",
   "execution_count": null,
   "id": "b3bc558f",
   "metadata": {},
   "outputs": [],
   "source": [
    "spaces = '  '\n",
    "digits = '234'\n",
    "print(sentence)\n",
    "print(sentence.startswith('Now'))  # True if the string starts with the specified value\n",
    "print(sentence.endswith('.'))  # True if the string ends with the specified value\n",
    "print(sentence.islower())  # True if all characters in the string are lower case\n",
    "print(sentence.isupper())  # True if all characters in the string are upper case\n",
    "print(spaces.isspace())  # True if all characters in the string are whitespaces\n",
    "print(digits.isdigit())  # True if all characters in the string are digits"
   ]
  },
  {
   "cell_type": "markdown",
   "id": "fe16f13a",
   "metadata": {},
   "source": [
    "## 3.4. Concatenation and Formatting\n",
    "\n",
    "We already saw how the `+` operator can be used to concatenate strings. A more flexible way to achieve this is to use the `format()` method. Here, sets of **curly brackets** are used as placeholders to be dynamically replaced by the arguments passed to `format()`:"
   ]
  },
  {
   "cell_type": "code",
   "execution_count": null,
   "id": "3523fbc8",
   "metadata": {},
   "outputs": [],
   "source": [
    "print('Now is the {} of our discontent. Made {} {} by this sun of {}'.format('winter', 'glorious', 'summer', 'York'))"
   ]
  },
  {
   "cell_type": "markdown",
   "id": "7e07d85b",
   "metadata": {},
   "source": [
    "Of course, instead of directly supplying strings to `format()`, the same could be achieved with variables:"
   ]
  },
  {
   "cell_type": "code",
   "execution_count": null,
   "id": "3f5cc6b3",
   "metadata": {},
   "outputs": [],
   "source": [
    "s1 = 'winter'\n",
    "s2 = 'summer'\n",
    "qual = 'glorious'\n",
    "loc = 'York'\n",
    "print('Now is the {} of our discontent. Made {} {} by this sun of {}'.format(s1, qual, s2, loc))"
   ]
  },
  {
   "cell_type": "markdown",
   "id": "873d6c81",
   "metadata": {},
   "source": [
    "The placeholders are matched to the arguments **one-to-one, in order from left to right**:"
   ]
  },
  {
   "cell_type": "code",
   "execution_count": null,
   "id": "672d2efa",
   "metadata": {},
   "outputs": [],
   "source": [
    "print('Now is the {} of our discontent. Made {} {} by this sun of {}'.format(s2, s1, qual, loc))"
   ]
  },
  {
   "cell_type": "markdown",
   "id": "f636f40e",
   "metadata": {},
   "source": [
    "As a convenient shortcut, instead of invoking the `format()` method and passing it arguments, the arguments can be placed directly within the placeholders, provided that the entire string is prepended with `f` to indicate that it must be formatted:"
   ]
  },
  {
   "cell_type": "code",
   "execution_count": null,
   "id": "4ed4c26b",
   "metadata": {},
   "outputs": [],
   "source": [
    "print(f'Now is the {s2} of our discontent. Made {s1} {qual} by this sun of {loc}')"
   ]
  },
  {
   "cell_type": "markdown",
   "id": "c43836a4",
   "metadata": {},
   "source": [
    "## 3.5. Find and Replace\n",
    "\n",
    "The `find()` method can be used to search a string for occurrences of the specified value. The value returned corresponds to the start index of the range representing the found occurrence.\n",
    "\n",
    "<div class=\"alert alert-block alert-info\">\n",
    "<b>Note:</b> If the specified value is not found, <span style=\"font-family: monospace;\">find()</span> will return <b>-1</b> instead.\n",
    "</div>"
   ]
  },
  {
   "cell_type": "code",
   "execution_count": null,
   "id": "e6570384",
   "metadata": {},
   "outputs": [],
   "source": [
    "print(sentence.find('winter')) # returns the index where \"winter\" starts in the sentence"
   ]
  },
  {
   "cell_type": "markdown",
   "id": "6f8ed6c7",
   "metadata": {},
   "source": [
    "`find()` can also take two indices indicating the **start and end of a range** (in that order). If these arguments are supplied, then the search is restricted only to a subset of the string as indicated by the range:"
   ]
  },
  {
   "cell_type": "code",
   "execution_count": null,
   "id": "790ea3d7",
   "metadata": {},
   "outputs": [],
   "source": [
    "print(sentence.find('winter', 12, 20))  # searches for \"winter\" starting at index 12 and ending at index 20"
   ]
  },
  {
   "cell_type": "markdown",
   "id": "e693bef2",
   "metadata": {},
   "source": [
    "The `replace()` method can be used to **substitute a substring with another**. The arguments supplied to represent the old and new values (in that order):"
   ]
  },
  {
   "cell_type": "code",
   "execution_count": null,
   "id": "5591779d",
   "metadata": {},
   "outputs": [],
   "source": [
    "print(sentence.replace('winter', 'summer'))  # replace \"winter\" with \"summer\""
   ]
  },
  {
   "cell_type": "markdown",
   "id": "940ba0b1",
   "metadata": {},
   "source": [
    "A third, optional argument can be supplied to indicate the **number of occurrences of the old value that should be replaced**. If this argument is omitted the default is all of them:"
   ]
  },
  {
   "cell_type": "code",
   "execution_count": null,
   "id": "b22dacc0",
   "metadata": {},
   "outputs": [],
   "source": [
    "repeats = 'abc abc abc abc abc abc abc abc abc'\n",
    "print(repeats.replace('a', 'z', 5))  # replace \"a\" with \"z\", but only five times"
   ]
  },
  {
   "cell_type": "markdown",
   "id": "a3c5e6de",
   "metadata": {},
   "source": [
    "## 3.6. Splitting and Joining\n",
    "\n",
    "Strings can be split into lists using the `split()` method. The character to be used as separator can be supplied to `split()` as an argument:    "
   ]
  },
  {
   "cell_type": "code",
   "execution_count": null,
   "id": "c6f0f16a",
   "metadata": {},
   "outputs": [],
   "source": [
    "csv_string = 'value1,value2,value3,value4'\n",
    "print(csv_string.split(','))  # uses comma as separator"
   ]
  },
  {
   "cell_type": "markdown",
   "id": "a5439e4e",
   "metadata": {},
   "source": [
    "If no separator is provided, `split()` defaults to using whitespace as separator:"
   ]
  },
  {
   "cell_type": "code",
   "execution_count": null,
   "id": "916e6d67",
   "metadata": {},
   "outputs": [],
   "source": [
    "tokens = sentence.split()\n",
    "print(tokens)"
   ]
  },
  {
   "cell_type": "markdown",
   "id": "cbaf4d02",
   "metadata": {},
   "source": [
    "Conversely, the `join()` method can be used to join all the items in a list into a string. The string to which the method is applied acts as the separator, while the list to be joined is supplied as an argument:"
   ]
  },
  {
   "cell_type": "code",
   "execution_count": null,
   "id": "1b2823af",
   "metadata": {},
   "outputs": [],
   "source": [
    "print(' '.join(tokens))  # use space as separator\n",
    "print('_'.join(tokens))  # use underscore as separator"
   ]
  }
 ],
 "metadata": {
  "kernelspec": {
   "display_name": "Python 3 (ipykernel)",
   "language": "python",
   "name": "python3"
  },
  "language_info": {
   "codemirror_mode": {
    "name": "ipython",
    "version": 3
   },
   "file_extension": ".py",
   "mimetype": "text/x-python",
   "name": "python",
   "nbconvert_exporter": "python",
   "pygments_lexer": "ipython3",
   "version": "3.9.13"
  }
 },
 "nbformat": 4,
 "nbformat_minor": 5
}

{
 "cells": [
  {
   "cell_type": "markdown",
   "id": "b7a46437",
   "metadata": {},
   "source": [
    "# Learning by Doing: Dynamic Programming, NumPy, and Levenshtein Distance"
   ]
  },
  {
   "cell_type": "markdown",
   "id": "0a60b077",
   "metadata": {},
   "source": [
    "## Introduction\n",
    "\n",
    "You may recall _recursion_ from unit 2: you can structure functions or programs to call themselves, iteratively breaking down a task into smaller subtasks until it reaches a _base case_. You may also recall that in many cases, especially when using Python, recursion is actually not terribly efficient in practice.\n",
    "\n",
    "One way to think about _dynamic programming_ is as the inverse of recursion: instead of a function calling itself, it builds outwards from simpler subproblems, using information that is already known to make the next step simpler. To preserve this information, dynamic programming uses a technique called _memoization_ (**not** memorization), where information from branches or cases that have already been tested is stored.\n",
    "\n",
    "To introduce dynamic programming (DP), this notebook presents exercises to implement **[Levenshtein Distance](https://en.wikipedia.org/wiki/Levenshtein_distance)**, a classic algorithm using DP techniques and one with multiple uses in both humanistic and computer-scientific research. Along the way, we will introduce NumPy, a powerful and widely-used library for manipulating mathematical objects.\n",
    "\n",
    "Levenshtein distance attempts to numerically represent the number of edits it takes to convert one string for another. An edit may be an addition of a letter, a removal of a letter, or replacing one letter with another. For instance, the Levenshtein distance between _cat_ and _cats_ is 1, because you need to add one letter to get the second word. The distance between _cat_ and _cot_ is also one, because you need to replace one letter in the first word to get the second. The distance between _cat_ and _cots_ is two, because you need to replace one letter, then add another, to get the second word.\n",
    "\n",
    "Below we will implement a simplified form of Levenshtein distance where add, delete, and substitute all cost 1. There are more elaborate forms you can read about on the above Wikipedia article or implment with packages like `Levenshtein`"
   ]
  },
  {
   "cell_type": "markdown",
   "id": "0abec787",
   "metadata": {},
   "source": [
    "## Numpy\n",
    "\n",
    "In order to set up memoization for Levenshtein distance, we will use the NumPy package. Install this using `pip` or `conda` and load it with the following:"
   ]
  },
  {
   "cell_type": "code",
   "execution_count": 1,
   "id": "03a3649a",
   "metadata": {},
   "outputs": [],
   "source": [
    "import numpy as np"
   ]
  },
  {
   "cell_type": "markdown",
   "id": "41e675ec",
   "metadata": {},
   "source": [
    "NumPy has many functions, but we will primarily use it for manipulati$ng _arrays_. Programmatically, arrays behave like multi-dimensional lists of floats. Mathematically, they may represent tables, matrices, vectors, and more; as you can probably guess, data structures like these are heavily used in machine learning.\n",
    "\n",
    "We initiate an array with the `np.array` function. This takes a list or tuple, which may be a list of lists or list of lists. Let's make one corresponding to the matrix:\n",
    "\n",
    "$ \\begin{bmatrix}\n",
    " 2&4  \\\\\n",
    " 6&8  \\\\\n",
    " 10&12  \\\\\n",
    "\\end{bmatrix}$"
   ]
  },
  {
   "cell_type": "code",
   "execution_count": 3,
   "id": "833f79db",
   "metadata": {},
   "outputs": [
    {
     "name": "stdout",
     "output_type": "stream",
     "text": [
      "[[ 2  4]\n",
      " [ 6  8]\n",
      " [10 12]]\n"
     ]
    }
   ],
   "source": [
    "test_array = np.array([\n",
    "    [2, 4],\n",
    "    [6, 8],\n",
    "    [10, 12]\n",
    "])\n",
    "\n",
    "print(test_array)"
   ]
  },
  {
   "cell_type": "markdown",
   "id": "1791b426",
   "metadata": {},
   "source": [
    "Items in arrays are accessed by their coordinates in the row, column format. These are specifically listed as two (or more) numbers in [square brackets], each placed separately after the array's name. You can also interpret this first deciding on which sublist, then which element of that sublist, of the above structure.\n",
    "\n",
    "Let's see how to access 6, on the second row of the first column:"
   ]
  },
  {
   "cell_type": "code",
   "execution_count": 5,
   "id": "9e820d4e",
   "metadata": {},
   "outputs": [
    {
     "name": "stdout",
     "output_type": "stream",
     "text": [
      "6\n"
     ]
    }
   ],
   "source": [
    "print(test_array[1][0])"
   ]
  },
  {
   "cell_type": "markdown",
   "id": "52e8b31b",
   "metadata": {},
   "source": [
    "To get the dimensions of an array, you can use `arr.shape`. This returns a tuple object containing the number of rows, then the number of columns (or the number of sublists and the number of elements of each sublist)"
   ]
  },
  {
   "cell_type": "code",
   "execution_count": 6,
   "id": "e4975d01",
   "metadata": {},
   "outputs": [
    {
     "name": "stdout",
     "output_type": "stream",
     "text": [
      "(3, 2)\n"
     ]
    }
   ],
   "source": [
    "print(test_array.shape)"
   ]
  },
  {
   "cell_type": "markdown",
   "id": "aaa46d97",
   "metadata": {},
   "source": [
    "NumPy includes several ways to quickly generate arrays. These include ways to create arrays of a given size pre-filled with 0s or 1s. Their first argument is a tuple representing their dimensionality"
   ]
  },
  {
   "cell_type": "code",
   "execution_count": 8,
   "id": "228298cb",
   "metadata": {},
   "outputs": [
    {
     "name": "stdout",
     "output_type": "stream",
     "text": [
      "[[0. 0.]\n",
      " [0. 0.]\n",
      " [0. 0.]]\n"
     ]
    }
   ],
   "source": [
    "zeros = np.zeros((3, 2))\n",
    "print(zeros)"
   ]
  },
  {
   "cell_type": "code",
   "execution_count": 11,
   "id": "cc0afb0b",
   "metadata": {},
   "outputs": [
    {
     "name": "stdout",
     "output_type": "stream",
     "text": [
      "[[[1. 1.]\n",
      "  [1. 1.]\n",
      "  [1. 1.]\n",
      "  [1. 1.]\n",
      "  [1. 1.]]\n",
      "\n",
      " [[1. 1.]\n",
      "  [1. 1.]\n",
      "  [1. 1.]\n",
      "  [1. 1.]\n",
      "  [1. 1.]]\n",
      "\n",
      " [[1. 1.]\n",
      "  [1. 1.]\n",
      "  [1. 1.]\n",
      "  [1. 1.]\n",
      "  [1. 1.]]\n",
      "\n",
      " [[1. 1.]\n",
      "  [1. 1.]\n",
      "  [1. 1.]\n",
      "  [1. 1.]\n",
      "  [1. 1.]]]\n"
     ]
    }
   ],
   "source": [
    "ones = np.ones((4, 5, 2))\n",
    "print(ones)"
   ]
  },
  {
   "cell_type": "markdown",
   "id": "cc08f053",
   "metadata": {},
   "source": [
    "## Setting up Levenshtein distance"
   ]
  },
  {
   "cell_type": "markdown",
   "id": "f657c0f2",
   "metadata": {},
   "source": [
    "Let's begin by proceeding step-by-step to implement Levenshtein distance. For now, we will focus on the comparison of two known strings, \"Saturday\" and \"Sunday.\" Let's initialize them to begin:"
   ]
  },
  {
   "cell_type": "code",
   "execution_count": 12,
   "id": "cef2fb15",
   "metadata": {},
   "outputs": [],
   "source": [
    "str1 = \"Saturday\"\n",
    "str2 = \"Sunday\""
   ]
  },
  {
   "cell_type": "markdown",
   "id": "a6e6838f",
   "metadata": {},
   "source": [
    "For the purpose of memoization, we will want to initialize a 2D array whose dimensions are the length of string 1 +1 and length of string 2 + 1. \n",
    "\n",
    "Why do we want to include the +1? Because the topmost row and leftmost column of the table will represent how many steps it takes to make a blank string equivalent to the string on the left or top so far. This serves as a kind of \"base case\" or \"maximum cost\" against which we will weigh other moves.\n",
    "\n",
    "In the code below, initialize an array of zeroes named `d` (for **d**istances) with the specified properties:"
   ]
  },
  {
   "cell_type": "code",
   "execution_count": 20,
   "id": "cc31e372",
   "metadata": {},
   "outputs": [],
   "source": [
    "#Your code here\n",
    "\n",
    "d = np.zeros((len(str1)+1, len(str2)+1))"
   ]
  },
  {
   "cell_type": "code",
   "execution_count": 14,
   "id": "22b79d25",
   "metadata": {},
   "outputs": [
    {
     "name": "stdout",
     "output_type": "stream",
     "text": [
      "[[0. 0. 0. 0. 0. 0. 0.]\n",
      " [0. 0. 0. 0. 0. 0. 0.]\n",
      " [0. 0. 0. 0. 0. 0. 0.]\n",
      " [0. 0. 0. 0. 0. 0. 0.]\n",
      " [0. 0. 0. 0. 0. 0. 0.]\n",
      " [0. 0. 0. 0. 0. 0. 0.]\n",
      " [0. 0. 0. 0. 0. 0. 0.]\n",
      " [0. 0. 0. 0. 0. 0. 0.]\n",
      " [0. 0. 0. 0. 0. 0. 0.]]\n"
     ]
    }
   ],
   "source": [
    "print(d)"
   ]
  },
  {
   "cell_type": "markdown",
   "id": "13830600",
   "metadata": {},
   "source": [
    "In line with the above, we want to fill in the topmost row and leftmost column of the table with 0 through the length of \"Sunday\" and the length of \"Saturday\" respectively. As a reminder, this serves to represent the \"maximum\" number of moves it will take, turning an empty string into the portion of \"Sunday\" or \"Saturday\" covered so far.\n",
    "\n",
    "Out of convention we will use `i` for the row number and `j` for the column number."
   ]
  },
  {
   "cell_type": "code",
   "execution_count": 21,
   "id": "b789895f",
   "metadata": {},
   "outputs": [
    {
     "name": "stdout",
     "output_type": "stream",
     "text": [
      "[[0. 1. 2. 3. 4. 5. 6.]\n",
      " [1. 0. 0. 0. 0. 0. 0.]\n",
      " [2. 0. 0. 0. 0. 0. 0.]\n",
      " [3. 0. 0. 0. 0. 0. 0.]\n",
      " [4. 0. 0. 0. 0. 0. 0.]\n",
      " [5. 0. 0. 0. 0. 0. 0.]\n",
      " [6. 0. 0. 0. 0. 0. 0.]\n",
      " [7. 0. 0. 0. 0. 0. 0.]\n",
      " [8. 0. 0. 0. 0. 0. 0.]]\n"
     ]
    }
   ],
   "source": [
    "for i in range(0, len(str1)+1):\n",
    "        d[i][0] = i\n",
    "for j in range(0, len(str2)+1):\n",
    "    d[0][j] = j\n",
    "    \n",
    "print(d)"
   ]
  },
  {
   "cell_type": "markdown",
   "id": "09bf29a6",
   "metadata": {},
   "source": [
    "In the next part, we will proceed character-by-character through both strings using a nested loop. Before we do so, however, we will want to write some code to calculate the **cost** to convert between two characters. Specifically, this should return 0 if they are the same and 1 if they are not. Finish the method `calculate_cost` below:"
   ]
  },
  {
   "cell_type": "code",
   "execution_count": 17,
   "id": "eac338db",
   "metadata": {},
   "outputs": [],
   "source": [
    "def calculate_cost(chr1, chr2):\n",
    "    if chr1 == chr2:\n",
    "        return 0\n",
    "    else:\n",
    "        return 1"
   ]
  },
  {
   "cell_type": "markdown",
   "id": "420758cf",
   "metadata": {},
   "source": [
    "Now let's build the loop. We'll want to compare the number of steps it takes to get from each substring of `Saturday` to each substring in `Sunday`. Luckily, we can use our knowledge of the previous cases, stored in `d`, so we only need to check the cells immediately above, to the left, and to the upper left. The cost of moving up or to the left would be 1, as this is equivalent to an insertion or deletion, so we add that to the score there. If the two letters require a substitution, the cost will be 1 but it will move to the upper left. If the two letters are identical, it will cost 0 and move to the upper left. We can use the `min` function to calculate this for us.\n",
    "\n",
    "Below is an implementation of the loop. It prints `d` after each run through the outer loop, so you can see `d` take shape:"
   ]
  },
  {
   "cell_type": "code",
   "execution_count": 22,
   "id": "db4e1465",
   "metadata": {},
   "outputs": [
    {
     "name": "stdout",
     "output_type": "stream",
     "text": [
      "\n",
      "For Saturday up to S: Got the following values:\n",
      "[[0. 1. 2. 3. 4. 5. 6.]\n",
      " [1. 0. 1. 2. 3. 4. 5.]\n",
      " [2. 0. 0. 0. 0. 0. 0.]\n",
      " [3. 0. 0. 0. 0. 0. 0.]\n",
      " [4. 0. 0. 0. 0. 0. 0.]\n",
      " [5. 0. 0. 0. 0. 0. 0.]\n",
      " [6. 0. 0. 0. 0. 0. 0.]\n",
      " [7. 0. 0. 0. 0. 0. 0.]\n",
      " [8. 0. 0. 0. 0. 0. 0.]]\n",
      "\n",
      "For Saturday up to Sa: Got the following values:\n",
      "[[0. 1. 2. 3. 4. 5. 6.]\n",
      " [1. 0. 1. 2. 3. 4. 5.]\n",
      " [2. 1. 1. 2. 3. 3. 4.]\n",
      " [3. 0. 0. 0. 0. 0. 0.]\n",
      " [4. 0. 0. 0. 0. 0. 0.]\n",
      " [5. 0. 0. 0. 0. 0. 0.]\n",
      " [6. 0. 0. 0. 0. 0. 0.]\n",
      " [7. 0. 0. 0. 0. 0. 0.]\n",
      " [8. 0. 0. 0. 0. 0. 0.]]\n",
      "\n",
      "For Saturday up to Sat: Got the following values:\n",
      "[[0. 1. 2. 3. 4. 5. 6.]\n",
      " [1. 0. 1. 2. 3. 4. 5.]\n",
      " [2. 1. 1. 2. 3. 3. 4.]\n",
      " [3. 2. 2. 2. 3. 4. 4.]\n",
      " [4. 0. 0. 0. 0. 0. 0.]\n",
      " [5. 0. 0. 0. 0. 0. 0.]\n",
      " [6. 0. 0. 0. 0. 0. 0.]\n",
      " [7. 0. 0. 0. 0. 0. 0.]\n",
      " [8. 0. 0. 0. 0. 0. 0.]]\n",
      "\n",
      "For Saturday up to Satu: Got the following values:\n",
      "[[0. 1. 2. 3. 4. 5. 6.]\n",
      " [1. 0. 1. 2. 3. 4. 5.]\n",
      " [2. 1. 1. 2. 3. 3. 4.]\n",
      " [3. 2. 2. 2. 3. 4. 4.]\n",
      " [4. 3. 2. 3. 3. 4. 5.]\n",
      " [5. 0. 0. 0. 0. 0. 0.]\n",
      " [6. 0. 0. 0. 0. 0. 0.]\n",
      " [7. 0. 0. 0. 0. 0. 0.]\n",
      " [8. 0. 0. 0. 0. 0. 0.]]\n",
      "\n",
      "For Saturday up to Satur: Got the following values:\n",
      "[[0. 1. 2. 3. 4. 5. 6.]\n",
      " [1. 0. 1. 2. 3. 4. 5.]\n",
      " [2. 1. 1. 2. 3. 3. 4.]\n",
      " [3. 2. 2. 2. 3. 4. 4.]\n",
      " [4. 3. 2. 3. 3. 4. 5.]\n",
      " [5. 4. 3. 3. 4. 4. 5.]\n",
      " [6. 0. 0. 0. 0. 0. 0.]\n",
      " [7. 0. 0. 0. 0. 0. 0.]\n",
      " [8. 0. 0. 0. 0. 0. 0.]]\n",
      "\n",
      "For Saturday up to Saturd: Got the following values:\n",
      "[[0. 1. 2. 3. 4. 5. 6.]\n",
      " [1. 0. 1. 2. 3. 4. 5.]\n",
      " [2. 1. 1. 2. 3. 3. 4.]\n",
      " [3. 2. 2. 2. 3. 4. 4.]\n",
      " [4. 3. 2. 3. 3. 4. 5.]\n",
      " [5. 4. 3. 3. 4. 4. 5.]\n",
      " [6. 5. 4. 4. 3. 4. 5.]\n",
      " [7. 0. 0. 0. 0. 0. 0.]\n",
      " [8. 0. 0. 0. 0. 0. 0.]]\n",
      "\n",
      "For Saturday up to Saturda: Got the following values:\n",
      "[[0. 1. 2. 3. 4. 5. 6.]\n",
      " [1. 0. 1. 2. 3. 4. 5.]\n",
      " [2. 1. 1. 2. 3. 3. 4.]\n",
      " [3. 2. 2. 2. 3. 4. 4.]\n",
      " [4. 3. 2. 3. 3. 4. 5.]\n",
      " [5. 4. 3. 3. 4. 4. 5.]\n",
      " [6. 5. 4. 4. 3. 4. 5.]\n",
      " [7. 6. 5. 5. 4. 3. 4.]\n",
      " [8. 0. 0. 0. 0. 0. 0.]]\n",
      "\n",
      "For Saturday up to Saturday: Got the following values:\n",
      "[[0. 1. 2. 3. 4. 5. 6.]\n",
      " [1. 0. 1. 2. 3. 4. 5.]\n",
      " [2. 1. 1. 2. 3. 3. 4.]\n",
      " [3. 2. 2. 2. 3. 4. 4.]\n",
      " [4. 3. 2. 3. 3. 4. 5.]\n",
      " [5. 4. 3. 3. 4. 4. 5.]\n",
      " [6. 5. 4. 4. 3. 4. 5.]\n",
      " [7. 6. 5. 5. 4. 3. 4.]\n",
      " [8. 7. 6. 6. 5. 4. 3.]]\n"
     ]
    }
   ],
   "source": [
    "for i in range(1, len(str1)+1):\n",
    "    for j in range(1, len(str2)+1):\n",
    "        subs_cost = calculate_cost(str1[i-1], str2[j-1])\n",
    "        \n",
    "        d[i][j] = min(\n",
    "            d[i-1][j] + 1, #str2 deletes relative to str1\n",
    "            d[i][j-1] + 1, #str2 adds relative to str1\n",
    "            d[i-1][j-1] + subs_cost #substitution OR equivalency: always chooses equivalency if possible\n",
    "        )\n",
    "    print(f\"\\nFor {str1} up to {str1[:i]}: Got the following values:\")\n",
    "    print(d)"
   ]
  },
  {
   "cell_type": "markdown",
   "id": "618ec884",
   "metadata": {},
   "source": [
    "Finally, the final Levenshtein distance is given by the lower-right corner of the column, which can be accessed using the same notation:"
   ]
  },
  {
   "cell_type": "code",
   "execution_count": 23,
   "id": "98c8ef17",
   "metadata": {},
   "outputs": [
    {
     "name": "stdout",
     "output_type": "stream",
     "text": [
      "3.0\n"
     ]
    }
   ],
   "source": [
    "print(d[len(str1)][len(str2)])"
   ]
  },
  {
   "cell_type": "markdown",
   "id": "9c025376",
   "metadata": {},
   "source": [
    "As a final exercise, can you implement the above into a function for two **arbitrary strings**? The outline is below:"
   ]
  },
  {
   "cell_type": "code",
   "execution_count": null,
   "id": "c7cd919e",
   "metadata": {},
   "outputs": [],
   "source": [
    "def lev_distance(str1, str2):\n",
    "    #Your code here"
   ]
  }
 ],
 "metadata": {
  "kernelspec": {
   "display_name": "base",
   "language": "python",
   "name": "python3"
  },
  "language_info": {
   "codemirror_mode": {
    "name": "ipython",
    "version": 3
   },
   "file_extension": ".py",
   "mimetype": "text/x-python",
   "name": "python",
   "nbconvert_exporter": "python",
   "pygments_lexer": "ipython3",
   "version": "3.12.3"
  }
 },
 "nbformat": 4,
 "nbformat_minor": 5
}

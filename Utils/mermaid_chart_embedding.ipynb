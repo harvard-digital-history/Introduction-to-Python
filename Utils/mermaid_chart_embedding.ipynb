{
 "cells": [
  {
   "cell_type": "markdown",
   "id": "538e80c2",
   "metadata": {},
   "source": [
    "## Embedding Mermaid Charts in Jupyter Markdown\n",
    "\n",
    "This procedure can be used to work around Jupyter's lack of native support for Mermaid and render charts in Markdown cells.\n",
    "\n",
    "### 1. Encode chart as Base64 string:"
   ]
  },
  {
   "cell_type": "code",
   "execution_count": 2,
   "id": "db00022e",
   "metadata": {},
   "outputs": [
    {
     "name": "stdout",
     "output_type": "stream",
     "text": [
      "CmZsb3djaGFydCBMUgogICAgQXs8Y29kZT48Yj5pZjwvYj48L2NvZGU+IDxpPmNvbmRpdGlvbiAxPC9pPn0gLS0tLT58VHJ1ZXwgQihjb2RlIGJsb2NrIDEpCiAgICBBIC0tPnxGYWxzZXwgQ3s8Y29kZT48Yj5lbGlmPC9iPjwvY29kZT4gPGk+Y29uZGl0aW9uIDI8L2k+fQogICAgQyAtLS0+fFRydWV8IEQoY29kZSBibG9jayAyKQogICAgQyAtLT58RmFsc2V8IEV7PGNvZGU+PGI+ZWxzZTwvYj48L2NvZGU+fQogICAgRSAtLT4gRihjb2RlIGJsb2NrIDMpCg==\n"
     ]
    }
   ],
   "source": [
    "import base64\n",
    "from IPython.display import Image, display\n",
    "import matplotlib.pyplot as plt\n",
    "\n",
    "graph = \"\"\"\n",
    "flowchart LR\n",
    "    A{<code><b>if</b></code> <i>condition 1</i>} ---->|True| B(code block 1)\n",
    "    A -->|False| C{<code><b>elif</b></code> <i>condition 2</i>}\n",
    "    C --->|True| D(code block 2)\n",
    "    C -->|False| E{<code><b>else</b></code>}\n",
    "    E --> F(code block 3)\n",
    "\"\"\"\n",
    "\n",
    "graphbytes = graph.encode(\"ascii\")\n",
    "base64_bytes = base64.b64encode(graphbytes)\n",
    "base64_string = base64_bytes.decode(\"ascii\")\n",
    "\n",
    "print(base64_string)\n"
   ]
  },
  {
   "cell_type": "markdown",
   "id": "c9596961",
   "metadata": {},
   "source": [
    "### 2. Use generated string in `<img>` tag:"
   ]
  },
  {
   "cell_type": "markdown",
   "id": "ff1b5794",
   "metadata": {},
   "source": [
    "<img src=\"https://mermaid.ink/img/CmZsb3djaGFydCBMUgogICAgQXs8Y29kZT48Yj5pZjwvYj48L2NvZGU+IDxpPmNvbmRpdGlvbiAxPC9pPn0gLS0tLT58VHJ1ZXwgQihjb2RlIGJsb2NrIDEpCiAgICBBIC0tPnxGYWxzZXwgQ3s8Y29kZT48Yj5lbGlmPC9iPjwvY29kZT4gPGk+Y29uZGl0aW9uIDI8L2k+fQogICAgQyAtLS0+fFRydWV8IEQoY29kZSBibG9jayAyKQogICAgQyAtLT58RmFsc2V8IEV7PGNvZGU+PGI+ZWxzZTwvYj48L2NvZGU+fQogICAgRSAtLT4gRihjb2RlIGJsb2NrIDMpCg==\">"
   ]
  },
  {
   "cell_type": "code",
   "execution_count": null,
   "id": "5b218d0c",
   "metadata": {},
   "outputs": [],
   "source": []
  }
 ],
 "metadata": {
  "kernelspec": {
   "display_name": "Python 3 (ipykernel)",
   "language": "python",
   "name": "python3"
  },
  "language_info": {
   "codemirror_mode": {
    "name": "ipython",
    "version": 3
   },
   "file_extension": ".py",
   "mimetype": "text/x-python",
   "name": "python",
   "nbconvert_exporter": "python",
   "pygments_lexer": "ipython3",
   "version": "3.9.13"
  }
 },
 "nbformat": 4,
 "nbformat_minor": 5
}
